{
 "cells": [
  {
   "cell_type": "markdown",
   "metadata": {},
   "source": [
    "# LESSON 7: MACHINE LEARNING INTRODUCTION\n",
    "<img src=\"../images/ml_logo.png\" width=\"200px\"/>"
   ]
  },
  {
   "cell_type": "markdown",
   "metadata": {},
   "source": [
    "## 1. Overall introduction\n",
    "According to Arthur Samuel, Machine Learning algorithms enable the computers to learn from data, and even improve themselves, without being explicitly programmed. <br>\n",
    "<img src=\"../images/ml_compare.png\" width=\"500px\"/>"
   ]
  },
  {
   "cell_type": "markdown",
   "metadata": {},
   "source": [
    "## 2. History\n",
    "<img src=\"../images/ml_history.jpeg\" width=\"600px\"/>"
   ]
  },
  {
   "cell_type": "markdown",
   "metadata": {},
   "source": [
    "## 3. Applications\n",
    "### 3.1. Autopilot - Tesla\n",
    "[More information](https://www.tesla.com/autopilot)\n",
    "<img src=\"../images/ml_autopilot.jpeg\" width=\"400px\"/>\n",
    "\n",
    "### 3.2. Siri - Apple\n",
    "[More information](https://www.apple.com/siri/)\n",
    "<img src=\"../images/ml_siri.jpeg\" width=\"400px\"/>\n",
    "\n",
    "### 3.3. AlphaGo - Google Deepmind\n",
    "[More information](https://deepmind.com/research/case-studies/alphago-the-story-so-far)\n",
    "<img src=\"../images/ml_alphago.png\" width=\"400px\"/>\n",
    "\n",
    "### 3.4. Social credit scores - China government\n",
    "[More information](https://en.wikipedia.org/wiki/Social_Credit_System)\n",
    "<img src=\"../images/ml_social_credit.jpeg\" width=\"400px\"/>\n",
    "\n",
    "### 3.5. More and more ....."
   ]
  },
  {
   "cell_type": "markdown",
   "metadata": {},
   "source": [
    "## 4. Workflow\n",
    "<img src=\"../images/ml_workflow.png\" width=\"700px\"/>"
   ]
  },
  {
   "cell_type": "markdown",
   "metadata": {},
   "source": [
    "## 5. Algorithms\n",
    "<img src=\"../images/ml_algorithm.png\" width=\"800px\"/>\n",
    "\n",
    "### 5.1. Supervised learning\n",
    "Supervised learning algorithms use **data with its label (or labeled data)** as resources to train the model. Model will find the relationship between the input data and its label.\n",
    "\n",
    "<img src=\"../images/ml_supervised.png\" width=\"500px\"/>\n",
    "\n",
    "#### Classification\n",
    "The label of data used in Classification algorithms is **discrete value (or categorical)**.<br>\n",
    "Some famous Classification algorithms are Logistic Regression, SVM, Decision Tree, etc.\n",
    "\n",
    "#### Regression\n",
    "The label of data used in Regression algorithms is a **continuous value**.<br>\n",
    "Some famous Regression algorithms are Linear Regression, Lasso Regression, Ridge Regression, etc.\n",
    "\n",
    "### 5.2. Unsupervised learning\n",
    "Unsupervised learning algorithms use only **data without label (or unlabeled data)** as resources to train the model.\n",
    "\n",
    "<img src=\"../images/ml_unsupervised.png\" width=\"500px\"/>\n",
    "\n",
    "#### Clustering\n",
    "Clustering algorithms divide **unlabeled data** into several groups.<br>\n",
    "Some famous Clustering algorithms are K-means clustering, DBSCAN, etc.\n",
    "\n",
    "#### Dimension reduction\n",
    "Dimension reduction algorithms aim at reduce the size of input data in order to improve performance, save storage, etc.\n",
    "\n",
    "### 5.3. Reinforcement learning\n",
    "Reinforcement learning algorithms aim at **creating an agent** to **interact with environment** by **taking action** to **receive reward or penalty**\n",
    "\n",
    "<img src=\"../images/ml_reinforcement.png\" width=\"300px\"/>"
   ]
  },
  {
   "cell_type": "code",
   "execution_count": null,
   "metadata": {},
   "outputs": [],
   "source": []
  }
 ],
 "metadata": {
  "kernelspec": {
   "display_name": "Python 3",
   "language": "python",
   "name": "python3"
  },
  "language_info": {
   "codemirror_mode": {
    "name": "ipython",
    "version": 3
   },
   "file_extension": ".py",
   "mimetype": "text/x-python",
   "name": "python",
   "nbconvert_exporter": "python",
   "pygments_lexer": "ipython3",
   "version": "3.8.12"
  },
  "toc": {
   "base_numbering": 1,
   "nav_menu": {},
   "number_sections": false,
   "sideBar": true,
   "skip_h1_title": false,
   "title_cell": "Table of Contents",
   "title_sidebar": "Table of Contents",
   "toc_cell": false,
   "toc_position": {
    "height": "calc(100% - 180px)",
    "left": "10px",
    "top": "150px",
    "width": "219.198px"
   },
   "toc_section_display": true,
   "toc_window_display": true
  }
 },
 "nbformat": 4,
 "nbformat_minor": 5
}
