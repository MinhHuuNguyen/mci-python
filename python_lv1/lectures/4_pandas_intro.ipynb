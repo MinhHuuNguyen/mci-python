{
 "cells": [
  {
   "cell_type": "markdown",
   "metadata": {},
   "source": [
    "# LESSON 5: PANDAS INTRODUCTION\n",
    "<img src=\"../images/pd_logo.png\" width=\"400px\"/>"
   ]
  },
  {
   "cell_type": "markdown",
   "metadata": {
    "jp-MarkdownHeadingCollapsed": true,
    "tags": []
   },
   "source": [
    "## 1. Overall introduction\n",
    "**pandas** is a Python package providing **fast, flexible, and expressive data structures** designed to make working with **“relational” or “labeled” data both easy and intuitive**.\n",
    "\n",
    "**pandas** is well suited for many different kinds of data:\n",
    "- **Tabular data** with heterogeneously-typed columns, as in an SQL table or Excel spreadsheet\n",
    "- Ordered and unordered (not necessarily fixed-frequency) **time series data**.\n",
    "- **Arbitrary matrix data** (homogeneously typed or heterogeneous) with row and column labels\n",
    "- Any other form of **observational / statistical data** sets. The data need not be labeled at all to be placed into a pandas data structure\n",
    "\n",
    "More detail about pandas can be found in this official [document](https://pandas.pydata.org/docs/user_guide/index.html).\n"
   ]
  },
  {
   "cell_type": "markdown",
   "metadata": {
    "tags": []
   },
   "source": [
    "## 2. Install and import pandas\n",
    "Install pandas by running this command in jupyter notebook: \n",
    "`!conda install -c anaconda pandas -y`"
   ]
  },
  {
   "cell_type": "code",
   "execution_count": null,
   "metadata": {
    "ExecuteTime": {
     "end_time": "2021-12-29T04:50:27.680231Z",
     "start_time": "2021-12-29T04:50:23.373936Z"
    }
   },
   "outputs": [],
   "source": [
    "import pandas as pd"
   ]
  },
  {
   "cell_type": "markdown",
   "metadata": {
    "tags": []
   },
   "source": [
    "## 3. Data structures in pandas\n",
    "There are two main data structures in pandas: **SERIES** and **DATAFRAME**. <br>\n",
    "<img src=\"../images/pd_series_df.png\" width=\"600px\"/>"
   ]
  },
  {
   "cell_type": "markdown",
   "metadata": {
    "tags": []
   },
   "source": [
    "### 3.1. Series\n",
    "**Series** is a one-dimensional labeled array capable of holding any data type (integers, strings, floating point numbers, Python objects, etc.). <br>\n",
    "Checkout all arguments of pandas.Series [here](https://pandas.pydata.org/docs/reference/api/pandas.Series.html)"
   ]
  },
  {
   "cell_type": "code",
   "execution_count": null,
   "metadata": {
    "ExecuteTime": {
     "end_time": "2021-12-29T04:50:27.750745Z",
     "start_time": "2021-12-29T04:50:27.714601Z"
    },
    "scrolled": true
   },
   "outputs": [],
   "source": [
    "# Init a pandas series without name\n",
    "number_list = [4, 5, 6, 3, 1]\n",
    "\n",
    "series_1 = pd.Series(data=number_list)\n",
    "print(series_1, '\\n', type(series_1))"
   ]
  },
  {
   "cell_type": "code",
   "execution_count": null,
   "metadata": {
    "ExecuteTime": {
     "end_time": "2021-12-29T04:50:27.785446Z",
     "start_time": "2021-12-29T04:50:27.767406Z"
    },
    "scrolled": true
   },
   "outputs": [],
   "source": [
    "# Init a pandas series with name\n",
    "number_list = [4, 5, 6, 3, 1]\n",
    "\n",
    "series_1 = pd.Series(data=number_list, name='Mango')\n",
    "print(series_1, '\\n', type(series_1))"
   ]
  },
  {
   "cell_type": "code",
   "execution_count": null,
   "metadata": {
    "ExecuteTime": {
     "end_time": "2021-12-29T04:50:27.804510Z",
     "start_time": "2021-12-29T04:50:27.792265Z"
    }
   },
   "outputs": [],
   "source": [
    "series_2 = pd.Series(data=[5, 4, 3, 0, 2], name='Apple')\n",
    "series_3 = pd.Series(data=[2, 3, 5, 2, 7], name='Banana')\n",
    "\n",
    "print(series_2, '\\n', type(series_2))\n",
    "print(series_3, '\\n', type(series_3))"
   ]
  },
  {
   "cell_type": "markdown",
   "metadata": {},
   "source": [
    "### 3.2. Dataframe\n",
    "#### 3.2.1. Create dataframe from Series, list or dict"
   ]
  },
  {
   "cell_type": "code",
   "execution_count": null,
   "metadata": {
    "ExecuteTime": {
     "end_time": "2021-12-29T04:50:27.825884Z",
     "start_time": "2021-12-29T04:50:27.810488Z"
    }
   },
   "outputs": [],
   "source": [
    "# Create dataframe from ONE Series\n",
    "test_df = pd.DataFrame(series_1)\n",
    "print(test_df, '\\n', type(test_df))"
   ]
  },
  {
   "cell_type": "code",
   "execution_count": null,
   "metadata": {
    "ExecuteTime": {
     "end_time": "2021-12-29T04:50:27.847817Z",
     "start_time": "2021-12-29T04:50:27.831337Z"
    }
   },
   "outputs": [],
   "source": [
    "# Create dataframe from multiple Series\n",
    "test_df = pd.concat([series_1, series_2, series_3], axis=1)\n",
    "print(test_df, '\\n', type(test_df))"
   ]
  },
  {
   "cell_type": "code",
   "execution_count": null,
   "metadata": {
    "ExecuteTime": {
     "end_time": "2021-12-29T04:50:27.876931Z",
     "start_time": "2021-12-29T04:50:27.853115Z"
    }
   },
   "outputs": [],
   "source": [
    "# Create dataframe from dict\n",
    "data_dict = {\n",
    "    'Mango': [4, 5, 6, 3, 1],\n",
    "    'Apple': [5, 4, 3, 0, 2],\n",
    "    'Banana': [2, 3, 5, 2, 7]\n",
    "}\n",
    "test_df = pd.DataFrame(data_dict)\n",
    "print(test_df, '\\n', type(test_df))"
   ]
  },
  {
   "cell_type": "markdown",
   "metadata": {},
   "source": [
    "#### 3.2.2. Create dataframe by reading from csv or xlsx file\n",
    "##### Read from CSV file"
   ]
  },
  {
   "cell_type": "code",
   "execution_count": null,
   "metadata": {
    "ExecuteTime": {
     "end_time": "2021-12-29T04:50:28.240355Z",
     "start_time": "2021-12-29T04:50:27.901219Z"
    }
   },
   "outputs": [],
   "source": [
    "test_df = pd.read_csv('data/predict_future_sales/items.csv')\n",
    "test_df"
   ]
  },
  {
   "cell_type": "markdown",
   "metadata": {},
   "source": [
    "##### Read from XLSX file\n",
    "To read `.xlsx` file by pandas, we have to install dependency (or engine):\n",
    "- `xlrd` supports old-style Excel files (.xls).\n",
    "- `openpyxl` supports newer Excel file formats.\n",
    "- `odf` supports OpenDocument file formats (.odf, .ods, .odt).\n",
    "- `pyxlsb` supports Binary Excel files."
   ]
  },
  {
   "cell_type": "code",
   "execution_count": null,
   "metadata": {
    "ExecuteTime": {
     "end_time": "2021-12-29T04:50:40.288154Z",
     "start_time": "2021-12-29T04:50:28.246540Z"
    }
   },
   "outputs": [],
   "source": [
    "!conda install -c anaconda openpyxl -y"
   ]
  },
  {
   "cell_type": "code",
   "execution_count": null,
   "metadata": {
    "ExecuteTime": {
     "end_time": "2021-12-29T04:50:44.106570Z",
     "start_time": "2021-12-29T04:50:40.293669Z"
    }
   },
   "outputs": [],
   "source": [
    "# sheet_name=`integer` to load specific index sheet\n",
    "test_df = pd.read_excel('data/predict_future_sales/data.xlsx', sheet_name=0, engine='openpyxl')\n",
    "\n",
    "test_df"
   ]
  },
  {
   "cell_type": "code",
   "execution_count": null,
   "metadata": {
    "ExecuteTime": {
     "end_time": "2021-12-29T04:51:06.062593Z",
     "start_time": "2021-12-29T04:50:59.129471Z"
    }
   },
   "outputs": [],
   "source": [
    "# sheet_name=`str` to load specific name sheet\n",
    "test_df = pd.read_excel('data/predict_future_sales/data.xlsx', sheet_name='item_categories', engine='openpyxl')\n",
    "\n",
    "test_df"
   ]
  },
  {
   "cell_type": "code",
   "execution_count": null,
   "metadata": {
    "ExecuteTime": {
     "end_time": "2021-12-29T04:51:06.062593Z",
     "start_time": "2021-12-29T04:50:59.129471Z"
    }
   },
   "outputs": [],
   "source": [
    "# sheet_name=`list` (list of `integer` or `str`) to load multiple sheets into a `dict`\n",
    "test_df = pd.read_excel('data/predict_future_sales/data.xlsx', sheet_name=[2, 'items'], engine='openpyxl')\n",
    "\n",
    "test_df"
   ]
  },
  {
   "cell_type": "code",
   "execution_count": null,
   "metadata": {
    "ExecuteTime": {
     "end_time": "2021-12-29T04:51:06.062593Z",
     "start_time": "2021-12-29T04:50:59.129471Z"
    }
   },
   "outputs": [],
   "source": [
    "# sheet_name=`None` to load all sheets into a `dict`\n",
    "test_df = pd.read_excel('data/predict_future_sales/data.xlsx', sheet_name=None, engine='openpyxl')\n",
    "\n",
    "test_df"
   ]
  },
  {
   "cell_type": "markdown",
   "metadata": {},
   "source": [
    "## 4. Access element in Series and Dataframe\n",
    "###  4.1. In Series"
   ]
  },
  {
   "cell_type": "code",
   "execution_count": null,
   "metadata": {
    "ExecuteTime": {
     "end_time": "2021-12-29T04:51:06.113617Z",
     "start_time": "2021-12-29T04:51:06.066570Z"
    }
   },
   "outputs": [],
   "source": [
    "print(series_1)\n",
    "\n",
    "# Access one element\n",
    "print(series_1[2])"
   ]
  },
  {
   "cell_type": "code",
   "execution_count": null,
   "metadata": {
    "ExecuteTime": {
     "end_time": "2021-12-29T04:51:06.147648Z",
     "start_time": "2021-12-29T04:51:06.124496Z"
    },
    "scrolled": true
   },
   "outputs": [],
   "source": [
    "# Access multiple elements\n",
    "print(series_1[[1, 2, 3]])"
   ]
  },
  {
   "cell_type": "code",
   "execution_count": null,
   "metadata": {
    "ExecuteTime": {
     "end_time": "2021-12-29T04:51:06.203930Z",
     "start_time": "2021-12-29T04:51:06.189036Z"
    },
    "scrolled": false
   },
   "outputs": [],
   "source": [
    "# Access elements based on one condition\n",
    "print(series_1[series_1 > 3])"
   ]
  },
  {
   "cell_type": "code",
   "execution_count": null,
   "metadata": {
    "ExecuteTime": {
     "end_time": "2021-12-29T04:51:06.234434Z",
     "start_time": "2021-12-29T04:51:06.213592Z"
    },
    "scrolled": false
   },
   "outputs": [],
   "source": [
    "# Access elements based on multiple conditions\n",
    "print(series_1[(series_1 > 3) & (series_1 < 6)])"
   ]
  },
  {
   "cell_type": "markdown",
   "metadata": {},
   "source": [
    "###  4.2. In Dataframe"
   ]
  },
  {
   "cell_type": "code",
   "execution_count": null,
   "metadata": {
    "ExecuteTime": {
     "end_time": "2021-12-29T04:51:06.303107Z",
     "start_time": "2021-12-29T04:51:06.244308Z"
    }
   },
   "outputs": [],
   "source": [
    "test_df"
   ]
  },
  {
   "cell_type": "markdown",
   "metadata": {},
   "source": [
    "####  Access elements by columns"
   ]
  },
  {
   "cell_type": "code",
   "execution_count": null,
   "metadata": {
    "ExecuteTime": {
     "end_time": "2021-12-29T04:51:06.947971Z",
     "start_time": "2021-12-29T04:51:06.310680Z"
    }
   },
   "outputs": [],
   "source": [
    "# Show all columns in dataframe\n",
    "test_df.columns"
   ]
  },
  {
   "cell_type": "code",
   "execution_count": null,
   "metadata": {
    "ExecuteTime": {
     "end_time": "2021-12-29T04:51:07.027780Z",
     "start_time": "2021-12-29T04:51:07.027743Z"
    }
   },
   "outputs": [],
   "source": [
    "# Access elements from one column in dataframe\n",
    "test_df['item_name']"
   ]
  },
  {
   "cell_type": "code",
   "execution_count": null,
   "metadata": {
    "ExecuteTime": {
     "end_time": "2021-12-29T04:51:07.032747Z",
     "start_time": "2021-12-29T04:51:07.032713Z"
    }
   },
   "outputs": [],
   "source": [
    "# Access elements from multiple columns in dataframe\n",
    "test_df[['item_id', 'item_category_id']]"
   ]
  },
  {
   "cell_type": "markdown",
   "metadata": {},
   "source": [
    "####  Access elements by rows"
   ]
  },
  {
   "cell_type": "code",
   "execution_count": null,
   "metadata": {
    "ExecuteTime": {
     "end_time": "2021-12-29T04:51:07.037338Z",
     "start_time": "2021-12-29T04:51:07.037297Z"
    },
    "scrolled": true
   },
   "outputs": [],
   "source": [
    "# Access a row in dataframe\n",
    "test_df.loc[1]"
   ]
  },
  {
   "cell_type": "code",
   "execution_count": null,
   "metadata": {
    "ExecuteTime": {
     "end_time": "2021-12-29T04:51:07.040940Z",
     "start_time": "2021-12-29T04:51:07.040905Z"
    }
   },
   "outputs": [],
   "source": [
    "# Access multiple rows in dataframe\n",
    "test_df.loc[[1, 2, 22168]]"
   ]
  },
  {
   "cell_type": "markdown",
   "metadata": {},
   "source": [
    "####  Access elements by conditions"
   ]
  },
  {
   "cell_type": "code",
   "execution_count": null,
   "metadata": {
    "ExecuteTime": {
     "end_time": "2021-12-29T04:51:07.048390Z",
     "start_time": "2021-12-29T04:51:07.048345Z"
    },
    "scrolled": true
   },
   "outputs": [],
   "source": [
    "# Access elements by condition in dataframe\n",
    "test_df[test_df.item_id > 1000]"
   ]
  },
  {
   "cell_type": "code",
   "execution_count": null,
   "metadata": {
    "ExecuteTime": {
     "end_time": "2021-12-29T04:51:07.059978Z",
     "start_time": "2021-12-29T04:51:07.059938Z"
    },
    "scrolled": true
   },
   "outputs": [],
   "source": [
    "# Access elements by multiple conditions in dataframe\n",
    "test_df[(test_df.item_id > 1000) & (test_df.item_id < 2345)]"
   ]
  },
  {
   "cell_type": "code",
   "execution_count": null,
   "metadata": {
    "ExecuteTime": {
     "end_time": "2021-12-29T04:51:07.072268Z",
     "start_time": "2021-12-29T04:51:07.072220Z"
    },
    "scrolled": false
   },
   "outputs": [],
   "source": [
    "# Access elements by multiple conditions in dataframe\n",
    "test_df[(test_df.item_id > 1000) & (test_df.item_id < 2345) & (test_df.item_category_id == 12)]"
   ]
  },
  {
   "cell_type": "markdown",
   "metadata": {
    "tags": []
   },
   "source": [
    "## 5. Functions with dataframe"
   ]
  },
  {
   "cell_type": "markdown",
   "metadata": {},
   "source": [
    "### 5.1. Basic functions"
   ]
  },
  {
   "cell_type": "markdown",
   "metadata": {},
   "source": [
    "#### Delete one row or column by `drop()`"
   ]
  },
  {
   "cell_type": "code",
   "execution_count": null,
   "metadata": {
    "ExecuteTime": {
     "end_time": "2021-12-29T04:51:07.089457Z",
     "start_time": "2021-12-29T04:51:07.089412Z"
    },
    "scrolled": true
   },
   "outputs": [],
   "source": [
    "short_test_df = test_df.loc[1000:1010]\n",
    "short_test_df"
   ]
  },
  {
   "cell_type": "code",
   "execution_count": null,
   "metadata": {
    "ExecuteTime": {
     "end_time": "2021-12-29T04:51:07.100513Z",
     "start_time": "2021-12-29T04:51:07.100468Z"
    },
    "scrolled": true
   },
   "outputs": [],
   "source": [
    "# Delete one row by index\n",
    "new_df = short_test_df.drop(index=1000, axis=1)\n",
    "new_df"
   ]
  },
  {
   "cell_type": "code",
   "execution_count": null,
   "metadata": {
    "ExecuteTime": {
     "end_time": "2021-12-29T04:51:07.122330Z",
     "start_time": "2021-12-29T04:51:07.122276Z"
    },
    "scrolled": true
   },
   "outputs": [],
   "source": [
    "# Delete multiple rows by index\n",
    "new_df = short_test_df.drop(index=[1001, 1003, 1005, 1007, 1009], axis=1)\n",
    "new_df"
   ]
  },
  {
   "cell_type": "code",
   "execution_count": null,
   "metadata": {
    "ExecuteTime": {
     "end_time": "2021-12-29T04:51:07.133555Z",
     "start_time": "2021-12-29T04:51:07.133499Z"
    },
    "scrolled": true
   },
   "outputs": [],
   "source": [
    "# Delete one column by column name\n",
    "new_df = short_test_df.drop(columns='item_name')\n",
    "new_df"
   ]
  },
  {
   "cell_type": "code",
   "execution_count": null,
   "metadata": {
    "ExecuteTime": {
     "end_time": "2021-12-29T04:51:07.141283Z",
     "start_time": "2021-12-29T04:51:07.141244Z"
    },
    "scrolled": true
   },
   "outputs": [],
   "source": [
    "# Delete multiple columns by column name\n",
    "new_df = short_test_df.drop(columns=['item_name', 'item_category_id'])\n",
    "new_df"
   ]
  },
  {
   "cell_type": "markdown",
   "metadata": {},
   "source": [
    "#### Drop duplicate row base on columns by `drop_duplicates()`"
   ]
  },
  {
   "cell_type": "code",
   "execution_count": null,
   "metadata": {
    "ExecuteTime": {
     "end_time": "2021-12-29T04:51:07.159445Z",
     "start_time": "2021-12-29T04:51:07.159404Z"
    },
    "scrolled": true
   },
   "outputs": [],
   "source": [
    "test_df"
   ]
  },
  {
   "cell_type": "code",
   "execution_count": null,
   "metadata": {
    "ExecuteTime": {
     "end_time": "2021-12-29T04:51:07.169246Z",
     "start_time": "2021-12-29T04:51:07.169201Z"
    }
   },
   "outputs": [],
   "source": [
    "test_df.drop_duplicates(subset='item_category_id')"
   ]
  },
  {
   "cell_type": "markdown",
   "metadata": {},
   "source": [
    "#### Process NULL value by `dropna()` and `fillna()`"
   ]
  },
  {
   "cell_type": "code",
   "execution_count": null,
   "metadata": {
    "ExecuteTime": {
     "end_time": "2021-12-29T04:51:07.173629Z",
     "start_time": "2021-12-29T04:51:07.173591Z"
    }
   },
   "outputs": [],
   "source": [
    "import numpy as np\n",
    "\n",
    "nan_df = pd.DataFrame(data={\n",
    "    'name': ['Minh', np.nan, 'Hieu'],\n",
    "    'age': [None, 30, None],\n",
    "    'job': ['DS', 'DA', 'DE']\n",
    "})\n",
    "nan_df"
   ]
  },
  {
   "cell_type": "code",
   "execution_count": null,
   "metadata": {
    "ExecuteTime": {
     "end_time": "2021-12-29T04:51:07.177702Z",
     "start_time": "2021-12-29T04:51:07.177658Z"
    }
   },
   "outputs": [],
   "source": [
    "# Drop nan values by row\n",
    "new_df = nan_df.dropna(axis=0)\n",
    "new_df"
   ]
  },
  {
   "cell_type": "code",
   "execution_count": null,
   "metadata": {
    "ExecuteTime": {
     "end_time": "2021-12-29T04:51:07.199774Z",
     "start_time": "2021-12-29T04:51:07.199738Z"
    }
   },
   "outputs": [],
   "source": [
    "# Drop nan values by columns\n",
    "new_df = nan_df.dropna(axis=1)\n",
    "new_df"
   ]
  },
  {
   "cell_type": "code",
   "execution_count": null,
   "metadata": {
    "ExecuteTime": {
     "end_time": "2021-12-29T04:51:07.204043Z",
     "start_time": "2021-12-29T04:51:07.204006Z"
    }
   },
   "outputs": [],
   "source": [
    "# Fill all nan values with one specific value\n",
    "new_df = nan_df.fillna(-1)\n",
    "# new_1_df = new_df.fillna({\n",
    "#     'age': -99\n",
    "# })\n",
    "new_df"
   ]
  },
  {
   "cell_type": "code",
   "execution_count": null,
   "metadata": {
    "ExecuteTime": {
     "end_time": "2021-12-29T04:51:07.207334Z",
     "start_time": "2021-12-29T04:51:07.207293Z"
    }
   },
   "outputs": [],
   "source": [
    "# Fill nan values according to columns\n",
    "new_df = nan_df.fillna({\n",
    "    'name': 'Thao Anh',\n",
    "    'age': -99,\n",
    "    'job': 'student'\n",
    "})\n",
    "new_df"
   ]
  },
  {
   "cell_type": "code",
   "execution_count": null,
   "metadata": {
    "ExecuteTime": {
     "end_time": "2021-12-29T04:51:07.210906Z",
     "start_time": "2021-12-29T04:51:07.210860Z"
    }
   },
   "outputs": [],
   "source": [
    "new_df.loc[new_df.name == 'Minh', 'name'] = np.nan\n",
    "new_df"
   ]
  },
  {
   "cell_type": "markdown",
   "metadata": {},
   "source": [
    "#### Modify elements in dataframe by `apply()`"
   ]
  },
  {
   "cell_type": "code",
   "execution_count": null,
   "metadata": {
    "ExecuteTime": {
     "end_time": "2021-12-29T04:51:07.215646Z",
     "start_time": "2021-12-29T04:51:07.215608Z"
    }
   },
   "outputs": [],
   "source": [
    "short_test_df"
   ]
  },
  {
   "cell_type": "code",
   "execution_count": null,
   "metadata": {
    "ExecuteTime": {
     "end_time": "2021-12-29T04:51:07.219588Z",
     "start_time": "2021-12-29T04:51:07.219339Z"
    },
    "scrolled": true
   },
   "outputs": [],
   "source": [
    "short_test_df.item_category_id = short_test_df.item_category_id.apply(float)\n",
    "short_test_df"
   ]
  },
  {
   "cell_type": "code",
   "execution_count": null,
   "metadata": {
    "ExecuteTime": {
     "end_time": "2021-12-29T04:51:07.223977Z",
     "start_time": "2021-12-29T04:51:07.223931Z"
    },
    "scrolled": true
   },
   "outputs": [],
   "source": [
    "short_test_df.item_category_id = short_test_df.item_category_id.apply(lambda x: (x + 1) / 2)\n",
    "short_test_df"
   ]
  },
  {
   "cell_type": "code",
   "execution_count": null,
   "metadata": {
    "ExecuteTime": {
     "end_time": "2021-12-29T04:51:07.227066Z",
     "start_time": "2021-12-29T04:51:07.227030Z"
    },
    "scrolled": true
   },
   "outputs": [],
   "source": [
    "def plus_1_divide_2(x):\n",
    "    return (x + 1) / 2\n",
    "\n",
    "short_test_df.item_category_id = short_test_df.item_category_id.apply(plus_1_divide_2)\n",
    "short_test_df"
   ]
  },
  {
   "cell_type": "markdown",
   "metadata": {},
   "source": [
    "#### Save a dataframe to csv file by using `to_csv()`"
   ]
  },
  {
   "cell_type": "code",
   "execution_count": null,
   "metadata": {
    "ExecuteTime": {
     "end_time": "2021-12-29T04:51:07.231807Z",
     "start_time": "2021-12-29T04:51:07.231715Z"
    }
   },
   "outputs": [],
   "source": [
    "short_test_df.to_csv('short_test_df.csv', index=False)"
   ]
  },
  {
   "cell_type": "markdown",
   "metadata": {},
   "source": [
    "### 5.2. Advanced functions"
   ]
  },
  {
   "cell_type": "code",
   "execution_count": null,
   "metadata": {
    "ExecuteTime": {
     "end_time": "2021-12-29T04:51:07.237409Z",
     "start_time": "2021-12-29T04:51:07.237372Z"
    }
   },
   "outputs": [],
   "source": [
    "test_df"
   ]
  },
  {
   "cell_type": "markdown",
   "metadata": {},
   "source": [
    "#### Aggregate data by `groupby()` and `agg()`"
   ]
  },
  {
   "cell_type": "code",
   "execution_count": null,
   "metadata": {
    "ExecuteTime": {
     "end_time": "2021-12-29T04:51:07.242696Z",
     "start_time": "2021-12-29T04:51:07.242609Z"
    }
   },
   "outputs": [],
   "source": [
    "new_df = test_df.groupby(by='item_category_id')\n",
    "new_df"
   ]
  },
  {
   "cell_type": "code",
   "execution_count": null,
   "metadata": {
    "ExecuteTime": {
     "end_time": "2021-12-29T04:51:07.247236Z",
     "start_time": "2021-12-29T04:51:07.247190Z"
    }
   },
   "outputs": [],
   "source": [
    "new_df = new_df.agg({'item_name': list, 'item_id': sum})\n",
    "new_df"
   ]
  },
  {
   "cell_type": "code",
   "execution_count": null,
   "metadata": {
    "ExecuteTime": {
     "end_time": "2021-12-29T04:51:07.251727Z",
     "start_time": "2021-12-29T04:51:07.251687Z"
    }
   },
   "outputs": [],
   "source": [
    "new_df = new_df.reset_index()\n",
    "new_df"
   ]
  },
  {
   "cell_type": "markdown",
   "metadata": {},
   "source": [
    "#### Join two dataframes by using `pd.merge()`\n",
    "<img src=\"../images/pd_merge.png\" width=\"400px\"/>"
   ]
  },
  {
   "cell_type": "code",
   "execution_count": null,
   "metadata": {
    "ExecuteTime": {
     "end_time": "2021-12-29T04:51:07.256873Z",
     "start_time": "2021-12-29T04:51:07.256809Z"
    }
   },
   "outputs": [],
   "source": [
    "test_df"
   ]
  },
  {
   "cell_type": "code",
   "execution_count": null,
   "metadata": {
    "ExecuteTime": {
     "end_time": "2021-12-29T04:51:07.259989Z",
     "start_time": "2021-12-29T04:51:07.259911Z"
    }
   },
   "outputs": [],
   "source": [
    "# Create dummy dataframe\n",
    "# index % 2 == 0\n",
    "dummy_1_df = test_df.loc[list(range(0, len(test_df) - 1, 2))]\n",
    "dummy_1_df"
   ]
  },
  {
   "cell_type": "code",
   "execution_count": null,
   "metadata": {
    "ExecuteTime": {
     "end_time": "2021-12-29T04:51:07.263934Z",
     "start_time": "2021-12-29T04:51:07.263893Z"
    }
   },
   "outputs": [],
   "source": [
    "# Create dummy dataframe\n",
    "# index % 3 == 0\n",
    "dummy_2_df = test_df.loc[list(range(0, len(test_df) - 1, 3))]\n",
    "dummy_2_df"
   ]
  },
  {
   "cell_type": "code",
   "execution_count": null,
   "metadata": {
    "ExecuteTime": {
     "end_time": "2021-12-29T04:51:07.268492Z",
     "start_time": "2021-12-29T04:51:07.268463Z"
    }
   },
   "outputs": [],
   "source": [
    "merged_df = pd.merge(dummy_1_df, dummy_2_df, how='inner', on='item_id')\n",
    "merged_df"
   ]
  },
  {
   "cell_type": "code",
   "execution_count": null,
   "metadata": {
    "ExecuteTime": {
     "end_time": "2021-12-29T04:51:07.273308Z",
     "start_time": "2021-12-29T04:51:07.273161Z"
    }
   },
   "outputs": [],
   "source": [
    "merged_df = pd.merge(dummy_1_df, dummy_2_df, how='left', on='item_id')\n",
    "merged_df"
   ]
  },
  {
   "cell_type": "code",
   "execution_count": null,
   "metadata": {
    "ExecuteTime": {
     "end_time": "2021-12-29T04:51:07.275952Z",
     "start_time": "2021-12-29T04:51:07.275900Z"
    }
   },
   "outputs": [],
   "source": [
    "merged_df = pd.merge(dummy_1_df, dummy_2_df, how='right', on='item_id')\n",
    "merged_df"
   ]
  },
  {
   "cell_type": "code",
   "execution_count": null,
   "metadata": {
    "ExecuteTime": {
     "end_time": "2021-12-29T04:51:07.280371Z",
     "start_time": "2021-12-29T04:51:07.280332Z"
    }
   },
   "outputs": [],
   "source": [
    "merged_df = pd.merge(dummy_1_df, dummy_2_df, how='outer', on='item_id')\n",
    "merged_df"
   ]
  },
  {
   "cell_type": "code",
   "execution_count": null,
   "metadata": {
    "ExecuteTime": {
     "end_time": "2021-12-29T04:51:07.301747Z",
     "start_time": "2021-12-29T04:51:07.301708Z"
    }
   },
   "outputs": [],
   "source": [
    "merged_df = pd.merge(dummy_1_df, dummy_2_df, how='outer', on='item_id', indicator=True)\n",
    "merged_df"
   ]
  },
  {
   "cell_type": "markdown",
   "metadata": {
    "tags": []
   },
   "source": [
    "## 6. Homework\n",
    "### 6.1. Exercise 1:\n",
    "Create dummy dataset which contains 5 data fields: \"first_name\", \"last_name\", \"age\", \"job\", \"country\" and 10 rows. (dataset contains 1 \"country\" named \"Vietnam\", 1 age is \"20\")\n",
    "\n",
    "### 6.2. Exercise 2:\n",
    "Create 5 Series for each field, after that, create a Dataframe from 5 Series, dump that Dataframe to csv file.\n",
    "\n",
    "### 6.3. Exercise 3:\n",
    "Read the csv file from excercise 2, add the string \"my_first_name\" in to each value in the \"first_name\", add the string \"my_last_name\" in to each value in the \"last_name\".\n",
    "\n",
    "### 6.4. Exercise 4:\n",
    "Print all rows whose \"country\" is \"Vietnam\", whose \"country\" is not \"Vietnam\", whose \"age\" is greater than \"20\", whose \"age\" is lower than or equal \"20\"."
   ]
  }
 ],
 "metadata": {
  "kernelspec": {
   "display_name": "Python 3",
   "language": "python",
   "name": "python3"
  },
  "language_info": {
   "codemirror_mode": {
    "name": "ipython",
    "version": 3
   },
   "file_extension": ".py",
   "mimetype": "text/x-python",
   "name": "python",
   "nbconvert_exporter": "python",
   "pygments_lexer": "ipython3",
   "version": "3.8.12"
  },
  "toc": {
   "base_numbering": 1,
   "nav_menu": {},
   "number_sections": false,
   "sideBar": true,
   "skip_h1_title": false,
   "title_cell": "Table of Contents",
   "title_sidebar": "Table of Contents",
   "toc_cell": false,
   "toc_position": {
    "height": "calc(100% - 180px)",
    "left": "10px",
    "top": "150px",
    "width": "234.969px"
   },
   "toc_section_display": true,
   "toc_window_display": true
  }
 },
 "nbformat": 4,
 "nbformat_minor": 5
}
