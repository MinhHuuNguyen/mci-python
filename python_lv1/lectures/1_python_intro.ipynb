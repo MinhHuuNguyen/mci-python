{
 "cells": [
  {
   "cell_type": "markdown",
   "metadata": {},
   "source": [
    "# LESSON 1: PYTHON INTRODUCTION\n",
    "<img src=\"../images/py_logo.jpeg\" width=\"300px\"/>"
   ]
  },
  {
   "cell_type": "markdown",
   "metadata": {},
   "source": [
    "## 1. Overall introduction\n",
    "\"Python is a programming language that lets you work more quickly and integrate your systems more effectively.\"\n",
    "\n",
    "### Python is popular\n",
    "- Simple in syntax\n",
    "- Close to the English language <br>\n",
    "=> Read and understand easily <br>\n",
    "\n",
    "The 4th industrial revolution makes Cloud Computing, Machine Learning, and Big Data become hot trend. And Python allows professionals to\n",
    "- conduct complex statistical calculations\n",
    "- create data visualizations\n",
    "- build machine learning algorithms\n",
    "- manipulate and analyze data\n",
    "- ... <br>\n",
    "<img src=\"../images/py_popular.png\" width=\"700px\"/>\n",
    "\n",
    "### Python has lots of applications\n",
    "- Web and Internet Development\n",
    "- Database Access\n",
    "- Desktop GUIs\n",
    "- Scientific & Numeric\n",
    "- Education\n",
    "- Network Programming\n",
    "- Software & Game Development\n",
    "\n",
    "### Python is easy to learn\n",
    "- Active community which hosts conferences and meetups, collaborates on code, and much more.\n",
    "- Python document is open and easy to understand ([link](https://docs.python.org/3/library/)).\n",
    "- Built-in libraries and external libraries are powerful for many tasks, especially for data science, data engineer and data analysis:\n",
    "    - Scientific computing: numpy, numba, etc.\n",
    "    - AWS interaction: boto3\n",
    "    - Image processing: opencv, pillow, albumentation, etc.\n",
    "    - Machine learning and Deep learning framework: tensorflow, pytorch, onnx, sklearn, etc.\n",
    "    - Data processing and visualization: pandas, pyyaml, matplotlib, seaborn etc.\n"
   ]
  },
  {
   "cell_type": "code",
   "execution_count": 1,
   "metadata": {
    "ExecuteTime": {
     "end_time": "2021-12-29T05:00:50.037627Z",
     "start_time": "2021-12-29T05:00:50.027251Z"
    }
   },
   "outputs": [
    {
     "name": "stdout",
     "output_type": "stream",
     "text": [
      "Hello world!!!\n"
     ]
    }
   ],
   "source": [
    "print('Hello world!!!')"
   ]
  },
  {
   "cell_type": "markdown",
   "metadata": {},
   "source": [
    "## 2. Import Python library\n",
    "### 2.1. Import internal library\n",
    "Internal library is the built-in library which installed while installing Python."
   ]
  },
  {
   "cell_type": "code",
   "execution_count": 2,
   "metadata": {
    "ExecuteTime": {
     "end_time": "2021-12-29T05:01:52.028959Z",
     "start_time": "2021-12-29T05:01:52.021087Z"
    }
   },
   "outputs": [],
   "source": [
    "import math\n",
    "import json\n",
    "import os"
   ]
  },
  {
   "cell_type": "code",
   "execution_count": 3,
   "metadata": {
    "ExecuteTime": {
     "end_time": "2021-12-29T05:01:52.040493Z",
     "start_time": "2021-12-29T05:01:52.034317Z"
    }
   },
   "outputs": [
    {
     "name": "stdout",
     "output_type": "stream",
     "text": [
      "3.141592653589793\n"
     ]
    }
   ],
   "source": [
    "print(math.pi)"
   ]
  },
  {
   "cell_type": "markdown",
   "metadata": {},
   "source": [
    "### 2.2. Import external library\n",
    "External library is the library developed by community and have to be installed independently with Python."
   ]
  },
  {
   "cell_type": "code",
   "execution_count": 4,
   "metadata": {
    "ExecuteTime": {
     "end_time": "2021-12-29T05:02:16.159414Z",
     "start_time": "2021-12-29T05:01:52.262957Z"
    }
   },
   "outputs": [],
   "source": [
    "import numpy\n",
    "import pandas\n",
    "import matplotlib"
   ]
  },
  {
   "cell_type": "code",
   "execution_count": 5,
   "metadata": {
    "ExecuteTime": {
     "end_time": "2021-12-29T05:02:16.625334Z",
     "start_time": "2021-12-29T05:02:16.163220Z"
    },
    "tags": []
   },
   "outputs": [
    {
     "ename": "ModuleNotFoundError",
     "evalue": "No module named 'torch'",
     "output_type": "error",
     "traceback": [
      "\u001b[0;31m---------------------------------------------------------------------------\u001b[0m",
      "\u001b[0;31mModuleNotFoundError\u001b[0m                       Traceback (most recent call last)",
      "\u001b[0;32m<ipython-input-5-157778a9721e>\u001b[0m in \u001b[0;36m<module>\u001b[0;34m\u001b[0m\n\u001b[1;32m      1\u001b[0m \u001b[0;31m# Error while import library that haven't been installed\u001b[0m\u001b[0;34m\u001b[0m\u001b[0;34m\u001b[0m\u001b[0;34m\u001b[0m\u001b[0m\n\u001b[0;32m----> 2\u001b[0;31m \u001b[0;32mimport\u001b[0m \u001b[0mtorch\u001b[0m\u001b[0;34m\u001b[0m\u001b[0;34m\u001b[0m\u001b[0m\n\u001b[0m",
      "\u001b[0;31mModuleNotFoundError\u001b[0m: No module named 'torch'"
     ]
    }
   ],
   "source": [
    "# Error while import library that haven't been installed\n",
    "import torch"
   ]
  },
  {
   "cell_type": "markdown",
   "metadata": {
    "tags": []
   },
   "source": [
    "### 2.3. Import specific modules from a library"
   ]
  },
  {
   "cell_type": "code",
   "execution_count": null,
   "metadata": {
    "ExecuteTime": {
     "end_time": "2021-12-29T05:01:52.050624Z",
     "start_time": "2021-12-29T05:01:52.044498Z"
    }
   },
   "outputs": [],
   "source": [
    "from math import pi"
   ]
  },
  {
   "cell_type": "code",
   "execution_count": null,
   "metadata": {
    "ExecuteTime": {
     "end_time": "2021-12-29T05:01:52.063044Z",
     "start_time": "2021-12-29T05:01:52.054781Z"
    }
   },
   "outputs": [],
   "source": [
    "print(pi)"
   ]
  },
  {
   "cell_type": "code",
   "execution_count": null,
   "metadata": {
    "ExecuteTime": {
     "end_time": "2021-12-29T05:01:52.087606Z",
     "start_time": "2021-12-29T05:01:52.081833Z"
    }
   },
   "outputs": [],
   "source": [
    "from math import pi, e"
   ]
  },
  {
   "cell_type": "code",
   "execution_count": null,
   "metadata": {
    "ExecuteTime": {
     "end_time": "2021-12-29T05:01:52.120487Z",
     "start_time": "2021-12-29T05:01:52.093702Z"
    }
   },
   "outputs": [],
   "source": [
    "print(pi)\n",
    "print(e)"
   ]
  },
  {
   "cell_type": "markdown",
   "metadata": {
    "tags": []
   },
   "source": [
    "### 2.4. Import all modules from a library"
   ]
  },
  {
   "cell_type": "code",
   "execution_count": null,
   "metadata": {
    "ExecuteTime": {
     "end_time": "2021-12-29T05:01:52.173204Z",
     "start_time": "2021-12-29T05:01:52.141814Z"
    }
   },
   "outputs": [],
   "source": [
    "from math import *"
   ]
  },
  {
   "cell_type": "code",
   "execution_count": null,
   "metadata": {
    "ExecuteTime": {
     "end_time": "2021-12-29T05:01:52.194544Z",
     "start_time": "2021-12-29T05:01:52.180177Z"
    }
   },
   "outputs": [],
   "source": [
    "print(pi)\n",
    "print(e)"
   ]
  },
  {
   "cell_type": "markdown",
   "metadata": {
    "tags": []
   },
   "source": [
    "### 2.5. Set module alias while importing"
   ]
  },
  {
   "cell_type": "code",
   "execution_count": null,
   "metadata": {
    "ExecuteTime": {
     "end_time": "2021-12-29T05:01:52.215327Z",
     "start_time": "2021-12-29T05:01:52.199485Z"
    }
   },
   "outputs": [],
   "source": [
    "from math import pi as pi_number"
   ]
  },
  {
   "cell_type": "code",
   "execution_count": null,
   "metadata": {
    "ExecuteTime": {
     "end_time": "2021-12-29T05:01:52.230565Z",
     "start_time": "2021-12-29T05:01:52.223714Z"
    }
   },
   "outputs": [],
   "source": [
    "print(pi_number)"
   ]
  },
  {
   "cell_type": "code",
   "execution_count": null,
   "metadata": {
    "ExecuteTime": {
     "end_time": "2021-12-29T05:01:52.245756Z",
     "start_time": "2021-12-29T05:01:52.238574Z"
    }
   },
   "outputs": [],
   "source": [
    "from math import pi as pi_number, e as e_number"
   ]
  },
  {
   "cell_type": "code",
   "execution_count": null,
   "metadata": {
    "ExecuteTime": {
     "end_time": "2021-12-29T05:01:52.257309Z",
     "start_time": "2021-12-29T05:01:52.249492Z"
    }
   },
   "outputs": [],
   "source": [
    "print(pi_number)\n",
    "print(e_number)"
   ]
  },
  {
   "cell_type": "markdown",
   "metadata": {},
   "source": [
    "## 3. Introduce to Python comment\n",
    "In order to note and explain the code, comment is an important part in each programming language. <br>\n",
    "Each code starts with `#` will be a comment and the compiler will ignore all of them."
   ]
  },
  {
   "cell_type": "code",
   "execution_count": null,
   "metadata": {},
   "outputs": [],
   "source": [
    "# this is a comment\n",
    "# Python comment starts with `#`\n",
    "\n",
    "a = 1 # Assign `a` by value `1`\n",
    "b = 'MCI Python level 1' # `b` is a string"
   ]
  },
  {
   "cell_type": "markdown",
   "metadata": {},
   "source": [
    "We can write a comment in multiple lines by using `'''this is a multi-line comment'''` or `\"\"\"this is a comment in multiple lines\"\"\"`. Originally, `''' '''` and `\"\"\" \"\"\"` stand for Python string in multiple lines, but we only write these strings and don't assign them for any variable, these strings can another type of comment."
   ]
  },
  {
   "cell_type": "code",
   "execution_count": null,
   "metadata": {},
   "outputs": [],
   "source": [
    "'''\n",
    "this is\n",
    "a multi-line comment\n",
    "'''\n",
    "\n",
    "a = 1 # Assign `a` by value `1`\n",
    "b = 'MCI Python level 1' # `b` is a string"
   ]
  },
  {
   "cell_type": "code",
   "execution_count": null,
   "metadata": {},
   "outputs": [],
   "source": [
    "\"\"\"\n",
    "this is\n",
    "another multi-line comment\n",
    "\"\"\"\n",
    "\n",
    "a = 1 # Assign `a` by value `1`\n",
    "b = 'MCI Python level 1' # `b` is a string"
   ]
  },
  {
   "cell_type": "markdown",
   "metadata": {},
   "source": [
    "We can use the shortcut `Ctrl + /` on Windows and Ubuntu or `Cmd + /` on MacOS to make a line of code become a comment."
   ]
  },
  {
   "cell_type": "markdown",
   "metadata": {},
   "source": [
    "## 4. Introduce to Python variable\n",
    "With Python, we don't need to define the data type of a variable, the compiler will automatically understand based on the value of variable. <br>\n",
    "### 4.1. Assign value to variable\n",
    "The simplest way to assign `a value` to `a variable` is using `=`. `=` means `assign`, not `equal`."
   ]
  },
  {
   "cell_type": "code",
   "execution_count": null,
   "metadata": {},
   "outputs": [],
   "source": [
    "a = 'MCI Python level 1'\n",
    "b = 123\n",
    "c = 456.789"
   ]
  },
  {
   "cell_type": "code",
   "execution_count": null,
   "metadata": {},
   "outputs": [],
   "source": [
    "print(a)"
   ]
  },
  {
   "cell_type": "code",
   "execution_count": null,
   "metadata": {},
   "outputs": [],
   "source": [
    "print(b)"
   ]
  },
  {
   "cell_type": "code",
   "execution_count": null,
   "metadata": {},
   "outputs": [],
   "source": [
    "print(c)"
   ]
  },
  {
   "cell_type": "markdown",
   "metadata": {},
   "source": [
    "We can assign `multiple values` to `multiple variables` in one line of code. <br>\n",
    "The first way:"
   ]
  },
  {
   "cell_type": "code",
   "execution_count": null,
   "metadata": {},
   "outputs": [],
   "source": [
    "a, b, c = 'MCI Python level 1', 123, 456.789"
   ]
  },
  {
   "cell_type": "code",
   "execution_count": null,
   "metadata": {},
   "outputs": [],
   "source": [
    "print(a)"
   ]
  },
  {
   "cell_type": "code",
   "execution_count": null,
   "metadata": {
    "scrolled": true
   },
   "outputs": [],
   "source": [
    "print(b)"
   ]
  },
  {
   "cell_type": "code",
   "execution_count": null,
   "metadata": {
    "scrolled": true
   },
   "outputs": [],
   "source": [
    "print(c)"
   ]
  },
  {
   "cell_type": "markdown",
   "metadata": {},
   "source": [
    "The second way:"
   ]
  },
  {
   "cell_type": "code",
   "execution_count": null,
   "metadata": {},
   "outputs": [],
   "source": [
    "a = 'MCI Python level 1'; b = 123; c = 456.789"
   ]
  },
  {
   "cell_type": "code",
   "execution_count": null,
   "metadata": {},
   "outputs": [],
   "source": [
    "print(a)"
   ]
  },
  {
   "cell_type": "code",
   "execution_count": null,
   "metadata": {
    "scrolled": true
   },
   "outputs": [],
   "source": [
    "print(b)"
   ]
  },
  {
   "cell_type": "code",
   "execution_count": null,
   "metadata": {
    "scrolled": true
   },
   "outputs": [],
   "source": [
    "print(c)"
   ]
  },
  {
   "cell_type": "markdown",
   "metadata": {},
   "source": [
    "We can assign a value to multiple variables"
   ]
  },
  {
   "cell_type": "code",
   "execution_count": null,
   "metadata": {},
   "outputs": [],
   "source": [
    "a = b = c = 456.789"
   ]
  },
  {
   "cell_type": "code",
   "execution_count": null,
   "metadata": {},
   "outputs": [],
   "source": [
    "print(a)"
   ]
  },
  {
   "cell_type": "code",
   "execution_count": 6,
   "metadata": {},
   "outputs": [
    {
     "ename": "NameError",
     "evalue": "name 'b' is not defined",
     "output_type": "error",
     "traceback": [
      "\u001b[0;31m---------------------------------------------------------------------------\u001b[0m",
      "\u001b[0;31mNameError\u001b[0m                                 Traceback (most recent call last)",
      "\u001b[0;32m<ipython-input-6-67e500defa1b>\u001b[0m in \u001b[0;36m<module>\u001b[0;34m\u001b[0m\n\u001b[0;32m----> 1\u001b[0;31m \u001b[0mprint\u001b[0m\u001b[0;34m(\u001b[0m\u001b[0mb\u001b[0m\u001b[0;34m)\u001b[0m\u001b[0;34m\u001b[0m\u001b[0;34m\u001b[0m\u001b[0m\n\u001b[0m",
      "\u001b[0;31mNameError\u001b[0m: name 'b' is not defined"
     ]
    }
   ],
   "source": [
    "print(b)"
   ]
  },
  {
   "cell_type": "code",
   "execution_count": null,
   "metadata": {},
   "outputs": [],
   "source": [
    "print(c)"
   ]
  },
  {
   "cell_type": "markdown",
   "metadata": {},
   "source": [
    "### 4.2. Name the variable\n",
    "Some rules while naming Python variable:\n",
    "- Python variable name can contain only `alphabet a-z A-Z`, `digit 0-9` and `underscore _`, cannot contain special character `! @ # $ % ^ & * ( ) - = + { } : \" ; , . / ?`\n",
    "- Python variable name cannot start with a `digit`, it can only start with `alphabet` or `underscore`. <br>\n",
    "Example: `1abc` is bad name, `abc1` and `_1abc` are good names.\n",
    "- Python variable name is case-sentitive. <br>\n",
    "Example: `abc`, `Abc`, `aBC` are different variables."
   ]
  },
  {
   "cell_type": "code",
   "execution_count": 7,
   "metadata": {},
   "outputs": [
    {
     "ename": "SyntaxError",
     "evalue": "invalid syntax (<ipython-input-7-f1224379a134>, line 1)",
     "output_type": "error",
     "traceback": [
      "\u001b[0;36m  File \u001b[0;32m\"<ipython-input-7-f1224379a134>\"\u001b[0;36m, line \u001b[0;32m1\u001b[0m\n\u001b[0;31m    1abc = 1\u001b[0m\n\u001b[0m     ^\u001b[0m\n\u001b[0;31mSyntaxError\u001b[0m\u001b[0;31m:\u001b[0m invalid syntax\n"
     ]
    }
   ],
   "source": [
    "1abc = 1"
   ]
  },
  {
   "cell_type": "code",
   "execution_count": 8,
   "metadata": {},
   "outputs": [],
   "source": [
    "abc1 = 1"
   ]
  },
  {
   "cell_type": "code",
   "execution_count": 9,
   "metadata": {},
   "outputs": [],
   "source": [
    "_1abc = 1"
   ]
  },
  {
   "cell_type": "code",
   "execution_count": 10,
   "metadata": {},
   "outputs": [
    {
     "name": "stdout",
     "output_type": "stream",
     "text": [
      "abc =  1\n",
      "Abc =  2\n",
      "aBC =  3\n"
     ]
    }
   ],
   "source": [
    "abc = 1\n",
    "Abc = 2\n",
    "aBC = 3\n",
    "\n",
    "print('abc = ', abc)\n",
    "print('Abc = ', Abc)\n",
    "print('aBC = ', aBC)"
   ]
  },
  {
   "cell_type": "markdown",
   "metadata": {},
   "source": [
    "Some styles while naming Python variable:\n",
    "- Camel Case: the first character of each word is upper-case (except the first word)\n",
    "    - myHouse\n",
    "    - dogName\n",
    "    - myVariableName\n",
    "- Pascal Case: the first character of each word is upper-case (include the first word)\n",
    "    - MyHouse\n",
    "    - DogName\n",
    "    - MyVariableName\n",
    "- Snake Case: each word in variable will be separated by the underscore _\n",
    "    - my_house\n",
    "    - dog_name\n",
    "    - my_variable_name\n",
    "- Or, we can mix these above styles "
   ]
  },
  {
   "cell_type": "markdown",
   "metadata": {
    "tags": []
   },
   "source": [
    "## 5. Introduce to Python data types\n",
    "\n",
    "<img src=\"../images/py_data_types.png\" width=\"500px\"/>\n",
    "\n",
    "### 5.1. Get variable data type\n",
    "To get the data type of a variable, we use function `type()`."
   ]
  },
  {
   "cell_type": "code",
   "execution_count": 11,
   "metadata": {},
   "outputs": [
    {
     "name": "stdout",
     "output_type": "stream",
     "text": [
      "a =  1 <class 'int'>\n"
     ]
    }
   ],
   "source": [
    "a = 1\n",
    "\n",
    "print('a = ', a, type(a))"
   ]
  },
  {
   "cell_type": "code",
   "execution_count": 12,
   "metadata": {},
   "outputs": [
    {
     "name": "stdout",
     "output_type": "stream",
     "text": [
      "b =  15.11 <class 'float'>\n"
     ]
    }
   ],
   "source": [
    "b = 15.11\n",
    "\n",
    "print('b = ', b, type(b))"
   ]
  },
  {
   "cell_type": "code",
   "execution_count": 13,
   "metadata": {},
   "outputs": [
    {
     "name": "stdout",
     "output_type": "stream",
     "text": [
      "c =  MCI Python Level 1 <class 'str'>\n"
     ]
    }
   ],
   "source": [
    "c = 'MCI Python Level 1'\n",
    "\n",
    "print('c = ', c, type(c))"
   ]
  },
  {
   "cell_type": "markdown",
   "metadata": {
    "tags": []
   },
   "source": [
    "### 5.2. Numeric type: Integer (int) and Float (float)\n",
    "Integer and Float are simple data type in lots of programming language."
   ]
  },
  {
   "cell_type": "code",
   "execution_count": 14,
   "metadata": {
    "ExecuteTime": {
     "end_time": "2021-12-29T06:18:57.850443Z",
     "start_time": "2021-12-29T06:18:57.840962Z"
    }
   },
   "outputs": [
    {
     "name": "stdout",
     "output_type": "stream",
     "text": [
      "d =  1\n",
      "type of d:  <class 'int'>\n"
     ]
    }
   ],
   "source": [
    "d = 1\n",
    "print('d = ', d)\n",
    "print('type of d: ', type(d))"
   ]
  },
  {
   "cell_type": "code",
   "execution_count": 15,
   "metadata": {
    "ExecuteTime": {
     "end_time": "2021-12-29T06:18:57.850443Z",
     "start_time": "2021-12-29T06:18:57.840962Z"
    }
   },
   "outputs": [
    {
     "name": "stdout",
     "output_type": "stream",
     "text": [
      "e =  0.5555\n",
      "type of e:  <class 'float'>\n"
     ]
    }
   ],
   "source": [
    "e = 0.5555\n",
    "print('e = ', e)\n",
    "print('type of e: ', type(e))"
   ]
  },
  {
   "cell_type": "code",
   "execution_count": 16,
   "metadata": {
    "ExecuteTime": {
     "end_time": "2021-12-29T06:18:57.850443Z",
     "start_time": "2021-12-29T06:18:57.840962Z"
    }
   },
   "outputs": [
    {
     "name": "stdout",
     "output_type": "stream",
     "text": [
      "f =  1.0\n",
      "type of f:  <class 'float'>\n"
     ]
    }
   ],
   "source": [
    "f = 1.\n",
    "print('f = ', f)\n",
    "print('type of f: ', type(f))"
   ]
  },
  {
   "cell_type": "markdown",
   "metadata": {
    "tags": []
   },
   "source": [
    "### 5.3. Boolean type: Bool\n",
    "Bool is logical data type (True/False)"
   ]
  },
  {
   "cell_type": "code",
   "execution_count": 17,
   "metadata": {
    "ExecuteTime": {
     "end_time": "2021-12-29T06:18:57.905973Z",
     "start_time": "2021-12-29T06:18:57.891425Z"
    }
   },
   "outputs": [
    {
     "name": "stdout",
     "output_type": "stream",
     "text": [
      "g =  True\n",
      "type of g:  <class 'bool'>\n"
     ]
    }
   ],
   "source": [
    "g = True\n",
    "print('g = ', g)\n",
    "print('type of g: ', type(g))"
   ]
  },
  {
   "cell_type": "code",
   "execution_count": 18,
   "metadata": {
    "ExecuteTime": {
     "end_time": "2021-12-29T06:18:57.905973Z",
     "start_time": "2021-12-29T06:18:57.891425Z"
    }
   },
   "outputs": [
    {
     "name": "stdout",
     "output_type": "stream",
     "text": [
      "h =  False\n",
      "type of h:  <class 'bool'>\n"
     ]
    }
   ],
   "source": [
    "h = False\n",
    "print('h = ', h)\n",
    "print('type of h: ', type(h))"
   ]
  },
  {
   "cell_type": "markdown",
   "metadata": {
    "tags": []
   },
   "source": [
    "### 5.4. Sequence type: String (str)\n",
    "#### Define a String\n",
    "The string in Python is define by using `' '` and `\" \"`. <br>\n",
    "Example: `'this is a string in Python'` or `\"MCI Python level 1\"`"
   ]
  },
  {
   "cell_type": "code",
   "execution_count": 19,
   "metadata": {
    "ExecuteTime": {
     "end_time": "2022-01-10T04:22:31.166635Z",
     "start_time": "2022-01-10T04:22:31.155059Z"
    },
    "scrolled": true
   },
   "outputs": [
    {
     "name": "stdout",
     "output_type": "stream",
     "text": [
      "a =  this is a string in Python\n",
      "type of a:  <class 'str'>\n"
     ]
    }
   ],
   "source": [
    "a = 'this is a string in Python'\n",
    "print('a = ', a)\n",
    "print('type of a: ', type(a))"
   ]
  },
  {
   "cell_type": "code",
   "execution_count": 20,
   "metadata": {
    "ExecuteTime": {
     "end_time": "2022-01-10T04:22:31.166635Z",
     "start_time": "2022-01-10T04:22:31.155059Z"
    }
   },
   "outputs": [
    {
     "name": "stdout",
     "output_type": "stream",
     "text": [
      "b =  MCI Python level 1\n",
      "type of b:  <class 'str'>\n"
     ]
    }
   ],
   "source": [
    "b = \"MCI Python level 1\"\n",
    "print('b = ', b)\n",
    "print('type of b: ', type(b))"
   ]
  },
  {
   "cell_type": "markdown",
   "metadata": {},
   "source": [
    "We can define a string in multiple lines by using `''' '''` and `\"\"\" \"\"\"`. <br>\n",
    "Example: <br>\n",
    "`'''this is a string\n",
    "in Python'''` <br>\n",
    "or <br>\n",
    "`\"\"\"MCI Python\n",
    "level 1\"\"\"`"
   ]
  },
  {
   "cell_type": "code",
   "execution_count": 21,
   "metadata": {
    "ExecuteTime": {
     "end_time": "2022-01-10T04:22:31.166635Z",
     "start_time": "2022-01-10T04:22:31.155059Z"
    },
    "scrolled": true
   },
   "outputs": [
    {
     "name": "stdout",
     "output_type": "stream",
     "text": [
      "a =  this is a string\n",
      "in Python\n",
      "type of a:  <class 'str'>\n"
     ]
    }
   ],
   "source": [
    "a = '''this is a string\n",
    "in Python'''\n",
    "print('a = ', a)\n",
    "print('type of a: ', type(a))"
   ]
  },
  {
   "cell_type": "code",
   "execution_count": 22,
   "metadata": {
    "ExecuteTime": {
     "end_time": "2022-01-10T04:22:31.166635Z",
     "start_time": "2022-01-10T04:22:31.155059Z"
    },
    "scrolled": true
   },
   "outputs": [
    {
     "name": "stdout",
     "output_type": "stream",
     "text": [
      "b =  MCI Python\n",
      "level 1\n",
      "type of b:  <class 'str'>\n"
     ]
    }
   ],
   "source": [
    "b = \"\"\"MCI Python\n",
    "level 1\"\"\"\n",
    "print('b = ', b)\n",
    "print('type of b: ', type(b))"
   ]
  },
  {
   "cell_type": "markdown",
   "metadata": {},
   "source": [
    "#### Get the String length\n",
    "We can get length of the string by using function `len()`"
   ]
  },
  {
   "cell_type": "code",
   "execution_count": 23,
   "metadata": {
    "ExecuteTime": {
     "end_time": "2022-01-10T04:22:31.166635Z",
     "start_time": "2022-01-10T04:22:31.155059Z"
    },
    "scrolled": true
   },
   "outputs": [
    {
     "name": "stdout",
     "output_type": "stream",
     "text": [
      "a =  this is a string in Python\n",
      "len of a:  26\n"
     ]
    }
   ],
   "source": [
    "a = 'this is a string in Python'\n",
    "print('a = ', a)\n",
    "print('len of a: ', len(a))"
   ]
  },
  {
   "cell_type": "markdown",
   "metadata": {},
   "source": [
    "#### Slice and Index the String\n",
    "We can access every character in a string by its `index` (`index` means the position, from 0 to the length - 1)."
   ]
  },
  {
   "cell_type": "code",
   "execution_count": 24,
   "metadata": {},
   "outputs": [
    {
     "name": "stdout",
     "output_type": "stream",
     "text": [
      "MCI Python level 1\n",
      "18\n"
     ]
    }
   ],
   "source": [
    "a = 'MCI Python level 1'\n",
    "print(a)\n",
    "print(len(a))"
   ]
  },
  {
   "cell_type": "code",
   "execution_count": 25,
   "metadata": {},
   "outputs": [
    {
     "name": "stdout",
     "output_type": "stream",
     "text": [
      "M\n"
     ]
    }
   ],
   "source": [
    "print(a[0])"
   ]
  },
  {
   "cell_type": "code",
   "execution_count": 26,
   "metadata": {},
   "outputs": [
    {
     "name": "stdout",
     "output_type": "stream",
     "text": [
      "C\n"
     ]
    }
   ],
   "source": [
    "print(a[1])"
   ]
  },
  {
   "cell_type": "code",
   "execution_count": 27,
   "metadata": {},
   "outputs": [
    {
     "name": "stdout",
     "output_type": "stream",
     "text": [
      " \n"
     ]
    }
   ],
   "source": [
    "print(a[10])"
   ]
  },
  {
   "cell_type": "code",
   "execution_count": 28,
   "metadata": {},
   "outputs": [
    {
     "name": "stdout",
     "output_type": "stream",
     "text": [
      "1\n"
     ]
    }
   ],
   "source": [
    "print(a[17])"
   ]
  },
  {
   "cell_type": "markdown",
   "metadata": {},
   "source": [
    "We can use negative index to access character from the end of a string"
   ]
  },
  {
   "cell_type": "code",
   "execution_count": 29,
   "metadata": {},
   "outputs": [
    {
     "name": "stdout",
     "output_type": "stream",
     "text": [
      "MCI Python level 1\n",
      "18\n"
     ]
    }
   ],
   "source": [
    "a = 'MCI Python level 1'\n",
    "print(a)\n",
    "print(len(a))"
   ]
  },
  {
   "cell_type": "code",
   "execution_count": 30,
   "metadata": {},
   "outputs": [
    {
     "name": "stdout",
     "output_type": "stream",
     "text": [
      "1\n"
     ]
    }
   ],
   "source": [
    "print(a[-1])"
   ]
  },
  {
   "cell_type": "code",
   "execution_count": 31,
   "metadata": {},
   "outputs": [
    {
     "name": "stdout",
     "output_type": "stream",
     "text": [
      " \n"
     ]
    }
   ],
   "source": [
    "print(a[-2])"
   ]
  },
  {
   "cell_type": "code",
   "execution_count": 32,
   "metadata": {},
   "outputs": [
    {
     "name": "stdout",
     "output_type": "stream",
     "text": [
      "o\n"
     ]
    }
   ],
   "source": [
    "print(a[-10])"
   ]
  },
  {
   "cell_type": "code",
   "execution_count": 33,
   "metadata": {},
   "outputs": [
    {
     "name": "stdout",
     "output_type": "stream",
     "text": [
      "M\n"
     ]
    }
   ],
   "source": [
    "print(a[-18])"
   ]
  },
  {
   "cell_type": "markdown",
   "metadata": {},
   "source": [
    "We can slice a part of a string by using `index` and `:`"
   ]
  },
  {
   "cell_type": "code",
   "execution_count": 34,
   "metadata": {},
   "outputs": [
    {
     "name": "stdout",
     "output_type": "stream",
     "text": [
      "MCI Python level 1\n",
      "18\n"
     ]
    }
   ],
   "source": [
    "a = 'MCI Python level 1'\n",
    "print(a)\n",
    "print(len(a))"
   ]
  },
  {
   "cell_type": "code",
   "execution_count": 35,
   "metadata": {
    "scrolled": true
   },
   "outputs": [
    {
     "name": "stdout",
     "output_type": "stream",
     "text": [
      "MCI\n"
     ]
    }
   ],
   "source": [
    "print(a[0:3])"
   ]
  },
  {
   "cell_type": "code",
   "execution_count": 36,
   "metadata": {
    "scrolled": true
   },
   "outputs": [
    {
     "name": "stdout",
     "output_type": "stream",
     "text": [
      "Python\n"
     ]
    }
   ],
   "source": [
    "print(a[4:10])"
   ]
  },
  {
   "cell_type": "code",
   "execution_count": 37,
   "metadata": {},
   "outputs": [
    {
     "name": "stdout",
     "output_type": "stream",
     "text": [
      "level \n"
     ]
    }
   ],
   "source": [
    "print(a[-7:-1])"
   ]
  },
  {
   "cell_type": "code",
   "execution_count": 38,
   "metadata": {},
   "outputs": [
    {
     "name": "stdout",
     "output_type": "stream",
     "text": [
      "MCI Python\n"
     ]
    }
   ],
   "source": [
    "print(a[:10])"
   ]
  },
  {
   "cell_type": "code",
   "execution_count": 39,
   "metadata": {},
   "outputs": [
    {
     "name": "stdout",
     "output_type": "stream",
     "text": [
      "level 1\n"
     ]
    }
   ],
   "source": [
    "print(a[-7:])"
   ]
  },
  {
   "cell_type": "markdown",
   "metadata": {},
   "source": [
    "We use only integer as index of a string (not float, not string)"
   ]
  },
  {
   "cell_type": "code",
   "execution_count": 40,
   "metadata": {},
   "outputs": [
    {
     "ename": "TypeError",
     "evalue": "string indices must be integers",
     "output_type": "error",
     "traceback": [
      "\u001b[0;31m---------------------------------------------------------------------------\u001b[0m",
      "\u001b[0;31mTypeError\u001b[0m                                 Traceback (most recent call last)",
      "\u001b[0;32m<ipython-input-40-131ef13a6327>\u001b[0m in \u001b[0;36m<module>\u001b[0;34m\u001b[0m\n\u001b[0;32m----> 1\u001b[0;31m \u001b[0mprint\u001b[0m\u001b[0;34m(\u001b[0m\u001b[0ma\u001b[0m\u001b[0;34m[\u001b[0m\u001b[0;36m1.\u001b[0m\u001b[0;34m]\u001b[0m\u001b[0;34m)\u001b[0m\u001b[0;34m\u001b[0m\u001b[0;34m\u001b[0m\u001b[0m\n\u001b[0m",
      "\u001b[0;31mTypeError\u001b[0m: string indices must be integers"
     ]
    }
   ],
   "source": [
    "print(a[1.])"
   ]
  },
  {
   "cell_type": "code",
   "execution_count": 41,
   "metadata": {},
   "outputs": [
    {
     "ename": "TypeError",
     "evalue": "string indices must be integers",
     "output_type": "error",
     "traceback": [
      "\u001b[0;31m---------------------------------------------------------------------------\u001b[0m",
      "\u001b[0;31mTypeError\u001b[0m                                 Traceback (most recent call last)",
      "\u001b[0;32m<ipython-input-41-b67e9b4cfda0>\u001b[0m in \u001b[0;36m<module>\u001b[0;34m\u001b[0m\n\u001b[0;32m----> 1\u001b[0;31m \u001b[0mprint\u001b[0m\u001b[0;34m(\u001b[0m\u001b[0ma\u001b[0m\u001b[0;34m[\u001b[0m\u001b[0;34m'1'\u001b[0m\u001b[0;34m]\u001b[0m\u001b[0;34m)\u001b[0m\u001b[0;34m\u001b[0m\u001b[0;34m\u001b[0m\u001b[0m\n\u001b[0m",
      "\u001b[0;31mTypeError\u001b[0m: string indices must be integers"
     ]
    }
   ],
   "source": [
    "print(a['1'])"
   ]
  },
  {
   "cell_type": "markdown",
   "metadata": {},
   "source": [
    "#### Functions to modify string\n",
    "Function `upper()` makes all character become upper-case."
   ]
  },
  {
   "cell_type": "code",
   "execution_count": 42,
   "metadata": {},
   "outputs": [
    {
     "name": "stdout",
     "output_type": "stream",
     "text": [
      "MCI Python level 1\n"
     ]
    }
   ],
   "source": [
    "print(a)"
   ]
  },
  {
   "cell_type": "code",
   "execution_count": 43,
   "metadata": {},
   "outputs": [
    {
     "name": "stdout",
     "output_type": "stream",
     "text": [
      "MCI PYTHON LEVEL 1\n"
     ]
    }
   ],
   "source": [
    "a_upper = a.upper()\n",
    "print(a_upper)"
   ]
  },
  {
   "cell_type": "markdown",
   "metadata": {},
   "source": [
    "Function `lower()` makes all character become lower-case."
   ]
  },
  {
   "cell_type": "code",
   "execution_count": 44,
   "metadata": {},
   "outputs": [
    {
     "name": "stdout",
     "output_type": "stream",
     "text": [
      "MCI Python level 1\n"
     ]
    }
   ],
   "source": [
    "print(a)"
   ]
  },
  {
   "cell_type": "code",
   "execution_count": 45,
   "metadata": {},
   "outputs": [
    {
     "name": "stdout",
     "output_type": "stream",
     "text": [
      "mci python level 1\n"
     ]
    }
   ],
   "source": [
    "a_lower = a.lower()\n",
    "print(a_lower)"
   ]
  },
  {
   "cell_type": "markdown",
   "metadata": {},
   "source": [
    "Function `replace()` replaces a sub-string by a new string."
   ]
  },
  {
   "cell_type": "code",
   "execution_count": 46,
   "metadata": {},
   "outputs": [
    {
     "name": "stdout",
     "output_type": "stream",
     "text": [
      "MCI Python level 1\n"
     ]
    }
   ],
   "source": [
    "print(a)"
   ]
  },
  {
   "cell_type": "code",
   "execution_count": 47,
   "metadata": {},
   "outputs": [
    {
     "name": "stdout",
     "output_type": "stream",
     "text": [
      "MCI Excel level 1\n"
     ]
    }
   ],
   "source": [
    "a_replace = a.replace('Python', 'Excel')\n",
    "print(a_replace)"
   ]
  },
  {
   "cell_type": "markdown",
   "metadata": {},
   "source": [
    "Function `split()` splits an original string into a list of sub-string by a string."
   ]
  },
  {
   "cell_type": "code",
   "execution_count": 48,
   "metadata": {},
   "outputs": [
    {
     "name": "stdout",
     "output_type": "stream",
     "text": [
      "MCI Python level 1\n"
     ]
    }
   ],
   "source": [
    "print(a)"
   ]
  },
  {
   "cell_type": "code",
   "execution_count": 49,
   "metadata": {},
   "outputs": [
    {
     "name": "stdout",
     "output_type": "stream",
     "text": [
      "['MCI', 'Python', 'level', '1']\n"
     ]
    }
   ],
   "source": [
    "a_split_1 = a.split(' ')\n",
    "print(a_split_1)"
   ]
  },
  {
   "cell_type": "code",
   "execution_count": 50,
   "metadata": {},
   "outputs": [
    {
     "name": "stdout",
     "output_type": "stream",
     "text": [
      "['MCI Python l', 'v', 'l 1']\n"
     ]
    }
   ],
   "source": [
    "a_split_2 = a.split('e')\n",
    "print(a_split_2)"
   ]
  },
  {
   "cell_type": "markdown",
   "metadata": {},
   "source": [
    "#### String format\n",
    "We can combine other data type variable to print out with string format.<br>\n",
    "Use simple `format()` function:"
   ]
  },
  {
   "cell_type": "code",
   "execution_count": 51,
   "metadata": {},
   "outputs": [
    {
     "name": "stdout",
     "output_type": "stream",
     "text": [
      "MCI Python level 1\n"
     ]
    }
   ],
   "source": [
    "level = 1\n",
    "\n",
    "a = 'MCI Python level {}'.format(level)\n",
    "print(a)"
   ]
  },
  {
   "cell_type": "code",
   "execution_count": 52,
   "metadata": {},
   "outputs": [
    {
     "name": "stdout",
     "output_type": "stream",
     "text": [
      "MCI Python level 1\n"
     ]
    }
   ],
   "source": [
    "level = 1\n",
    "course = 'Python'\n",
    "\n",
    "a = 'MCI {} level {}'.format(course, level)\n",
    "print(a)"
   ]
  },
  {
   "cell_type": "markdown",
   "metadata": {},
   "source": [
    "Use `format()` function with the index:"
   ]
  },
  {
   "cell_type": "code",
   "execution_count": 53,
   "metadata": {},
   "outputs": [],
   "source": [
    "num_1 = 15\n",
    "num_2 = 4"
   ]
  },
  {
   "cell_type": "code",
   "execution_count": 54,
   "metadata": {},
   "outputs": [
    {
     "name": "stdout",
     "output_type": "stream",
     "text": [
      "Sum of 15 and 4 is equal to 19\n"
     ]
    }
   ],
   "source": [
    "a = 'Sum of {} and {} is equal to {}'.format(num_1, num_2, num_1 + num_2)\n",
    "print(a)"
   ]
  },
  {
   "cell_type": "code",
   "execution_count": 55,
   "metadata": {},
   "outputs": [
    {
     "name": "stdout",
     "output_type": "stream",
     "text": [
      "Sum of 15 and 4 is equal to 19\n"
     ]
    }
   ],
   "source": [
    "a = 'Sum of {0} and {1} is equal to {2}'.format(num_1, num_2, num_1 + num_2)\n",
    "print(a)"
   ]
  },
  {
   "cell_type": "code",
   "execution_count": 56,
   "metadata": {},
   "outputs": [
    {
     "name": "stdout",
     "output_type": "stream",
     "text": [
      "Sum of 15 and 4 is equal to 19\n"
     ]
    }
   ],
   "source": [
    "a = 'Sum of {1} and {2} is equal to {0}'.format(num_1 + num_2, num_1, num_2)\n",
    "print(a)"
   ]
  },
  {
   "cell_type": "markdown",
   "metadata": {},
   "source": [
    "From Python 3.6, we can use `f-string` instead of `format()`"
   ]
  },
  {
   "cell_type": "code",
   "execution_count": 57,
   "metadata": {},
   "outputs": [
    {
     "name": "stdout",
     "output_type": "stream",
     "text": [
      "Sum of 15 and 4 is equal to 19\n"
     ]
    }
   ],
   "source": [
    "a = f'Sum of {num_1} and {num_2} is equal to {num_1 + num_2}'\n",
    "print(a)"
   ]
  },
  {
   "cell_type": "markdown",
   "metadata": {
    "tags": []
   },
   "source": [
    "### 5.5. Sequence type: List\n",
    "List is data type which contains lots of variables, variables in list can be in different data types (including another list).\n",
    "#### Define a List\n",
    "To define a list, we use `[` and `]` bracket."
   ]
  },
  {
   "cell_type": "code",
   "execution_count": 58,
   "metadata": {
    "ExecuteTime": {
     "end_time": "2021-12-29T06:18:57.930775Z",
     "start_time": "2021-12-29T06:18:57.911290Z"
    }
   },
   "outputs": [
    {
     "name": "stdout",
     "output_type": "stream",
     "text": [
      "u =  [1, 2.5, 3, 'stringgg', -20, 'Minh']\n",
      "type of u:  <class 'list'>\n"
     ]
    }
   ],
   "source": [
    "u = [1, 2.5, 3, 'stringgg', -20, 'Minh']\n",
    "print('u = ', u)\n",
    "print('type of u: ', type(u))"
   ]
  },
  {
   "cell_type": "code",
   "execution_count": 59,
   "metadata": {},
   "outputs": [
    {
     "name": "stdout",
     "output_type": "stream",
     "text": [
      "v =  [1.504, ['MCI', 3], 'Python', True]\n",
      "type of v:  <class 'list'>\n"
     ]
    }
   ],
   "source": [
    "v = [1.504, ['MCI', 3], 'Python', True]\n",
    "print('v = ', v)\n",
    "print('type of v: ', type(v))"
   ]
  },
  {
   "cell_type": "markdown",
   "metadata": {},
   "source": [
    "#### Get the List length\n",
    "Like String, we use function `len()` to get the length of a list."
   ]
  },
  {
   "cell_type": "code",
   "execution_count": 60,
   "metadata": {},
   "outputs": [
    {
     "name": "stdout",
     "output_type": "stream",
     "text": [
      "6\n"
     ]
    }
   ],
   "source": [
    "print(len(u))"
   ]
  },
  {
   "cell_type": "code",
   "execution_count": 61,
   "metadata": {},
   "outputs": [
    {
     "name": "stdout",
     "output_type": "stream",
     "text": [
      "4\n"
     ]
    }
   ],
   "source": [
    "print(len(v))"
   ]
  },
  {
   "cell_type": "markdown",
   "metadata": {},
   "source": [
    "#### Slide and Index the List\n",
    "We can access every character in a list by its `index` (`index` means the position, from 0 to the length - 1)."
   ]
  },
  {
   "cell_type": "code",
   "execution_count": 62,
   "metadata": {},
   "outputs": [
    {
     "name": "stdout",
     "output_type": "stream",
     "text": [
      "[1, 2.5, 3, 'stringgg', -20, 'Minh']\n",
      "6\n"
     ]
    }
   ],
   "source": [
    "print(u)\n",
    "print(len(u))"
   ]
  },
  {
   "cell_type": "code",
   "execution_count": 63,
   "metadata": {
    "ExecuteTime": {
     "end_time": "2021-12-29T06:18:57.930775Z",
     "start_time": "2021-12-29T06:18:57.911290Z"
    }
   },
   "outputs": [
    {
     "name": "stdout",
     "output_type": "stream",
     "text": [
      "1\n"
     ]
    }
   ],
   "source": [
    "print(u[0])"
   ]
  },
  {
   "cell_type": "code",
   "execution_count": 64,
   "metadata": {
    "ExecuteTime": {
     "end_time": "2021-12-29T06:18:57.930775Z",
     "start_time": "2021-12-29T06:18:57.911290Z"
    }
   },
   "outputs": [
    {
     "name": "stdout",
     "output_type": "stream",
     "text": [
      "3\n"
     ]
    }
   ],
   "source": [
    "print(u[2])"
   ]
  },
  {
   "cell_type": "code",
   "execution_count": 65,
   "metadata": {},
   "outputs": [
    {
     "name": "stdout",
     "output_type": "stream",
     "text": [
      "[1.504, ['MCI', 3], 'Python', True]\n",
      "4\n"
     ]
    }
   ],
   "source": [
    "print(v)\n",
    "print(len(v))"
   ]
  },
  {
   "cell_type": "code",
   "execution_count": 66,
   "metadata": {
    "ExecuteTime": {
     "end_time": "2021-12-29T06:18:57.930775Z",
     "start_time": "2021-12-29T06:18:57.911290Z"
    }
   },
   "outputs": [
    {
     "name": "stdout",
     "output_type": "stream",
     "text": [
      "['MCI', 3]\n"
     ]
    }
   ],
   "source": [
    "print(v[1])"
   ]
  },
  {
   "cell_type": "code",
   "execution_count": 67,
   "metadata": {
    "ExecuteTime": {
     "end_time": "2021-12-29T06:18:57.930775Z",
     "start_time": "2021-12-29T06:18:57.911290Z"
    }
   },
   "outputs": [
    {
     "name": "stdout",
     "output_type": "stream",
     "text": [
      "Python\n"
     ]
    }
   ],
   "source": [
    "print(v[2])"
   ]
  },
  {
   "cell_type": "markdown",
   "metadata": {},
   "source": [
    "We can use negative index to access character from the end of a list"
   ]
  },
  {
   "cell_type": "code",
   "execution_count": 68,
   "metadata": {},
   "outputs": [
    {
     "name": "stdout",
     "output_type": "stream",
     "text": [
      "[1, 2.5, 3, 'stringgg', -20, 'Minh']\n"
     ]
    }
   ],
   "source": [
    "print(u)"
   ]
  },
  {
   "cell_type": "code",
   "execution_count": 69,
   "metadata": {},
   "outputs": [
    {
     "name": "stdout",
     "output_type": "stream",
     "text": [
      "Minh\n"
     ]
    }
   ],
   "source": [
    "print(u[-1])"
   ]
  },
  {
   "cell_type": "code",
   "execution_count": 70,
   "metadata": {},
   "outputs": [
    {
     "name": "stdout",
     "output_type": "stream",
     "text": [
      "stringgg\n"
     ]
    }
   ],
   "source": [
    "print(u[-3])"
   ]
  },
  {
   "cell_type": "code",
   "execution_count": 71,
   "metadata": {},
   "outputs": [
    {
     "name": "stdout",
     "output_type": "stream",
     "text": [
      "[1.504, ['MCI', 3], 'Python', True]\n"
     ]
    }
   ],
   "source": [
    "print(v)"
   ]
  },
  {
   "cell_type": "code",
   "execution_count": 72,
   "metadata": {},
   "outputs": [
    {
     "name": "stdout",
     "output_type": "stream",
     "text": [
      "Python\n"
     ]
    }
   ],
   "source": [
    "print(v[-2])"
   ]
  },
  {
   "cell_type": "code",
   "execution_count": 73,
   "metadata": {},
   "outputs": [
    {
     "name": "stdout",
     "output_type": "stream",
     "text": [
      "['MCI', 3]\n"
     ]
    }
   ],
   "source": [
    "print(v[-3])"
   ]
  },
  {
   "cell_type": "markdown",
   "metadata": {},
   "source": [
    "We can slice a part of a list by using `index` and `:`"
   ]
  },
  {
   "cell_type": "code",
   "execution_count": 74,
   "metadata": {},
   "outputs": [
    {
     "name": "stdout",
     "output_type": "stream",
     "text": [
      "[1, 2.5, 3, 'stringgg', -20, 'Minh']\n",
      "6\n"
     ]
    }
   ],
   "source": [
    "print(u)\n",
    "print(len(u))"
   ]
  },
  {
   "cell_type": "code",
   "execution_count": 75,
   "metadata": {
    "scrolled": true
   },
   "outputs": [
    {
     "name": "stdout",
     "output_type": "stream",
     "text": [
      "[1, 2.5, 3, 'stringgg']\n"
     ]
    }
   ],
   "source": [
    "print(u[0:4])"
   ]
  },
  {
   "cell_type": "code",
   "execution_count": 76,
   "metadata": {
    "scrolled": true
   },
   "outputs": [
    {
     "name": "stdout",
     "output_type": "stream",
     "text": [
      "[3, 'stringgg', -20, 'Minh']\n"
     ]
    }
   ],
   "source": [
    "print(u[2:6])"
   ]
  },
  {
   "cell_type": "code",
   "execution_count": 77,
   "metadata": {},
   "outputs": [
    {
     "name": "stdout",
     "output_type": "stream",
     "text": [
      "[3, 'stringgg', -20]\n"
     ]
    }
   ],
   "source": [
    "print(u[-4:-1])"
   ]
  },
  {
   "cell_type": "code",
   "execution_count": 78,
   "metadata": {},
   "outputs": [
    {
     "name": "stdout",
     "output_type": "stream",
     "text": [
      "[1, 2.5, 3, 'stringgg']\n"
     ]
    }
   ],
   "source": [
    "print(u[:4])"
   ]
  },
  {
   "cell_type": "code",
   "execution_count": 79,
   "metadata": {},
   "outputs": [
    {
     "name": "stdout",
     "output_type": "stream",
     "text": [
      "['stringgg', -20, 'Minh']\n"
     ]
    }
   ],
   "source": [
    "print(u[-3:])"
   ]
  },
  {
   "cell_type": "markdown",
   "metadata": {},
   "source": [
    "We use only integer as index of a list (not float, not string)."
   ]
  },
  {
   "cell_type": "code",
   "execution_count": 80,
   "metadata": {
    "ExecuteTime": {
     "end_time": "2021-12-29T06:18:58.282860Z",
     "start_time": "2021-12-29T06:18:57.937700Z"
    }
   },
   "outputs": [
    {
     "ename": "TypeError",
     "evalue": "list indices must be integers or slices, not float",
     "output_type": "error",
     "traceback": [
      "\u001b[0;31m---------------------------------------------------------------------------\u001b[0m",
      "\u001b[0;31mTypeError\u001b[0m                                 Traceback (most recent call last)",
      "\u001b[0;32m<ipython-input-80-254126a5ba71>\u001b[0m in \u001b[0;36m<module>\u001b[0;34m\u001b[0m\n\u001b[0;32m----> 1\u001b[0;31m \u001b[0mprint\u001b[0m\u001b[0;34m(\u001b[0m\u001b[0mu\u001b[0m\u001b[0;34m[\u001b[0m\u001b[0;36m1.\u001b[0m\u001b[0;34m]\u001b[0m\u001b[0;34m)\u001b[0m\u001b[0;34m\u001b[0m\u001b[0;34m\u001b[0m\u001b[0m\n\u001b[0m",
      "\u001b[0;31mTypeError\u001b[0m: list indices must be integers or slices, not float"
     ]
    }
   ],
   "source": [
    "print(u[1.])"
   ]
  },
  {
   "cell_type": "code",
   "execution_count": 81,
   "metadata": {
    "ExecuteTime": {
     "end_time": "2021-12-29T06:19:08.875619Z",
     "start_time": "2021-12-29T06:19:08.842394Z"
    }
   },
   "outputs": [
    {
     "ename": "TypeError",
     "evalue": "list indices must be integers or slices, not str",
     "output_type": "error",
     "traceback": [
      "\u001b[0;31m---------------------------------------------------------------------------\u001b[0m",
      "\u001b[0;31mTypeError\u001b[0m                                 Traceback (most recent call last)",
      "\u001b[0;32m<ipython-input-81-d8836870ff35>\u001b[0m in \u001b[0;36m<module>\u001b[0;34m\u001b[0m\n\u001b[0;32m----> 1\u001b[0;31m \u001b[0mprint\u001b[0m\u001b[0;34m(\u001b[0m\u001b[0mu\u001b[0m\u001b[0;34m[\u001b[0m\u001b[0;34m'1'\u001b[0m\u001b[0;34m]\u001b[0m\u001b[0;34m)\u001b[0m\u001b[0;34m\u001b[0m\u001b[0;34m\u001b[0m\u001b[0m\n\u001b[0m",
      "\u001b[0;31mTypeError\u001b[0m: list indices must be integers or slices, not str"
     ]
    }
   ],
   "source": [
    "print(u['1'])"
   ]
  },
  {
   "cell_type": "markdown",
   "metadata": {},
   "source": [
    "#### Change the value of elements in List\n",
    "Change single value"
   ]
  },
  {
   "cell_type": "code",
   "execution_count": 82,
   "metadata": {
    "ExecuteTime": {
     "end_time": "2021-12-29T06:19:12.030398Z",
     "start_time": "2021-12-29T06:19:12.023229Z"
    }
   },
   "outputs": [
    {
     "name": "stdout",
     "output_type": "stream",
     "text": [
      "List before re-assigning:\n",
      "[1, 2.5, 3, 'stringgg', -20, 'Minh']\n"
     ]
    }
   ],
   "source": [
    "print('List before re-assigning:')\n",
    "print(u)"
   ]
  },
  {
   "cell_type": "code",
   "execution_count": 83,
   "metadata": {
    "ExecuteTime": {
     "end_time": "2021-12-29T06:19:12.030398Z",
     "start_time": "2021-12-29T06:19:12.023229Z"
    }
   },
   "outputs": [
    {
     "name": "stdout",
     "output_type": "stream",
     "text": [
      "List after re-assigning:\n",
      "['change the first value', 2.5, 3, 'stringgg', -20, 'Minh']\n"
     ]
    }
   ],
   "source": [
    "u[0] = 'change the first value'\n",
    "\n",
    "print('List after re-assigning:')\n",
    "print(u)"
   ]
  },
  {
   "cell_type": "markdown",
   "metadata": {},
   "source": [
    "Change multiple value"
   ]
  },
  {
   "cell_type": "code",
   "execution_count": 84,
   "metadata": {},
   "outputs": [
    {
     "name": "stdout",
     "output_type": "stream",
     "text": [
      "List before re-assigning:\n",
      "[1.504, ['MCI', 3], 'Python', True]\n"
     ]
    }
   ],
   "source": [
    "print('List before re-assigning:')\n",
    "print(v)"
   ]
  },
  {
   "cell_type": "code",
   "execution_count": 85,
   "metadata": {},
   "outputs": [
    {
     "name": "stdout",
     "output_type": "stream",
     "text": [
      "List after re-assigning:\n",
      "[1.504, ['MCI', 3], 'change value', 'value changed']\n"
     ]
    }
   ],
   "source": [
    "v[2:] = ['change value', 'value changed']\n",
    "\n",
    "print('List after re-assigning:')\n",
    "print(v)"
   ]
  },
  {
   "cell_type": "markdown",
   "metadata": {},
   "source": [
    "#### Functions to modify List\n",
    "Function `append()` used to add an element to the last position of a list."
   ]
  },
  {
   "cell_type": "code",
   "execution_count": 86,
   "metadata": {},
   "outputs": [
    {
     "name": "stdout",
     "output_type": "stream",
     "text": [
      "['change the first value', 2.5, 3, 'stringgg', -20, 'Minh']\n",
      "6\n"
     ]
    }
   ],
   "source": [
    "print(u)\n",
    "print(len(u))"
   ]
  },
  {
   "cell_type": "code",
   "execution_count": 87,
   "metadata": {},
   "outputs": [
    {
     "name": "stdout",
     "output_type": "stream",
     "text": [
      "['change the first value', 2.5, 3, 'stringgg', -20, 'Minh', 'appended item']\n",
      "7\n"
     ]
    }
   ],
   "source": [
    "u.append('appended item')\n",
    "\n",
    "print(u)\n",
    "print(len(u))"
   ]
  },
  {
   "cell_type": "markdown",
   "metadata": {},
   "source": [
    "Function `insert()` used to add an element to the specific position of a list."
   ]
  },
  {
   "cell_type": "code",
   "execution_count": 88,
   "metadata": {},
   "outputs": [
    {
     "name": "stdout",
     "output_type": "stream",
     "text": [
      "['change the first value', 2.5, 3, 'stringgg', -20, 'Minh', 'appended item']\n",
      "7\n"
     ]
    }
   ],
   "source": [
    "print(u)\n",
    "print(len(u))"
   ]
  },
  {
   "cell_type": "code",
   "execution_count": 89,
   "metadata": {},
   "outputs": [
    {
     "name": "stdout",
     "output_type": "stream",
     "text": [
      "['change the first value', 'inserted item', 2.5, 3, 'stringgg', -20, 'Minh', 'appended item']\n",
      "8\n"
     ]
    }
   ],
   "source": [
    "u.insert(1, 'inserted item')\n",
    "\n",
    "print(u)\n",
    "print(len(u))"
   ]
  },
  {
   "cell_type": "markdown",
   "metadata": {},
   "source": [
    "Function `extend()` used to concatenate another list to the original list."
   ]
  },
  {
   "cell_type": "code",
   "execution_count": 90,
   "metadata": {},
   "outputs": [
    {
     "name": "stdout",
     "output_type": "stream",
     "text": [
      "['change the first value', 'inserted item', 2.5, 3, 'stringgg', -20, 'Minh', 'appended item']\n",
      "8\n"
     ]
    }
   ],
   "source": [
    "print(u)\n",
    "print(len(u))"
   ]
  },
  {
   "cell_type": "code",
   "execution_count": 91,
   "metadata": {},
   "outputs": [
    {
     "name": "stdout",
     "output_type": "stream",
     "text": [
      "[1.504, ['MCI', 3], 'change value', 'value changed']\n",
      "4\n"
     ]
    }
   ],
   "source": [
    "print(v)\n",
    "print(len(v))"
   ]
  },
  {
   "cell_type": "code",
   "execution_count": 92,
   "metadata": {},
   "outputs": [
    {
     "name": "stdout",
     "output_type": "stream",
     "text": [
      "['change the first value', 'inserted item', 2.5, 3, 'stringgg', -20, 'Minh', 'appended item', 1.504, ['MCI', 3], 'change value', 'value changed']\n",
      "12\n"
     ]
    }
   ],
   "source": [
    "u.extend(v)\n",
    "\n",
    "print(u)\n",
    "print(len(u))"
   ]
  },
  {
   "cell_type": "markdown",
   "metadata": {},
   "source": [
    "Function `remove()` used to remove the specific item in a list."
   ]
  },
  {
   "cell_type": "code",
   "execution_count": 93,
   "metadata": {},
   "outputs": [
    {
     "name": "stdout",
     "output_type": "stream",
     "text": [
      "['change the first value', 'inserted item', 2.5, 3, 'stringgg', -20, 'Minh', 'appended item', 1.504, ['MCI', 3], 'change value', 'value changed']\n",
      "12\n"
     ]
    }
   ],
   "source": [
    "print(u)\n",
    "print(len(u))"
   ]
  },
  {
   "cell_type": "code",
   "execution_count": 94,
   "metadata": {},
   "outputs": [
    {
     "name": "stdout",
     "output_type": "stream",
     "text": [
      "['change the first value', 'inserted item', 3, 'stringgg', -20, 'Minh', 'appended item', 1.504, ['MCI', 3], 'change value', 'value changed']\n",
      "11\n"
     ]
    }
   ],
   "source": [
    "u.remove(2.5)\n",
    "\n",
    "print(u)\n",
    "print(len(u))"
   ]
  },
  {
   "cell_type": "code",
   "execution_count": 95,
   "metadata": {},
   "outputs": [
    {
     "name": "stdout",
     "output_type": "stream",
     "text": [
      "['change the first value', 'inserted item', 3, 'stringgg', -20, 'Minh', 'appended item', 1.504, ['MCI', 3], 'value changed']\n",
      "10\n"
     ]
    }
   ],
   "source": [
    "u.remove('change value')\n",
    "\n",
    "print(u)\n",
    "print(len(u))"
   ]
  },
  {
   "cell_type": "markdown",
   "metadata": {},
   "source": [
    "Function `pop()` used to remove the specific item in a list by its index."
   ]
  },
  {
   "cell_type": "code",
   "execution_count": 96,
   "metadata": {},
   "outputs": [
    {
     "name": "stdout",
     "output_type": "stream",
     "text": [
      "['change the first value', 'inserted item', 3, 'stringgg', -20, 'Minh', 'appended item', 1.504, ['MCI', 3], 'value changed']\n",
      "10\n"
     ]
    }
   ],
   "source": [
    "print(u)\n",
    "print(len(u))"
   ]
  },
  {
   "cell_type": "code",
   "execution_count": 97,
   "metadata": {},
   "outputs": [
    {
     "name": "stdout",
     "output_type": "stream",
     "text": [
      "['change the first value', 3, 'stringgg', -20, 'Minh', 'appended item', 1.504, ['MCI', 3], 'value changed']\n",
      "9\n"
     ]
    }
   ],
   "source": [
    "u.pop(1)\n",
    "\n",
    "print(u)\n",
    "print(len(u))"
   ]
  },
  {
   "cell_type": "code",
   "execution_count": 98,
   "metadata": {},
   "outputs": [
    {
     "name": "stdout",
     "output_type": "stream",
     "text": [
      "['change the first value', 'stringgg', -20, 'Minh', 'appended item', 1.504, ['MCI', 3], 'value changed']\n",
      "8\n"
     ]
    }
   ],
   "source": [
    "u.pop(1)\n",
    "\n",
    "print(u)\n",
    "print(len(u))"
   ]
  },
  {
   "cell_type": "markdown",
   "metadata": {},
   "source": [
    "Function `clear()` used to remove all elements in a list."
   ]
  },
  {
   "cell_type": "code",
   "execution_count": 99,
   "metadata": {},
   "outputs": [
    {
     "name": "stdout",
     "output_type": "stream",
     "text": [
      "['change the first value', 'stringgg', -20, 'Minh', 'appended item', 1.504, ['MCI', 3], 'value changed']\n",
      "8\n"
     ]
    }
   ],
   "source": [
    "print(u)\n",
    "print(len(u))"
   ]
  },
  {
   "cell_type": "code",
   "execution_count": 100,
   "metadata": {},
   "outputs": [
    {
     "name": "stdout",
     "output_type": "stream",
     "text": [
      "[]\n",
      "0\n"
     ]
    }
   ],
   "source": [
    "u.clear()\n",
    "\n",
    "print(u)\n",
    "print(len(u))"
   ]
  },
  {
   "cell_type": "markdown",
   "metadata": {},
   "source": [
    "Function `sort()` used to sort a list in a specific order. <br>\n",
    "With a list of string, this function will sort a list in alphabet. With a list of number, this function will sort a list ascendingly. <br>\n",
    "If we use `sort(reverse=True)`, the order will be reversed."
   ]
  },
  {
   "cell_type": "code",
   "execution_count": 101,
   "metadata": {},
   "outputs": [
    {
     "name": "stdout",
     "output_type": "stream",
     "text": [
      "['orange', 'mango', 'kiwi', 'pineapple', 'banana']\n"
     ]
    }
   ],
   "source": [
    "fruit_list = [\"orange\", \"mango\", \"kiwi\", \"pineapple\", \"banana\"]\n",
    "print(fruit_list)"
   ]
  },
  {
   "cell_type": "code",
   "execution_count": 102,
   "metadata": {},
   "outputs": [
    {
     "name": "stdout",
     "output_type": "stream",
     "text": [
      "['banana', 'kiwi', 'mango', 'orange', 'pineapple']\n"
     ]
    }
   ],
   "source": [
    "fruit_list.sort()\n",
    "print(fruit_list)"
   ]
  },
  {
   "cell_type": "code",
   "execution_count": 103,
   "metadata": {},
   "outputs": [
    {
     "name": "stdout",
     "output_type": "stream",
     "text": [
      "['pineapple', 'orange', 'mango', 'kiwi', 'banana']\n"
     ]
    }
   ],
   "source": [
    "fruit_list.sort(reverse=True)\n",
    "print(fruit_list)"
   ]
  },
  {
   "cell_type": "code",
   "execution_count": 104,
   "metadata": {},
   "outputs": [
    {
     "name": "stdout",
     "output_type": "stream",
     "text": [
      "[1, 8.0, 4.2, 3, 6]\n"
     ]
    }
   ],
   "source": [
    "number_list = [1, 8.0, 4.2, 3, 6]\n",
    "print(number_list)"
   ]
  },
  {
   "cell_type": "code",
   "execution_count": 105,
   "metadata": {},
   "outputs": [
    {
     "name": "stdout",
     "output_type": "stream",
     "text": [
      "[1, 3, 4.2, 6, 8.0]\n"
     ]
    }
   ],
   "source": [
    "number_list.sort()\n",
    "print(number_list)"
   ]
  },
  {
   "cell_type": "code",
   "execution_count": 106,
   "metadata": {},
   "outputs": [
    {
     "name": "stdout",
     "output_type": "stream",
     "text": [
      "[8.0, 6, 4.2, 3, 1]\n"
     ]
    }
   ],
   "source": [
    "number_list.sort(reverse=True)\n",
    "print(number_list)"
   ]
  },
  {
   "cell_type": "markdown",
   "metadata": {
    "tags": []
   },
   "source": [
    "### 5.6. Sequence type: Tuple\n",
    "Tuple is data type which contains lots of variables, variables in tuple can be in different data types (including another tuple).\n",
    "#### Define a Tuple\n",
    "To define a tuple, we use `(` and `)` bracket. <br>\n",
    "To define a tuple with 1 item, we have to put a comma after this item. => this is one difference between `list` and `tuple`."
   ]
  },
  {
   "cell_type": "code",
   "execution_count": 107,
   "metadata": {
    "ExecuteTime": {
     "end_time": "2021-12-29T06:19:12.397228Z",
     "start_time": "2021-12-29T06:19:12.376397Z"
    },
    "tags": []
   },
   "outputs": [
    {
     "name": "stdout",
     "output_type": "stream",
     "text": [
      "g =  (1, 2.5, 3, 'stringgg')\n",
      "type of g:  <class 'tuple'>\n"
     ]
    }
   ],
   "source": [
    "g = (1, 2.5, 3, 'stringgg')\n",
    "\n",
    "print('g = ', g)\n",
    "print('type of g: ', type(g))"
   ]
  },
  {
   "cell_type": "code",
   "execution_count": 108,
   "metadata": {},
   "outputs": [
    {
     "name": "stdout",
     "output_type": "stream",
     "text": [
      "g_1 =  this is not a tuple\n",
      "type of g_1:  <class 'str'>\n"
     ]
    }
   ],
   "source": [
    "g_1 = ('this is not a tuple')\n",
    "\n",
    "print('g_1 = ', g_1)\n",
    "print('type of g_1: ', type(g_1))"
   ]
  },
  {
   "cell_type": "code",
   "execution_count": 109,
   "metadata": {},
   "outputs": [
    {
     "name": "stdout",
     "output_type": "stream",
     "text": [
      "g_2 =  ('this is a tuple',)\n",
      "type of g_2:  <class 'tuple'>\n"
     ]
    }
   ],
   "source": [
    "g_2 = ('this is a tuple',)\n",
    "\n",
    "print('g_2 = ', g_2)\n",
    "print('type of g_2: ', type(g_2))"
   ]
  },
  {
   "cell_type": "markdown",
   "metadata": {},
   "source": [
    "#### Get the Tuple length\n",
    "Like String and List, we use function `len()` to get the length of a tuple."
   ]
  },
  {
   "cell_type": "code",
   "execution_count": 110,
   "metadata": {},
   "outputs": [
    {
     "name": "stdout",
     "output_type": "stream",
     "text": [
      "4\n"
     ]
    }
   ],
   "source": [
    "print(len(g))"
   ]
  },
  {
   "cell_type": "code",
   "execution_count": 111,
   "metadata": {},
   "outputs": [
    {
     "name": "stdout",
     "output_type": "stream",
     "text": [
      "1\n"
     ]
    }
   ],
   "source": [
    "print(len(g_2))"
   ]
  },
  {
   "cell_type": "markdown",
   "metadata": {},
   "source": [
    "#### Slide and Index the Tuple\n",
    "We can access every character in a tuple by its `index` (`index` means the position, from 0 to the length - 1)."
   ]
  },
  {
   "cell_type": "code",
   "execution_count": 112,
   "metadata": {},
   "outputs": [
    {
     "name": "stdout",
     "output_type": "stream",
     "text": [
      "(1, 2.5, 3, 'stringgg')\n",
      "4\n"
     ]
    }
   ],
   "source": [
    "print(g)\n",
    "print(len(g))"
   ]
  },
  {
   "cell_type": "code",
   "execution_count": 113,
   "metadata": {
    "ExecuteTime": {
     "end_time": "2021-12-29T06:18:57.930775Z",
     "start_time": "2021-12-29T06:18:57.911290Z"
    }
   },
   "outputs": [
    {
     "name": "stdout",
     "output_type": "stream",
     "text": [
      "1\n"
     ]
    }
   ],
   "source": [
    "print(g[0])"
   ]
  },
  {
   "cell_type": "code",
   "execution_count": 114,
   "metadata": {
    "ExecuteTime": {
     "end_time": "2021-12-29T06:18:57.930775Z",
     "start_time": "2021-12-29T06:18:57.911290Z"
    }
   },
   "outputs": [
    {
     "name": "stdout",
     "output_type": "stream",
     "text": [
      "3\n"
     ]
    }
   ],
   "source": [
    "print(g[2])"
   ]
  },
  {
   "cell_type": "code",
   "execution_count": 115,
   "metadata": {
    "ExecuteTime": {
     "end_time": "2021-12-29T06:18:57.930775Z",
     "start_time": "2021-12-29T06:18:57.911290Z"
    }
   },
   "outputs": [
    {
     "name": "stdout",
     "output_type": "stream",
     "text": [
      "stringgg\n"
     ]
    }
   ],
   "source": [
    "print(g[3])"
   ]
  },
  {
   "cell_type": "markdown",
   "metadata": {},
   "source": [
    "We can use negative index to access character from the end of a tuple."
   ]
  },
  {
   "cell_type": "code",
   "execution_count": 116,
   "metadata": {},
   "outputs": [
    {
     "name": "stdout",
     "output_type": "stream",
     "text": [
      "(1, 2.5, 3, 'stringgg')\n"
     ]
    }
   ],
   "source": [
    "print(g)"
   ]
  },
  {
   "cell_type": "code",
   "execution_count": 117,
   "metadata": {},
   "outputs": [
    {
     "name": "stdout",
     "output_type": "stream",
     "text": [
      "stringgg\n"
     ]
    }
   ],
   "source": [
    "print(g[-1])"
   ]
  },
  {
   "cell_type": "code",
   "execution_count": 118,
   "metadata": {},
   "outputs": [
    {
     "name": "stdout",
     "output_type": "stream",
     "text": [
      "2.5\n"
     ]
    }
   ],
   "source": [
    "print(g[-3])"
   ]
  },
  {
   "cell_type": "markdown",
   "metadata": {},
   "source": [
    "We can slice a part of a tuple by using `index` and `:`"
   ]
  },
  {
   "cell_type": "code",
   "execution_count": 119,
   "metadata": {},
   "outputs": [
    {
     "name": "stdout",
     "output_type": "stream",
     "text": [
      "(1, 2.5, 3, 'stringgg')\n",
      "4\n"
     ]
    }
   ],
   "source": [
    "print(g)\n",
    "print(len(g))"
   ]
  },
  {
   "cell_type": "code",
   "execution_count": 120,
   "metadata": {
    "scrolled": true
   },
   "outputs": [
    {
     "name": "stdout",
     "output_type": "stream",
     "text": [
      "(3, 'stringgg')\n"
     ]
    }
   ],
   "source": [
    "print(g[2:4])"
   ]
  },
  {
   "cell_type": "code",
   "execution_count": 121,
   "metadata": {
    "scrolled": true
   },
   "outputs": [
    {
     "name": "stdout",
     "output_type": "stream",
     "text": [
      "(1, 2.5, 3)\n"
     ]
    }
   ],
   "source": [
    "print(g[0:3])"
   ]
  },
  {
   "cell_type": "code",
   "execution_count": 122,
   "metadata": {},
   "outputs": [
    {
     "name": "stdout",
     "output_type": "stream",
     "text": [
      "(2.5, 3)\n"
     ]
    }
   ],
   "source": [
    "print(g[-3:-1])"
   ]
  },
  {
   "cell_type": "code",
   "execution_count": 123,
   "metadata": {},
   "outputs": [
    {
     "name": "stdout",
     "output_type": "stream",
     "text": [
      "(1, 2.5)\n"
     ]
    }
   ],
   "source": [
    "print(g[:2])"
   ]
  },
  {
   "cell_type": "code",
   "execution_count": 124,
   "metadata": {},
   "outputs": [
    {
     "name": "stdout",
     "output_type": "stream",
     "text": [
      "(2.5, 3, 'stringgg')\n"
     ]
    }
   ],
   "source": [
    "print(g[-3:])"
   ]
  },
  {
   "cell_type": "markdown",
   "metadata": {},
   "source": [
    "We use only integer as index of a tuple (not float, not string)."
   ]
  },
  {
   "cell_type": "code",
   "execution_count": 125,
   "metadata": {
    "ExecuteTime": {
     "end_time": "2021-12-29T06:18:58.282860Z",
     "start_time": "2021-12-29T06:18:57.937700Z"
    }
   },
   "outputs": [
    {
     "ename": "TypeError",
     "evalue": "tuple indices must be integers or slices, not float",
     "output_type": "error",
     "traceback": [
      "\u001b[0;31m---------------------------------------------------------------------------\u001b[0m",
      "\u001b[0;31mTypeError\u001b[0m                                 Traceback (most recent call last)",
      "\u001b[0;32m<ipython-input-125-4e9678891836>\u001b[0m in \u001b[0;36m<module>\u001b[0;34m\u001b[0m\n\u001b[0;32m----> 1\u001b[0;31m \u001b[0mprint\u001b[0m\u001b[0;34m(\u001b[0m\u001b[0mg\u001b[0m\u001b[0;34m[\u001b[0m\u001b[0;36m1.\u001b[0m\u001b[0;34m]\u001b[0m\u001b[0;34m)\u001b[0m\u001b[0;34m\u001b[0m\u001b[0;34m\u001b[0m\u001b[0m\n\u001b[0m",
      "\u001b[0;31mTypeError\u001b[0m: tuple indices must be integers or slices, not float"
     ]
    }
   ],
   "source": [
    "print(g[1.])"
   ]
  },
  {
   "cell_type": "code",
   "execution_count": 126,
   "metadata": {
    "ExecuteTime": {
     "end_time": "2021-12-29T06:19:08.875619Z",
     "start_time": "2021-12-29T06:19:08.842394Z"
    }
   },
   "outputs": [
    {
     "ename": "TypeError",
     "evalue": "tuple indices must be integers or slices, not str",
     "output_type": "error",
     "traceback": [
      "\u001b[0;31m---------------------------------------------------------------------------\u001b[0m",
      "\u001b[0;31mTypeError\u001b[0m                                 Traceback (most recent call last)",
      "\u001b[0;32m<ipython-input-126-096b9bfe9083>\u001b[0m in \u001b[0;36m<module>\u001b[0;34m\u001b[0m\n\u001b[0;32m----> 1\u001b[0;31m \u001b[0mprint\u001b[0m\u001b[0;34m(\u001b[0m\u001b[0mg\u001b[0m\u001b[0;34m[\u001b[0m\u001b[0;34m'1'\u001b[0m\u001b[0;34m]\u001b[0m\u001b[0;34m)\u001b[0m\u001b[0;34m\u001b[0m\u001b[0;34m\u001b[0m\u001b[0m\n\u001b[0m",
      "\u001b[0;31mTypeError\u001b[0m: tuple indices must be integers or slices, not str"
     ]
    }
   ],
   "source": [
    "print(g['1'])"
   ]
  },
  {
   "cell_type": "markdown",
   "metadata": {},
   "source": [
    "#### CANNOT change the value of elements in Tuple"
   ]
  },
  {
   "cell_type": "code",
   "execution_count": 127,
   "metadata": {
    "ExecuteTime": {
     "end_time": "2021-12-29T06:19:12.896777Z",
     "start_time": "2021-12-29T06:19:12.877373Z"
    }
   },
   "outputs": [
    {
     "name": "stdout",
     "output_type": "stream",
     "text": [
      "Tuple `g` before:\n",
      "(1, 2.5, 3, 'stringgg')\n",
      "4\n"
     ]
    }
   ],
   "source": [
    "print('Tuple `g` before:')\n",
    "print(g)\n",
    "print(len(g))"
   ]
  },
  {
   "cell_type": "code",
   "execution_count": 128,
   "metadata": {
    "ExecuteTime": {
     "end_time": "2021-12-29T06:19:12.896777Z",
     "start_time": "2021-12-29T06:19:12.877373Z"
    }
   },
   "outputs": [
    {
     "name": "stdout",
     "output_type": "stream",
     "text": [
      "1\n"
     ]
    }
   ],
   "source": [
    "print(g[0])"
   ]
  },
  {
   "cell_type": "code",
   "execution_count": 129,
   "metadata": {},
   "outputs": [
    {
     "ename": "TypeError",
     "evalue": "'tuple' object does not support item assignment",
     "output_type": "error",
     "traceback": [
      "\u001b[0;31m---------------------------------------------------------------------------\u001b[0m",
      "\u001b[0;31mTypeError\u001b[0m                                 Traceback (most recent call last)",
      "\u001b[0;32m<ipython-input-129-9a2fe1c1f043>\u001b[0m in \u001b[0;36m<module>\u001b[0;34m\u001b[0m\n\u001b[0;32m----> 1\u001b[0;31m \u001b[0mg\u001b[0m\u001b[0;34m[\u001b[0m\u001b[0;36m0\u001b[0m\u001b[0;34m]\u001b[0m \u001b[0;34m=\u001b[0m \u001b[0;36m9999\u001b[0m\u001b[0;34m\u001b[0m\u001b[0;34m\u001b[0m\u001b[0m\n\u001b[0m",
      "\u001b[0;31mTypeError\u001b[0m: 'tuple' object does not support item assignment"
     ]
    }
   ],
   "source": [
    "g[0] = 9999"
   ]
  },
  {
   "cell_type": "code",
   "execution_count": 130,
   "metadata": {
    "ExecuteTime": {
     "end_time": "2021-12-29T06:19:12.896777Z",
     "start_time": "2021-12-29T06:19:12.877373Z"
    },
    "scrolled": true
   },
   "outputs": [
    {
     "name": "stdout",
     "output_type": "stream",
     "text": [
      "Tuple `g` after:\n",
      "(1, 2.5, 3, 'stringgg')\n",
      "4\n"
     ]
    }
   ],
   "source": [
    "print('Tuple `g` after:')\n",
    "print(g)\n",
    "print(len(g))"
   ]
  },
  {
   "cell_type": "markdown",
   "metadata": {
    "tags": []
   },
   "source": [
    "### 5.7. Set type: Set\n",
    "Set is data type which contains lots of variables, variables in set can be in different data types (including another set). <br>\n",
    "\n",
    "#### Define a Set\n",
    "To define a list, we use `{` and `}` bracket. Each element in a set is unique."
   ]
  },
  {
   "cell_type": "code",
   "execution_count": 131,
   "metadata": {},
   "outputs": [
    {
     "name": "stdout",
     "output_type": "stream",
     "text": [
      "s =  {1, 2, 3}\n",
      "type of s:  <class 'set'>\n"
     ]
    }
   ],
   "source": [
    "s = {1, 2, 3}\n",
    "\n",
    "print('s = ', s)\n",
    "print('type of s: ', type(s))"
   ]
  },
  {
   "cell_type": "code",
   "execution_count": 132,
   "metadata": {},
   "outputs": [
    {
     "name": "stdout",
     "output_type": "stream",
     "text": [
      "s =  {1, 2, 3}\n",
      "type of s:  <class 'set'>\n"
     ]
    }
   ],
   "source": [
    "s = {1, 2, 3, 1}\n",
    "\n",
    "print('s = ', s)\n",
    "print('type of s: ', type(s))"
   ]
  },
  {
   "cell_type": "markdown",
   "metadata": {},
   "source": [
    "#### Get the Set length\n",
    "We use function `len()` to get the length of a set."
   ]
  },
  {
   "cell_type": "code",
   "execution_count": 133,
   "metadata": {},
   "outputs": [
    {
     "name": "stdout",
     "output_type": "stream",
     "text": [
      "3\n"
     ]
    }
   ],
   "source": [
    "print(len(s))"
   ]
  },
  {
   "cell_type": "markdown",
   "metadata": {},
   "source": [
    "#### Access element in Set\n",
    "The order of elements in set is not guaranteed so we cannot use `index` or `slice` to access item. We can use `for` loop to access elements in set (`for` loop will be introduced in the next lesson)"
   ]
  },
  {
   "cell_type": "code",
   "execution_count": 134,
   "metadata": {},
   "outputs": [
    {
     "ename": "TypeError",
     "evalue": "'set' object is not subscriptable",
     "output_type": "error",
     "traceback": [
      "\u001b[0;31m---------------------------------------------------------------------------\u001b[0m",
      "\u001b[0;31mTypeError\u001b[0m                                 Traceback (most recent call last)",
      "\u001b[0;32m<ipython-input-134-c9c96910e542>\u001b[0m in \u001b[0;36m<module>\u001b[0;34m\u001b[0m\n\u001b[0;32m----> 1\u001b[0;31m \u001b[0ms\u001b[0m\u001b[0;34m[\u001b[0m\u001b[0;36m0\u001b[0m\u001b[0;34m]\u001b[0m\u001b[0;34m\u001b[0m\u001b[0;34m\u001b[0m\u001b[0m\n\u001b[0m",
      "\u001b[0;31mTypeError\u001b[0m: 'set' object is not subscriptable"
     ]
    }
   ],
   "source": [
    "s[0]"
   ]
  },
  {
   "cell_type": "code",
   "execution_count": 135,
   "metadata": {},
   "outputs": [
    {
     "name": "stdout",
     "output_type": "stream",
     "text": [
      "1\n",
      "2\n",
      "3\n"
     ]
    }
   ],
   "source": [
    "for item in s:\n",
    "    print(item)"
   ]
  },
  {
   "cell_type": "markdown",
   "metadata": {},
   "source": [
    "#### Functions to modify Set\n",
    "Function `add()` can be used to add single item to set."
   ]
  },
  {
   "cell_type": "code",
   "execution_count": 136,
   "metadata": {},
   "outputs": [
    {
     "name": "stdout",
     "output_type": "stream",
     "text": [
      "{1, 2, 3}\n",
      "3\n"
     ]
    }
   ],
   "source": [
    "print(s)\n",
    "print(len(s))"
   ]
  },
  {
   "cell_type": "code",
   "execution_count": 137,
   "metadata": {},
   "outputs": [
    {
     "name": "stdout",
     "output_type": "stream",
     "text": [
      "{1, 2, 3, 'add first item'}\n",
      "4\n"
     ]
    }
   ],
   "source": [
    "s.add('add first item')\n",
    "\n",
    "print(s)\n",
    "print(len(s))"
   ]
  },
  {
   "cell_type": "markdown",
   "metadata": {},
   "source": [
    "Function `update()` can be used to add another set or list or tuple to set."
   ]
  },
  {
   "cell_type": "code",
   "execution_count": 138,
   "metadata": {},
   "outputs": [
    {
     "name": "stdout",
     "output_type": "stream",
     "text": [
      "{1.1, 2.2, 3.5, 'new set'}\n",
      "4\n"
     ]
    }
   ],
   "source": [
    "s_1 = {1.1, 2.2, 3.5, 'new set'}\n",
    "\n",
    "print(s_1)\n",
    "print(len(s_1))"
   ]
  },
  {
   "cell_type": "code",
   "execution_count": 139,
   "metadata": {},
   "outputs": [
    {
     "name": "stdout",
     "output_type": "stream",
     "text": [
      "{1, 2, 3, 1.1, 2.2, 3.5, 'add first item', 'new set'}\n",
      "8\n"
     ]
    }
   ],
   "source": [
    "s.update(s_1)\n",
    "\n",
    "print(s)\n",
    "print(len(s))"
   ]
  },
  {
   "cell_type": "code",
   "execution_count": 140,
   "metadata": {},
   "outputs": [
    {
     "name": "stdout",
     "output_type": "stream",
     "text": [
      "['item 1 in list', 'item 2 in list']\n",
      "2\n"
     ]
    }
   ],
   "source": [
    "l_1 = ['item 1 in list', 'item 2 in list']\n",
    "\n",
    "print(l_1)\n",
    "print(len(l_1))"
   ]
  },
  {
   "cell_type": "code",
   "execution_count": 141,
   "metadata": {},
   "outputs": [
    {
     "name": "stdout",
     "output_type": "stream",
     "text": [
      "{1, 2, 3, 1.1, 2.2, 3.5, 'item 1 in list', 'add first item', 'item 2 in list', 'new set'}\n",
      "10\n"
     ]
    }
   ],
   "source": [
    "s.update(l_1)\n",
    "\n",
    "print(s)\n",
    "print(len(s))"
   ]
  },
  {
   "cell_type": "markdown",
   "metadata": {},
   "source": [
    "Another way to combine 2 set is using function `union()`. The difference is, function `union()` creates a new set, function `update()` adds more item into existing set."
   ]
  },
  {
   "cell_type": "code",
   "execution_count": 142,
   "metadata": {},
   "outputs": [
    {
     "name": "stdout",
     "output_type": "stream",
     "text": [
      "{1, 2, 3, 1.1, 2.2, 3.5, 'item 1 in list', 'add first item', 'item 2 in list', 'new set'}\n",
      "10\n"
     ]
    }
   ],
   "source": [
    "print(s)\n",
    "print(len(s))"
   ]
  },
  {
   "cell_type": "code",
   "execution_count": 143,
   "metadata": {},
   "outputs": [
    {
     "name": "stdout",
     "output_type": "stream",
     "text": [
      "{'z', 'x', 'y'}\n",
      "3\n"
     ]
    }
   ],
   "source": [
    "s_3 = {'x', 'y', 'z'}\n",
    "\n",
    "print(s_3)\n",
    "print(len(s_3))"
   ]
  },
  {
   "cell_type": "code",
   "execution_count": 144,
   "metadata": {},
   "outputs": [
    {
     "name": "stdout",
     "output_type": "stream",
     "text": [
      "{1, 2, 3, 1.1, 2.2, 3.5, 'item 1 in list', 'y', 'add first item', 'item 2 in list', 'x', 'z', 'new set'}\n",
      "13\n"
     ]
    }
   ],
   "source": [
    "new_s = s.union(s_3)\n",
    "\n",
    "print(new_s)\n",
    "print(len(new_s))"
   ]
  },
  {
   "cell_type": "markdown",
   "metadata": {},
   "source": [
    "Function `intersection_update()` and `intersection()` can be used to get the items that appear in both set. While `intersection_update()` update into existing set, `intersection()` creates a new set."
   ]
  },
  {
   "cell_type": "code",
   "execution_count": 145,
   "metadata": {},
   "outputs": [
    {
     "name": "stdout",
     "output_type": "stream",
     "text": [
      "{1, 2, 3}\n"
     ]
    }
   ],
   "source": [
    "ss_1 = {1, 2, 3}\n",
    "\n",
    "print(ss_1)"
   ]
  },
  {
   "cell_type": "code",
   "execution_count": 146,
   "metadata": {},
   "outputs": [
    {
     "name": "stdout",
     "output_type": "stream",
     "text": [
      "{2, 4, 6}\n"
     ]
    }
   ],
   "source": [
    "ss_2 = {2, 4, 6}\n",
    "\n",
    "print(ss_2)"
   ]
  },
  {
   "cell_type": "code",
   "execution_count": 147,
   "metadata": {},
   "outputs": [
    {
     "name": "stdout",
     "output_type": "stream",
     "text": [
      "{2}\n"
     ]
    }
   ],
   "source": [
    "new_ss = ss_1.intersection(ss_2)\n",
    "\n",
    "print(new_ss)"
   ]
  },
  {
   "cell_type": "code",
   "execution_count": 148,
   "metadata": {},
   "outputs": [
    {
     "name": "stdout",
     "output_type": "stream",
     "text": [
      "{2}\n"
     ]
    }
   ],
   "source": [
    "ss_1.intersection_update(ss_2)\n",
    "\n",
    "print(ss_1)"
   ]
  },
  {
   "cell_type": "markdown",
   "metadata": {},
   "source": [
    "Function `symmetric_difference_update()` and `symmetric_difference()` can be used to get the items that appear in ONLY ONE set. While `symmetric_difference_update()` update into existing set, `symmetric_difference()` creates a new set."
   ]
  },
  {
   "cell_type": "code",
   "execution_count": 149,
   "metadata": {
    "scrolled": true
   },
   "outputs": [
    {
     "name": "stdout",
     "output_type": "stream",
     "text": [
      "{1, 2, 3}\n"
     ]
    }
   ],
   "source": [
    "ss_1 = {1, 2, 3}\n",
    "\n",
    "print(ss_1)"
   ]
  },
  {
   "cell_type": "code",
   "execution_count": 150,
   "metadata": {},
   "outputs": [
    {
     "name": "stdout",
     "output_type": "stream",
     "text": [
      "{2, 4, 6}\n"
     ]
    }
   ],
   "source": [
    "ss_2 = {2, 4, 6}\n",
    "\n",
    "print(ss_2)"
   ]
  },
  {
   "cell_type": "code",
   "execution_count": 151,
   "metadata": {},
   "outputs": [
    {
     "name": "stdout",
     "output_type": "stream",
     "text": [
      "{1, 3, 4, 6}\n"
     ]
    }
   ],
   "source": [
    "new_ss = ss_1.symmetric_difference(ss_2)\n",
    "\n",
    "print(new_ss)"
   ]
  },
  {
   "cell_type": "code",
   "execution_count": 152,
   "metadata": {},
   "outputs": [
    {
     "name": "stdout",
     "output_type": "stream",
     "text": [
      "{1, 3, 4, 6}\n"
     ]
    }
   ],
   "source": [
    "ss_1.symmetric_difference_update(ss_2)\n",
    "\n",
    "print(ss_1)"
   ]
  },
  {
   "cell_type": "markdown",
   "metadata": {},
   "source": [
    "Function `remove()` and `discard()` can be used to remove an item from a set. But, if the removed item is not in set, function `remove()` will raise an error, function `discard()` will not raise an error."
   ]
  },
  {
   "cell_type": "code",
   "execution_count": 153,
   "metadata": {},
   "outputs": [
    {
     "name": "stdout",
     "output_type": "stream",
     "text": [
      "{1, 2, 3, 1.1, 2.2, 3.5, 'item 1 in list', 'add first item', 'item 2 in list', 'new set'}\n",
      "10\n"
     ]
    }
   ],
   "source": [
    "print(s)\n",
    "print(len(s))"
   ]
  },
  {
   "cell_type": "code",
   "execution_count": 154,
   "metadata": {},
   "outputs": [
    {
     "name": "stdout",
     "output_type": "stream",
     "text": [
      "{2, 3, 1.1, 2.2, 3.5, 'item 1 in list', 'add first item', 'item 2 in list', 'new set'}\n",
      "9\n"
     ]
    }
   ],
   "source": [
    "s.remove(1)\n",
    "\n",
    "print(s)\n",
    "print(len(s))"
   ]
  },
  {
   "cell_type": "code",
   "execution_count": 155,
   "metadata": {},
   "outputs": [
    {
     "ename": "KeyError",
     "evalue": "999",
     "output_type": "error",
     "traceback": [
      "\u001b[0;31m---------------------------------------------------------------------------\u001b[0m",
      "\u001b[0;31mKeyError\u001b[0m                                  Traceback (most recent call last)",
      "\u001b[0;32m<ipython-input-155-5cd7a055ca70>\u001b[0m in \u001b[0;36m<module>\u001b[0;34m\u001b[0m\n\u001b[0;32m----> 1\u001b[0;31m \u001b[0ms\u001b[0m\u001b[0;34m.\u001b[0m\u001b[0mremove\u001b[0m\u001b[0;34m(\u001b[0m\u001b[0;36m999\u001b[0m\u001b[0;34m)\u001b[0m\u001b[0;34m\u001b[0m\u001b[0;34m\u001b[0m\u001b[0m\n\u001b[0m",
      "\u001b[0;31mKeyError\u001b[0m: 999"
     ]
    }
   ],
   "source": [
    "s.remove(999)"
   ]
  },
  {
   "cell_type": "code",
   "execution_count": 156,
   "metadata": {},
   "outputs": [
    {
     "name": "stdout",
     "output_type": "stream",
     "text": [
      "{2, 3, 1.1, 2.2, 3.5, 'item 1 in list', 'add first item', 'item 2 in list'}\n",
      "8\n"
     ]
    }
   ],
   "source": [
    "s.discard('new set')\n",
    "\n",
    "print(s)\n",
    "print(len(s))"
   ]
  },
  {
   "cell_type": "code",
   "execution_count": 157,
   "metadata": {},
   "outputs": [
    {
     "name": "stdout",
     "output_type": "stream",
     "text": [
      "{2, 3, 1.1, 2.2, 3.5, 'item 1 in list', 'add first item', 'item 2 in list'}\n",
      "8\n"
     ]
    }
   ],
   "source": [
    "s.discard(999)\n",
    "\n",
    "print(s)\n",
    "print(len(s))"
   ]
  },
  {
   "cell_type": "markdown",
   "metadata": {},
   "source": [
    "Function `clear()` can be used to clear all items in a set"
   ]
  },
  {
   "cell_type": "code",
   "execution_count": 158,
   "metadata": {
    "scrolled": true
   },
   "outputs": [
    {
     "name": "stdout",
     "output_type": "stream",
     "text": [
      "set()\n",
      "0\n"
     ]
    }
   ],
   "source": [
    "s.clear()\n",
    "\n",
    "print(s)\n",
    "print(len(s))"
   ]
  },
  {
   "cell_type": "markdown",
   "metadata": {},
   "source": [
    "### 5.8. Dictionary type: Dictionary (dict)\n",
    "Dictionary is a data type which contains multiple `key: value` pairs. The `key` in dictionary is unique and usually be `int` or `string`. The `value` in dictionary can be changed and can be any Python data type.\n",
    "#### Define a Dictionary\n",
    "To define a dictionary, we use `{` and `}` bracket, but each item inside the bracket are `key: value` pair."
   ]
  },
  {
   "cell_type": "code",
   "execution_count": 159,
   "metadata": {},
   "outputs": [
    {
     "name": "stdout",
     "output_type": "stream",
     "text": [
      "a =  {1: 2, 'three': 3, 'fruits': ['apple', 'banana', 'orange'], False: 'Wrong'}\n",
      "type of a:  <class 'dict'>\n"
     ]
    }
   ],
   "source": [
    "a = {\n",
    "    1: 2,\n",
    "    'three': 3,\n",
    "    'fruits': ['apple', 'banana', 'orange'],\n",
    "    False: 'Wrong'\n",
    "}\n",
    "\n",
    "print('a = ', a)\n",
    "print('type of a: ', type(a))"
   ]
  },
  {
   "cell_type": "markdown",
   "metadata": {},
   "source": [
    "If a value in a dictonary is another dictionary, we call it a nested dictionary"
   ]
  },
  {
   "cell_type": "code",
   "execution_count": 160,
   "metadata": {},
   "outputs": [
    {
     "name": "stdout",
     "output_type": "stream",
     "text": [
      "nested_a =  {1: 2, 'number': {'one': 1, 'two': 2, 'ten': 10}, 'fruits': ['apple', 'banana', 'orange'], False: 'Wrong'}\n",
      "type of nested_a:  <class 'dict'>\n"
     ]
    }
   ],
   "source": [
    "nested_a = {\n",
    "    1: 2,\n",
    "    'number': {\n",
    "        'one': 1,\n",
    "        'two': 2,\n",
    "        'ten': 10\n",
    "    },\n",
    "    'fruits': ['apple', 'banana', 'orange'],\n",
    "    False: 'Wrong'\n",
    "}\n",
    "\n",
    "print('nested_a = ', nested_a)\n",
    "print('type of nested_a: ', type(nested_a))"
   ]
  },
  {
   "cell_type": "markdown",
   "metadata": {},
   "source": [
    "#### Get the Dictionary length\n",
    "We use function `len()` to get the length of a dictionary."
   ]
  },
  {
   "cell_type": "code",
   "execution_count": 161,
   "metadata": {
    "scrolled": true
   },
   "outputs": [
    {
     "name": "stdout",
     "output_type": "stream",
     "text": [
      "4\n"
     ]
    }
   ],
   "source": [
    "print(len(a))"
   ]
  },
  {
   "cell_type": "markdown",
   "metadata": {},
   "source": [
    "#### Access element in Dictionary\n",
    "We can get the `value` by using the `key`. If we pass a key that doesn't exist, it will raise an KeyError."
   ]
  },
  {
   "cell_type": "code",
   "execution_count": 162,
   "metadata": {},
   "outputs": [
    {
     "name": "stdout",
     "output_type": "stream",
     "text": [
      "{1: 2, 'three': 3, 'fruits': ['apple', 'banana', 'orange'], False: 'Wrong'}\n"
     ]
    }
   ],
   "source": [
    "print(a)"
   ]
  },
  {
   "cell_type": "code",
   "execution_count": 163,
   "metadata": {},
   "outputs": [
    {
     "name": "stdout",
     "output_type": "stream",
     "text": [
      "2\n"
     ]
    }
   ],
   "source": [
    "print(a[1])"
   ]
  },
  {
   "cell_type": "code",
   "execution_count": 164,
   "metadata": {},
   "outputs": [
    {
     "name": "stdout",
     "output_type": "stream",
     "text": [
      "3\n"
     ]
    }
   ],
   "source": [
    "print(a['three'])"
   ]
  },
  {
   "cell_type": "code",
   "execution_count": 165,
   "metadata": {},
   "outputs": [
    {
     "name": "stdout",
     "output_type": "stream",
     "text": [
      "['apple', 'banana', 'orange']\n"
     ]
    }
   ],
   "source": [
    "print(a['fruits'])"
   ]
  },
  {
   "cell_type": "code",
   "execution_count": 166,
   "metadata": {},
   "outputs": [
    {
     "name": "stdout",
     "output_type": "stream",
     "text": [
      "Wrong\n"
     ]
    }
   ],
   "source": [
    "print(a[False])"
   ]
  },
  {
   "cell_type": "code",
   "execution_count": 167,
   "metadata": {},
   "outputs": [
    {
     "ename": "KeyError",
     "evalue": "'my_key'",
     "output_type": "error",
     "traceback": [
      "\u001b[0;31m---------------------------------------------------------------------------\u001b[0m",
      "\u001b[0;31mKeyError\u001b[0m                                  Traceback (most recent call last)",
      "\u001b[0;32m<ipython-input-167-18b77384a0a6>\u001b[0m in \u001b[0;36m<module>\u001b[0;34m\u001b[0m\n\u001b[0;32m----> 1\u001b[0;31m \u001b[0mprint\u001b[0m\u001b[0;34m(\u001b[0m\u001b[0ma\u001b[0m\u001b[0;34m[\u001b[0m\u001b[0;34m'my_key'\u001b[0m\u001b[0;34m]\u001b[0m\u001b[0;34m)\u001b[0m\u001b[0;34m\u001b[0m\u001b[0;34m\u001b[0m\u001b[0m\n\u001b[0m",
      "\u001b[0;31mKeyError\u001b[0m: 'my_key'"
     ]
    }
   ],
   "source": [
    "print(a['my_key'])"
   ]
  },
  {
   "cell_type": "markdown",
   "metadata": {},
   "source": [
    "Another way to get the value is by using function `get()`. If the key we pass to `get()` doesn't exist, the `value` we receive is `default value`."
   ]
  },
  {
   "cell_type": "code",
   "execution_count": 168,
   "metadata": {},
   "outputs": [
    {
     "name": "stdout",
     "output_type": "stream",
     "text": [
      "{1: 2, 'three': 3, 'fruits': ['apple', 'banana', 'orange'], False: 'Wrong'}\n"
     ]
    }
   ],
   "source": [
    "print(a)"
   ]
  },
  {
   "cell_type": "code",
   "execution_count": 169,
   "metadata": {},
   "outputs": [
    {
     "name": "stdout",
     "output_type": "stream",
     "text": [
      "2\n"
     ]
    }
   ],
   "source": [
    "print(a[1])"
   ]
  },
  {
   "cell_type": "code",
   "execution_count": 170,
   "metadata": {},
   "outputs": [
    {
     "name": "stdout",
     "output_type": "stream",
     "text": [
      "3\n"
     ]
    }
   ],
   "source": [
    "print(a.get('three'))"
   ]
  },
  {
   "cell_type": "code",
   "execution_count": 171,
   "metadata": {},
   "outputs": [
    {
     "name": "stdout",
     "output_type": "stream",
     "text": [
      "['apple', 'banana', 'orange']\n"
     ]
    }
   ],
   "source": [
    "print(a.get('fruits'))"
   ]
  },
  {
   "cell_type": "code",
   "execution_count": 172,
   "metadata": {},
   "outputs": [
    {
     "name": "stdout",
     "output_type": "stream",
     "text": [
      "Wrong\n"
     ]
    }
   ],
   "source": [
    "print(a.get(False))"
   ]
  },
  {
   "cell_type": "code",
   "execution_count": 173,
   "metadata": {},
   "outputs": [
    {
     "name": "stdout",
     "output_type": "stream",
     "text": [
      "None\n"
     ]
    }
   ],
   "source": [
    "print(a.get('my_key'))"
   ]
  },
  {
   "cell_type": "code",
   "execution_count": 174,
   "metadata": {},
   "outputs": [
    {
     "name": "stdout",
     "output_type": "stream",
     "text": [
      "my_default_value\n"
     ]
    }
   ],
   "source": [
    "print(a.get('my_key', 'my_default_value'))"
   ]
  },
  {
   "cell_type": "markdown",
   "metadata": {},
   "source": [
    "Accessing the `value` by the `key`, we can modify this `value`."
   ]
  },
  {
   "cell_type": "code",
   "execution_count": 175,
   "metadata": {},
   "outputs": [
    {
     "name": "stdout",
     "output_type": "stream",
     "text": [
      "{1: 2, 'three': 3, 'fruits': ['apple', 'banana', 'orange'], False: 'Wrong'}\n"
     ]
    }
   ],
   "source": [
    "print(a)"
   ]
  },
  {
   "cell_type": "code",
   "execution_count": 176,
   "metadata": {},
   "outputs": [
    {
     "name": "stdout",
     "output_type": "stream",
     "text": [
      "{1: 2, 'three': 'number_three', 'fruits': ['apple', 'banana', 'orange'], False: 'Wrong'}\n"
     ]
    }
   ],
   "source": [
    "a['three'] = 'number_three'\n",
    "\n",
    "print(a)"
   ]
  },
  {
   "cell_type": "markdown",
   "metadata": {},
   "source": [
    "We can add the new `key: value` pair."
   ]
  },
  {
   "cell_type": "code",
   "execution_count": 177,
   "metadata": {},
   "outputs": [
    {
     "name": "stdout",
     "output_type": "stream",
     "text": [
      "{1: 2, 'three': 'number_three', 'fruits': ['apple', 'banana', 'orange'], False: 'Wrong'}\n"
     ]
    }
   ],
   "source": [
    "print(a)"
   ]
  },
  {
   "cell_type": "code",
   "execution_count": 178,
   "metadata": {},
   "outputs": [
    {
     "name": "stdout",
     "output_type": "stream",
     "text": [
      "{1: 2, 'three': 'number_three', 'fruits': ['apple', 'banana', 'orange'], False: 'Wrong', 4: 'Number Four'}\n"
     ]
    }
   ],
   "source": [
    "a[4] = 'Number Four'\n",
    "print(a)"
   ]
  },
  {
   "cell_type": "markdown",
   "metadata": {},
   "source": [
    "#### Functions to get Dictionary data\n",
    "Function `keys()` will give us a list of keys of a dictionary."
   ]
  },
  {
   "cell_type": "code",
   "execution_count": 179,
   "metadata": {},
   "outputs": [
    {
     "name": "stdout",
     "output_type": "stream",
     "text": [
      "dict_keys([1, 'three', 'fruits', False, 4])\n"
     ]
    }
   ],
   "source": [
    "print(a.keys())"
   ]
  },
  {
   "cell_type": "markdown",
   "metadata": {},
   "source": [
    "Function `values()` will give us a list of values of a dictionary."
   ]
  },
  {
   "cell_type": "code",
   "execution_count": 180,
   "metadata": {},
   "outputs": [
    {
     "name": "stdout",
     "output_type": "stream",
     "text": [
      "dict_values([2, 'number_three', ['apple', 'banana', 'orange'], 'Wrong', 'Number Four'])\n"
     ]
    }
   ],
   "source": [
    "print(a.values())"
   ]
  },
  {
   "cell_type": "markdown",
   "metadata": {},
   "source": [
    "Function `items()` will give us a list of items of a dictionary. Each items is a tuple of `(key, value)`"
   ]
  },
  {
   "cell_type": "code",
   "execution_count": 181,
   "metadata": {},
   "outputs": [
    {
     "name": "stdout",
     "output_type": "stream",
     "text": [
      "dict_items([(1, 2), ('three', 'number_three'), ('fruits', ['apple', 'banana', 'orange']), (False, 'Wrong'), (4, 'Number Four')])\n"
     ]
    }
   ],
   "source": [
    "print(a.items())"
   ]
  },
  {
   "cell_type": "markdown",
   "metadata": {},
   "source": [
    "#### Functions to modify Dictionary\n",
    "Function `update()` is used to change the `value` of existing `key` or add the new `key: value` pair from another dictionary."
   ]
  },
  {
   "cell_type": "code",
   "execution_count": 182,
   "metadata": {
    "ExecuteTime": {
     "end_time": "2021-12-29T06:19:13.280760Z",
     "start_time": "2021-12-29T06:19:13.267929Z"
    },
    "tags": []
   },
   "outputs": [
    {
     "name": "stdout",
     "output_type": "stream",
     "text": [
      "{1: 2, 'three': 'number_three', 'fruits': ['apple', 'banana', 'orange'], False: 'Wrong', 4: 'Number Four'}\n"
     ]
    }
   ],
   "source": [
    "print(a)"
   ]
  },
  {
   "cell_type": "code",
   "execution_count": 183,
   "metadata": {},
   "outputs": [
    {
     "name": "stdout",
     "output_type": "stream",
     "text": [
      "{1: 'this is number one', 'three': 'number_three', 'fruits': ['apple', 'banana', 'orange'], False: 'Wrong', 4: 'Number Four'}\n"
     ]
    }
   ],
   "source": [
    "a.update({\n",
    "    1: 'this is number one',\n",
    "})\n",
    "print(a)"
   ]
  },
  {
   "cell_type": "code",
   "execution_count": 184,
   "metadata": {},
   "outputs": [
    {
     "name": "stdout",
     "output_type": "stream",
     "text": [
      "{1: 'this is number one', 'three': 'number_three', 'fruits': ['apple', 'banana', 'orange'], False: 'Wrong', 4: 'Number Four', 5: 'Five'}\n"
     ]
    }
   ],
   "source": [
    "a.update({\n",
    "    5: 'Five',\n",
    "})\n",
    "print(a)"
   ]
  },
  {
   "cell_type": "code",
   "execution_count": 185,
   "metadata": {},
   "outputs": [
    {
     "name": "stdout",
     "output_type": "stream",
     "text": [
      "{1: 'this is number one', 'three': 'number_three', 'fruits': ['apple', 'banana', 'orange'], False: 'Wrong', 4: 'Number Four', 5: 'FiveFiveFive', 6: 'Number 6'}\n"
     ]
    }
   ],
   "source": [
    "a.update({\n",
    "    5: 'FiveFiveFive',\n",
    "    6: 'Number 6'\n",
    "})\n",
    "print(a)"
   ]
  },
  {
   "cell_type": "markdown",
   "metadata": {},
   "source": [
    "Function `pop()` is used to remove a `key: value` pair by the `key`."
   ]
  },
  {
   "cell_type": "code",
   "execution_count": 186,
   "metadata": {},
   "outputs": [
    {
     "name": "stdout",
     "output_type": "stream",
     "text": [
      "{1: 'this is number one', 'three': 'number_three', 'fruits': ['apple', 'banana', 'orange'], False: 'Wrong', 4: 'Number Four', 5: 'FiveFiveFive', 6: 'Number 6'}\n"
     ]
    }
   ],
   "source": [
    "print(a)"
   ]
  },
  {
   "cell_type": "code",
   "execution_count": 187,
   "metadata": {},
   "outputs": [
    {
     "name": "stdout",
     "output_type": "stream",
     "text": [
      "{1: 'this is number one', 'three': 'number_three', 'fruits': ['apple', 'banana', 'orange'], False: 'Wrong', 5: 'FiveFiveFive', 6: 'Number 6'}\n"
     ]
    }
   ],
   "source": [
    "a.pop(4)\n",
    "\n",
    "print(a)"
   ]
  },
  {
   "cell_type": "markdown",
   "metadata": {},
   "source": [
    "Function `clear()` is used to clear all `key: value` pairs in the dictionary."
   ]
  },
  {
   "cell_type": "code",
   "execution_count": 188,
   "metadata": {},
   "outputs": [
    {
     "name": "stdout",
     "output_type": "stream",
     "text": [
      "{}\n"
     ]
    }
   ],
   "source": [
    "a.clear()\n",
    "\n",
    "print(a)"
   ]
  },
  {
   "cell_type": "markdown",
   "metadata": {},
   "source": [
    "### 5.9. Comparision between `list`, `tuple`, `set` and `dictionary`\n",
    "|Data type|List|Tuple|Set|Dictionary|\n",
    "|-|-|-|-|-|\n",
    "|Example|['apple', 'banana', 'orange']|('Book 1', 12.99, 35, 100)|{10, 20, 12, 12.5, 'Book'}|{'name': 'Joe', 'age': 10}|\n",
    "|Mutable?|Mutable|Immutable|Mutable|Mutable|\n",
    "|Ordered?|Ordered|Ordered|Unordered|Preserves order since Python 3.7|\n",
    "|Iterable?|Yes ~ O(n)|Yes ~ O(n)|Yes ~ O(n)|Yes ~ O(1)|\n",
    "|Use case|Data that needs to change|Immutable data|Unique items|Key/Value pairs|"
   ]
  },
  {
   "cell_type": "markdown",
   "metadata": {
    "tags": []
   },
   "source": [
    "## 6. Cast between data types"
   ]
  },
  {
   "cell_type": "markdown",
   "metadata": {
    "tags": []
   },
   "source": [
    "### 6.1. Casting between `integer` and `float` (`int` and `float`)"
   ]
  },
  {
   "cell_type": "code",
   "execution_count": 189,
   "metadata": {
    "ExecuteTime": {
     "end_time": "2021-12-29T06:19:14.401164Z",
     "start_time": "2021-12-29T06:19:14.384048Z"
    }
   },
   "outputs": [
    {
     "name": "stdout",
     "output_type": "stream",
     "text": [
      "1 <class 'int'>\n",
      "1.0 <class 'float'>\n",
      "1 <class 'int'>\n"
     ]
    }
   ],
   "source": [
    "# Init an integer\n",
    "r = 1\n",
    "print(r, type(r))\n",
    "\n",
    "# Cast integer to float\n",
    "t = float(r)\n",
    "print(t, type(t))\n",
    "\n",
    "# Cast float to integer\n",
    "q = int(t)\n",
    "print(q, type(q))"
   ]
  },
  {
   "cell_type": "markdown",
   "metadata": {
    "tags": []
   },
   "source": [
    "### 6.2. Casting between `string` and `integer` (`str` and `int`) and between `string` and `float` (`str` and `float`)"
   ]
  },
  {
   "cell_type": "markdown",
   "metadata": {},
   "source": [
    "#### String and Integer"
   ]
  },
  {
   "cell_type": "code",
   "execution_count": 190,
   "metadata": {
    "ExecuteTime": {
     "end_time": "2021-12-29T06:19:13.990695Z",
     "start_time": "2021-12-29T06:19:13.982257Z"
    }
   },
   "outputs": [
    {
     "name": "stdout",
     "output_type": "stream",
     "text": [
      "1 <class 'int'>\n",
      "1 <class 'str'>\n",
      "1 <class 'int'>\n"
     ]
    }
   ],
   "source": [
    "# Init an integer\n",
    "k = 1\n",
    "print(k, type(k))\n",
    "\n",
    "# Cast integer to string\n",
    "l = str(k)\n",
    "print(l, type(l))\n",
    "\n",
    "# Cast string to integer\n",
    "m = int(l)\n",
    "print(m, type(m))"
   ]
  },
  {
   "cell_type": "markdown",
   "metadata": {
    "tags": []
   },
   "source": [
    "#### String and Float"
   ]
  },
  {
   "cell_type": "code",
   "execution_count": 191,
   "metadata": {
    "ExecuteTime": {
     "end_time": "2021-12-29T06:19:14.177553Z",
     "start_time": "2021-12-29T06:19:14.170873Z"
    }
   },
   "outputs": [
    {
     "name": "stdout",
     "output_type": "stream",
     "text": [
      "1.0 <class 'float'>\n",
      "1.0 <class 'str'>\n",
      "1.0 <class 'float'>\n"
     ]
    }
   ],
   "source": [
    "# Init a float\n",
    "n = 1.\n",
    "print(n, type(n))\n",
    "\n",
    "# Cast integer to string\n",
    "p = str(n)\n",
    "print(p, type(p))\n",
    "\n",
    "# Cast string to float\n",
    "o = float(p)\n",
    "print(o, type(o))"
   ]
  },
  {
   "cell_type": "markdown",
   "metadata": {
    "tags": []
   },
   "source": [
    "### 6.3. Casting among `list`, `tuple` and `set`"
   ]
  },
  {
   "cell_type": "markdown",
   "metadata": {
    "tags": []
   },
   "source": [
    "#### List and Tuple"
   ]
  },
  {
   "cell_type": "code",
   "execution_count": 192,
   "metadata": {
    "ExecuteTime": {
     "end_time": "2021-12-29T06:19:16.242449Z",
     "start_time": "2021-12-29T06:19:16.234160Z"
    }
   },
   "outputs": [
    {
     "name": "stdout",
     "output_type": "stream",
     "text": [
      "[1, 2.5, 'stringggg'] <class 'list'>\n",
      "(1, 2.5, 'stringggg') <class 'tuple'>\n",
      "[1, 2.5, 'stringggg'] <class 'list'>\n"
     ]
    }
   ],
   "source": [
    "# Init a list\n",
    "w = [1, 2.5, 'stringggg']\n",
    "print(w, type(w))\n",
    "\n",
    "# Cast list to tuple\n",
    "u = tuple(w)\n",
    "print(u, type(u))\n",
    "\n",
    "# Cast tuple to list\n",
    "v = list(u)\n",
    "print(v, type(v))"
   ]
  },
  {
   "cell_type": "markdown",
   "metadata": {
    "tags": []
   },
   "source": [
    "#### List and Set"
   ]
  },
  {
   "cell_type": "code",
   "execution_count": 193,
   "metadata": {
    "ExecuteTime": {
     "end_time": "2021-12-29T06:19:16.813393Z",
     "start_time": "2021-12-29T06:19:16.806051Z"
    }
   },
   "outputs": [
    {
     "name": "stdout",
     "output_type": "stream",
     "text": [
      "[1, 2.5, 'stringggg', 1, 'stringggg'] <class 'list'>\n",
      "{1, 2.5, 'stringggg'} <class 'set'>\n",
      "[1, 2.5, 'stringggg'] <class 'list'>\n"
     ]
    }
   ],
   "source": [
    "# Init a list\n",
    "w = [1, 2.5, 'stringggg', 1, 'stringggg']\n",
    "print(w, type(w))\n",
    "\n",
    "# Cast list to set\n",
    "z = set(w)\n",
    "print(z, type(z))\n",
    "\n",
    "# Cast set to list\n",
    "x = list(z)\n",
    "print(x, type(x))"
   ]
  },
  {
   "cell_type": "markdown",
   "metadata": {
    "tags": []
   },
   "source": [
    "#### Tuple and Set"
   ]
  },
  {
   "cell_type": "code",
   "execution_count": 194,
   "metadata": {
    "ExecuteTime": {
     "end_time": "2021-12-29T06:19:16.813393Z",
     "start_time": "2021-12-29T06:19:16.806051Z"
    }
   },
   "outputs": [
    {
     "name": "stdout",
     "output_type": "stream",
     "text": [
      "(1, 2.5, 'stringggg', 1, 'stringggg') <class 'tuple'>\n",
      "{1, 2.5, 'stringggg'} <class 'set'>\n",
      "(1, 2.5, 'stringggg') <class 'tuple'>\n"
     ]
    }
   ],
   "source": [
    "# Init a tuple\n",
    "w = (1, 2.5, 'stringggg', 1, 'stringggg')\n",
    "print(w, type(w))\n",
    "\n",
    "# Cast tuple to set\n",
    "z = set(w)\n",
    "print(z, type(z))\n",
    "\n",
    "# Cast set to tuple\n",
    "x = tuple(z)\n",
    "print(x, type(x))"
   ]
  },
  {
   "cell_type": "markdown",
   "metadata": {},
   "source": [
    "## 7. Introduce to Python data operators\n",
    "\n",
    "<img src=\"../images/py_operations.jpeg\" width=\"400px\"/>\n",
    "\n",
    "### 7.1. Arithmetic operators\n",
    "|Operator|Name|Example|Result|\n",
    "|-|-|-|-|\n",
    "|+|Addition|2 + 8|10|\n",
    "|-|Subtraction|8 - 2|6|\n",
    "|*|Multiplication|8 * 2|16|\n",
    "|/|Division|8 / 2|4|\n",
    "|//|Floor division|9 // 2|4|\n",
    "|%|Modulus|9 % 2|1|\n",
    "|**|Exponentiation|8 ** 2|64|"
   ]
  },
  {
   "cell_type": "code",
   "execution_count": 195,
   "metadata": {
    "ExecuteTime": {
     "end_time": "2022-01-10T04:28:08.407978Z",
     "start_time": "2022-01-10T04:28:08.389611Z"
    }
   },
   "outputs": [],
   "source": [
    "a = 5\n",
    "b = 2\n",
    "c = -3"
   ]
  },
  {
   "cell_type": "code",
   "execution_count": 196,
   "metadata": {
    "ExecuteTime": {
     "end_time": "2022-01-10T04:28:08.407978Z",
     "start_time": "2022-01-10T04:28:08.389611Z"
    }
   },
   "outputs": [
    {
     "name": "stdout",
     "output_type": "stream",
     "text": [
      "a + b =  7\n"
     ]
    }
   ],
   "source": [
    "a_add_b = a + b\n",
    "print('a + b = ', a_add_b)"
   ]
  },
  {
   "cell_type": "code",
   "execution_count": 197,
   "metadata": {
    "ExecuteTime": {
     "end_time": "2022-01-10T04:28:08.407978Z",
     "start_time": "2022-01-10T04:28:08.389611Z"
    }
   },
   "outputs": [
    {
     "name": "stdout",
     "output_type": "stream",
     "text": [
      "a - b =  3\n"
     ]
    }
   ],
   "source": [
    "a_subtract_b = a - b\n",
    "print('a - b = ', a_subtract_b)"
   ]
  },
  {
   "cell_type": "code",
   "execution_count": 198,
   "metadata": {
    "ExecuteTime": {
     "end_time": "2022-01-10T04:28:08.407978Z",
     "start_time": "2022-01-10T04:28:08.389611Z"
    }
   },
   "outputs": [
    {
     "name": "stdout",
     "output_type": "stream",
     "text": [
      "a * b =  10\n"
     ]
    }
   ],
   "source": [
    "a_multiply_b = a * b\n",
    "print('a * b = ', a_multiply_b)"
   ]
  },
  {
   "cell_type": "code",
   "execution_count": 199,
   "metadata": {
    "ExecuteTime": {
     "end_time": "2022-01-10T04:28:08.407978Z",
     "start_time": "2022-01-10T04:28:08.389611Z"
    }
   },
   "outputs": [
    {
     "name": "stdout",
     "output_type": "stream",
     "text": [
      "a / b =  2.5\n"
     ]
    }
   ],
   "source": [
    "a_divide_b = a / b\n",
    "print('a / b = ', a_divide_b)"
   ]
  },
  {
   "cell_type": "code",
   "execution_count": 200,
   "metadata": {
    "ExecuteTime": {
     "end_time": "2022-01-10T04:28:08.407978Z",
     "start_time": "2022-01-10T04:28:08.389611Z"
    }
   },
   "outputs": [
    {
     "name": "stdout",
     "output_type": "stream",
     "text": [
      "a // b =  2\n"
     ]
    }
   ],
   "source": [
    "a_floor_divide_b = a // b\n",
    "print('a // b = ', a_floor_divide_b)"
   ]
  },
  {
   "cell_type": "code",
   "execution_count": 201,
   "metadata": {
    "ExecuteTime": {
     "end_time": "2022-01-10T04:28:08.407978Z",
     "start_time": "2022-01-10T04:28:08.389611Z"
    }
   },
   "outputs": [
    {
     "name": "stdout",
     "output_type": "stream",
     "text": [
      "a % b =  1\n"
     ]
    }
   ],
   "source": [
    "a_modulus_b = a % b\n",
    "print('a % b = ', a_modulus_b)"
   ]
  },
  {
   "cell_type": "code",
   "execution_count": 202,
   "metadata": {
    "ExecuteTime": {
     "end_time": "2022-01-10T04:28:08.407978Z",
     "start_time": "2022-01-10T04:28:08.389611Z"
    }
   },
   "outputs": [
    {
     "name": "stdout",
     "output_type": "stream",
     "text": [
      "a ** b =  25\n"
     ]
    }
   ],
   "source": [
    "a_power_b = a ** b\n",
    "print('a ** b = ', a_power_b)"
   ]
  },
  {
   "cell_type": "markdown",
   "metadata": {},
   "source": [
    "### 7.2. Comparison operators\n",
    "|Operator|Name|Example|\n",
    "|-|-|-|\n",
    "|==|Equal|x == y|\n",
    "|!=|Not equal|x != y|\n",
    "|>|Greater than|x > y|\n",
    "|>=|Greater than or equal to|x >= y|\n",
    "|<|Less than|x < y|\n",
    "|<=|Less than or equal to|x <= y|"
   ]
  },
  {
   "cell_type": "code",
   "execution_count": 203,
   "metadata": {},
   "outputs": [],
   "source": [
    "a = 5\n",
    "b = 2\n",
    "c = 5"
   ]
  },
  {
   "cell_type": "code",
   "execution_count": 204,
   "metadata": {},
   "outputs": [
    {
     "data": {
      "text/plain": [
       "True"
      ]
     },
     "execution_count": 204,
     "metadata": {},
     "output_type": "execute_result"
    }
   ],
   "source": [
    "# 5 == 5?\n",
    "a == c"
   ]
  },
  {
   "cell_type": "code",
   "execution_count": 205,
   "metadata": {
    "scrolled": true
   },
   "outputs": [
    {
     "data": {
      "text/plain": [
       "False"
      ]
     },
     "execution_count": 205,
     "metadata": {},
     "output_type": "execute_result"
    }
   ],
   "source": [
    "# 5 == 2?\n",
    "a == b"
   ]
  },
  {
   "cell_type": "code",
   "execution_count": 206,
   "metadata": {},
   "outputs": [
    {
     "data": {
      "text/plain": [
       "False"
      ]
     },
     "execution_count": 206,
     "metadata": {},
     "output_type": "execute_result"
    }
   ],
   "source": [
    "# 5 != 5?\n",
    "a != c"
   ]
  },
  {
   "cell_type": "code",
   "execution_count": 207,
   "metadata": {},
   "outputs": [
    {
     "data": {
      "text/plain": [
       "True"
      ]
     },
     "execution_count": 207,
     "metadata": {},
     "output_type": "execute_result"
    }
   ],
   "source": [
    "# 5 != 2\n",
    "a != b"
   ]
  },
  {
   "cell_type": "code",
   "execution_count": 208,
   "metadata": {},
   "outputs": [
    {
     "data": {
      "text/plain": [
       "False"
      ]
     },
     "execution_count": 208,
     "metadata": {},
     "output_type": "execute_result"
    }
   ],
   "source": [
    "# 5 > 5\n",
    "a > c"
   ]
  },
  {
   "cell_type": "code",
   "execution_count": 209,
   "metadata": {},
   "outputs": [
    {
     "data": {
      "text/plain": [
       "True"
      ]
     },
     "execution_count": 209,
     "metadata": {},
     "output_type": "execute_result"
    }
   ],
   "source": [
    "# 5 >= 5\n",
    "a >= c"
   ]
  },
  {
   "cell_type": "code",
   "execution_count": 210,
   "metadata": {},
   "outputs": [
    {
     "data": {
      "text/plain": [
       "True"
      ]
     },
     "execution_count": 210,
     "metadata": {},
     "output_type": "execute_result"
    }
   ],
   "source": [
    "# 5 > 2\n",
    "a > b"
   ]
  },
  {
   "cell_type": "code",
   "execution_count": 211,
   "metadata": {},
   "outputs": [
    {
     "data": {
      "text/plain": [
       "True"
      ]
     },
     "execution_count": 211,
     "metadata": {},
     "output_type": "execute_result"
    }
   ],
   "source": [
    "# 5 >= 2\n",
    "a >= b"
   ]
  },
  {
   "cell_type": "code",
   "execution_count": 212,
   "metadata": {},
   "outputs": [
    {
     "data": {
      "text/plain": [
       "False"
      ]
     },
     "execution_count": 212,
     "metadata": {},
     "output_type": "execute_result"
    }
   ],
   "source": [
    "# 5 < 5\n",
    "a < c"
   ]
  },
  {
   "cell_type": "code",
   "execution_count": 213,
   "metadata": {},
   "outputs": [
    {
     "data": {
      "text/plain": [
       "True"
      ]
     },
     "execution_count": 213,
     "metadata": {},
     "output_type": "execute_result"
    }
   ],
   "source": [
    "# 5 <= 5\n",
    "a <= c"
   ]
  },
  {
   "cell_type": "code",
   "execution_count": 214,
   "metadata": {},
   "outputs": [
    {
     "data": {
      "text/plain": [
       "True"
      ]
     },
     "execution_count": 214,
     "metadata": {},
     "output_type": "execute_result"
    }
   ],
   "source": [
    "# 2 < 5\n",
    "b < c"
   ]
  },
  {
   "cell_type": "code",
   "execution_count": 215,
   "metadata": {},
   "outputs": [
    {
     "data": {
      "text/plain": [
       "True"
      ]
     },
     "execution_count": 215,
     "metadata": {},
     "output_type": "execute_result"
    }
   ],
   "source": [
    "# 2 <= 5\n",
    "b <= c"
   ]
  },
  {
   "cell_type": "markdown",
   "metadata": {},
   "source": [
    "### 7.3. Logical operators\n",
    "|Operator|Name|Example|Result|\n",
    "|-|-|-|-|\n",
    "|and|Returns True if both statements are True|(2 < 5) and  (2 < 10)|True|\n",
    "|and|Returns False if one of these statements is False|(2 < 5) and  (2 > 10)|False|\n",
    "|or|Returns True if one of these statements is True|(2 < 5) or  (2 > 10)|True|\n",
    "|or|Returns False if all of these statements are False|(2 > 5) or  (2 > 10)|False|\n",
    "|not|Returns False if the result is True|not(2 < 5)|False|\n",
    "|not|Returns True if the result is False|not(2 > 5)|True|\n",
    "|in|Return True if the item is in a sequence|1 in [1, 2, 3]|True|\n",
    "|in|Return False if the item is not in a sequence|10 in [1, 2, 3]|False|"
   ]
  },
  {
   "cell_type": "code",
   "execution_count": 216,
   "metadata": {},
   "outputs": [],
   "source": [
    "a = 2\n",
    "b = 5\n",
    "c = 10"
   ]
  },
  {
   "cell_type": "code",
   "execution_count": 217,
   "metadata": {},
   "outputs": [
    {
     "data": {
      "text/plain": [
       "True"
      ]
     },
     "execution_count": 217,
     "metadata": {},
     "output_type": "execute_result"
    }
   ],
   "source": [
    "# (2 < 5) and (2 < 10)\n",
    "(a < b) and (a < c)"
   ]
  },
  {
   "cell_type": "code",
   "execution_count": 218,
   "metadata": {},
   "outputs": [
    {
     "data": {
      "text/plain": [
       "False"
      ]
     },
     "execution_count": 218,
     "metadata": {},
     "output_type": "execute_result"
    }
   ],
   "source": [
    "# (2 < 5) and (2 > 10)\n",
    "(a < b) and (a > c)"
   ]
  },
  {
   "cell_type": "code",
   "execution_count": 219,
   "metadata": {},
   "outputs": [
    {
     "data": {
      "text/plain": [
       "True"
      ]
     },
     "execution_count": 219,
     "metadata": {},
     "output_type": "execute_result"
    }
   ],
   "source": [
    "# (2 < 5) or (2 > 10)\n",
    "(a < b) or (a > c)"
   ]
  },
  {
   "cell_type": "code",
   "execution_count": 220,
   "metadata": {},
   "outputs": [
    {
     "data": {
      "text/plain": [
       "False"
      ]
     },
     "execution_count": 220,
     "metadata": {},
     "output_type": "execute_result"
    }
   ],
   "source": [
    "# (2 > 5) or (2 > 10)\n",
    "(a > b) or (a > c)"
   ]
  },
  {
   "cell_type": "code",
   "execution_count": 221,
   "metadata": {},
   "outputs": [
    {
     "data": {
      "text/plain": [
       "False"
      ]
     },
     "execution_count": 221,
     "metadata": {},
     "output_type": "execute_result"
    }
   ],
   "source": [
    "# not(2 < 5)\n",
    "not(a < b)"
   ]
  },
  {
   "cell_type": "code",
   "execution_count": 222,
   "metadata": {},
   "outputs": [
    {
     "data": {
      "text/plain": [
       "True"
      ]
     },
     "execution_count": 222,
     "metadata": {},
     "output_type": "execute_result"
    }
   ],
   "source": [
    "# not(2 > 5)\n",
    "not(a > b)"
   ]
  },
  {
   "cell_type": "code",
   "execution_count": 223,
   "metadata": {},
   "outputs": [
    {
     "data": {
      "text/plain": [
       "True"
      ]
     },
     "execution_count": 223,
     "metadata": {},
     "output_type": "execute_result"
    }
   ],
   "source": [
    "# 2 in [2, 5, 10]\n",
    "2 in [a, b, c]"
   ]
  },
  {
   "cell_type": "code",
   "execution_count": 224,
   "metadata": {},
   "outputs": [
    {
     "data": {
      "text/plain": [
       "False"
      ]
     },
     "execution_count": 224,
     "metadata": {},
     "output_type": "execute_result"
    }
   ],
   "source": [
    "# 10 in [2, 5, 10]\n",
    "3 in [a, b, c]"
   ]
  },
  {
   "cell_type": "markdown",
   "metadata": {},
   "source": [
    "### 7.4. String concatenation by using `+`"
   ]
  },
  {
   "cell_type": "markdown",
   "metadata": {},
   "source": [
    "#### String concatenation"
   ]
  },
  {
   "cell_type": "code",
   "execution_count": 225,
   "metadata": {
    "ExecuteTime": {
     "end_time": "2022-01-10T04:28:55.310791Z",
     "start_time": "2022-01-10T04:28:55.294567Z"
    }
   },
   "outputs": [
    {
     "name": "stdout",
     "output_type": "stream",
     "text": [
      "string 1\n",
      "string 2\n"
     ]
    }
   ],
   "source": [
    "d = 'string 1'\n",
    "e = 'string 2'\n",
    "\n",
    "print(d)\n",
    "print(e)"
   ]
  },
  {
   "cell_type": "code",
   "execution_count": 226,
   "metadata": {
    "ExecuteTime": {
     "end_time": "2022-01-10T04:28:55.310791Z",
     "start_time": "2022-01-10T04:28:55.294567Z"
    }
   },
   "outputs": [
    {
     "name": "stdout",
     "output_type": "stream",
     "text": [
      "string 1string 2\n"
     ]
    }
   ],
   "source": [
    "f = d + e\n",
    "print(f)"
   ]
  },
  {
   "cell_type": "markdown",
   "metadata": {},
   "source": [
    "#### List concatenation"
   ]
  },
  {
   "cell_type": "code",
   "execution_count": 227,
   "metadata": {
    "scrolled": true
   },
   "outputs": [
    {
     "name": "stdout",
     "output_type": "stream",
     "text": [
      "[1, 2, 3]\n",
      "['a', 'b', 'c']\n"
     ]
    }
   ],
   "source": [
    "u = [1, 2, 3]\n",
    "v = ['a', 'b', 'c']\n",
    "\n",
    "print(u)\n",
    "print(v)"
   ]
  },
  {
   "cell_type": "code",
   "execution_count": 228,
   "metadata": {},
   "outputs": [
    {
     "name": "stdout",
     "output_type": "stream",
     "text": [
      "[1, 2, 3, 'a', 'b', 'c']\n"
     ]
    }
   ],
   "source": [
    "new_list = u + v\n",
    "\n",
    "print(new_list)"
   ]
  },
  {
   "cell_type": "code",
   "execution_count": 229,
   "metadata": {},
   "outputs": [
    {
     "name": "stdout",
     "output_type": "stream",
     "text": [
      "[1, 2, 3]\n",
      "['a', 'b', 'c']\n"
     ]
    }
   ],
   "source": [
    "print(u)\n",
    "print(v)"
   ]
  }
 ],
 "metadata": {
  "kernelspec": {
   "display_name": "Python 3",
   "language": "python",
   "name": "python3"
  },
  "language_info": {
   "codemirror_mode": {
    "name": "ipython",
    "version": 3
   },
   "file_extension": ".py",
   "mimetype": "text/x-python",
   "name": "python",
   "nbconvert_exporter": "python",
   "pygments_lexer": "ipython3",
   "version": "3.8.12"
  },
  "toc": {
   "base_numbering": 1,
   "nav_menu": {},
   "number_sections": false,
   "sideBar": true,
   "skip_h1_title": false,
   "title_cell": "Table of Contents",
   "title_sidebar": "Table of Contents",
   "toc_cell": false,
   "toc_position": {
    "height": "calc(100% - 180px)",
    "left": "10px",
    "top": "150px",
    "width": "312px"
   },
   "toc_section_display": true,
   "toc_window_display": true
  }
 },
 "nbformat": 4,
 "nbformat_minor": 5
}
