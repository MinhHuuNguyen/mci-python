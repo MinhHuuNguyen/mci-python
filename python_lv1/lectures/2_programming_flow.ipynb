{
 "cells": [
  {
   "cell_type": "markdown",
   "metadata": {},
   "source": [
    "# LESSON 2: PYTHON PROGRAMMING FLOW\n",
    "<img src=\"../images/py_flow.jpeg\" width=\"400px\"/>"
   ]
  },
  {
   "cell_type": "markdown",
   "metadata": {
    "tags": []
   },
   "source": [
    "## 1. Condition\n",
    "### 1.1. IF .... ELSE ....\n",
    "``` python\n",
    "if <CONDITION>:\n",
    "    <DO_SOME_CODE_1>\n",
    "else:\n",
    "    <DO_SOME_CODE_2>\n",
    "```"
   ]
  },
  {
   "cell_type": "code",
   "execution_count": 1,
   "metadata": {
    "ExecuteTime": {
     "end_time": "2021-12-29T04:58:31.180386Z",
     "start_time": "2021-12-29T04:58:31.173319Z"
    }
   },
   "outputs": [
    {
     "name": "stdout",
     "output_type": "stream",
     "text": [
      "Test number is even!!!\n"
     ]
    }
   ],
   "source": [
    "test_number = 10\n",
    "\n",
    "if test_number % 2 == 0:\n",
    "    print('Test number is even!!!')\n",
    "else:\n",
    "    print('Test number is odd!!!')"
   ]
  },
  {
   "cell_type": "markdown",
   "metadata": {
    "tags": []
   },
   "source": [
    "### 1.2. IF .... ELIF .... ELSE ....\n",
    "``` python\n",
    "if <CONDITION_1>:\n",
    "    <DO_SOME_CODE_1>\n",
    "elif <CONDITION_2>:\n",
    "    <DO_SOME_CODE_2>\n",
    "...\n",
    "elif <CONDITION_N>:\n",
    "    <DO_SOME_CODE_N>\n",
    "else:\n",
    "    <DO_SOME_CODE_N+1>\n",
    "```"
   ]
  },
  {
   "cell_type": "code",
   "execution_count": 2,
   "metadata": {
    "ExecuteTime": {
     "end_time": "2021-12-29T04:58:31.196802Z",
     "start_time": "2021-12-29T04:58:31.187418Z"
    }
   },
   "outputs": [
    {
     "name": "stdout",
     "output_type": "stream",
     "text": [
      "Good noon!!!\n"
     ]
    }
   ],
   "source": [
    "time = 12\n",
    "\n",
    "if 5 <= time and time < 11:\n",
    "    print('Good morning!!!')\n",
    "elif 11 <= time and time < 13:\n",
    "    print('Good noon!!!')\n",
    "elif 13 <= time and time < 18:\n",
    "    print('Good afternoon!!!')\n",
    "elif 18 <= time and time < 23:\n",
    "    print('Good evening!!!')\n",
    "elif 23 <= time or time < 5:\n",
    "    print('Good night!!!')\n",
    "else:\n",
    "    print('Never print this line')"
   ]
  },
  {
   "cell_type": "markdown",
   "metadata": {},
   "source": [
    "### 1.3. Inline structure\n",
    "#### Inline IF ...\n",
    "``` python \n",
    "if <CONDITION>: <DO_SOME_CODE>\n",
    "```\n",
    "\n",
    "#### Inline IF ... ELSE ...\n",
    "``` python\n",
    "<DO_SOME_CODE_1> if <CONDITION>: <DO_SOME_CODE_2>\n",
    "```"
   ]
  },
  {
   "cell_type": "code",
   "execution_count": 3,
   "metadata": {
    "ExecuteTime": {
     "end_time": "2021-12-29T04:58:31.217504Z",
     "start_time": "2021-12-29T04:58:31.206446Z"
    }
   },
   "outputs": [
    {
     "name": "stdout",
     "output_type": "stream",
     "text": [
      "I go to school!\n"
     ]
    }
   ],
   "source": [
    "weather = 'sunny'\n",
    "\n",
    "if weather == 'sunny': print('I go to school!')"
   ]
  },
  {
   "cell_type": "code",
   "execution_count": 4,
   "metadata": {
    "ExecuteTime": {
     "end_time": "2021-12-29T04:58:31.232558Z",
     "start_time": "2021-12-29T04:58:31.223345Z"
    },
    "scrolled": true
   },
   "outputs": [
    {
     "name": "stdout",
     "output_type": "stream",
     "text": [
      "I go to sleep!\n"
     ]
    }
   ],
   "source": [
    "weather = 'rainy'\n",
    "\n",
    "print('I go to school!') if weather == 'sunny' else print('I go to sleep!')"
   ]
  },
  {
   "cell_type": "markdown",
   "metadata": {},
   "source": [
    "### 1.4. PASS\n",
    "Because the `if`, `elif` or `else` statement cannot be empty, we can use `pass` if we don't want to put any code in `if`, `elif` or `else` statement."
   ]
  },
  {
   "cell_type": "code",
   "execution_count": 5,
   "metadata": {
    "ExecuteTime": {
     "end_time": "2021-12-29T04:58:31.244893Z",
     "start_time": "2021-12-29T04:58:31.237193Z"
    }
   },
   "outputs": [],
   "source": [
    "time = 14\n",
    "\n",
    "if 5 <= time and time < 11:\n",
    "    print('Good morning!!!')\n",
    "elif 11 <= time and time < 13:\n",
    "    print('Good noon!!!')\n",
    "elif 13 <= time and time < 18:\n",
    "    pass\n",
    "elif 18 <= time and time < 23:\n",
    "    print('Good evening!!!')\n",
    "elif 23 <= time or time < 5:\n",
    "    pass\n",
    "else:\n",
    "    print('Never print this line')"
   ]
  },
  {
   "cell_type": "markdown",
   "metadata": {
    "tags": []
   },
   "source": [
    "## 2. Loop\n",
    "Python has two primitive loop commands: `for` loop and `while` loop\n",
    "### 2.1. FOR loop\n",
    "#### Simple FOR loop\n",
    "``` python\n",
    "for <ITEM_IN_SEQUENCE> in <SEQUENCE_OR_GENERATOR>:\n",
    "    <DO_SOME_CODE>\n",
    "```"
   ]
  },
  {
   "cell_type": "code",
   "execution_count": 6,
   "metadata": {
    "ExecuteTime": {
     "end_time": "2021-12-29T04:58:31.258970Z",
     "start_time": "2021-12-29T04:58:31.250444Z"
    }
   },
   "outputs": [
    {
     "name": "stdout",
     "output_type": "stream",
     "text": [
      "apple\n",
      "banana\n",
      "lemon\n",
      "grape\n"
     ]
    }
   ],
   "source": [
    "fruit_list = ['apple', 'banana', 'lemon', 'grape']\n",
    "\n",
    "print(fruit_list[0])\n",
    "print(fruit_list[1])\n",
    "print(fruit_list[2])\n",
    "print(fruit_list[3])"
   ]
  },
  {
   "cell_type": "code",
   "execution_count": 7,
   "metadata": {
    "ExecuteTime": {
     "end_time": "2021-12-29T04:58:31.271504Z",
     "start_time": "2021-12-29T04:58:31.264000Z"
    }
   },
   "outputs": [
    {
     "name": "stdout",
     "output_type": "stream",
     "text": [
      "apple\n",
      "banana\n",
      "lemon\n",
      "grape\n"
     ]
    }
   ],
   "source": [
    "fruit_list = ['apple', 'banana', 'lemon', 'grape']\n",
    "\n",
    "for fruit in fruit_list:\n",
    "    print(fruit)"
   ]
  },
  {
   "cell_type": "markdown",
   "metadata": {
    "tags": []
   },
   "source": [
    "#### FOR loop with `enumerate`\n",
    "``` python\n",
    "for <INDEX>, <ITEM_IN_SEQUENCE> in enumerate(<SEQUENCE_OR_GENERATOR>):\n",
    "    <DO_SOME_CODE>\n",
    "```"
   ]
  },
  {
   "cell_type": "code",
   "execution_count": 8,
   "metadata": {
    "ExecuteTime": {
     "end_time": "2021-12-29T04:58:31.293685Z",
     "start_time": "2021-12-29T04:58:31.285007Z"
    }
   },
   "outputs": [
    {
     "name": "stdout",
     "output_type": "stream",
     "text": [
      "0 apple\n",
      "1 banana\n",
      "2 lemon\n",
      "3 grape\n"
     ]
    }
   ],
   "source": [
    "fruit_list = ['apple', 'banana', 'lemon', 'grape']\n",
    "\n",
    "for index, fruit in enumerate(fruit_list):\n",
    "    print(index, fruit)"
   ]
  },
  {
   "cell_type": "markdown",
   "metadata": {
    "tags": []
   },
   "source": [
    "#### FOR loop with `tqdm`\n",
    "`tqdm` derives from the Arabic word taqaddum which can mean “progress,” and is an abbreviation for “I love you so much” in Spanish (te quiero demasiado).\n",
    "\n",
    "Install tqdm by running this command in jupyter notebook: \n",
    "`!conda install -c conda-forge tqdm -y`\n",
    "\n",
    "Instantly make your loops show a smart progress meter - just wrap any iterable with `tqdm(iterable)`, and you’re done!\n",
    "\n",
    "\n",
    "``` python\n",
    "for <ITEM_IN_SEQUENCE> in tqdm(<SEQUENCE_OR_GENERATOR>):\n",
    "    <DO_SOME_CODE>\n",
    "```"
   ]
  },
  {
   "cell_type": "code",
   "execution_count": 9,
   "metadata": {
    "ExecuteTime": {
     "end_time": "2021-12-29T04:58:41.413759Z",
     "start_time": "2021-12-29T04:58:34.508712Z"
    },
    "scrolled": false
   },
   "outputs": [
    {
     "name": "stdout",
     "output_type": "stream",
     "text": [
      "40000000\n"
     ]
    },
    {
     "name": "stderr",
     "output_type": "stream",
     "text": [
      "100%|██████████████████████████| 40000000/40000000 [00:09<00:00, 4186196.18it/s]\n"
     ]
    }
   ],
   "source": [
    "from tqdm import tqdm\n",
    "\n",
    "fruit_list = ['apple', 'banana', 'lemon', 'grape'] * 10000000\n",
    "print(len(fruit_list))\n",
    "for fruit in tqdm(fruit_list, ncols=80):\n",
    "    pass"
   ]
  },
  {
   "cell_type": "markdown",
   "metadata": {
    "tags": []
   },
   "source": [
    "#### FOR loop with `range`\n",
    "`range` is a function which return an object call `generator`. This `generator` will generate integer from a range of integer.\n",
    "\n",
    "``` python\n",
    "for <ITEM_IN_SEQUENCE> in range(<START>, <STOP>, <STEP>):\n",
    "    <DO_SOME_CODE>\n",
    "```"
   ]
  },
  {
   "cell_type": "code",
   "execution_count": 10,
   "metadata": {
    "ExecuteTime": {
     "end_time": "2021-12-29T04:58:31.293685Z",
     "start_time": "2021-12-29T04:58:31.285007Z"
    }
   },
   "outputs": [
    {
     "name": "stdout",
     "output_type": "stream",
     "text": [
      "0\n",
      "1\n",
      "2\n",
      "3\n",
      "4\n",
      "5\n",
      "6\n",
      "7\n",
      "8\n",
      "9\n"
     ]
    }
   ],
   "source": [
    "for i in range(10):\n",
    "    print(i)"
   ]
  },
  {
   "cell_type": "code",
   "execution_count": 11,
   "metadata": {
    "ExecuteTime": {
     "end_time": "2021-12-29T04:58:31.293685Z",
     "start_time": "2021-12-29T04:58:31.285007Z"
    }
   },
   "outputs": [
    {
     "name": "stdout",
     "output_type": "stream",
     "text": [
      "2\n",
      "3\n",
      "4\n",
      "5\n",
      "6\n",
      "7\n",
      "8\n",
      "9\n"
     ]
    }
   ],
   "source": [
    "for i in range(2, 10, 1):\n",
    "    print(i)"
   ]
  },
  {
   "cell_type": "markdown",
   "metadata": {
    "tags": []
   },
   "source": [
    "#### FOR and list `append()`\n",
    "Normal type"
   ]
  },
  {
   "cell_type": "code",
   "execution_count": 12,
   "metadata": {},
   "outputs": [
    {
     "name": "stdout",
     "output_type": "stream",
     "text": [
      "9.86 ms ± 408 µs per loop (mean ± std. dev. of 7 runs, 100 loops each)\n"
     ]
    }
   ],
   "source": [
    "%%timeit\n",
    "a = []\n",
    "for i in range(100000):\n",
    "    a.append(i)\n",
    "\n",
    "# print(a)"
   ]
  },
  {
   "cell_type": "markdown",
   "metadata": {},
   "source": [
    "List comprehensive type"
   ]
  },
  {
   "cell_type": "code",
   "execution_count": 13,
   "metadata": {},
   "outputs": [
    {
     "name": "stdout",
     "output_type": "stream",
     "text": [
      "4.93 ms ± 233 µs per loop (mean ± std. dev. of 7 runs, 100 loops each)\n"
     ]
    }
   ],
   "source": [
    "%%timeit\n",
    "a = [i for i in range(100000)]\n",
    "# print(a)"
   ]
  },
  {
   "cell_type": "markdown",
   "metadata": {
    "tags": []
   },
   "source": [
    "### 2.2. WHILE loop\n",
    "With the `while` loop we can execute a set of statements as long as a condition is true. <br><br>\n",
    "``` python\n",
    "while <CONDITION>:\n",
    "    <DO_SOME_CODE>\n",
    "```"
   ]
  },
  {
   "cell_type": "code",
   "execution_count": 14,
   "metadata": {
    "ExecuteTime": {
     "end_time": "2021-12-29T04:58:41.465772Z",
     "start_time": "2021-12-29T04:58:41.440499Z"
    }
   },
   "outputs": [
    {
     "name": "stdout",
     "output_type": "stream",
     "text": [
      "test_number =  1\n",
      "test_number =  2\n",
      "test_number =  3\n",
      "test_number =  4\n",
      "test_number =  5\n"
     ]
    }
   ],
   "source": [
    "test_number = 1\n",
    "\n",
    "while test_number < 6:\n",
    "    print('test_number = ', test_number)\n",
    "    test_number = test_number + 1"
   ]
  },
  {
   "cell_type": "code",
   "execution_count": 15,
   "metadata": {
    "ExecuteTime": {
     "end_time": "2021-12-29T04:58:41.521423Z",
     "start_time": "2021-12-29T04:58:41.483351Z"
    }
   },
   "outputs": [
    {
     "name": "stdout",
     "output_type": "stream",
     "text": [
      "test_number =  1\n",
      "test_number =  2\n",
      "test_number =  3\n",
      "test_number =  4\n",
      "test_number =  5\n",
      "The while loop is stoped, test_number >= 6\n"
     ]
    }
   ],
   "source": [
    "test_number = 1\n",
    "\n",
    "while test_number < 6:\n",
    "    print('test_number = ', test_number)\n",
    "    test_number += 1\n",
    "else:\n",
    "    print('The while loop is stoped, test_number >= 6')"
   ]
  },
  {
   "cell_type": "markdown",
   "metadata": {
    "tags": []
   },
   "source": [
    "### 2.3. BREAK\n",
    "The `break` statement can stop the **nearest** loop even if the condition is True."
   ]
  },
  {
   "cell_type": "code",
   "execution_count": 16,
   "metadata": {
    "ExecuteTime": {
     "end_time": "2021-12-29T04:58:41.540164Z",
     "start_time": "2021-12-29T04:58:41.527069Z"
    }
   },
   "outputs": [
    {
     "name": "stdout",
     "output_type": "stream",
     "text": [
      "test_number =  1\n"
     ]
    }
   ],
   "source": [
    "test_number = 1\n",
    "\n",
    "while test_number < 6:\n",
    "    print('test_number = ', test_number)\n",
    "    test_number += 1\n",
    "    break"
   ]
  },
  {
   "cell_type": "code",
   "execution_count": 17,
   "metadata": {
    "ExecuteTime": {
     "end_time": "2021-12-29T04:58:41.566978Z",
     "start_time": "2021-12-29T04:58:41.558977Z"
    }
   },
   "outputs": [
    {
     "name": "stdout",
     "output_type": "stream",
     "text": [
      "x =  15 y =  1\n",
      "x =  14 y =  1\n",
      "x =  13 y =  1\n",
      "x =  12 y =  1\n",
      "x =  11 y =  1\n"
     ]
    }
   ],
   "source": [
    "x = 15\n",
    "\n",
    "while x > 10:\n",
    "    y = 1\n",
    "    while y < 6:\n",
    "        print('x = ', x, 'y = ', y)\n",
    "        y += 1\n",
    "        break\n",
    "    x -= 1"
   ]
  },
  {
   "cell_type": "code",
   "execution_count": 18,
   "metadata": {
    "ExecuteTime": {
     "end_time": "2021-12-29T04:58:41.654547Z",
     "start_time": "2021-12-29T04:58:41.589898Z"
    }
   },
   "outputs": [
    {
     "name": "stdout",
     "output_type": "stream",
     "text": [
      "apple\n"
     ]
    }
   ],
   "source": [
    "fruit_list = ['apple', 'banana', 'lemon', 'grape']\n",
    "for fruit in fruit_list:\n",
    "    print(fruit)\n",
    "    break"
   ]
  },
  {
   "cell_type": "code",
   "execution_count": 19,
   "metadata": {
    "ExecuteTime": {
     "end_time": "2021-12-29T04:58:41.677801Z",
     "start_time": "2021-12-29T04:58:41.667586Z"
    }
   },
   "outputs": [
    {
     "name": "stdout",
     "output_type": "stream",
     "text": [
      "apple 1\n",
      "banana 1\n",
      "lemon 1\n",
      "grape 1\n"
     ]
    }
   ],
   "source": [
    "fruit_list = ['apple', 'banana', 'lemon', 'grape']\n",
    "number_list = [1, 2, 3, 4, 5]\n",
    "\n",
    "for fruit in fruit_list:\n",
    "    for number in number_list:\n",
    "        print(fruit, number)\n",
    "        break"
   ]
  },
  {
   "cell_type": "markdown",
   "metadata": {
    "tags": []
   },
   "source": [
    "### 2.4. CONTINUE\n",
    "The `continue` statement can stop the current iteration, and continue with the next iteration."
   ]
  },
  {
   "cell_type": "code",
   "execution_count": 20,
   "metadata": {
    "ExecuteTime": {
     "end_time": "2021-12-29T04:58:41.696500Z",
     "start_time": "2021-12-29T04:58:41.687526Z"
    }
   },
   "outputs": [
    {
     "name": "stdout",
     "output_type": "stream",
     "text": [
      "apple\n",
      "banana\n",
      "grape\n"
     ]
    }
   ],
   "source": [
    "fruit_list = ['apple', 'banana', 'lemon', 'grape']\n",
    "\n",
    "for fruit in fruit_list:\n",
    "    if fruit == 'lemon':\n",
    "        pass\n",
    "        continue\n",
    "\n",
    "    print(fruit)"
   ]
  },
  {
   "cell_type": "markdown",
   "metadata": {
    "tags": []
   },
   "source": [
    "## 3. Function"
   ]
  },
  {
   "cell_type": "markdown",
   "metadata": {},
   "source": [
    "### 3.1. Simple function\n",
    "``` python\n",
    "def <FUNCTION_NAME> (<ARGUMENT_1>, <ARGUMENT_2>, ..., <ARGUMENT_N>):\n",
    "    <DO_SOME_CODE>\n",
    "    return <RETURNED_VALUE>\n",
    "```"
   ]
  },
  {
   "cell_type": "code",
   "execution_count": 21,
   "metadata": {
    "ExecuteTime": {
     "end_time": "2021-12-29T04:58:41.715261Z",
     "start_time": "2021-12-29T04:58:41.704795Z"
    }
   },
   "outputs": [],
   "source": [
    "def add(a, b):\n",
    "    sum_ab = a + b\n",
    "    return sum_ab"
   ]
  },
  {
   "cell_type": "code",
   "execution_count": 22,
   "metadata": {
    "ExecuteTime": {
     "end_time": "2021-12-29T04:58:41.734994Z",
     "start_time": "2021-12-29T04:58:41.724145Z"
    }
   },
   "outputs": [],
   "source": [
    "def add_multiple(number_list):\n",
    "    sum_list = 0\n",
    "    for number in number_list:\n",
    "        sum_list = add(sum_list, number)\n",
    "    return sum_list"
   ]
  },
  {
   "cell_type": "code",
   "execution_count": 23,
   "metadata": {
    "ExecuteTime": {
     "end_time": "2021-12-29T04:58:41.751409Z",
     "start_time": "2021-12-29T04:58:41.742326Z"
    }
   },
   "outputs": [],
   "source": [
    "def add_odd(number_list):\n",
    "    odd_sum_list = 0\n",
    "    for number in number_list:\n",
    "        if number % 2 == 1:\n",
    "            odd_sum_list = add(odd_sum_list, number)\n",
    "    return odd_sum_list"
   ]
  },
  {
   "cell_type": "code",
   "execution_count": 24,
   "metadata": {
    "ExecuteTime": {
     "end_time": "2021-12-29T04:58:41.768807Z",
     "start_time": "2021-12-29T04:58:41.757585Z"
    }
   },
   "outputs": [
    {
     "name": "stdout",
     "output_type": "stream",
     "text": [
      "3\n"
     ]
    }
   ],
   "source": [
    "a = 1\n",
    "b = 2\n",
    "print(add(a, b))"
   ]
  },
  {
   "cell_type": "code",
   "execution_count": 25,
   "metadata": {
    "ExecuteTime": {
     "end_time": "2021-12-29T04:58:42.158590Z",
     "start_time": "2021-12-29T04:58:41.775630Z"
    }
   },
   "outputs": [
    {
     "ename": "TypeError",
     "evalue": "unsupported operand type(s) for +: 'int' and 'str'",
     "output_type": "error",
     "traceback": [
      "\u001b[0;31m---------------------------------------------------------------------------\u001b[0m",
      "\u001b[0;31mTypeError\u001b[0m                                 Traceback (most recent call last)",
      "\u001b[0;32m<ipython-input-25-03e20eddcc19>\u001b[0m in \u001b[0;36m<module>\u001b[0;34m\u001b[0m\n\u001b[1;32m      1\u001b[0m \u001b[0ma\u001b[0m \u001b[0;34m=\u001b[0m \u001b[0;36m1\u001b[0m\u001b[0;34m\u001b[0m\u001b[0;34m\u001b[0m\u001b[0m\n\u001b[1;32m      2\u001b[0m \u001b[0mb\u001b[0m \u001b[0;34m=\u001b[0m \u001b[0;34m'2'\u001b[0m\u001b[0;34m\u001b[0m\u001b[0;34m\u001b[0m\u001b[0m\n\u001b[0;32m----> 3\u001b[0;31m \u001b[0mprint\u001b[0m\u001b[0;34m(\u001b[0m\u001b[0madd\u001b[0m\u001b[0;34m(\u001b[0m\u001b[0ma\u001b[0m\u001b[0;34m,\u001b[0m \u001b[0mb\u001b[0m\u001b[0;34m)\u001b[0m\u001b[0;34m)\u001b[0m\u001b[0;34m\u001b[0m\u001b[0;34m\u001b[0m\u001b[0m\n\u001b[0m",
      "\u001b[0;32m<ipython-input-21-3f3dc4a247f2>\u001b[0m in \u001b[0;36madd\u001b[0;34m(a, b)\u001b[0m\n\u001b[1;32m      1\u001b[0m \u001b[0;32mdef\u001b[0m \u001b[0madd\u001b[0m\u001b[0;34m(\u001b[0m\u001b[0ma\u001b[0m\u001b[0;34m,\u001b[0m \u001b[0mb\u001b[0m\u001b[0;34m)\u001b[0m\u001b[0;34m:\u001b[0m\u001b[0;34m\u001b[0m\u001b[0;34m\u001b[0m\u001b[0m\n\u001b[0;32m----> 2\u001b[0;31m     \u001b[0msum_ab\u001b[0m \u001b[0;34m=\u001b[0m \u001b[0ma\u001b[0m \u001b[0;34m+\u001b[0m \u001b[0mb\u001b[0m\u001b[0;34m\u001b[0m\u001b[0;34m\u001b[0m\u001b[0m\n\u001b[0m\u001b[1;32m      3\u001b[0m     \u001b[0;32mreturn\u001b[0m \u001b[0msum_ab\u001b[0m\u001b[0;34m\u001b[0m\u001b[0;34m\u001b[0m\u001b[0m\n",
      "\u001b[0;31mTypeError\u001b[0m: unsupported operand type(s) for +: 'int' and 'str'"
     ]
    }
   ],
   "source": [
    "a = 1\n",
    "b = '2'\n",
    "print(add(a, b))"
   ]
  },
  {
   "cell_type": "code",
   "execution_count": 26,
   "metadata": {
    "ExecuteTime": {
     "end_time": "2021-12-29T04:58:42.164513Z",
     "start_time": "2021-12-29T04:58:42.164368Z"
    }
   },
   "outputs": [
    {
     "name": "stdout",
     "output_type": "stream",
     "text": [
      "12\n"
     ]
    }
   ],
   "source": [
    "a = '1'\n",
    "b = '2'\n",
    "print(add(a, b))"
   ]
  },
  {
   "cell_type": "code",
   "execution_count": 27,
   "metadata": {
    "ExecuteTime": {
     "end_time": "2021-12-29T04:58:42.168771Z",
     "start_time": "2021-12-29T04:58:42.168722Z"
    }
   },
   "outputs": [
    {
     "name": "stdout",
     "output_type": "stream",
     "text": [
      "number_list [1, 2, 3, 4, 5, 6, 7, 8, 9, 10]\n"
     ]
    }
   ],
   "source": [
    "number_list = [1, 2, 3, 4, 5, 6, 7, 8, 9, 10]\n",
    "print('number_list', number_list)"
   ]
  },
  {
   "cell_type": "code",
   "execution_count": 28,
   "metadata": {
    "ExecuteTime": {
     "end_time": "2021-12-29T04:58:42.172572Z",
     "start_time": "2021-12-29T04:58:42.172498Z"
    }
   },
   "outputs": [
    {
     "name": "stdout",
     "output_type": "stream",
     "text": [
      "55\n"
     ]
    }
   ],
   "source": [
    "print(add_multiple(number_list))"
   ]
  },
  {
   "cell_type": "code",
   "execution_count": 29,
   "metadata": {
    "ExecuteTime": {
     "end_time": "2021-12-29T04:58:42.179269Z",
     "start_time": "2021-12-29T04:58:42.179229Z"
    }
   },
   "outputs": [
    {
     "name": "stdout",
     "output_type": "stream",
     "text": [
      "25\n"
     ]
    }
   ],
   "source": [
    "print(add_odd(number_list))"
   ]
  },
  {
   "cell_type": "markdown",
   "metadata": {},
   "source": [
    "### 3.2. Simple function with default arguments\n",
    "``` python\n",
    "def <FUNCTION_NAME> (<ARGUMENT_1>, <ARGUMENT_2>, ..., <DEFAULT_ARGUMENT>=<DEFAULT_VALUE>):\n",
    "    <DO_SOME_CODE>\n",
    "    return <RETURNED_VALUE>\n",
    "```"
   ]
  },
  {
   "cell_type": "code",
   "execution_count": 30,
   "metadata": {
    "ExecuteTime": {
     "end_time": "2021-12-29T04:58:42.184651Z",
     "start_time": "2021-12-29T04:58:42.184244Z"
    }
   },
   "outputs": [],
   "source": [
    "def x(a, b=10):\n",
    "    return a + b"
   ]
  },
  {
   "cell_type": "code",
   "execution_count": 31,
   "metadata": {
    "ExecuteTime": {
     "end_time": "2021-12-29T04:58:42.189248Z",
     "start_time": "2021-12-29T04:58:42.189196Z"
    },
    "scrolled": true
   },
   "outputs": [
    {
     "data": {
      "text/plain": [
       "15"
      ]
     },
     "execution_count": 31,
     "metadata": {},
     "output_type": "execute_result"
    }
   ],
   "source": [
    "x(5)"
   ]
  },
  {
   "cell_type": "code",
   "execution_count": 32,
   "metadata": {
    "ExecuteTime": {
     "end_time": "2021-12-29T04:58:42.194549Z",
     "start_time": "2021-12-29T04:58:42.194508Z"
    },
    "scrolled": true
   },
   "outputs": [
    {
     "data": {
      "text/plain": [
       "11"
      ]
     },
     "execution_count": 32,
     "metadata": {},
     "output_type": "execute_result"
    }
   ],
   "source": [
    "x(5, 6)"
   ]
  },
  {
   "cell_type": "markdown",
   "metadata": {},
   "source": [
    "### 3.3. `lambda` function\n",
    "``` python\n",
    "lambda <ARGUMENT_1>, <ARGUMENT_2>, ..., <ARGUMENT_N>: DO_SOME_CODE\n",
    "```"
   ]
  },
  {
   "cell_type": "code",
   "execution_count": 33,
   "metadata": {
    "ExecuteTime": {
     "end_time": "2021-12-29T04:58:42.209160Z",
     "start_time": "2021-12-29T04:58:42.209115Z"
    }
   },
   "outputs": [
    {
     "name": "stdout",
     "output_type": "stream",
     "text": [
      "15\n",
      "20\n"
     ]
    }
   ],
   "source": [
    "x = lambda a: a + 10\n",
    "print(x(5))\n",
    "print(x(10))"
   ]
  },
  {
   "cell_type": "code",
   "execution_count": 34,
   "metadata": {
    "ExecuteTime": {
     "end_time": "2021-12-29T04:58:42.216719Z",
     "start_time": "2021-12-29T04:58:42.216676Z"
    }
   },
   "outputs": [
    {
     "name": "stdout",
     "output_type": "stream",
     "text": [
      "30\n"
     ]
    }
   ],
   "source": [
    "x = lambda a, b: a * b\n",
    "print(x(5, 6))"
   ]
  },
  {
   "cell_type": "markdown",
   "metadata": {},
   "source": [
    "## 4. Homework\n",
    "### 4.1. Excercise 1:\n",
    "Write a `function` which has input as an integer and return the sum from 1 to that integer. <br>\n",
    "Write a `function` which has input as an integer and return the sum from 1 to that integer but only even numbers.\n",
    "\n",
    "### 4.2. Excercise 2:\n",
    "Write a `function` to check input number is a prime number or a composite number. If it is a composite number, print all of its divisor.\n",
    "\n",
    "### 4.3. Excercise 3:\n",
    "Write a `function` to calculate the factorial of an integer.\n",
    "\n",
    "### 4.4. Excercise 4:\n",
    "Generate randomly 3 numbers `a, b, c` to form a **quadratic equation**. Write a `function` to solve this equation."
   ]
  },
  {
   "cell_type": "code",
   "execution_count": null,
   "metadata": {},
   "outputs": [],
   "source": []
  }
 ],
 "metadata": {
  "kernelspec": {
   "display_name": "Python 3",
   "language": "python",
   "name": "python3"
  },
  "language_info": {
   "codemirror_mode": {
    "name": "ipython",
    "version": 3
   },
   "file_extension": ".py",
   "mimetype": "text/x-python",
   "name": "python",
   "nbconvert_exporter": "python",
   "pygments_lexer": "ipython3",
   "version": "3.8.12"
  },
  "toc": {
   "base_numbering": 1,
   "nav_menu": {},
   "number_sections": false,
   "sideBar": true,
   "skip_h1_title": false,
   "title_cell": "Table of Contents",
   "title_sidebar": "Table of Contents",
   "toc_cell": false,
   "toc_position": {
    "height": "calc(100% - 180px)",
    "left": "10px",
    "top": "150px",
    "width": "257px"
   },
   "toc_section_display": true,
   "toc_window_display": true
  },
  "toc-autonumbering": false,
  "toc-showcode": false,
  "toc-showmarkdowntxt": false,
  "toc-showtags": false
 },
 "nbformat": 4,
 "nbformat_minor": 5
}
