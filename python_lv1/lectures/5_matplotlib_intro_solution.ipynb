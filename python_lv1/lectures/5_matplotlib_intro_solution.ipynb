{
 "cells": [
  {
   "cell_type": "markdown",
   "metadata": {},
   "source": [
    "# LESSON 5: MATPLOTLIB INTRODUCTION - SOLUTION\n",
    "<img src=\"../images/plt_logo.png\" width=\"400px\"/>"
   ]
  },
  {
   "cell_type": "markdown",
   "metadata": {},
   "source": [
    "## Homework\n",
    "Note:\n",
    "- We use the daily historical sales data from previous lecture in this homework. (Use this [link](https://drive.google.com/file/d/1R83MNlUShY55i3CzlXpMAMcxnEg4Hruw/view) to download this dataset)\n",
    "- All figures must have title, label and legend.\n",
    "\n",
    "### Exercise 1:\n",
    "Randomly choose 3 shops, use `one line plot figure` to show the total turnover of them each month over 34 months (from January 2013 is 0, February 2013 is 1,..., October 2015 is 33.)\n",
    "### Exercise 2:\n",
    "Randomly choose 1 item, use `one combo figure with bar plot and line plot` to show the sales and the turnover of it over 34 months (from January 2013 is 0, February 2013 is 1,..., October 2015 is 33.)\n",
    "### Exercise 3:\n",
    "Randomly choose 3 items, use `one bar plot figure` to show the sales of them in 3 years 2013, 2014, and 2015.\n",
    "### Exercise 4:\n",
    "Randomly choose 1 shop, use `stack plot figure` to show the contribution of turnover of each item each month over 34 months (from January 2013 is 0, February 2013 is 1,..., October 2015 is 33.)\n",
    "### Exercise 5:\n",
    "Randomly choose 1 shop, use `pie plot figure` to show the contribution of turnover (in percent) of each item in 3 years 2013, 2014, and 2015. (1 pie plot figure for each year, use `subplots` to put all 3 figures together)\n",
    "### Exercise 6:\n",
    "Randomly choose 1 item, use `histogram figure` to show the distribution of sales of the item over 34 months (from January 2013 is 0, February 2013 is 1,..., October 2015 is 33.)"
   ]
  },
  {
   "cell_type": "markdown",
   "metadata": {},
   "source": [
    "## Solution"
   ]
  },
  {
   "cell_type": "code",
   "execution_count": 1,
   "metadata": {
    "ExecuteTime": {
     "end_time": "2022-01-11T11:35:21.040537Z",
     "start_time": "2022-01-11T11:35:18.798743Z"
    }
   },
   "outputs": [],
   "source": [
    "import matplotlib.pyplot as plt\n",
    "import pandas as pd\n",
    "import numpy as np\n",
    "from tqdm import tqdm"
   ]
  },
  {
   "cell_type": "code",
   "execution_count": 2,
   "metadata": {
    "ExecuteTime": {
     "end_time": "2022-01-11T11:35:22.611397Z",
     "start_time": "2022-01-11T11:35:21.045413Z"
    }
   },
   "outputs": [
    {
     "data": {
      "text/html": [
       "<div>\n",
       "<style scoped>\n",
       "    .dataframe tbody tr th:only-of-type {\n",
       "        vertical-align: middle;\n",
       "    }\n",
       "\n",
       "    .dataframe tbody tr th {\n",
       "        vertical-align: top;\n",
       "    }\n",
       "\n",
       "    .dataframe thead th {\n",
       "        text-align: right;\n",
       "    }\n",
       "</style>\n",
       "<table border=\"1\" class=\"dataframe\">\n",
       "  <thead>\n",
       "    <tr style=\"text-align: right;\">\n",
       "      <th></th>\n",
       "      <th>date</th>\n",
       "      <th>date_block_num</th>\n",
       "      <th>shop_id</th>\n",
       "      <th>item_id</th>\n",
       "      <th>item_price</th>\n",
       "      <th>item_cnt_day</th>\n",
       "    </tr>\n",
       "  </thead>\n",
       "  <tbody>\n",
       "    <tr>\n",
       "      <th>0</th>\n",
       "      <td>02.01.2013</td>\n",
       "      <td>0</td>\n",
       "      <td>59</td>\n",
       "      <td>22154</td>\n",
       "      <td>999.00</td>\n",
       "      <td>1.0</td>\n",
       "    </tr>\n",
       "    <tr>\n",
       "      <th>1</th>\n",
       "      <td>03.01.2013</td>\n",
       "      <td>0</td>\n",
       "      <td>25</td>\n",
       "      <td>2552</td>\n",
       "      <td>899.00</td>\n",
       "      <td>1.0</td>\n",
       "    </tr>\n",
       "    <tr>\n",
       "      <th>2</th>\n",
       "      <td>05.01.2013</td>\n",
       "      <td>0</td>\n",
       "      <td>25</td>\n",
       "      <td>2552</td>\n",
       "      <td>899.00</td>\n",
       "      <td>-1.0</td>\n",
       "    </tr>\n",
       "    <tr>\n",
       "      <th>3</th>\n",
       "      <td>06.01.2013</td>\n",
       "      <td>0</td>\n",
       "      <td>25</td>\n",
       "      <td>2554</td>\n",
       "      <td>1709.05</td>\n",
       "      <td>1.0</td>\n",
       "    </tr>\n",
       "    <tr>\n",
       "      <th>4</th>\n",
       "      <td>15.01.2013</td>\n",
       "      <td>0</td>\n",
       "      <td>25</td>\n",
       "      <td>2555</td>\n",
       "      <td>1099.00</td>\n",
       "      <td>1.0</td>\n",
       "    </tr>\n",
       "    <tr>\n",
       "      <th>...</th>\n",
       "      <td>...</td>\n",
       "      <td>...</td>\n",
       "      <td>...</td>\n",
       "      <td>...</td>\n",
       "      <td>...</td>\n",
       "      <td>...</td>\n",
       "    </tr>\n",
       "    <tr>\n",
       "      <th>2935844</th>\n",
       "      <td>10.10.2015</td>\n",
       "      <td>33</td>\n",
       "      <td>25</td>\n",
       "      <td>7409</td>\n",
       "      <td>299.00</td>\n",
       "      <td>1.0</td>\n",
       "    </tr>\n",
       "    <tr>\n",
       "      <th>2935845</th>\n",
       "      <td>09.10.2015</td>\n",
       "      <td>33</td>\n",
       "      <td>25</td>\n",
       "      <td>7460</td>\n",
       "      <td>299.00</td>\n",
       "      <td>1.0</td>\n",
       "    </tr>\n",
       "    <tr>\n",
       "      <th>2935846</th>\n",
       "      <td>14.10.2015</td>\n",
       "      <td>33</td>\n",
       "      <td>25</td>\n",
       "      <td>7459</td>\n",
       "      <td>349.00</td>\n",
       "      <td>1.0</td>\n",
       "    </tr>\n",
       "    <tr>\n",
       "      <th>2935847</th>\n",
       "      <td>22.10.2015</td>\n",
       "      <td>33</td>\n",
       "      <td>25</td>\n",
       "      <td>7440</td>\n",
       "      <td>299.00</td>\n",
       "      <td>1.0</td>\n",
       "    </tr>\n",
       "    <tr>\n",
       "      <th>2935848</th>\n",
       "      <td>03.10.2015</td>\n",
       "      <td>33</td>\n",
       "      <td>25</td>\n",
       "      <td>7460</td>\n",
       "      <td>299.00</td>\n",
       "      <td>1.0</td>\n",
       "    </tr>\n",
       "  </tbody>\n",
       "</table>\n",
       "<p>2935849 rows × 6 columns</p>\n",
       "</div>"
      ],
      "text/plain": [
       "               date  date_block_num  shop_id  item_id  item_price  \\\n",
       "0        02.01.2013               0       59    22154      999.00   \n",
       "1        03.01.2013               0       25     2552      899.00   \n",
       "2        05.01.2013               0       25     2552      899.00   \n",
       "3        06.01.2013               0       25     2554     1709.05   \n",
       "4        15.01.2013               0       25     2555     1099.00   \n",
       "...             ...             ...      ...      ...         ...   \n",
       "2935844  10.10.2015              33       25     7409      299.00   \n",
       "2935845  09.10.2015              33       25     7460      299.00   \n",
       "2935846  14.10.2015              33       25     7459      349.00   \n",
       "2935847  22.10.2015              33       25     7440      299.00   \n",
       "2935848  03.10.2015              33       25     7460      299.00   \n",
       "\n",
       "         item_cnt_day  \n",
       "0                 1.0  \n",
       "1                 1.0  \n",
       "2                -1.0  \n",
       "3                 1.0  \n",
       "4                 1.0  \n",
       "...               ...  \n",
       "2935844           1.0  \n",
       "2935845           1.0  \n",
       "2935846           1.0  \n",
       "2935847           1.0  \n",
       "2935848           1.0  \n",
       "\n",
       "[2935849 rows x 6 columns]"
      ]
     },
     "execution_count": 2,
     "metadata": {},
     "output_type": "execute_result"
    }
   ],
   "source": [
    "sales_df = pd.read_csv('../data/predict_future_sales/sales.csv')\n",
    "sales_df"
   ]
  },
  {
   "cell_type": "markdown",
   "metadata": {},
   "source": [
    "### Exercise 1:\n",
    "Randomly choose 3 shops, use `one line plot figure` to show the total turnover of them each month over 34 months (from January 2013 is 0, February 2013 is 1,..., October 2015 is 33.)"
   ]
  },
  {
   "cell_type": "code",
   "execution_count": 3,
   "metadata": {
    "ExecuteTime": {
     "end_time": "2022-01-11T11:35:22.694309Z",
     "start_time": "2022-01-11T11:35:22.637007Z"
    }
   },
   "outputs": [
    {
     "data": {
      "text/plain": [
       "array([52, 46,  4])"
      ]
     },
     "execution_count": 3,
     "metadata": {},
     "output_type": "execute_result"
    }
   ],
   "source": [
    "# Randomly choose 3 shops\n",
    "np.random.seed(1)\n",
    "random_shop_id = np.random.choice(sales_df.shop_id.unique(), size=3)\n",
    "random_shop_id"
   ]
  },
  {
   "cell_type": "code",
   "execution_count": 4,
   "metadata": {
    "ExecuteTime": {
     "end_time": "2022-01-11T11:35:22.800252Z",
     "start_time": "2022-01-11T11:35:22.712900Z"
    }
   },
   "outputs": [
    {
     "data": {
      "text/html": [
       "<div>\n",
       "<style scoped>\n",
       "    .dataframe tbody tr th:only-of-type {\n",
       "        vertical-align: middle;\n",
       "    }\n",
       "\n",
       "    .dataframe tbody tr th {\n",
       "        vertical-align: top;\n",
       "    }\n",
       "\n",
       "    .dataframe thead th {\n",
       "        text-align: right;\n",
       "    }\n",
       "</style>\n",
       "<table border=\"1\" class=\"dataframe\">\n",
       "  <thead>\n",
       "    <tr style=\"text-align: right;\">\n",
       "      <th></th>\n",
       "      <th>date</th>\n",
       "      <th>date_block_num</th>\n",
       "      <th>shop_id</th>\n",
       "      <th>item_id</th>\n",
       "      <th>item_price</th>\n",
       "      <th>item_cnt_day</th>\n",
       "    </tr>\n",
       "  </thead>\n",
       "  <tbody>\n",
       "    <tr>\n",
       "      <th>30072</th>\n",
       "      <td>12.01.2013</td>\n",
       "      <td>0</td>\n",
       "      <td>4</td>\n",
       "      <td>5605</td>\n",
       "      <td>489.3</td>\n",
       "      <td>1.0</td>\n",
       "    </tr>\n",
       "    <tr>\n",
       "      <th>30073</th>\n",
       "      <td>03.01.2013</td>\n",
       "      <td>0</td>\n",
       "      <td>4</td>\n",
       "      <td>5587</td>\n",
       "      <td>199.0</td>\n",
       "      <td>1.0</td>\n",
       "    </tr>\n",
       "    <tr>\n",
       "      <th>30074</th>\n",
       "      <td>27.01.2013</td>\n",
       "      <td>0</td>\n",
       "      <td>4</td>\n",
       "      <td>5588</td>\n",
       "      <td>149.0</td>\n",
       "      <td>1.0</td>\n",
       "    </tr>\n",
       "    <tr>\n",
       "      <th>30075</th>\n",
       "      <td>21.01.2013</td>\n",
       "      <td>0</td>\n",
       "      <td>4</td>\n",
       "      <td>5613</td>\n",
       "      <td>6190.0</td>\n",
       "      <td>1.0</td>\n",
       "    </tr>\n",
       "    <tr>\n",
       "      <th>30076</th>\n",
       "      <td>08.01.2013</td>\n",
       "      <td>0</td>\n",
       "      <td>4</td>\n",
       "      <td>5627</td>\n",
       "      <td>2390.0</td>\n",
       "      <td>1.0</td>\n",
       "    </tr>\n",
       "    <tr>\n",
       "      <th>...</th>\n",
       "      <td>...</td>\n",
       "      <td>...</td>\n",
       "      <td>...</td>\n",
       "      <td>...</td>\n",
       "      <td>...</td>\n",
       "      <td>...</td>\n",
       "    </tr>\n",
       "    <tr>\n",
       "      <th>2918122</th>\n",
       "      <td>28.10.2015</td>\n",
       "      <td>33</td>\n",
       "      <td>4</td>\n",
       "      <td>1586</td>\n",
       "      <td>5999.0</td>\n",
       "      <td>1.0</td>\n",
       "    </tr>\n",
       "    <tr>\n",
       "      <th>2918123</th>\n",
       "      <td>05.10.2015</td>\n",
       "      <td>33</td>\n",
       "      <td>4</td>\n",
       "      <td>1523</td>\n",
       "      <td>799.0</td>\n",
       "      <td>1.0</td>\n",
       "    </tr>\n",
       "    <tr>\n",
       "      <th>2918124</th>\n",
       "      <td>03.10.2015</td>\n",
       "      <td>33</td>\n",
       "      <td>4</td>\n",
       "      <td>1535</td>\n",
       "      <td>1999.0</td>\n",
       "      <td>1.0</td>\n",
       "    </tr>\n",
       "    <tr>\n",
       "      <th>2918125</th>\n",
       "      <td>01.10.2015</td>\n",
       "      <td>33</td>\n",
       "      <td>4</td>\n",
       "      <td>1325</td>\n",
       "      <td>449.0</td>\n",
       "      <td>1.0</td>\n",
       "    </tr>\n",
       "    <tr>\n",
       "      <th>2918126</th>\n",
       "      <td>13.10.2015</td>\n",
       "      <td>33</td>\n",
       "      <td>4</td>\n",
       "      <td>1788</td>\n",
       "      <td>999.0</td>\n",
       "      <td>1.0</td>\n",
       "    </tr>\n",
       "  </tbody>\n",
       "</table>\n",
       "<p>148065 rows × 6 columns</p>\n",
       "</div>"
      ],
      "text/plain": [
       "               date  date_block_num  shop_id  item_id  item_price  \\\n",
       "30072    12.01.2013               0        4     5605       489.3   \n",
       "30073    03.01.2013               0        4     5587       199.0   \n",
       "30074    27.01.2013               0        4     5588       149.0   \n",
       "30075    21.01.2013               0        4     5613      6190.0   \n",
       "30076    08.01.2013               0        4     5627      2390.0   \n",
       "...             ...             ...      ...      ...         ...   \n",
       "2918122  28.10.2015              33        4     1586      5999.0   \n",
       "2918123  05.10.2015              33        4     1523       799.0   \n",
       "2918124  03.10.2015              33        4     1535      1999.0   \n",
       "2918125  01.10.2015              33        4     1325       449.0   \n",
       "2918126  13.10.2015              33        4     1788       999.0   \n",
       "\n",
       "         item_cnt_day  \n",
       "30072             1.0  \n",
       "30073             1.0  \n",
       "30074             1.0  \n",
       "30075             1.0  \n",
       "30076             1.0  \n",
       "...               ...  \n",
       "2918122           1.0  \n",
       "2918123           1.0  \n",
       "2918124           1.0  \n",
       "2918125           1.0  \n",
       "2918126           1.0  \n",
       "\n",
       "[148065 rows x 6 columns]"
      ]
     },
     "execution_count": 4,
     "metadata": {},
     "output_type": "execute_result"
    }
   ],
   "source": [
    "# Get data of three random shop_id\n",
    "random_shop_df = sales_df[np.isin(sales_df.shop_id, random_shop_id)]\n",
    "random_shop_df"
   ]
  },
  {
   "cell_type": "code",
   "execution_count": 5,
   "metadata": {
    "ExecuteTime": {
     "end_time": "2022-01-11T11:35:22.815038Z",
     "start_time": "2022-01-11T11:35:22.806072Z"
    }
   },
   "outputs": [],
   "source": [
    "# Group sale dataframe by `shop_id` and `date_block_num`\n",
    "sales_group_shop_df = random_shop_df.groupby(by=['shop_id', 'date_block_num'])"
   ]
  },
  {
   "cell_type": "code",
   "execution_count": 6,
   "metadata": {
    "ExecuteTime": {
     "end_time": "2022-01-11T11:35:22.830235Z",
     "start_time": "2022-01-11T11:35:22.824417Z"
    }
   },
   "outputs": [],
   "source": [
    "def cal_turnover(grouped_df):\n",
    "    '''\n",
    "    Input: each grouped dataframe\n",
    "    Output: Total turnover of each group\n",
    "    '''\n",
    "    price, num_items = grouped_df['item_price'], grouped_df['item_cnt_day']\n",
    "    return np.sum(price * num_items)"
   ]
  },
  {
   "cell_type": "code",
   "execution_count": 7,
   "metadata": {
    "ExecuteTime": {
     "end_time": "2022-01-11T11:35:22.953108Z",
     "start_time": "2022-01-11T11:35:22.843042Z"
    }
   },
   "outputs": [
    {
     "data": {
      "text/html": [
       "<div>\n",
       "<style scoped>\n",
       "    .dataframe tbody tr th:only-of-type {\n",
       "        vertical-align: middle;\n",
       "    }\n",
       "\n",
       "    .dataframe tbody tr th {\n",
       "        vertical-align: top;\n",
       "    }\n",
       "\n",
       "    .dataframe thead th {\n",
       "        text-align: right;\n",
       "    }\n",
       "</style>\n",
       "<table border=\"1\" class=\"dataframe\">\n",
       "  <thead>\n",
       "    <tr style=\"text-align: right;\">\n",
       "      <th></th>\n",
       "      <th>shop_id</th>\n",
       "      <th>date_block_num</th>\n",
       "      <th>total_turnover</th>\n",
       "    </tr>\n",
       "  </thead>\n",
       "  <tbody>\n",
       "    <tr>\n",
       "      <th>0</th>\n",
       "      <td>4</td>\n",
       "      <td>0</td>\n",
       "      <td>1433666.0</td>\n",
       "    </tr>\n",
       "    <tr>\n",
       "      <th>1</th>\n",
       "      <td>4</td>\n",
       "      <td>1</td>\n",
       "      <td>1532115.0</td>\n",
       "    </tr>\n",
       "    <tr>\n",
       "      <th>2</th>\n",
       "      <td>4</td>\n",
       "      <td>2</td>\n",
       "      <td>1415445.5</td>\n",
       "    </tr>\n",
       "    <tr>\n",
       "      <th>3</th>\n",
       "      <td>4</td>\n",
       "      <td>3</td>\n",
       "      <td>202647.0</td>\n",
       "    </tr>\n",
       "    <tr>\n",
       "      <th>4</th>\n",
       "      <td>4</td>\n",
       "      <td>4</td>\n",
       "      <td>917357.0</td>\n",
       "    </tr>\n",
       "    <tr>\n",
       "      <th>...</th>\n",
       "      <td>...</td>\n",
       "      <td>...</td>\n",
       "      <td>...</td>\n",
       "    </tr>\n",
       "    <tr>\n",
       "      <th>97</th>\n",
       "      <td>52</td>\n",
       "      <td>29</td>\n",
       "      <td>918807.0</td>\n",
       "    </tr>\n",
       "    <tr>\n",
       "      <th>98</th>\n",
       "      <td>52</td>\n",
       "      <td>30</td>\n",
       "      <td>771967.0</td>\n",
       "    </tr>\n",
       "    <tr>\n",
       "      <th>99</th>\n",
       "      <td>52</td>\n",
       "      <td>31</td>\n",
       "      <td>774314.0</td>\n",
       "    </tr>\n",
       "    <tr>\n",
       "      <th>100</th>\n",
       "      <td>52</td>\n",
       "      <td>32</td>\n",
       "      <td>1297043.0</td>\n",
       "    </tr>\n",
       "    <tr>\n",
       "      <th>101</th>\n",
       "      <td>52</td>\n",
       "      <td>33</td>\n",
       "      <td>943056.0</td>\n",
       "    </tr>\n",
       "  </tbody>\n",
       "</table>\n",
       "<p>102 rows × 3 columns</p>\n",
       "</div>"
      ],
      "text/plain": [
       "     shop_id  date_block_num  total_turnover\n",
       "0          4               0       1433666.0\n",
       "1          4               1       1532115.0\n",
       "2          4               2       1415445.5\n",
       "3          4               3        202647.0\n",
       "4          4               4        917357.0\n",
       "..       ...             ...             ...\n",
       "97        52              29        918807.0\n",
       "98        52              30        771967.0\n",
       "99        52              31        774314.0\n",
       "100       52              32       1297043.0\n",
       "101       52              33        943056.0\n",
       "\n",
       "[102 rows x 3 columns]"
      ]
     },
     "execution_count": 7,
     "metadata": {},
     "output_type": "execute_result"
    }
   ],
   "source": [
    "# Apply `cal_turnover` function for each group\n",
    "# Reset index to create new df\n",
    "# Rename calculated value column as `total_turnover`\n",
    "turnover_shop_df = sales_group_shop_df.apply(cal_turnover).reset_index(name='total_turnover')\n",
    "turnover_shop_df"
   ]
  },
  {
   "cell_type": "code",
   "execution_count": 8,
   "metadata": {
    "ExecuteTime": {
     "end_time": "2022-01-11T11:35:22.969033Z",
     "start_time": "2022-01-11T11:35:22.955956Z"
    }
   },
   "outputs": [
    {
     "data": {
      "text/html": [
       "<div>\n",
       "<style scoped>\n",
       "    .dataframe tbody tr th:only-of-type {\n",
       "        vertical-align: middle;\n",
       "    }\n",
       "\n",
       "    .dataframe tbody tr th {\n",
       "        vertical-align: top;\n",
       "    }\n",
       "\n",
       "    .dataframe thead th {\n",
       "        text-align: right;\n",
       "    }\n",
       "</style>\n",
       "<table border=\"1\" class=\"dataframe\">\n",
       "  <thead>\n",
       "    <tr style=\"text-align: right;\">\n",
       "      <th></th>\n",
       "      <th>shop_id</th>\n",
       "      <th>date_block_num</th>\n",
       "      <th>total_turnover</th>\n",
       "    </tr>\n",
       "  </thead>\n",
       "  <tbody>\n",
       "    <tr>\n",
       "      <th>0</th>\n",
       "      <td>4</td>\n",
       "      <td>[0, 1, 2, 3, 4, 5, 6, 7, 8, 9, 10, 11, 12, 13,...</td>\n",
       "      <td>[1433666.0, 1532114.99999998, 1415445.49999999...</td>\n",
       "    </tr>\n",
       "    <tr>\n",
       "      <th>1</th>\n",
       "      <td>46</td>\n",
       "      <td>[0, 1, 2, 3, 4, 5, 6, 7, 8, 9, 10, 11, 12, 13,...</td>\n",
       "      <td>[2358347.999999995, 2021670.099999932, 2198033...</td>\n",
       "    </tr>\n",
       "    <tr>\n",
       "      <th>2</th>\n",
       "      <td>52</td>\n",
       "      <td>[0, 1, 2, 3, 4, 5, 6, 7, 8, 9, 10, 11, 12, 13,...</td>\n",
       "      <td>[1160182.999999999, 1174198.0300000492, 126084...</td>\n",
       "    </tr>\n",
       "  </tbody>\n",
       "</table>\n",
       "</div>"
      ],
      "text/plain": [
       "   shop_id                                     date_block_num  \\\n",
       "0        4  [0, 1, 2, 3, 4, 5, 6, 7, 8, 9, 10, 11, 12, 13,...   \n",
       "1       46  [0, 1, 2, 3, 4, 5, 6, 7, 8, 9, 10, 11, 12, 13,...   \n",
       "2       52  [0, 1, 2, 3, 4, 5, 6, 7, 8, 9, 10, 11, 12, 13,...   \n",
       "\n",
       "                                      total_turnover  \n",
       "0  [1433666.0, 1532114.99999998, 1415445.49999999...  \n",
       "1  [2358347.999999995, 2021670.099999932, 2198033...  \n",
       "2  [1160182.999999999, 1174198.0300000492, 126084...  "
      ]
     },
     "execution_count": 8,
     "metadata": {},
     "output_type": "execute_result"
    }
   ],
   "source": [
    "# Group by to get a list of `date_block_num` and `total_turnover`\n",
    "turnover_shop_df = turnover_shop_df.groupby(by='shop_id').agg({\n",
    "    'date_block_num': list,\n",
    "    'total_turnover': list\n",
    "}).reset_index()\n",
    "turnover_shop_df"
   ]
  },
  {
   "cell_type": "code",
   "execution_count": 9,
   "metadata": {
    "ExecuteTime": {
     "end_time": "2022-01-11T11:35:23.232112Z",
     "start_time": "2022-01-11T11:35:22.975878Z"
    }
   },
   "outputs": [
    {
     "data": {
      "image/png": "[encoded data removed]",
      "text/plain": [
       "<Figure size 432x288 with 1 Axes>"
      ]
     },
     "metadata": {
      "needs_background": "light"
     },
     "output_type": "display_data"
    }
   ],
   "source": [
    "# Plot the figure\n",
    "for index, row in turnover_shop_df.iterrows():\n",
    "    plt.plot(row.date_block_num, row.total_turnover, label=row.shop_id, marker='+')\n",
    "\n",
    "plt.xlabel('Month')\n",
    "plt.ylabel('Turnover')\n",
    "plt.title('Total turnover of 3 random shops each month')\n",
    "plt.legend()\n",
    "plt.show()"
   ]
  },
  {
   "cell_type": "markdown",
   "metadata": {},
   "source": [
    "### Exercise 2:\n",
    "Randomly choose 1 item, use `one combo figure with bar plot and line plot` to show the sales and the turnover of it over 34 months (from January 2013 is 0, February 2013 is 1,..., October 2015 is 33.)"
   ]
  },
  {
   "cell_type": "code",
   "execution_count": 10,
   "metadata": {
    "ExecuteTime": {
     "end_time": "2022-01-11T11:35:23.276766Z",
     "start_time": "2022-01-11T11:35:23.235793Z"
    }
   },
   "outputs": [
    {
     "data": {
      "text/plain": [
       "array([970])"
      ]
     },
     "execution_count": 10,
     "metadata": {},
     "output_type": "execute_result"
    }
   ],
   "source": [
    "# Randomly choose 1 item\n",
    "np.random.seed(1)\n",
    "random_item_id = np.random.choice(sales_df.item_id.unique(), size=1)\n",
    "random_item_id"
   ]
  },
  {
   "cell_type": "code",
   "execution_count": 11,
   "metadata": {
    "ExecuteTime": {
     "end_time": "2022-01-11T11:35:23.326684Z",
     "start_time": "2022-01-11T11:35:23.281895Z"
    }
   },
   "outputs": [
    {
     "data": {
      "text/html": [
       "<div>\n",
       "<style scoped>\n",
       "    .dataframe tbody tr th:only-of-type {\n",
       "        vertical-align: middle;\n",
       "    }\n",
       "\n",
       "    .dataframe tbody tr th {\n",
       "        vertical-align: top;\n",
       "    }\n",
       "\n",
       "    .dataframe thead th {\n",
       "        text-align: right;\n",
       "    }\n",
       "</style>\n",
       "<table border=\"1\" class=\"dataframe\">\n",
       "  <thead>\n",
       "    <tr style=\"text-align: right;\">\n",
       "      <th></th>\n",
       "      <th>date</th>\n",
       "      <th>date_block_num</th>\n",
       "      <th>shop_id</th>\n",
       "      <th>item_id</th>\n",
       "      <th>item_price</th>\n",
       "      <th>item_cnt_day</th>\n",
       "    </tr>\n",
       "  </thead>\n",
       "  <tbody>\n",
       "    <tr>\n",
       "      <th>636</th>\n",
       "      <td>02.01.2013</td>\n",
       "      <td>0</td>\n",
       "      <td>25</td>\n",
       "      <td>970</td>\n",
       "      <td>279.0</td>\n",
       "      <td>1.0</td>\n",
       "    </tr>\n",
       "    <tr>\n",
       "      <th>2394</th>\n",
       "      <td>08.01.2013</td>\n",
       "      <td>0</td>\n",
       "      <td>24</td>\n",
       "      <td>970</td>\n",
       "      <td>279.0</td>\n",
       "      <td>1.0</td>\n",
       "    </tr>\n",
       "    <tr>\n",
       "      <th>2395</th>\n",
       "      <td>26.01.2013</td>\n",
       "      <td>0</td>\n",
       "      <td>24</td>\n",
       "      <td>970</td>\n",
       "      <td>279.0</td>\n",
       "      <td>1.0</td>\n",
       "    </tr>\n",
       "    <tr>\n",
       "      <th>10043</th>\n",
       "      <td>12.01.2013</td>\n",
       "      <td>0</td>\n",
       "      <td>19</td>\n",
       "      <td>970</td>\n",
       "      <td>279.0</td>\n",
       "      <td>1.0</td>\n",
       "    </tr>\n",
       "    <tr>\n",
       "      <th>13269</th>\n",
       "      <td>27.01.2013</td>\n",
       "      <td>0</td>\n",
       "      <td>21</td>\n",
       "      <td>970</td>\n",
       "      <td>279.0</td>\n",
       "      <td>1.0</td>\n",
       "    </tr>\n",
       "    <tr>\n",
       "      <th>...</th>\n",
       "      <td>...</td>\n",
       "      <td>...</td>\n",
       "      <td>...</td>\n",
       "      <td>...</td>\n",
       "      <td>...</td>\n",
       "      <td>...</td>\n",
       "    </tr>\n",
       "    <tr>\n",
       "      <th>2890056</th>\n",
       "      <td>28.10.2015</td>\n",
       "      <td>33</td>\n",
       "      <td>35</td>\n",
       "      <td>970</td>\n",
       "      <td>331.0</td>\n",
       "      <td>1.0</td>\n",
       "    </tr>\n",
       "    <tr>\n",
       "      <th>2892229</th>\n",
       "      <td>03.10.2015</td>\n",
       "      <td>33</td>\n",
       "      <td>38</td>\n",
       "      <td>970</td>\n",
       "      <td>349.0</td>\n",
       "      <td>1.0</td>\n",
       "    </tr>\n",
       "    <tr>\n",
       "      <th>2902698</th>\n",
       "      <td>15.10.2015</td>\n",
       "      <td>33</td>\n",
       "      <td>49</td>\n",
       "      <td>970</td>\n",
       "      <td>349.0</td>\n",
       "      <td>1.0</td>\n",
       "    </tr>\n",
       "    <tr>\n",
       "      <th>2908977</th>\n",
       "      <td>17.10.2015</td>\n",
       "      <td>33</td>\n",
       "      <td>16</td>\n",
       "      <td>970</td>\n",
       "      <td>349.0</td>\n",
       "      <td>1.0</td>\n",
       "    </tr>\n",
       "    <tr>\n",
       "      <th>2930055</th>\n",
       "      <td>03.10.2015</td>\n",
       "      <td>33</td>\n",
       "      <td>25</td>\n",
       "      <td>970</td>\n",
       "      <td>349.0</td>\n",
       "      <td>1.0</td>\n",
       "    </tr>\n",
       "  </tbody>\n",
       "</table>\n",
       "<p>568 rows × 6 columns</p>\n",
       "</div>"
      ],
      "text/plain": [
       "               date  date_block_num  shop_id  item_id  item_price  \\\n",
       "636      02.01.2013               0       25      970       279.0   \n",
       "2394     08.01.2013               0       24      970       279.0   \n",
       "2395     26.01.2013               0       24      970       279.0   \n",
       "10043    12.01.2013               0       19      970       279.0   \n",
       "13269    27.01.2013               0       21      970       279.0   \n",
       "...             ...             ...      ...      ...         ...   \n",
       "2890056  28.10.2015              33       35      970       331.0   \n",
       "2892229  03.10.2015              33       38      970       349.0   \n",
       "2902698  15.10.2015              33       49      970       349.0   \n",
       "2908977  17.10.2015              33       16      970       349.0   \n",
       "2930055  03.10.2015              33       25      970       349.0   \n",
       "\n",
       "         item_cnt_day  \n",
       "636               1.0  \n",
       "2394              1.0  \n",
       "2395              1.0  \n",
       "10043             1.0  \n",
       "13269             1.0  \n",
       "...               ...  \n",
       "2890056           1.0  \n",
       "2892229           1.0  \n",
       "2902698           1.0  \n",
       "2908977           1.0  \n",
       "2930055           1.0  \n",
       "\n",
       "[568 rows x 6 columns]"
      ]
     },
     "execution_count": 11,
     "metadata": {},
     "output_type": "execute_result"
    }
   ],
   "source": [
    "# Get data of the random item_id\n",
    "random_item_df = sales_df[sales_df.item_id == random_item_id[0]]\n",
    "random_item_df"
   ]
  },
  {
   "cell_type": "code",
   "execution_count": 12,
   "metadata": {
    "ExecuteTime": {
     "end_time": "2022-01-11T11:35:23.344075Z",
     "start_time": "2022-01-11T11:35:23.335307Z"
    }
   },
   "outputs": [
    {
     "data": {
      "text/plain": [
       "<pandas.core.groupby.generic.DataFrameGroupBy object at 0x7fe3882f9c10>"
      ]
     },
     "execution_count": 12,
     "metadata": {},
     "output_type": "execute_result"
    }
   ],
   "source": [
    "# Group sale dataframe by `date_block_num`\n",
    "sales_group_date_df = random_item_df.groupby(by=['date_block_num'])\n",
    "sales_group_date_df"
   ]
  },
  {
   "cell_type": "code",
   "execution_count": 13,
   "metadata": {
    "ExecuteTime": {
     "end_time": "2022-01-11T11:35:23.365971Z",
     "start_time": "2022-01-11T11:35:23.349390Z"
    }
   },
   "outputs": [
    {
     "data": {
      "text/html": [
       "<div>\n",
       "<style scoped>\n",
       "    .dataframe tbody tr th:only-of-type {\n",
       "        vertical-align: middle;\n",
       "    }\n",
       "\n",
       "    .dataframe tbody tr th {\n",
       "        vertical-align: top;\n",
       "    }\n",
       "\n",
       "    .dataframe thead th {\n",
       "        text-align: right;\n",
       "    }\n",
       "</style>\n",
       "<table border=\"1\" class=\"dataframe\">\n",
       "  <thead>\n",
       "    <tr style=\"text-align: right;\">\n",
       "      <th></th>\n",
       "      <th>date_block_num</th>\n",
       "      <th>item_cnt_day</th>\n",
       "    </tr>\n",
       "  </thead>\n",
       "  <tbody>\n",
       "    <tr>\n",
       "      <th>0</th>\n",
       "      <td>0</td>\n",
       "      <td>14.0</td>\n",
       "    </tr>\n",
       "    <tr>\n",
       "      <th>1</th>\n",
       "      <td>1</td>\n",
       "      <td>6.0</td>\n",
       "    </tr>\n",
       "    <tr>\n",
       "      <th>2</th>\n",
       "      <td>2</td>\n",
       "      <td>27.0</td>\n",
       "    </tr>\n",
       "    <tr>\n",
       "      <th>3</th>\n",
       "      <td>3</td>\n",
       "      <td>21.0</td>\n",
       "    </tr>\n",
       "    <tr>\n",
       "      <th>4</th>\n",
       "      <td>4</td>\n",
       "      <td>27.0</td>\n",
       "    </tr>\n",
       "    <tr>\n",
       "      <th>5</th>\n",
       "      <td>5</td>\n",
       "      <td>30.0</td>\n",
       "    </tr>\n",
       "    <tr>\n",
       "      <th>6</th>\n",
       "      <td>6</td>\n",
       "      <td>22.0</td>\n",
       "    </tr>\n",
       "    <tr>\n",
       "      <th>7</th>\n",
       "      <td>7</td>\n",
       "      <td>5.0</td>\n",
       "    </tr>\n",
       "    <tr>\n",
       "      <th>8</th>\n",
       "      <td>8</td>\n",
       "      <td>9.0</td>\n",
       "    </tr>\n",
       "    <tr>\n",
       "      <th>9</th>\n",
       "      <td>9</td>\n",
       "      <td>1.0</td>\n",
       "    </tr>\n",
       "    <tr>\n",
       "      <th>10</th>\n",
       "      <td>11</td>\n",
       "      <td>1.0</td>\n",
       "    </tr>\n",
       "    <tr>\n",
       "      <th>11</th>\n",
       "      <td>14</td>\n",
       "      <td>2.0</td>\n",
       "    </tr>\n",
       "    <tr>\n",
       "      <th>12</th>\n",
       "      <td>15</td>\n",
       "      <td>39.0</td>\n",
       "    </tr>\n",
       "    <tr>\n",
       "      <th>13</th>\n",
       "      <td>16</td>\n",
       "      <td>43.0</td>\n",
       "    </tr>\n",
       "    <tr>\n",
       "      <th>14</th>\n",
       "      <td>17</td>\n",
       "      <td>32.0</td>\n",
       "    </tr>\n",
       "    <tr>\n",
       "      <th>15</th>\n",
       "      <td>18</td>\n",
       "      <td>35.0</td>\n",
       "    </tr>\n",
       "    <tr>\n",
       "      <th>16</th>\n",
       "      <td>19</td>\n",
       "      <td>30.0</td>\n",
       "    </tr>\n",
       "    <tr>\n",
       "      <th>17</th>\n",
       "      <td>20</td>\n",
       "      <td>21.0</td>\n",
       "    </tr>\n",
       "    <tr>\n",
       "      <th>18</th>\n",
       "      <td>21</td>\n",
       "      <td>20.0</td>\n",
       "    </tr>\n",
       "    <tr>\n",
       "      <th>19</th>\n",
       "      <td>22</td>\n",
       "      <td>18.0</td>\n",
       "    </tr>\n",
       "    <tr>\n",
       "      <th>20</th>\n",
       "      <td>23</td>\n",
       "      <td>30.0</td>\n",
       "    </tr>\n",
       "    <tr>\n",
       "      <th>21</th>\n",
       "      <td>24</td>\n",
       "      <td>17.0</td>\n",
       "    </tr>\n",
       "    <tr>\n",
       "      <th>22</th>\n",
       "      <td>25</td>\n",
       "      <td>17.0</td>\n",
       "    </tr>\n",
       "    <tr>\n",
       "      <th>23</th>\n",
       "      <td>26</td>\n",
       "      <td>28.0</td>\n",
       "    </tr>\n",
       "    <tr>\n",
       "      <th>24</th>\n",
       "      <td>27</td>\n",
       "      <td>18.0</td>\n",
       "    </tr>\n",
       "    <tr>\n",
       "      <th>25</th>\n",
       "      <td>28</td>\n",
       "      <td>11.0</td>\n",
       "    </tr>\n",
       "    <tr>\n",
       "      <th>26</th>\n",
       "      <td>29</td>\n",
       "      <td>14.0</td>\n",
       "    </tr>\n",
       "    <tr>\n",
       "      <th>27</th>\n",
       "      <td>30</td>\n",
       "      <td>10.0</td>\n",
       "    </tr>\n",
       "    <tr>\n",
       "      <th>28</th>\n",
       "      <td>31</td>\n",
       "      <td>9.0</td>\n",
       "    </tr>\n",
       "    <tr>\n",
       "      <th>29</th>\n",
       "      <td>32</td>\n",
       "      <td>8.0</td>\n",
       "    </tr>\n",
       "    <tr>\n",
       "      <th>30</th>\n",
       "      <td>33</td>\n",
       "      <td>5.0</td>\n",
       "    </tr>\n",
       "  </tbody>\n",
       "</table>\n",
       "</div>"
      ],
      "text/plain": [
       "    date_block_num  item_cnt_day\n",
       "0                0          14.0\n",
       "1                1           6.0\n",
       "2                2          27.0\n",
       "3                3          21.0\n",
       "4                4          27.0\n",
       "5                5          30.0\n",
       "6                6          22.0\n",
       "7                7           5.0\n",
       "8                8           9.0\n",
       "9                9           1.0\n",
       "10              11           1.0\n",
       "11              14           2.0\n",
       "12              15          39.0\n",
       "13              16          43.0\n",
       "14              17          32.0\n",
       "15              18          35.0\n",
       "16              19          30.0\n",
       "17              20          21.0\n",
       "18              21          20.0\n",
       "19              22          18.0\n",
       "20              23          30.0\n",
       "21              24          17.0\n",
       "22              25          17.0\n",
       "23              26          28.0\n",
       "24              27          18.0\n",
       "25              28          11.0\n",
       "26              29          14.0\n",
       "27              30          10.0\n",
       "28              31           9.0\n",
       "29              32           8.0\n",
       "30              33           5.0"
      ]
     },
     "execution_count": 13,
     "metadata": {},
     "output_type": "execute_result"
    }
   ],
   "source": [
    "# Use `agg` to calcuate number of item each date_block_num\n",
    "sales_item_df = sales_group_date_df.agg({'item_cnt_day': sum}).reset_index()\n",
    "sales_item_df"
   ]
  },
  {
   "cell_type": "code",
   "execution_count": 14,
   "metadata": {
    "ExecuteTime": {
     "end_time": "2022-01-11T11:35:23.410014Z",
     "start_time": "2022-01-11T11:35:23.376320Z"
    }
   },
   "outputs": [
    {
     "data": {
      "text/html": [
       "<div>\n",
       "<style scoped>\n",
       "    .dataframe tbody tr th:only-of-type {\n",
       "        vertical-align: middle;\n",
       "    }\n",
       "\n",
       "    .dataframe tbody tr th {\n",
       "        vertical-align: top;\n",
       "    }\n",
       "\n",
       "    .dataframe thead th {\n",
       "        text-align: right;\n",
       "    }\n",
       "</style>\n",
       "<table border=\"1\" class=\"dataframe\">\n",
       "  <thead>\n",
       "    <tr style=\"text-align: right;\">\n",
       "      <th></th>\n",
       "      <th>date_block_num</th>\n",
       "      <th>total_turnover</th>\n",
       "    </tr>\n",
       "  </thead>\n",
       "  <tbody>\n",
       "    <tr>\n",
       "      <th>0</th>\n",
       "      <td>0</td>\n",
       "      <td>3906.00</td>\n",
       "    </tr>\n",
       "    <tr>\n",
       "      <th>1</th>\n",
       "      <td>1</td>\n",
       "      <td>1556.00</td>\n",
       "    </tr>\n",
       "    <tr>\n",
       "      <th>2</th>\n",
       "      <td>2</td>\n",
       "      <td>7533.00</td>\n",
       "    </tr>\n",
       "    <tr>\n",
       "      <th>3</th>\n",
       "      <td>3</td>\n",
       "      <td>5859.00</td>\n",
       "    </tr>\n",
       "    <tr>\n",
       "      <th>4</th>\n",
       "      <td>4</td>\n",
       "      <td>7533.00</td>\n",
       "    </tr>\n",
       "    <tr>\n",
       "      <th>5</th>\n",
       "      <td>5</td>\n",
       "      <td>8370.00</td>\n",
       "    </tr>\n",
       "    <tr>\n",
       "      <th>6</th>\n",
       "      <td>6</td>\n",
       "      <td>6020.00</td>\n",
       "    </tr>\n",
       "    <tr>\n",
       "      <th>7</th>\n",
       "      <td>7</td>\n",
       "      <td>1395.00</td>\n",
       "    </tr>\n",
       "    <tr>\n",
       "      <th>8</th>\n",
       "      <td>8</td>\n",
       "      <td>2511.00</td>\n",
       "    </tr>\n",
       "    <tr>\n",
       "      <th>9</th>\n",
       "      <td>9</td>\n",
       "      <td>279.00</td>\n",
       "    </tr>\n",
       "    <tr>\n",
       "      <th>10</th>\n",
       "      <td>11</td>\n",
       "      <td>279.00</td>\n",
       "    </tr>\n",
       "    <tr>\n",
       "      <th>11</th>\n",
       "      <td>14</td>\n",
       "      <td>598.00</td>\n",
       "    </tr>\n",
       "    <tr>\n",
       "      <th>12</th>\n",
       "      <td>15</td>\n",
       "      <td>11661.00</td>\n",
       "    </tr>\n",
       "    <tr>\n",
       "      <th>13</th>\n",
       "      <td>16</td>\n",
       "      <td>12733.05</td>\n",
       "    </tr>\n",
       "    <tr>\n",
       "      <th>14</th>\n",
       "      <td>17</td>\n",
       "      <td>9568.00</td>\n",
       "    </tr>\n",
       "    <tr>\n",
       "      <th>15</th>\n",
       "      <td>18</td>\n",
       "      <td>10356.00</td>\n",
       "    </tr>\n",
       "    <tr>\n",
       "      <th>16</th>\n",
       "      <td>19</td>\n",
       "      <td>8970.00</td>\n",
       "    </tr>\n",
       "    <tr>\n",
       "      <th>17</th>\n",
       "      <td>20</td>\n",
       "      <td>6279.00</td>\n",
       "    </tr>\n",
       "    <tr>\n",
       "      <th>18</th>\n",
       "      <td>21</td>\n",
       "      <td>5871.00</td>\n",
       "    </tr>\n",
       "    <tr>\n",
       "      <th>19</th>\n",
       "      <td>22</td>\n",
       "      <td>5273.00</td>\n",
       "    </tr>\n",
       "    <tr>\n",
       "      <th>20</th>\n",
       "      <td>23</td>\n",
       "      <td>8909.80</td>\n",
       "    </tr>\n",
       "    <tr>\n",
       "      <th>21</th>\n",
       "      <td>24</td>\n",
       "      <td>5083.00</td>\n",
       "    </tr>\n",
       "    <tr>\n",
       "      <th>22</th>\n",
       "      <td>25</td>\n",
       "      <td>5313.00</td>\n",
       "    </tr>\n",
       "    <tr>\n",
       "      <th>23</th>\n",
       "      <td>26</td>\n",
       "      <td>9649.20</td>\n",
       "    </tr>\n",
       "    <tr>\n",
       "      <th>24</th>\n",
       "      <td>27</td>\n",
       "      <td>6282.00</td>\n",
       "    </tr>\n",
       "    <tr>\n",
       "      <th>25</th>\n",
       "      <td>28</td>\n",
       "      <td>3839.00</td>\n",
       "    </tr>\n",
       "    <tr>\n",
       "      <th>26</th>\n",
       "      <td>29</td>\n",
       "      <td>4886.00</td>\n",
       "    </tr>\n",
       "    <tr>\n",
       "      <th>27</th>\n",
       "      <td>30</td>\n",
       "      <td>3490.00</td>\n",
       "    </tr>\n",
       "    <tr>\n",
       "      <th>28</th>\n",
       "      <td>31</td>\n",
       "      <td>3141.00</td>\n",
       "    </tr>\n",
       "    <tr>\n",
       "      <th>29</th>\n",
       "      <td>32</td>\n",
       "      <td>2792.00</td>\n",
       "    </tr>\n",
       "    <tr>\n",
       "      <th>30</th>\n",
       "      <td>33</td>\n",
       "      <td>1727.00</td>\n",
       "    </tr>\n",
       "  </tbody>\n",
       "</table>\n",
       "</div>"
      ],
      "text/plain": [
       "    date_block_num  total_turnover\n",
       "0                0         3906.00\n",
       "1                1         1556.00\n",
       "2                2         7533.00\n",
       "3                3         5859.00\n",
       "4                4         7533.00\n",
       "5                5         8370.00\n",
       "6                6         6020.00\n",
       "7                7         1395.00\n",
       "8                8         2511.00\n",
       "9                9          279.00\n",
       "10              11          279.00\n",
       "11              14          598.00\n",
       "12              15        11661.00\n",
       "13              16        12733.05\n",
       "14              17         9568.00\n",
       "15              18        10356.00\n",
       "16              19         8970.00\n",
       "17              20         6279.00\n",
       "18              21         5871.00\n",
       "19              22         5273.00\n",
       "20              23         8909.80\n",
       "21              24         5083.00\n",
       "22              25         5313.00\n",
       "23              26         9649.20\n",
       "24              27         6282.00\n",
       "25              28         3839.00\n",
       "26              29         4886.00\n",
       "27              30         3490.00\n",
       "28              31         3141.00\n",
       "29              32         2792.00\n",
       "30              33         1727.00"
      ]
     },
     "execution_count": 14,
     "metadata": {},
     "output_type": "execute_result"
    }
   ],
   "source": [
    "# Apply `cal_turnover` function for each group\n",
    "# Reset index to create new df\n",
    "# Rename calculated value column as `total_turnover`\n",
    "turnover_item_df = sales_group_date_df.apply(cal_turnover).reset_index(name='total_turnover')\n",
    "turnover_item_df"
   ]
  },
  {
   "cell_type": "code",
   "execution_count": 15,
   "metadata": {
    "ExecuteTime": {
     "end_time": "2022-01-11T11:35:23.797972Z",
     "start_time": "2022-01-11T11:35:23.415864Z"
    }
   },
   "outputs": [
    {
     "data": {
      "image/png": "[encoded data removed]",
      "text/plain": [
       "<Figure size 432x288 with 2 Axes>"
      ]
     },
     "metadata": {
      "needs_background": "light"
     },
     "output_type": "display_data"
    }
   ],
   "source": [
    "# Plot the figure\n",
    "fig, ax_1 = plt.subplots()\n",
    "ax_1.bar(sales_item_df.date_block_num, sales_item_df.item_cnt_day, label='Sales')\n",
    "ax_1.set_ylabel('Sales')\n",
    "ax_1.set_xlabel('Month')\n",
    "\n",
    "ax_2 = ax_1.twinx()\n",
    "ax_2.plot(turnover_item_df.date_block_num, turnover_item_df.total_turnover, '+-.r', label='Turnover')\n",
    "ax_2.set_ylabel('Turnover')\n",
    "\n",
    "fig.legend(loc=(0.65, 0.75))\n",
    "plt.title(f'Total sales and total turnover of item {random_item_id[0]} each month')\n",
    "plt.show()"
   ]
  },
  {
   "cell_type": "markdown",
   "metadata": {},
   "source": [
    "### Exercise 3:\n",
    "Randomly choose 3 items, use `one bar plot figure` to show the sales of them in 3 years 2013, 2014, and 2015."
   ]
  },
  {
   "cell_type": "code",
   "execution_count": 16,
   "metadata": {
    "ExecuteTime": {
     "end_time": "2022-01-11T11:35:23.848680Z",
     "start_time": "2022-01-11T11:35:23.801306Z"
    }
   },
   "outputs": [
    {
     "data": {
      "text/plain": [
       "array([11484, 15044, 16718])"
      ]
     },
     "execution_count": 16,
     "metadata": {},
     "output_type": "execute_result"
    }
   ],
   "source": [
    "# Randomly choose 3 items\n",
    "np.random.seed(0)\n",
    "random_item_id = np.random.choice(sales_df.item_id.unique(), size=3)\n",
    "random_item_id"
   ]
  },
  {
   "cell_type": "code",
   "execution_count": 17,
   "metadata": {
    "ExecuteTime": {
     "end_time": "2022-01-11T11:35:25.524446Z",
     "start_time": "2022-01-11T11:35:23.853373Z"
    }
   },
   "outputs": [],
   "source": [
    "# Process `date` to get the year\n",
    "new_date_sales_df = sales_df.copy()\n",
    "new_date_sales_df['date'] = new_date_sales_df.date.apply(lambda x: x.split('.')[-1])"
   ]
  },
  {
   "cell_type": "code",
   "execution_count": 18,
   "metadata": {
    "ExecuteTime": {
     "end_time": "2022-01-11T11:35:25.585742Z",
     "start_time": "2022-01-11T11:35:25.527765Z"
    }
   },
   "outputs": [
    {
     "data": {
      "text/html": [
       "<div>\n",
       "<style scoped>\n",
       "    .dataframe tbody tr th:only-of-type {\n",
       "        vertical-align: middle;\n",
       "    }\n",
       "\n",
       "    .dataframe tbody tr th {\n",
       "        vertical-align: top;\n",
       "    }\n",
       "\n",
       "    .dataframe thead th {\n",
       "        text-align: right;\n",
       "    }\n",
       "</style>\n",
       "<table border=\"1\" class=\"dataframe\">\n",
       "  <thead>\n",
       "    <tr style=\"text-align: right;\">\n",
       "      <th></th>\n",
       "      <th>date</th>\n",
       "      <th>date_block_num</th>\n",
       "      <th>shop_id</th>\n",
       "      <th>item_id</th>\n",
       "      <th>item_price</th>\n",
       "      <th>item_cnt_day</th>\n",
       "    </tr>\n",
       "  </thead>\n",
       "  <tbody>\n",
       "    <tr>\n",
       "      <th>6770</th>\n",
       "      <td>2013</td>\n",
       "      <td>0</td>\n",
       "      <td>25</td>\n",
       "      <td>11484</td>\n",
       "      <td>149.0</td>\n",
       "      <td>1.0</td>\n",
       "    </tr>\n",
       "    <tr>\n",
       "      <th>6771</th>\n",
       "      <td>2013</td>\n",
       "      <td>0</td>\n",
       "      <td>25</td>\n",
       "      <td>11484</td>\n",
       "      <td>149.0</td>\n",
       "      <td>1.0</td>\n",
       "    </tr>\n",
       "    <tr>\n",
       "      <th>10734</th>\n",
       "      <td>2013</td>\n",
       "      <td>0</td>\n",
       "      <td>19</td>\n",
       "      <td>11484</td>\n",
       "      <td>149.0</td>\n",
       "      <td>2.0</td>\n",
       "    </tr>\n",
       "    <tr>\n",
       "      <th>10735</th>\n",
       "      <td>2013</td>\n",
       "      <td>0</td>\n",
       "      <td>19</td>\n",
       "      <td>11484</td>\n",
       "      <td>149.0</td>\n",
       "      <td>1.0</td>\n",
       "    </tr>\n",
       "    <tr>\n",
       "      <th>16190</th>\n",
       "      <td>2013</td>\n",
       "      <td>0</td>\n",
       "      <td>28</td>\n",
       "      <td>11484</td>\n",
       "      <td>149.0</td>\n",
       "      <td>1.0</td>\n",
       "    </tr>\n",
       "    <tr>\n",
       "      <th>...</th>\n",
       "      <td>...</td>\n",
       "      <td>...</td>\n",
       "      <td>...</td>\n",
       "      <td>...</td>\n",
       "      <td>...</td>\n",
       "      <td>...</td>\n",
       "    </tr>\n",
       "    <tr>\n",
       "      <th>2837562</th>\n",
       "      <td>2015</td>\n",
       "      <td>32</td>\n",
       "      <td>38</td>\n",
       "      <td>15044</td>\n",
       "      <td>298.0</td>\n",
       "      <td>1.0</td>\n",
       "    </tr>\n",
       "    <tr>\n",
       "      <th>2843132</th>\n",
       "      <td>2015</td>\n",
       "      <td>32</td>\n",
       "      <td>57</td>\n",
       "      <td>11484</td>\n",
       "      <td>99.0</td>\n",
       "      <td>1.0</td>\n",
       "    </tr>\n",
       "    <tr>\n",
       "      <th>2847676</th>\n",
       "      <td>2015</td>\n",
       "      <td>32</td>\n",
       "      <td>51</td>\n",
       "      <td>11484</td>\n",
       "      <td>90.0</td>\n",
       "      <td>1.0</td>\n",
       "    </tr>\n",
       "    <tr>\n",
       "      <th>2868766</th>\n",
       "      <td>2015</td>\n",
       "      <td>32</td>\n",
       "      <td>31</td>\n",
       "      <td>11484</td>\n",
       "      <td>99.0</td>\n",
       "      <td>1.0</td>\n",
       "    </tr>\n",
       "    <tr>\n",
       "      <th>2899778</th>\n",
       "      <td>2015</td>\n",
       "      <td>33</td>\n",
       "      <td>57</td>\n",
       "      <td>15044</td>\n",
       "      <td>248.0</td>\n",
       "      <td>1.0</td>\n",
       "    </tr>\n",
       "  </tbody>\n",
       "</table>\n",
       "<p>4006 rows × 6 columns</p>\n",
       "</div>"
      ],
      "text/plain": [
       "         date  date_block_num  shop_id  item_id  item_price  item_cnt_day\n",
       "6770     2013               0       25    11484       149.0           1.0\n",
       "6771     2013               0       25    11484       149.0           1.0\n",
       "10734    2013               0       19    11484       149.0           2.0\n",
       "10735    2013               0       19    11484       149.0           1.0\n",
       "16190    2013               0       28    11484       149.0           1.0\n",
       "...       ...             ...      ...      ...         ...           ...\n",
       "2837562  2015              32       38    15044       298.0           1.0\n",
       "2843132  2015              32       57    11484        99.0           1.0\n",
       "2847676  2015              32       51    11484        90.0           1.0\n",
       "2868766  2015              32       31    11484        99.0           1.0\n",
       "2899778  2015              33       57    15044       248.0           1.0\n",
       "\n",
       "[4006 rows x 6 columns]"
      ]
     },
     "execution_count": 18,
     "metadata": {},
     "output_type": "execute_result"
    }
   ],
   "source": [
    "# Get data of the random item_ids\n",
    "random_item_df = new_date_sales_df[np.isin(new_date_sales_df.item_id, random_item_id)]\n",
    "random_item_df"
   ]
  },
  {
   "cell_type": "code",
   "execution_count": 19,
   "metadata": {
    "ExecuteTime": {
     "end_time": "2022-01-11T11:35:25.643969Z",
     "start_time": "2022-01-11T11:35:25.592429Z"
    }
   },
   "outputs": [
    {
     "data": {
      "text/html": [
       "<div>\n",
       "<style scoped>\n",
       "    .dataframe tbody tr th:only-of-type {\n",
       "        vertical-align: middle;\n",
       "    }\n",
       "\n",
       "    .dataframe tbody tr th {\n",
       "        vertical-align: top;\n",
       "    }\n",
       "\n",
       "    .dataframe thead th {\n",
       "        text-align: right;\n",
       "    }\n",
       "</style>\n",
       "<table border=\"1\" class=\"dataframe\">\n",
       "  <thead>\n",
       "    <tr style=\"text-align: right;\">\n",
       "      <th></th>\n",
       "      <th>date</th>\n",
       "      <th>item_id</th>\n",
       "      <th>item_cnt_day</th>\n",
       "    </tr>\n",
       "  </thead>\n",
       "  <tbody>\n",
       "    <tr>\n",
       "      <th>0</th>\n",
       "      <td>2013</td>\n",
       "      <td>11484</td>\n",
       "      <td>653.0</td>\n",
       "    </tr>\n",
       "    <tr>\n",
       "      <th>1</th>\n",
       "      <td>2013</td>\n",
       "      <td>15044</td>\n",
       "      <td>4988.0</td>\n",
       "    </tr>\n",
       "    <tr>\n",
       "      <th>2</th>\n",
       "      <td>2013</td>\n",
       "      <td>16718</td>\n",
       "      <td>1.0</td>\n",
       "    </tr>\n",
       "    <tr>\n",
       "      <th>3</th>\n",
       "      <td>2014</td>\n",
       "      <td>11484</td>\n",
       "      <td>173.0</td>\n",
       "    </tr>\n",
       "    <tr>\n",
       "      <th>4</th>\n",
       "      <td>2014</td>\n",
       "      <td>15044</td>\n",
       "      <td>661.0</td>\n",
       "    </tr>\n",
       "    <tr>\n",
       "      <th>5</th>\n",
       "      <td>2015</td>\n",
       "      <td>11484</td>\n",
       "      <td>99.0</td>\n",
       "    </tr>\n",
       "    <tr>\n",
       "      <th>6</th>\n",
       "      <td>2015</td>\n",
       "      <td>15044</td>\n",
       "      <td>75.0</td>\n",
       "    </tr>\n",
       "  </tbody>\n",
       "</table>\n",
       "</div>"
      ],
      "text/plain": [
       "   date  item_id  item_cnt_day\n",
       "0  2013    11484         653.0\n",
       "1  2013    15044        4988.0\n",
       "2  2013    16718           1.0\n",
       "3  2014    11484         173.0\n",
       "4  2014    15044         661.0\n",
       "5  2015    11484          99.0\n",
       "6  2015    15044          75.0"
      ]
     },
     "execution_count": 19,
     "metadata": {},
     "output_type": "execute_result"
    }
   ],
   "source": [
    "# Group by `date` and `item_id` to get item_count each year\n",
    "grouped_item_df = random_item_df.groupby(by=['date', 'item_id']).agg({'item_cnt_day': sum})\n",
    "grouped_item_df = grouped_item_df.reset_index()\n",
    "grouped_item_df"
   ]
  },
  {
   "cell_type": "code",
   "execution_count": 20,
   "metadata": {
    "ExecuteTime": {
     "end_time": "2022-01-11T11:35:25.676633Z",
     "start_time": "2022-01-11T11:35:25.661293Z"
    }
   },
   "outputs": [],
   "source": [
    "def fill_missing_value(df, year_list):\n",
    "    for year in year_list:\n",
    "        if len(df[df.date == year]) == 0:\n",
    "            data={\n",
    "                'date': year,\n",
    "                'item_id': df.item_id.values[0],\n",
    "                'item_cnt_day': 0\n",
    "            }\n",
    "            df = df.append(data, ignore_index=True)\n",
    "    df = df.sort_values(by='date')\n",
    "    return df"
   ]
  },
  {
   "cell_type": "code",
   "execution_count": 21,
   "metadata": {
    "ExecuteTime": {
     "end_time": "2022-01-11T11:35:26.025353Z",
     "start_time": "2022-01-11T11:35:25.715303Z"
    }
   },
   "outputs": [
    {
     "name": "stdout",
     "output_type": "stream",
     "text": [
      "   date  item_id  item_cnt_day\n",
      "0  2013    11484         653.0\n",
      "3  2014    11484         173.0\n",
      "5  2015    11484          99.0\n",
      "   date  item_id  item_cnt_day\n",
      "1  2013    15044        4988.0\n",
      "4  2014    15044         661.0\n",
      "6  2015    15044          75.0\n",
      "   date  item_id  item_cnt_day\n",
      "0  2013    16718           1.0\n",
      "1  2014    16718           0.0\n",
      "2  2015    16718           0.0\n"
     ]
    },
    {
     "data": {
      "image/png": "[encoded data removed]",
      "text/plain": [
       "<Figure size 432x288 with 1 Axes>"
      ]
     },
     "metadata": {
      "needs_background": "light"
     },
     "output_type": "display_data"
    }
   ],
   "source": [
    "year_list = ['2013', '2014', '2015']\n",
    "x_axis = np.arange(len(year_list)).astype(float)\n",
    "\n",
    "for index, item_id in enumerate(random_item_id):\n",
    "    df = grouped_item_df[grouped_item_df.item_id == item_id]\n",
    "    df = fill_missing_value(df, year_list)\n",
    "    print(df)\n",
    "\n",
    "    plt.bar(x_axis, df.item_cnt_day, label=item_id, width=0.2)\n",
    "    final_x_axis = (x_axis + np.arange(len(year_list))) / 2\n",
    "    x_axis += 0.2\n",
    "\n",
    "plt.xticks(final_x_axis, year_list)\n",
    "plt.legend()\n",
    "plt.title(f'Total sales of item {random_item_id} in 2013, 2014, and 2015')\n",
    "plt.show()"
   ]
  },
  {
   "cell_type": "markdown",
   "metadata": {},
   "source": [
    "### Exercise 4:\n",
    "Randomly choose 1 shop, use `stack plot figure` to show the contribution of turnover of each item each month over 34 months (from January 2013 is 0, February 2013 is 1,..., October 2015 is 33.)"
   ]
  },
  {
   "cell_type": "code",
   "execution_count": 22,
   "metadata": {
    "ExecuteTime": {
     "end_time": "2022-01-11T11:35:26.072206Z",
     "start_time": "2022-01-11T11:35:26.034705Z"
    }
   },
   "outputs": [
    {
     "data": {
      "text/plain": [
       "array([38])"
      ]
     },
     "execution_count": 22,
     "metadata": {},
     "output_type": "execute_result"
    }
   ],
   "source": [
    "# Randomly choose 1 shop\n",
    "np.random.seed(2)\n",
    "random_shop_id = np.random.choice(sales_df.shop_id.unique(), size=1)\n",
    "random_shop_id"
   ]
  },
  {
   "cell_type": "code",
   "execution_count": 23,
   "metadata": {
    "ExecuteTime": {
     "end_time": "2022-01-11T11:35:26.132569Z",
     "start_time": "2022-01-11T11:35:26.082267Z"
    }
   },
   "outputs": [
    {
     "data": {
      "text/html": [
       "<div>\n",
       "<style scoped>\n",
       "    .dataframe tbody tr th:only-of-type {\n",
       "        vertical-align: middle;\n",
       "    }\n",
       "\n",
       "    .dataframe tbody tr th {\n",
       "        vertical-align: top;\n",
       "    }\n",
       "\n",
       "    .dataframe thead th {\n",
       "        text-align: right;\n",
       "    }\n",
       "</style>\n",
       "<table border=\"1\" class=\"dataframe\">\n",
       "  <thead>\n",
       "    <tr style=\"text-align: right;\">\n",
       "      <th></th>\n",
       "      <th>date</th>\n",
       "      <th>date_block_num</th>\n",
       "      <th>shop_id</th>\n",
       "      <th>item_id</th>\n",
       "      <th>item_price</th>\n",
       "      <th>item_cnt_day</th>\n",
       "    </tr>\n",
       "  </thead>\n",
       "  <tbody>\n",
       "    <tr>\n",
       "      <th>102088</th>\n",
       "      <td>2013</td>\n",
       "      <td>0</td>\n",
       "      <td>38</td>\n",
       "      <td>22154</td>\n",
       "      <td>999.0</td>\n",
       "      <td>1.0</td>\n",
       "    </tr>\n",
       "    <tr>\n",
       "      <th>102089</th>\n",
       "      <td>2013</td>\n",
       "      <td>0</td>\n",
       "      <td>38</td>\n",
       "      <td>22151</td>\n",
       "      <td>399.0</td>\n",
       "      <td>1.0</td>\n",
       "    </tr>\n",
       "    <tr>\n",
       "      <th>102090</th>\n",
       "      <td>2013</td>\n",
       "      <td>0</td>\n",
       "      <td>38</td>\n",
       "      <td>22134</td>\n",
       "      <td>399.0</td>\n",
       "      <td>1.0</td>\n",
       "    </tr>\n",
       "    <tr>\n",
       "      <th>102091</th>\n",
       "      <td>2013</td>\n",
       "      <td>0</td>\n",
       "      <td>38</td>\n",
       "      <td>22134</td>\n",
       "      <td>399.0</td>\n",
       "      <td>1.0</td>\n",
       "    </tr>\n",
       "    <tr>\n",
       "      <th>102092</th>\n",
       "      <td>2013</td>\n",
       "      <td>0</td>\n",
       "      <td>38</td>\n",
       "      <td>22134</td>\n",
       "      <td>399.0</td>\n",
       "      <td>1.0</td>\n",
       "    </tr>\n",
       "    <tr>\n",
       "      <th>...</th>\n",
       "      <td>...</td>\n",
       "      <td>...</td>\n",
       "      <td>...</td>\n",
       "      <td>...</td>\n",
       "      <td>...</td>\n",
       "      <td>...</td>\n",
       "    </tr>\n",
       "    <tr>\n",
       "      <th>2893353</th>\n",
       "      <td>2015</td>\n",
       "      <td>33</td>\n",
       "      <td>38</td>\n",
       "      <td>20367</td>\n",
       "      <td>1899.0</td>\n",
       "      <td>1.0</td>\n",
       "    </tr>\n",
       "    <tr>\n",
       "      <th>2893354</th>\n",
       "      <td>2015</td>\n",
       "      <td>33</td>\n",
       "      <td>38</td>\n",
       "      <td>20393</td>\n",
       "      <td>1999.0</td>\n",
       "      <td>1.0</td>\n",
       "    </tr>\n",
       "    <tr>\n",
       "      <th>2893355</th>\n",
       "      <td>2015</td>\n",
       "      <td>33</td>\n",
       "      <td>38</td>\n",
       "      <td>20405</td>\n",
       "      <td>2399.0</td>\n",
       "      <td>1.0</td>\n",
       "    </tr>\n",
       "    <tr>\n",
       "      <th>2893356</th>\n",
       "      <td>2015</td>\n",
       "      <td>33</td>\n",
       "      <td>38</td>\n",
       "      <td>20428</td>\n",
       "      <td>1599.0</td>\n",
       "      <td>1.0</td>\n",
       "    </tr>\n",
       "    <tr>\n",
       "      <th>2893357</th>\n",
       "      <td>2015</td>\n",
       "      <td>33</td>\n",
       "      <td>38</td>\n",
       "      <td>20448</td>\n",
       "      <td>299.0</td>\n",
       "      <td>1.0</td>\n",
       "    </tr>\n",
       "  </tbody>\n",
       "</table>\n",
       "<p>46013 rows × 6 columns</p>\n",
       "</div>"
      ],
      "text/plain": [
       "         date  date_block_num  shop_id  item_id  item_price  item_cnt_day\n",
       "102088   2013               0       38    22154       999.0           1.0\n",
       "102089   2013               0       38    22151       399.0           1.0\n",
       "102090   2013               0       38    22134       399.0           1.0\n",
       "102091   2013               0       38    22134       399.0           1.0\n",
       "102092   2013               0       38    22134       399.0           1.0\n",
       "...       ...             ...      ...      ...         ...           ...\n",
       "2893353  2015              33       38    20367      1899.0           1.0\n",
       "2893354  2015              33       38    20393      1999.0           1.0\n",
       "2893355  2015              33       38    20405      2399.0           1.0\n",
       "2893356  2015              33       38    20428      1599.0           1.0\n",
       "2893357  2015              33       38    20448       299.0           1.0\n",
       "\n",
       "[46013 rows x 6 columns]"
      ]
     },
     "execution_count": 23,
     "metadata": {},
     "output_type": "execute_result"
    }
   ],
   "source": [
    "# Get data of random shop_id\n",
    "random_shop_df = new_date_sales_df[np.isin(new_date_sales_df.shop_id, random_shop_id)]\n",
    "random_shop_df"
   ]
  },
  {
   "cell_type": "code",
   "execution_count": 24,
   "metadata": {
    "ExecuteTime": {
     "end_time": "2022-01-11T11:35:35.273611Z",
     "start_time": "2022-01-11T11:35:26.138787Z"
    },
    "scrolled": false
   },
   "outputs": [
    {
     "data": {
      "text/html": [
       "<div>\n",
       "<style scoped>\n",
       "    .dataframe tbody tr th:only-of-type {\n",
       "        vertical-align: middle;\n",
       "    }\n",
       "\n",
       "    .dataframe tbody tr th {\n",
       "        vertical-align: top;\n",
       "    }\n",
       "\n",
       "    .dataframe thead th {\n",
       "        text-align: right;\n",
       "    }\n",
       "</style>\n",
       "<table border=\"1\" class=\"dataframe\">\n",
       "  <thead>\n",
       "    <tr style=\"text-align: right;\">\n",
       "      <th></th>\n",
       "      <th>item_id</th>\n",
       "      <th>date_block_num</th>\n",
       "      <th>total_turnover</th>\n",
       "    </tr>\n",
       "  </thead>\n",
       "  <tbody>\n",
       "    <tr>\n",
       "      <th>0</th>\n",
       "      <td>28</td>\n",
       "      <td>2</td>\n",
       "      <td>398.0</td>\n",
       "    </tr>\n",
       "    <tr>\n",
       "      <th>1</th>\n",
       "      <td>30</td>\n",
       "      <td>1</td>\n",
       "      <td>3192.0</td>\n",
       "    </tr>\n",
       "    <tr>\n",
       "      <th>2</th>\n",
       "      <td>30</td>\n",
       "      <td>2</td>\n",
       "      <td>798.0</td>\n",
       "    </tr>\n",
       "    <tr>\n",
       "      <th>3</th>\n",
       "      <td>30</td>\n",
       "      <td>7</td>\n",
       "      <td>399.0</td>\n",
       "    </tr>\n",
       "    <tr>\n",
       "      <th>4</th>\n",
       "      <td>30</td>\n",
       "      <td>11</td>\n",
       "      <td>169.0</td>\n",
       "    </tr>\n",
       "    <tr>\n",
       "      <th>...</th>\n",
       "      <td>...</td>\n",
       "      <td>...</td>\n",
       "      <td>...</td>\n",
       "    </tr>\n",
       "    <tr>\n",
       "      <th>26104</th>\n",
       "      <td>22167</td>\n",
       "      <td>18</td>\n",
       "      <td>299.0</td>\n",
       "    </tr>\n",
       "    <tr>\n",
       "      <th>26105</th>\n",
       "      <td>22167</td>\n",
       "      <td>19</td>\n",
       "      <td>299.0</td>\n",
       "    </tr>\n",
       "    <tr>\n",
       "      <th>26106</th>\n",
       "      <td>22167</td>\n",
       "      <td>21</td>\n",
       "      <td>598.0</td>\n",
       "    </tr>\n",
       "    <tr>\n",
       "      <th>26107</th>\n",
       "      <td>22167</td>\n",
       "      <td>27</td>\n",
       "      <td>598.0</td>\n",
       "    </tr>\n",
       "    <tr>\n",
       "      <th>26108</th>\n",
       "      <td>22167</td>\n",
       "      <td>28</td>\n",
       "      <td>299.0</td>\n",
       "    </tr>\n",
       "  </tbody>\n",
       "</table>\n",
       "<p>26109 rows × 3 columns</p>\n",
       "</div>"
      ],
      "text/plain": [
       "       item_id  date_block_num  total_turnover\n",
       "0           28               2           398.0\n",
       "1           30               1          3192.0\n",
       "2           30               2           798.0\n",
       "3           30               7           399.0\n",
       "4           30              11           169.0\n",
       "...        ...             ...             ...\n",
       "26104    22167              18           299.0\n",
       "26105    22167              19           299.0\n",
       "26106    22167              21           598.0\n",
       "26107    22167              27           598.0\n",
       "26108    22167              28           299.0\n",
       "\n",
       "[26109 rows x 3 columns]"
      ]
     },
     "execution_count": 24,
     "metadata": {},
     "output_type": "execute_result"
    }
   ],
   "source": [
    "# Group sale dataframe by `item_id` and `date_block_num`\n",
    "sales_group_shop_df = random_shop_df.groupby(by=['item_id', 'date_block_num'])\n",
    "# Apply `cal_turnover` function for each group\n",
    "# Reset index to create new df\n",
    "# Rename calculated value column as `total_turnover`\n",
    "sales_group_shop_df = sales_group_shop_df.apply(cal_turnover).reset_index(name='total_turnover')\n",
    "sales_group_shop_df"
   ]
  },
  {
   "cell_type": "code",
   "execution_count": 25,
   "metadata": {
    "ExecuteTime": {
     "end_time": "2022-01-11T11:35:35.298455Z",
     "start_time": "2022-01-11T11:35:35.276585Z"
    }
   },
   "outputs": [
    {
     "data": {
      "text/plain": [
       "7356"
      ]
     },
     "execution_count": 25,
     "metadata": {},
     "output_type": "execute_result"
    }
   ],
   "source": [
    "# Prepare the unique item_id of this shop\n",
    "unique_item_id = sales_group_shop_df.item_id.unique()\n",
    "len(unique_item_id)"
   ]
  },
  {
   "cell_type": "code",
   "execution_count": 26,
   "metadata": {
    "ExecuteTime": {
     "end_time": "2022-01-11T11:35:39.362289Z",
     "start_time": "2022-01-11T11:35:35.312183Z"
    }
   },
   "outputs": [
    {
     "name": "stderr",
     "output_type": "stream",
     "text": [
      "100%|██████████| 7356/7356 [00:13<00:00, 525.82it/s]\n"
     ]
    }
   ],
   "source": [
    "# Prepare data to plot\n",
    "total_turnover_list, item_id_list = [], []\n",
    "\n",
    "for item_id in tqdm(unique_item_id):\n",
    "    item_df = sales_group_shop_df[sales_group_shop_df.item_id == item_id]\n",
    "\n",
    "#     Check item_id which was sold in all 34 months\n",
    "    if len(item_df) < 34:\n",
    "#         Skip these item_id\n",
    "        continue\n",
    "\n",
    "    total_turnover_list.append(item_df.total_turnover.values)\n",
    "    item_id_list.append(str(item_id))"
   ]
  },
  {
   "cell_type": "code",
   "execution_count": 27,
   "metadata": {
    "ExecuteTime": {
     "end_time": "2022-01-11T11:35:39.574587Z",
     "start_time": "2022-01-11T11:35:39.371722Z"
    },
    "scrolled": true
   },
   "outputs": [
    {
     "data": {
      "image/png": "[encoded data removed]",
      "text/plain": [
       "<Figure size 432x288 with 1 Axes>"
      ]
     },
     "metadata": {
      "needs_background": "light"
     },
     "output_type": "display_data"
    }
   ],
   "source": [
    "# Plot the figure\n",
    "total_turnover_np = np.array(total_turnover_list, dtype=np.float32)\n",
    "index = np.arange(34)\n",
    "plt.stackplot(index, total_turnover_np, labels=item_id_list)\n",
    "plt.legend()\n",
    "plt.title(f'Contribution of turnover of {item_id_list} over 34 months')\n",
    "plt.show()"
   ]
  },
  {
   "cell_type": "markdown",
   "metadata": {},
   "source": [
    "### Exercise 5:\n",
    "Randomly choose 1 shop, use `pie plot figure` to show the contribution of turnover (in percent) of each item in 3 years 2013, 2014, and 2015. (1 pie plot figure for each year, use `subplots` to put all 3 figures together)"
   ]
  },
  {
   "cell_type": "code",
   "execution_count": 28,
   "metadata": {
    "ExecuteTime": {
     "end_time": "2022-01-11T11:35:39.590073Z",
     "start_time": "2022-01-11T11:35:39.577610Z"
    }
   },
   "outputs": [],
   "source": [
    "# Calculate turnorver in year\n",
    "total_turnover_list_by_year = []\n",
    "for total_turnover in total_turnover_list:\n",
    "    total_turnover_2013 = np.sum(total_turnover[:12])\n",
    "    total_turnover_2014 = np.sum(total_turnover[12:24])\n",
    "    total_turnover_2015 = np.sum(total_turnover[24:])\n",
    "    total_turnover_list_by_year.append(\n",
    "        np.array([total_turnover_2013, total_turnover_2014, total_turnover_2015]))\n",
    "\n",
    "total_turnover_list_by_year = np.array(total_turnover_list_by_year)"
   ]
  },
  {
   "cell_type": "code",
   "execution_count": 29,
   "metadata": {
    "ExecuteTime": {
     "end_time": "2022-01-11T11:35:39.972950Z",
     "start_time": "2022-01-11T11:35:39.609345Z"
    }
   },
   "outputs": [
    {
     "data": {
      "image/png": "[encoded data removed]",
      "text/plain": [
       "<Figure size 1080x360 with 3 Axes>"
      ]
     },
     "metadata": {},
     "output_type": "display_data"
    }
   ],
   "source": [
    "# Plot the figure\n",
    "fig, ax = plt.subplots(1, 3, figsize=(15, 5))\n",
    "for index, year in enumerate(year_list):\n",
    "    ax[index].pie(total_turnover_list_by_year[:, index], labels=item_id_list, startangle=90, autopct='%.2f')\n",
    "    ax[index].legend(loc='lower left')\n",
    "    ax[index].set_title(f'in {year}')\n",
    "\n",
    "plt.suptitle(f'Contribution of turnover of {item_id_list}', horizontalalignment='center', verticalalignment='bottom')\n",
    "plt.tight_layout()\n",
    "plt.show()"
   ]
  },
  {
   "cell_type": "markdown",
   "metadata": {},
   "source": [
    "### Exercise 6:\n",
    "Randomly choose 1 item, use `histogram figure` to show the distribution of sales of the item over 34 months (from January 2013 is 0, February 2013 is 1,..., October 2015 is 33.)"
   ]
  },
  {
   "cell_type": "code",
   "execution_count": 30,
   "metadata": {
    "ExecuteTime": {
     "end_time": "2022-01-11T11:35:40.029438Z",
     "start_time": "2022-01-11T11:35:39.976157Z"
    }
   },
   "outputs": [
    {
     "data": {
      "text/plain": [
       "array([11484])"
      ]
     },
     "execution_count": 30,
     "metadata": {},
     "output_type": "execute_result"
    }
   ],
   "source": [
    "np.random.seed(0)\n",
    "random_item_id = np.random.choice(sales_df.item_id.unique(), size=1)\n",
    "random_item_id"
   ]
  },
  {
   "cell_type": "code",
   "execution_count": 31,
   "metadata": {
    "ExecuteTime": {
     "end_time": "2022-01-11T11:35:40.072594Z",
     "start_time": "2022-01-11T11:35:40.034222Z"
    }
   },
   "outputs": [],
   "source": [
    "item_df = sales_df[sales_df.item_id == random_item_id[0]]\n",
    "item_count = item_df.groupby(by='date').agg({'item_cnt_day': sum}).reset_index()"
   ]
  },
  {
   "cell_type": "code",
   "execution_count": 32,
   "metadata": {
    "ExecuteTime": {
     "end_time": "2022-01-11T11:35:40.304987Z",
     "start_time": "2022-01-11T11:35:40.085884Z"
    }
   },
   "outputs": [
    {
     "data": {
      "image/png": "[encoded data removed]",
      "text/plain": [
       "<Figure size 432x288 with 1 Axes>"
      ]
     },
     "metadata": {
      "needs_background": "light"
     },
     "output_type": "display_data"
    }
   ],
   "source": [
    "plt.hist(item_count.item_cnt_day)\n",
    "plt.title(f'Distribution of sales of {random_item_id} over 34 months')\n",
    "plt.show()"
   ]
  },
  {
   "cell_type": "code",
   "execution_count": null,
   "metadata": {},
   "outputs": [],
   "source": []
  }
 ],
 "metadata": {
  "kernelspec": {
   "display_name": "Python 3",
   "language": "python",
   "name": "python3"
  },
  "language_info": {
   "codemirror_mode": {
    "name": "ipython",
    "version": 3
   },
   "file_extension": ".py",
   "mimetype": "text/x-python",
   "name": "python",
   "nbconvert_exporter": "python",
   "pygments_lexer": "ipython3",
   "version": "3.8.12"
  },
  "toc": {
   "base_numbering": 1,
   "nav_menu": {},
   "number_sections": false,
   "sideBar": true,
   "skip_h1_title": false,
   "title_cell": "Table of Contents",
   "title_sidebar": "Table of Contents",
   "toc_cell": false,
   "toc_position": {},
   "toc_section_display": true,
   "toc_window_display": true
  }
 },
 "nbformat": 4,
 "nbformat_minor": 4
}
