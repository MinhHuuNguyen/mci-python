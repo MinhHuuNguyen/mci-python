{
 "cells": [
  {
   "cell_type": "markdown",
   "metadata": {},
   "source": [
    "# LESSON 8: CAPSTONE PROJECT\n",
    "<img src=\"../images/py_logo.jpeg\" width=\"300px\"/>\n",
    "\n",
    "## 1. Overall\n",
    "### 1.1. Excercise 1:\n",
    "Write a `function` using `for loop` and another function using `while loop` to print the **pascal triangle** with 10 lines, 20 lines and 100 lines. <br>\n",
    "1 <br>\n",
    "1 1 <br>\n",
    "1 2 1 <br>\n",
    "1 3 3 1 <br>\n",
    "1 4 6 4 1 <br>\n",
    "1 5 10 5 1 <br>\n",
    "...\n",
    "\n",
    "### 1.2. Excercise 2:\n",
    "Write a `function` to check input number is a prime number or a composite number.\n",
    "\n",
    "### 1.3. Excercise 3:\n",
    "Given a string `'We love Data Science. We love Python'`.\n",
    "- Count each word in this string\n",
    "- Filter duplicate words in this string\n",
    "- Print a string which has the reverse order `'Python love We. Science Data love We'`\n",
    "\n",
    "## 2. Numpy and Pandas\n",
    "Use `seaborn` to load the `Iris dataset`.\n",
    "\n",
    "### 2.1. Excercise 4:\n",
    "Use `numpy` to solve this excercise.\n",
    "- Write a function to calculate `min`, `max`, `average`, `median`, `standard deviation` of each iris feature (`sepal_length`, `sepal_width`, `petal_length`, `petal_width`)\n",
    "- Use the function from above question but calculating each species separately (`versicolor`, `setosa`, `virginica`)\n",
    "- For each row, calculate the `special_value` by using this fomula: <br>\n",
    "`special_value = (sepal_length * sepal_width - petal_length ^ petal_width) / (sepal_length + sepal_width + petal_length + petal_width)`\n",
    "\n",
    "## 3. Matplotlib and Seaborn\n",
    "Use `seaborn` to load the `Penguins dataset`. And use `pandas` to handle the `NaN` value.\n",
    "### 3.1. Excercise 5:\n",
    "Use both `matplotlib` and `seaborn` to plot each of following figure. All figures must have title, label and legend.\n",
    "- Plot the histogram of each penguins feature (`bill_length_mm`, `bill_depth_mm`, `flipper_length_mm`, `body_mass_g`)\n",
    "- Use scatter plot to show the relationship of the two features `bill_length_mm` and `bill_depth_mm` each `species`, each `island` and each `sex`. (Three separated scatter plot)\n",
    "- Use bar plot to show the average value of each penguins feature (`bill_length_mm`, `bill_depth_mm`, `flipper_length_mm`, `body_mass_g`) each `species`, each `island` and each `sex`. (Three separated bar plot)\n",
    "\n",
    "### 3.2. Excercise 6:\n",
    "Use `seaborn` to plot each of following figure. All figures must have title, label and legend.\n",
    "- Use box plot to show information of each penguins feature (`bill_length_mm`, `bill_depth_mm`, `flipper_length_mm`, `body_mass_g`)\n",
    "- Use violin plot to show information of each penguins feature (`bill_length_mm`, `bill_depth_mm`, `flipper_length_mm`, `body_mass_g`) split by `sex`."
   ]
  }
 ],
 "metadata": {
  "kernelspec": {
   "display_name": "Python 3",
   "language": "python",
   "name": "python3"
  },
  "language_info": {
   "codemirror_mode": {
    "name": "ipython",
    "version": 3
   },
   "file_extension": ".py",
   "mimetype": "text/x-python",
   "name": "python",
   "nbconvert_exporter": "python",
   "pygments_lexer": "ipython3",
   "version": "3.8.12"
  },
  "toc": {
   "base_numbering": 1,
   "nav_menu": {},
   "number_sections": false,
   "sideBar": true,
   "skip_h1_title": false,
   "title_cell": "Table of Contents",
   "title_sidebar": "Table of Contents",
   "toc_cell": false,
   "toc_position": {},
   "toc_section_display": true,
   "toc_window_display": true
  }
 },
 "nbformat": 4,
 "nbformat_minor": 4
}
