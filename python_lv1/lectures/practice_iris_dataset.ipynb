{
 "cells": [
  {
   "cell_type": "markdown",
   "id": "13b6b99c",
   "metadata": {},
   "source": [
    "# PRACTICE: IRIS DATASET\n",
    "<img src=\"../images/ml_logo.png\" width=\"200px\"/>"
   ]
  },
  {
   "cell_type": "markdown",
   "id": "e8c413aa",
   "metadata": {},
   "source": [
    "## PROBLEM:\n",
    "You are provided with Iris plants dataset. The Iris plants dataset is a classic and very easy `multi-class classification` dataset.<br>\n",
    "\n",
    "### Data Characteristics\n",
    "1. `Number of Instances`: 150 (50 in each of three classes).\n",
    "2. `Number of Attributes`: 4 numeric, predictive attributes and the class.\n",
    "3. `Features`: sepal length in cm, sepal width in cm, petal length in cm, petal width in cm.\n",
    "4. `Class`: Iris-Setosa, Iris-Versicolour, Iris-Virginica\n",
    "5. `Class Distribution`: 33.3% for each of 3 classes.\n",
    "6. `Creator`: R.A. Fisher.\n",
    "7. `Donor`: Michael Marshall (MARSHALL%PLU@io.arc.nasa.gov).\n",
    "8. `Date`: July, 1988.\n",
    "\n",
    "<img src=\"../images/ml_iris.png\" width=\"1000px\"/>\n",
    "\n",
    "### Question\n",
    "1. Analyze and visualize the datasets\n",
    "2. Build a simple machine learning model to classify a iris species"
   ]
  },
  {
   "cell_type": "markdown",
   "id": "e802d283",
   "metadata": {},
   "source": [
    "## SOLUTION:\n",
    "### Overall solution\n",
    "A simple machine learning solution can be splitted into 3 steps:\n",
    "- Step 1: Prepare data and do the EDA\n",
    "- Step 2: Build and train a machine learning model\n",
    "- Step 3: Run the machine learning model with new data"
   ]
  }
 ],
 "metadata": {
  "kernelspec": {
   "display_name": "Python 3",
   "language": "python",
   "name": "python3"
  },
  "language_info": {
   "codemirror_mode": {
    "name": "ipython",
    "version": 3
   },
   "file_extension": ".py",
   "mimetype": "text/x-python",
   "name": "python",
   "nbconvert_exporter": "python",
   "pygments_lexer": "ipython3",
   "version": "3.8.12"
  },
  "toc": {
   "base_numbering": 1,
   "nav_menu": {},
   "number_sections": false,
   "sideBar": true,
   "skip_h1_title": false,
   "title_cell": "Table of Contents",
   "title_sidebar": "Table of Contents",
   "toc_cell": false,
   "toc_position": {},
   "toc_section_display": true,
   "toc_window_display": true
  }
 },
 "nbformat": 4,
 "nbformat_minor": 5
}
