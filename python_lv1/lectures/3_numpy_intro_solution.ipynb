{
 "cells": [
  {
   "cell_type": "markdown",
   "metadata": {},
   "source": [
    "# LESSON 3: NUMPY INTRODUCTION - SOLUTION\n",
    "<img src=\"../images/np_logo.png\" width=\"400px\"/>\n",
    "\n",
    "## Homework\n",
    "### Exercise 1:\n",
    "Write a NumPy program to convert a list of numeric value into a one-dimensional NumPy array.\n",
    "\n",
    "### Exercise 2:\n",
    "Write a NumPy program to create a 3x3 matrix with values ranging from 2 to 10.\n",
    "\n",
    "### Exercise 3:\n",
    "Write a NumPy program to reverse an array (first element becomes last).\n",
    "\n",
    "### Exercise 4:\n",
    "Write a NumPy program to convert an array to a float type.\n",
    "\n",
    "### Exercise 5:\n",
    "Write a NumPy program to create a 2d array with 1 on the border and 0 inside.\n",
    "\n",
    "### Exercise 6:\n",
    "Write a NumPy program to create a 8x8 matrix and fill it with a checkerboard pattern.\n",
    "\n",
    "### Exercise 7:\n",
    "Write a NumPy program to convert the values of Centigrade degrees into Fahrenheit degrees. Centigrade values are stored into a NumPy array.\n",
    "\n",
    "### Exercise 8:\n",
    "Write a NumPy program to get the indices of the sorted elements of a given array."
   ]
  },
  {
   "cell_type": "code",
   "execution_count": null,
   "metadata": {},
   "outputs": [],
   "source": []
  },
  {
   "cell_type": "code",
   "execution_count": null,
   "metadata": {},
   "outputs": [],
   "source": []
  }
 ],
 "metadata": {
  "kernelspec": {
   "display_name": "Python 3",
   "language": "python",
   "name": "python3"
  },
  "language_info": {
   "codemirror_mode": {
    "name": "ipython",
    "version": 3
   },
   "file_extension": ".py",
   "mimetype": "text/x-python",
   "name": "python",
   "nbconvert_exporter": "python",
   "pygments_lexer": "ipython3",
   "version": "3.8.12"
  },
  "toc": {
   "base_numbering": 1,
   "nav_menu": {},
   "number_sections": false,
   "sideBar": true,
   "skip_h1_title": false,
   "title_cell": "Table of Contents",
   "title_sidebar": "Table of Contents",
   "toc_cell": false,
   "toc_position": {},
   "toc_section_display": true,
   "toc_window_display": true
  }
 },
 "nbformat": 4,
 "nbformat_minor": 4
}
