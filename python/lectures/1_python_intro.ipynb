{
 "cells": [
  {
   "cell_type": "markdown",
   "id": "3c15ef46-3199-4a47-a759-5bbc12e64066",
   "metadata": {},
   "source": [
    "# LESSON 1: PYTHON INTRODUCTION\n",
    "<img src=\"../../images/py_logo.jpeg\" width=\"300px\"/>"
   ]
  },
  {
   "cell_type": "markdown",
   "id": "29900494-bb10-49a1-b595-c43d5a074e90",
   "metadata": {},
   "source": [
    "## 1. Overall introduction\n",
    "\"Python is a programming language that lets you work more quickly and integrate your systems more effectively.\"\n",
    "### Python is popular\n",
    "One of the main reasons for the popularity of Python would be its simplicity in syntax and it's very close to the English language so that it could be easily read and understood. <br>\n",
    "Another reason is the 4th industrial revolution which makes Cloud Computing, Machine Learning, and Big Data become hot trend. Python allows professionals to conduct complex statistical calculations, create data visualizations, build machine learning algorithms, manipulate and analyze data, and complete other data-related tasks. <br>\n",
    "<img src=\"../../images/py_popular.png\" width=\"700px\"/>\n",
    "### Python has lots of applications\n",
    "- Web and Internet Development\n",
    "- Database Access\n",
    "- Desktop GUIs\n",
    "- Scientific & Numeric\n",
    "- Education\n",
    "- Network Programming\n",
    "- Software & Game Development\n",
    "\n",
    "### Python is easy to learn\n",
    "- Active community which hosts conferences and meetups, collaborates on code, and much more.\n",
    "- Python document is open and easy to understand ([link](https://docs.python.org/3/library/)).\n",
    "- Built-in libraries and external libraries are powerful for many tasks, especially for data science, data engineer and data analysis:\n",
    "    - Scientific computing: numpy, numba, etc.\n",
    "    - AWS interaction: boto3\n",
    "    - Image processing: opencv, pillow, albumentation, etc.\n",
    "    - Machine learning and Deep learning framework: tensorflow, pytorch, onnx, sklearn, etc.\n",
    "    - Data processing and visualization: pandas, pyyaml, matplotlib, seaborn etc.\n"
   ]
  },
  {
   "cell_type": "code",
   "execution_count": null,
   "id": "ce28c8b2-ea16-4996-ad5a-22dd001c9283",
   "metadata": {
    "ExecuteTime": {
     "end_time": "2021-12-29T05:00:50.037627Z",
     "start_time": "2021-12-29T05:00:50.027251Z"
    }
   },
   "outputs": [],
   "source": [
    "print('Hello world!!!')"
   ]
  },
  {
   "cell_type": "markdown",
   "id": "46e9bbe1-324a-479b-8857-777f0e36f854",
   "metadata": {},
   "source": [
    "## 2. Install libraries using ipython notebook"
   ]
  },
  {
   "cell_type": "markdown",
   "id": "87d39719-bea6-49cd-96d6-cea896725a3f",
   "metadata": {},
   "source": [
    "### Use ipython notebook requires the ` ! `"
   ]
  },
  {
   "cell_type": "code",
   "execution_count": null,
   "id": "0ba97ccc",
   "metadata": {
    "ExecuteTime": {
     "end_time": "2021-12-29T05:00:52.753015Z",
     "start_time": "2021-12-29T05:00:50.045981Z"
    },
    "jupyter": {
     "outputs_hidden": true
    },
    "tags": []
   },
   "outputs": [],
   "source": [
    "!pip install numpy"
   ]
  },
  {
   "cell_type": "code",
   "execution_count": null,
   "id": "71d21233-6d6e-4451-9621-7e339bf01637",
   "metadata": {
    "ExecuteTime": {
     "end_time": "2021-12-29T05:01:10.076591Z",
     "start_time": "2021-12-29T05:00:52.764476Z"
    },
    "jupyter": {
     "outputs_hidden": true
    },
    "scrolled": true,
    "tags": []
   },
   "outputs": [],
   "source": [
    "!pip install pandas\n",
    "!pip install matplotlib"
   ]
  },
  {
   "cell_type": "markdown",
   "id": "456dab98-0e71-4156-b1b2-fe4d526e6829",
   "metadata": {},
   "source": [
    "### Specify the version of library by using ` == `"
   ]
  },
  {
   "cell_type": "code",
   "execution_count": null,
   "id": "2ca0ca97-6894-4443-abb6-ebf24a0d92a0",
   "metadata": {
    "ExecuteTime": {
     "end_time": "2021-12-29T05:01:52.011304Z",
     "start_time": "2021-12-29T05:01:10.083359Z"
    },
    "jupyter": {
     "outputs_hidden": true
    },
    "scrolled": true,
    "tags": []
   },
   "outputs": [],
   "source": [
    "!pip install numpy==1.21.4\n",
    "!pip install pandas==1.3.4\n",
    "!pip install matplotlib==3.5.0"
   ]
  },
  {
   "cell_type": "markdown",
   "id": "0ceb6a50-51a6-4357-87c3-034b8493facb",
   "metadata": {},
   "source": [
    "## 3. Import the library into Python code"
   ]
  },
  {
   "cell_type": "markdown",
   "id": "fe5b55ee-ec38-4d28-9331-9be2c251e8eb",
   "metadata": {},
   "source": [
    "### 3.1. Import internal library"
   ]
  },
  {
   "cell_type": "code",
   "execution_count": null,
   "id": "ce3735c1-0b5f-48f2-8e31-a026409ee418",
   "metadata": {
    "ExecuteTime": {
     "end_time": "2021-12-29T05:01:52.028959Z",
     "start_time": "2021-12-29T05:01:52.021087Z"
    }
   },
   "outputs": [],
   "source": [
    "import math\n",
    "import json\n",
    "import os"
   ]
  },
  {
   "cell_type": "code",
   "execution_count": null,
   "id": "27f049ea-3a6d-49f2-8447-15aa5e0a648a",
   "metadata": {
    "ExecuteTime": {
     "end_time": "2021-12-29T05:01:52.040493Z",
     "start_time": "2021-12-29T05:01:52.034317Z"
    }
   },
   "outputs": [],
   "source": [
    "print(math.pi)"
   ]
  },
  {
   "cell_type": "markdown",
   "id": "8888baca-6c43-48dc-a069-6e4212361514",
   "metadata": {
    "tags": []
   },
   "source": [
    "### 3.2. Import modules from internal library"
   ]
  },
  {
   "cell_type": "code",
   "execution_count": null,
   "id": "48a221c1-6408-497b-8651-cabc99a6c9da",
   "metadata": {
    "ExecuteTime": {
     "end_time": "2021-12-29T05:01:52.050624Z",
     "start_time": "2021-12-29T05:01:52.044498Z"
    }
   },
   "outputs": [],
   "source": [
    "from math import pi"
   ]
  },
  {
   "cell_type": "code",
   "execution_count": null,
   "id": "dd61bcc9-bacd-4f4a-8bdc-72706912a452",
   "metadata": {
    "ExecuteTime": {
     "end_time": "2021-12-29T05:01:52.063044Z",
     "start_time": "2021-12-29T05:01:52.054781Z"
    }
   },
   "outputs": [],
   "source": [
    "print(pi)"
   ]
  },
  {
   "cell_type": "code",
   "execution_count": null,
   "id": "fe32bd0e-cf7f-4f1d-b79b-7ff3008102f0",
   "metadata": {
    "ExecuteTime": {
     "end_time": "2021-12-29T05:01:52.087606Z",
     "start_time": "2021-12-29T05:01:52.081833Z"
    }
   },
   "outputs": [],
   "source": [
    "from math import pi, e"
   ]
  },
  {
   "cell_type": "code",
   "execution_count": null,
   "id": "e7a511ad-740e-4c37-a0f1-bb86981c39bd",
   "metadata": {
    "ExecuteTime": {
     "end_time": "2021-12-29T05:01:52.120487Z",
     "start_time": "2021-12-29T05:01:52.093702Z"
    }
   },
   "outputs": [],
   "source": [
    "print(pi)\n",
    "print(e)"
   ]
  },
  {
   "cell_type": "markdown",
   "id": "f4609eed-3aaa-4b92-a57c-85d301514a10",
   "metadata": {
    "tags": []
   },
   "source": [
    "### 3.3. Import all modules from library"
   ]
  },
  {
   "cell_type": "code",
   "execution_count": null,
   "id": "8898239c-2ca3-40d6-baa8-dc7f32560493",
   "metadata": {
    "ExecuteTime": {
     "end_time": "2021-12-29T05:01:52.173204Z",
     "start_time": "2021-12-29T05:01:52.141814Z"
    }
   },
   "outputs": [],
   "source": [
    "from math import *"
   ]
  },
  {
   "cell_type": "code",
   "execution_count": null,
   "id": "3dfee946-bbbb-46c0-a4cb-04cc5354c497",
   "metadata": {
    "ExecuteTime": {
     "end_time": "2021-12-29T05:01:52.194544Z",
     "start_time": "2021-12-29T05:01:52.180177Z"
    }
   },
   "outputs": [],
   "source": [
    "print(pi)\n",
    "print(e)"
   ]
  },
  {
   "cell_type": "markdown",
   "id": "f2a0349e-7cd1-42d9-895e-4d860ad35317",
   "metadata": {
    "tags": []
   },
   "source": [
    "### 3.4. Set module alias while importing"
   ]
  },
  {
   "cell_type": "code",
   "execution_count": null,
   "id": "0a4cfec0-2318-4135-bfa6-d56baba2c02f",
   "metadata": {
    "ExecuteTime": {
     "end_time": "2021-12-29T05:01:52.215327Z",
     "start_time": "2021-12-29T05:01:52.199485Z"
    }
   },
   "outputs": [],
   "source": [
    "from math import pi as pi_number"
   ]
  },
  {
   "cell_type": "code",
   "execution_count": null,
   "id": "a49ec1d6-db8a-4a1d-a86d-9d0d87e50e30",
   "metadata": {
    "ExecuteTime": {
     "end_time": "2021-12-29T05:01:52.230565Z",
     "start_time": "2021-12-29T05:01:52.223714Z"
    }
   },
   "outputs": [],
   "source": [
    "print(pi_number)"
   ]
  },
  {
   "cell_type": "code",
   "execution_count": null,
   "id": "5e7e4b7a-6bd8-45a3-bbda-fa552d1aa1bb",
   "metadata": {
    "ExecuteTime": {
     "end_time": "2021-12-29T05:01:52.245756Z",
     "start_time": "2021-12-29T05:01:52.238574Z"
    }
   },
   "outputs": [],
   "source": [
    "from math import pi as pi_number, e as e_number"
   ]
  },
  {
   "cell_type": "code",
   "execution_count": null,
   "id": "fe4437ca-c527-4ca5-b3d1-f69350b97c03",
   "metadata": {
    "ExecuteTime": {
     "end_time": "2021-12-29T05:01:52.257309Z",
     "start_time": "2021-12-29T05:01:52.249492Z"
    }
   },
   "outputs": [],
   "source": [
    "print(pi_number)\n",
    "print(e_number)"
   ]
  },
  {
   "cell_type": "markdown",
   "id": "a94c71ab-f91d-4f4d-9133-5247f97ba4ae",
   "metadata": {},
   "source": [
    "### 3.5. Import external libraries"
   ]
  },
  {
   "cell_type": "code",
   "execution_count": null,
   "id": "46e21b2e-9c1e-4779-a010-2f01c594591c",
   "metadata": {
    "ExecuteTime": {
     "end_time": "2021-12-29T05:02:16.159414Z",
     "start_time": "2021-12-29T05:01:52.262957Z"
    }
   },
   "outputs": [],
   "source": [
    "import numpy\n",
    "import pandas\n",
    "import matplotlib"
   ]
  },
  {
   "cell_type": "code",
   "execution_count": null,
   "id": "363602eb-712f-4d26-b1d6-29e92d4edb7e",
   "metadata": {
    "ExecuteTime": {
     "end_time": "2021-12-29T05:02:16.625334Z",
     "start_time": "2021-12-29T05:02:16.163220Z"
    },
    "tags": []
   },
   "outputs": [],
   "source": [
    "# Error while import library that haven't been installed\n",
    "import torch"
   ]
  }
 ],
 "metadata": {
  "kernelspec": {
   "display_name": "Python 3 (ipykernel)",
   "language": "python",
   "name": "python3"
  },
  "language_info": {
   "codemirror_mode": {
    "name": "ipython",
    "version": 3
   },
   "file_extension": ".py",
   "mimetype": "text/x-python",
   "name": "python",
   "nbconvert_exporter": "python",
   "pygments_lexer": "ipython3",
   "version": "3.8.12"
  },
  "toc": {
   "base_numbering": 1,
   "nav_menu": {},
   "number_sections": false,
   "sideBar": true,
   "skip_h1_title": false,
   "title_cell": "Table of Contents",
   "title_sidebar": "Table of Contents",
   "toc_cell": false,
   "toc_position": {
    "height": "calc(100% - 180px)",
    "left": "10px",
    "top": "150px",
    "width": "231px"
   },
   "toc_section_display": true,
   "toc_window_display": true
  }
 },
 "nbformat": 4,
 "nbformat_minor": 5
}
