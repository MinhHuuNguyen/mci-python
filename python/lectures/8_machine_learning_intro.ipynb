{
 "cells": [
  {
   "cell_type": "markdown",
   "id": "37b384f1",
   "metadata": {},
   "source": [
    "# LESSON 8: MACHINE LEARNING INTRODUCTION\n",
    "<img src=\"../../images/ml_logo.png\" width=\"200px\"/>\n",
    "\n",
    "## 1. Overall introduction\n",
    "According to Arthur Samuel, Machine Learning algorithms enable the computers to learn from data, and even improve themselves, without being explicitly programmed. <br>\n",
    "<img src=\"../../images/ml_compare.png\" width=\"250px\"/>\n",
    "\n",
    "## 2. History\n",
    "<img src=\"../../images/ml_history.jpeg\" width=\"600px\"/>\n",
    "\n",
    "## 3. Applications\n",
    "\n",
    "|#|Application|Description|Author|More information|Example|\n",
    "|-|-|-|-|-|-|\n",
    "|1|Autopilot|...|Tesla|[here](https://www.tesla.com/autopilot)|<img src=\"../../images/ml_autopilot.jpeg\" width=\"200px\"/>|\n",
    "|2|Siri|...|Apple|[here](https://www.apple.com/siri/)|<img src=\"../../images/ml_siri.jpeg\" width=\"200px\"/>|\n",
    "|3|AlphaGo|...|Google Deepmind| [here](https://deepmind.com/research/case-studies/alphago-the-story-so-far)|<img src=\"../../images/ml_alphago.png\" width=\"200px\"/>|\n",
    "|4|Social credit scores|...|China|[here](https://en.wikipedia.org/wiki/Social_Credit_System)|<img src=\"../../images/ml_social_credit.jpeg\" width=\"200px\"/>|\n",
    "|...|...|...|...|...|...|\n",
    "\n",
    "## 4. Algorithms\n",
    "### 4.1. Supervised learning\n",
    "Supervised learning algorithms use **data with its label (or labeled data)** as resources to train the model. Model will find the relationship between the input data and its label.\n",
    "\n",
    "<img src=\"../../images/ml_supervised.png\" width=\"500px\"/>\n",
    "\n",
    "#### Classification\n",
    "The label of data used in Classification algorithms is **discrete value (or categorical)**.<br>\n",
    "Some famous Classification algorithms are Logistic Regression, SVM, Decision Tree, etc.\n",
    "\n",
    "#### Regression\n",
    "The label of data used in Regression algorithms is a **continuous value**.<br>\n",
    "Some famous Regression algorithms are Linear Regression, Lasso Regression, Ridge Regression, etc.\n",
    "\n",
    "### 4.2. Unsupervised learning\n",
    "Unsupervised learning algorithms use only **data without label (or unlabeled data)** as resources to train the model.\n",
    "\n",
    "<img src=\"../../images/ml_unsupervised.png\" width=\"500px\"/>\n",
    "\n",
    "#### Clustering\n",
    "Clustering algorithms divide **unlabeled data** into several groups.<br>\n",
    "Some famous Clustering algorithms are K-means clustering, DBSCAN, etc.\n",
    "\n",
    "#### Dimension reduction\n",
    "Dimension reduction algorithms aim at reduce the size of input data in order to improve performance, save storage, etc.\n",
    "\n",
    "### 4.3. Reinforcement learning\n",
    "Reinforcement learning algorithms aim at **creating an agent** to **interact with environment** by **taking action** to **receive reward or penalty**\n",
    "\n",
    "<img src=\"../../images/ml_reinforcement.png\" width=\"300px\"/>\n",
    "\n",
    "### 4.4. (Bonus) Semi-supervised learning\n",
    "With an explosion of data and most of them are unlabeled data, lots of researchers want to find a solution to use both labeled data and unlabeled data, or in other words, using unlabeled data to improve performance of model trained with labeled data. Some Semi-supervised learning models have shown their effect by improving performance of model significantly."
   ]
  },
  {
   "cell_type": "code",
   "execution_count": null,
   "id": "7d6c9a8f",
   "metadata": {},
   "outputs": [],
   "source": []
  }
 ],
 "metadata": {
  "kernelspec": {
   "display_name": "Python 3 (ipykernel)",
   "language": "python",
   "name": "python3"
  },
  "language_info": {
   "codemirror_mode": {
    "name": "ipython",
    "version": 3
   },
   "file_extension": ".py",
   "mimetype": "text/x-python",
   "name": "python",
   "nbconvert_exporter": "python",
   "pygments_lexer": "ipython3",
   "version": "3.8.12"
  },
  "toc": {
   "base_numbering": 1,
   "nav_menu": {},
   "number_sections": false,
   "sideBar": true,
   "skip_h1_title": false,
   "title_cell": "Table of Contents",
   "title_sidebar": "Table of Contents",
   "toc_cell": false,
   "toc_position": {
    "height": "calc(100% - 180px)",
    "left": "10px",
    "top": "150px",
    "width": "188.2px"
   },
   "toc_section_display": true,
   "toc_window_display": true
  }
 },
 "nbformat": 4,
 "nbformat_minor": 5
}
