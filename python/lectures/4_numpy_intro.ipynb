{
 "cells": [
  {
   "cell_type": "markdown",
   "id": "28ed965f-2f18-47bd-b761-a88fbdf156c4",
   "metadata": {},
   "source": [
    "# LESSON 4: NUMPY INTRODUCTION\n",
    "<img src=\"../../images/np_logo.png\" width=\"400px\"/>"
   ]
  },
  {
   "cell_type": "markdown",
   "id": "dca9cda2-9b90-4ee1-8ef4-5dcc9c5ce11a",
   "metadata": {
    "jp-MarkdownHeadingCollapsed": true,
    "tags": []
   },
   "source": [
    "## 1. Overall introduction\n",
    "\"The fundamental package for scientific computing with Python.\" <br>\n",
    "NumPy official document is available [here](https://numpy.org/doc/stable/). <br>\n",
    "NumPy official open-source is [here](https://github.com/numpy/numpy). <br>\n",
    "Compare with Python `list`, NumPy is FAST and MEMORY EFFIENCY!!! (computing on vector and single data type)"
   ]
  },
  {
   "cell_type": "markdown",
   "id": "6537d173",
   "metadata": {},
   "source": [
    "### 1.1. Vectorization"
   ]
  },
  {
   "cell_type": "code",
   "execution_count": null,
   "id": "3c8bc8ea",
   "metadata": {
    "ExecuteTime": {
     "end_time": "2021-12-29T04:56:56.144512Z",
     "start_time": "2021-12-29T04:56:53.997217Z"
    }
   },
   "outputs": [],
   "source": [
    "# Python list\n",
    "\n",
    "list_a = [1, 2, 3] * 1_000_000\n",
    "list_b = [10, 11, 12] * 1_000_000\n",
    "list_results = []\n",
    "\n",
    "for index in range(len(list_a)):\n",
    "    list_results.append(list_a[index] + list_b[index])\n",
    "\n",
    "# print(list_results)"
   ]
  },
  {
   "cell_type": "code",
   "execution_count": null,
   "id": "b3a41bc8",
   "metadata": {
    "ExecuteTime": {
     "end_time": "2021-12-29T04:56:56.539060Z",
     "start_time": "2021-12-29T04:56:56.157367Z"
    }
   },
   "outputs": [],
   "source": [
    "# Numpy\n",
    "\n",
    "np_a = np.array([1, 2, 3] * 1_000_000)\n",
    "np_b = np.array([10, 11, 12] * 1_000_000)\n",
    "\n",
    "np_results = np_a + np_b\n",
    "# print(np_results)"
   ]
  },
  {
   "cell_type": "markdown",
   "id": "42e69ebb",
   "metadata": {},
   "source": [
    "### 1.2. Broadcasting\n",
    "<img src=\"../../images/np_broadcast_1.png\" width=\"400px\"/>\n",
    "\n",
    "In the simplest example of broadcasting, the scalar `b` is stretched to become an array of same shape as `a` so the shapes are compatible for element-by-element multiplication.\n",
    "\n",
    "<img src=\"../../images/np_broadcast_2.png\" width=\"400px\"/>\n",
    "\n",
    "A two dimensional array added by a one dimensional array results in broadcasting if number of 1-d array elements matches the number of 2-d array columns.\n",
    "\n",
    "<img src=\"../../images/np_broadcast_3.png\" width=\"400px\"/>\n",
    "\n",
    "In some cases, broadcasting stretches both arrays to form an output array larger than either of the initial arrays.\n",
    "\n",
    "<img src=\"../../images/np_broadcast_4.png\" width=\"400px\"/>\n",
    "\n",
    "When the trailing dimensions of the arrays are unequal, broadcasting fails because it is impossible to align the values in the rows of the 1st array with the elements of the 2nd arrays for element-by-element addition."
   ]
  },
  {
   "cell_type": "markdown",
   "id": "057dbaec-4eb3-4c0a-8913-e5ef7b561921",
   "metadata": {
    "tags": []
   },
   "source": [
    "## 2. Install and import numpy"
   ]
  },
  {
   "cell_type": "code",
   "execution_count": null,
   "id": "faa3ecba-45c8-4b12-b22f-126fdaf67304",
   "metadata": {
    "ExecuteTime": {
     "end_time": "2022-01-05T21:22:40.518555Z",
     "start_time": "2022-01-05T21:22:27.091451Z"
    },
    "jupyter": {
     "outputs_hidden": true
    },
    "tags": []
   },
   "outputs": [],
   "source": [
    "!conda install -c anaconda numpy -y"
   ]
  },
  {
   "cell_type": "code",
   "execution_count": null,
   "id": "f5e3463a-0bec-4be4-a8b8-7c7b44ced846",
   "metadata": {
    "ExecuteTime": {
     "end_time": "2021-12-29T04:56:56.859264Z",
     "start_time": "2021-12-29T04:56:56.859226Z"
    }
   },
   "outputs": [],
   "source": [
    "import numpy as np"
   ]
  },
  {
   "cell_type": "markdown",
   "id": "4f2d8474",
   "metadata": {
    "tags": []
   },
   "source": [
    "## 3. Get started with numpy ndarray\n",
    "<img src=\"../../images/np_array.png\" width=\"500px\"/>\n",
    "\n",
    "### Create ndarray\n",
    "| Data type\t    | Description |\n",
    "|---------------|-------------|\n",
    "| ``bool_``     | Boolean (True or False) stored as a byte |\n",
    "| ``int_``      | Default integer type (same as C ``long``; normally either ``int64`` or ``int32``)| \n",
    "| ``intc``      | Identical to C ``int`` (normally ``int32`` or ``int64``)| \n",
    "| ``intp``      | Integer used for indexing (same as C ``ssize_t``; normally either ``int32`` or ``int64``)| \n",
    "| ``int8``      | Byte (-128 to 127)| \n",
    "| ``int16``     | Integer (-32768 to 32767)|\n",
    "| ``int32``     | Integer (-2147483648 to 2147483647)|\n",
    "| ``int64``     | Integer (-9223372036854775808 to 9223372036854775807)| \n",
    "| ``uint8``     | Unsigned integer (0 to 255)| \n",
    "| ``uint16``    | Unsigned integer (0 to 65535)| \n",
    "| ``uint32``    | Unsigned integer (0 to 4294967295)| \n",
    "| ``uint64``    | Unsigned integer (0 to 18446744073709551615)| \n",
    "| ``float_``    | Shorthand for ``float64``.| \n",
    "| ``float16``   | Half precision float: sign bit, 5 bits exponent, 10 bits mantissa| \n",
    "| ``float32``   | Single precision float: sign bit, 8 bits exponent, 23 bits mantissa| \n",
    "| ``float64``   | Double precision float: sign bit, 11 bits exponent, 52 bits mantissa| \n",
    "| ``complex_``  | Shorthand for ``complex128``.| \n",
    "| ``complex64`` | Complex number, represented by two 32-bit floats| \n",
    "| ``complex128``| Complex number, represented by two 64-bit floats|"
   ]
  },
  {
   "cell_type": "code",
   "execution_count": null,
   "id": "fcd8649a-4f36-4be5-961b-939b59841c99",
   "metadata": {
    "ExecuteTime": {
     "end_time": "2021-12-29T04:56:56.863801Z",
     "start_time": "2021-12-29T04:56:56.863766Z"
    }
   },
   "outputs": [],
   "source": [
    "# Create a length-10 integer array filled with zeros\n",
    "np.zeros(10, dtype=int)"
   ]
  },
  {
   "cell_type": "code",
   "execution_count": null,
   "id": "7b7c000b",
   "metadata": {
    "ExecuteTime": {
     "end_time": "2021-12-29T04:56:56.868842Z",
     "start_time": "2021-12-29T04:56:56.868796Z"
    }
   },
   "outputs": [],
   "source": [
    "# Create a 3x5 floating-point array filled with ones\n",
    "np.ones((3, 5), dtype=float)"
   ]
  },
  {
   "cell_type": "code",
   "execution_count": null,
   "id": "623cafa1",
   "metadata": {
    "ExecuteTime": {
     "end_time": "2021-12-29T04:56:56.872097Z",
     "start_time": "2021-12-29T04:56:56.872057Z"
    }
   },
   "outputs": [],
   "source": [
    "# Create a 3x5 array filled with 3.14\n",
    "np.full((3, 5), np.pi)"
   ]
  },
  {
   "cell_type": "code",
   "execution_count": null,
   "id": "c2d07dda",
   "metadata": {
    "ExecuteTime": {
     "end_time": "2021-12-29T04:56:56.880675Z",
     "start_time": "2021-12-29T04:56:56.880631Z"
    }
   },
   "outputs": [],
   "source": [
    "# Create an array filled with a linear sequence\n",
    "# Starting at 0, ending at 20, stepping by 2\n",
    "# (this is similar to the built-in range() function)\n",
    "np.arange(0, 20, 2)"
   ]
  },
  {
   "cell_type": "code",
   "execution_count": null,
   "id": "8a61c00b",
   "metadata": {
    "ExecuteTime": {
     "end_time": "2021-12-29T04:56:56.886893Z",
     "start_time": "2021-12-29T04:56:56.886843Z"
    }
   },
   "outputs": [],
   "source": [
    "# Create an array of five values evenly spaced between 0 and 1\n",
    "np.linspace(0, 1, 5)"
   ]
  },
  {
   "cell_type": "code",
   "execution_count": null,
   "id": "3f5e8eac",
   "metadata": {
    "ExecuteTime": {
     "end_time": "2021-12-29T04:56:56.891116Z",
     "start_time": "2021-12-29T04:56:56.891082Z"
    }
   },
   "outputs": [],
   "source": [
    "# Create a 3x3 array of uniformly distributed\n",
    "# random values between 0 and 1\n",
    "np.random.random((3, 3))"
   ]
  },
  {
   "cell_type": "code",
   "execution_count": null,
   "id": "4e9de9fa",
   "metadata": {
    "ExecuteTime": {
     "end_time": "2021-12-29T04:56:56.895764Z",
     "start_time": "2021-12-29T04:56:56.895729Z"
    }
   },
   "outputs": [],
   "source": [
    "# Create a 3x3 array of normally distributed random values\n",
    "# with mean 0 and standard deviation 1\n",
    "np.random.normal(0, 1, (3, 3))"
   ]
  },
  {
   "cell_type": "markdown",
   "id": "0ebd402a",
   "metadata": {
    "tags": []
   },
   "source": [
    "### Show ndarray's attributes"
   ]
  },
  {
   "cell_type": "code",
   "execution_count": null,
   "id": "21aa31f8",
   "metadata": {
    "ExecuteTime": {
     "end_time": "2021-12-29T04:56:56.898936Z",
     "start_time": "2021-12-29T04:56:56.898870Z"
    }
   },
   "outputs": [],
   "source": [
    "x = np.random.randint(10, size=(3, 4, 5))\n",
    "x"
   ]
  },
  {
   "cell_type": "code",
   "execution_count": null,
   "id": "abcb997c",
   "metadata": {
    "ExecuteTime": {
     "end_time": "2021-12-29T04:56:56.904802Z",
     "start_time": "2021-12-29T04:56:56.904758Z"
    }
   },
   "outputs": [],
   "source": [
    "x.ndim # Number of dimensions"
   ]
  },
  {
   "cell_type": "code",
   "execution_count": null,
   "id": "c2dea2bf",
   "metadata": {
    "ExecuteTime": {
     "end_time": "2021-12-29T04:56:56.908392Z",
     "start_time": "2021-12-29T04:56:56.908355Z"
    }
   },
   "outputs": [],
   "source": [
    "x.shape # Detail size each dimension"
   ]
  },
  {
   "cell_type": "code",
   "execution_count": null,
   "id": "8aaef0e3",
   "metadata": {
    "ExecuteTime": {
     "end_time": "2021-12-29T04:56:56.912344Z",
     "start_time": "2021-12-29T04:56:56.912305Z"
    }
   },
   "outputs": [],
   "source": [
    "x.size # Total elements in array"
   ]
  },
  {
   "cell_type": "code",
   "execution_count": null,
   "id": "9325d31c",
   "metadata": {
    "ExecuteTime": {
     "end_time": "2021-12-29T04:56:56.916562Z",
     "start_time": "2021-12-29T04:56:56.916522Z"
    }
   },
   "outputs": [],
   "source": [
    "x.dtype # Data type used in array"
   ]
  },
  {
   "cell_type": "code",
   "execution_count": null,
   "id": "96781460",
   "metadata": {
    "ExecuteTime": {
     "end_time": "2021-12-29T04:56:56.920033Z",
     "start_time": "2021-12-29T04:56:56.919993Z"
    }
   },
   "outputs": [],
   "source": [
    "x.itemsize # Size (in bytes) of each element"
   ]
  },
  {
   "cell_type": "code",
   "execution_count": null,
   "id": "44c1228b",
   "metadata": {
    "ExecuteTime": {
     "end_time": "2021-12-29T04:56:56.923859Z",
     "start_time": "2021-12-29T04:56:56.923825Z"
    }
   },
   "outputs": [],
   "source": [
    "x.nbytes # Total size of all elements in array"
   ]
  },
  {
   "cell_type": "markdown",
   "id": "b3e359e7",
   "metadata": {},
   "source": [
    "### Access elements in ndarray by index"
   ]
  },
  {
   "cell_type": "code",
   "execution_count": null,
   "id": "e54d8412",
   "metadata": {
    "ExecuteTime": {
     "end_time": "2021-12-29T04:56:56.930822Z",
     "start_time": "2021-12-29T04:56:56.930767Z"
    }
   },
   "outputs": [],
   "source": [
    "x"
   ]
  },
  {
   "cell_type": "code",
   "execution_count": null,
   "id": "3c48d6ab",
   "metadata": {
    "ExecuteTime": {
     "end_time": "2021-12-29T04:56:56.934064Z",
     "start_time": "2021-12-29T04:56:56.934017Z"
    }
   },
   "outputs": [],
   "source": [
    "x[1]"
   ]
  },
  {
   "cell_type": "code",
   "execution_count": null,
   "id": "8bb7ffc1",
   "metadata": {
    "ExecuteTime": {
     "end_time": "2021-12-29T04:56:56.938394Z",
     "start_time": "2021-12-29T04:56:56.938323Z"
    }
   },
   "outputs": [],
   "source": [
    "x[1, 1]"
   ]
  },
  {
   "cell_type": "code",
   "execution_count": null,
   "id": "74048935",
   "metadata": {
    "ExecuteTime": {
     "end_time": "2021-12-29T04:56:56.941518Z",
     "start_time": "2021-12-29T04:56:56.941494Z"
    }
   },
   "outputs": [],
   "source": [
    "x[1, 1, 1]"
   ]
  },
  {
   "cell_type": "code",
   "execution_count": null,
   "id": "7ae1ceb8",
   "metadata": {
    "ExecuteTime": {
     "end_time": "2021-12-29T04:56:56.950971Z",
     "start_time": "2021-12-29T04:56:56.950924Z"
    }
   },
   "outputs": [],
   "source": [
    "x[1, 1, 1] = 999\n",
    "x"
   ]
  },
  {
   "cell_type": "code",
   "execution_count": null,
   "id": "12d21e32",
   "metadata": {
    "ExecuteTime": {
     "end_time": "2021-12-29T04:56:56.958214Z",
     "start_time": "2021-12-29T04:56:56.958179Z"
    }
   },
   "outputs": [],
   "source": [
    "x[-1]"
   ]
  },
  {
   "cell_type": "markdown",
   "id": "7a72cb0d",
   "metadata": {},
   "source": [
    "### Slice ndarray by index and `:`\n",
    "<img src=\"../../images/np_slice.jpeg\" width=\"400px\"/>"
   ]
  },
  {
   "cell_type": "code",
   "execution_count": null,
   "id": "6ec33b70",
   "metadata": {
    "ExecuteTime": {
     "end_time": "2021-12-29T04:56:56.961254Z",
     "start_time": "2021-12-29T04:56:56.961176Z"
    }
   },
   "outputs": [],
   "source": [
    "x"
   ]
  },
  {
   "cell_type": "code",
   "execution_count": null,
   "id": "c4322f32",
   "metadata": {
    "ExecuteTime": {
     "end_time": "2021-12-29T04:56:56.967512Z",
     "start_time": "2021-12-29T04:56:56.967462Z"
    }
   },
   "outputs": [],
   "source": [
    "x[1:]"
   ]
  },
  {
   "cell_type": "code",
   "execution_count": null,
   "id": "8ee74f81",
   "metadata": {
    "ExecuteTime": {
     "end_time": "2021-12-29T04:56:56.974007Z",
     "start_time": "2021-12-29T04:56:56.973923Z"
    }
   },
   "outputs": [],
   "source": [
    "x[1:, 1:]"
   ]
  },
  {
   "cell_type": "code",
   "execution_count": null,
   "id": "802e11ae",
   "metadata": {
    "ExecuteTime": {
     "end_time": "2021-12-29T04:56:56.978856Z",
     "start_time": "2021-12-29T04:56:56.978826Z"
    }
   },
   "outputs": [],
   "source": [
    "x[1:, 1:, 1:]"
   ]
  },
  {
   "cell_type": "code",
   "execution_count": null,
   "id": "559e1eb8",
   "metadata": {
    "ExecuteTime": {
     "end_time": "2021-12-29T04:56:56.982636Z",
     "start_time": "2021-12-29T04:56:56.982587Z"
    }
   },
   "outputs": [],
   "source": [
    "x[1:, 1:, 1:] = np.full((2, 3, 4), 888)\n",
    "x"
   ]
  },
  {
   "cell_type": "markdown",
   "id": "c4a4b049",
   "metadata": {},
   "source": [
    "### Slice ndarray with step"
   ]
  },
  {
   "cell_type": "code",
   "execution_count": null,
   "id": "696c84a3",
   "metadata": {
    "ExecuteTime": {
     "end_time": "2021-12-29T04:56:56.988041Z",
     "start_time": "2021-12-29T04:56:56.988010Z"
    }
   },
   "outputs": [],
   "source": [
    "y = x[0, 0]\n",
    "y"
   ]
  },
  {
   "cell_type": "code",
   "execution_count": null,
   "id": "2a155db2",
   "metadata": {
    "ExecuteTime": {
     "end_time": "2021-12-29T04:56:56.990927Z",
     "start_time": "2021-12-29T04:56:56.990827Z"
    }
   },
   "outputs": [],
   "source": [
    "y[::2] # start = 0 (first index), stop = 5 (last index + 1), step = 2"
   ]
  },
  {
   "cell_type": "code",
   "execution_count": null,
   "id": "48dd2f8e",
   "metadata": {
    "ExecuteTime": {
     "end_time": "2021-12-29T04:56:56.994232Z",
     "start_time": "2021-12-29T04:56:56.994191Z"
    }
   },
   "outputs": [],
   "source": [
    "y[::-2] # step is negative => start and stop are swapped"
   ]
  },
  {
   "cell_type": "markdown",
   "id": "758de705",
   "metadata": {},
   "source": [
    "## 4. Computation on ndarrays\n",
    "| Operator\t    | Equivalent ufunc    | Description                           |\n",
    "|---------------|---------------------|---------------------------------------|\n",
    "|``+``          |``np.add``           |Addition (e.g., ``1 + 1 = 2``)         |\n",
    "|``-``          |``np.subtract``      |Subtraction (e.g., ``3 - 2 = 1``)      |\n",
    "|``-``          |``np.negative``      |Unary negation (e.g., ``-2``)          |\n",
    "|``*``          |``np.multiply``      |Multiplication (e.g., ``2 * 3 = 6``)   |\n",
    "|``/``          |``np.divide``        |Division (e.g., ``3 / 2 = 1.5``)       |\n",
    "|``//``         |``np.floor_divide``  |Floor division (e.g., ``3 // 2 = 1``)  |\n",
    "|``**``         |``np.power``         |Exponentiation (e.g., ``2 ** 3 = 8``)  |\n",
    "|``%``          |``np.mod``           |Modulus/remainder (e.g., ``9 % 4 = 1``)|"
   ]
  },
  {
   "cell_type": "code",
   "execution_count": null,
   "id": "69d99773",
   "metadata": {
    "ExecuteTime": {
     "end_time": "2021-12-29T04:56:56.998558Z",
     "start_time": "2021-12-29T04:56:56.998523Z"
    }
   },
   "outputs": [],
   "source": [
    "x = np.arange(5)\n",
    "x"
   ]
  },
  {
   "cell_type": "code",
   "execution_count": null,
   "id": "c49ca0f0",
   "metadata": {
    "ExecuteTime": {
     "end_time": "2021-12-29T04:56:57.002962Z",
     "start_time": "2021-12-29T04:56:57.002920Z"
    }
   },
   "outputs": [],
   "source": [
    "y = np.arange(10, 20, 2)\n",
    "y"
   ]
  },
  {
   "cell_type": "code",
   "execution_count": null,
   "id": "a07a8f56",
   "metadata": {
    "ExecuteTime": {
     "end_time": "2021-12-29T04:56:57.009619Z",
     "start_time": "2021-12-29T04:56:57.009578Z"
    }
   },
   "outputs": [],
   "source": [
    "x + 10"
   ]
  },
  {
   "cell_type": "code",
   "execution_count": null,
   "id": "637ba492",
   "metadata": {
    "ExecuteTime": {
     "end_time": "2021-12-29T04:56:57.014280Z",
     "start_time": "2021-12-29T04:56:57.014234Z"
    }
   },
   "outputs": [],
   "source": [
    "np.add(x, 10)"
   ]
  },
  {
   "cell_type": "code",
   "execution_count": null,
   "id": "46bcada2",
   "metadata": {
    "ExecuteTime": {
     "end_time": "2021-12-29T04:56:57.021161Z",
     "start_time": "2021-12-29T04:56:57.020898Z"
    }
   },
   "outputs": [],
   "source": [
    "x + y"
   ]
  },
  {
   "cell_type": "code",
   "execution_count": null,
   "id": "8df12807",
   "metadata": {
    "ExecuteTime": {
     "end_time": "2021-12-29T04:56:57.025980Z",
     "start_time": "2021-12-29T04:56:57.025947Z"
    }
   },
   "outputs": [],
   "source": [
    "np.add(x, y)"
   ]
  },
  {
   "cell_type": "code",
   "execution_count": null,
   "id": "0efef391",
   "metadata": {
    "ExecuteTime": {
     "end_time": "2021-12-29T04:56:57.029484Z",
     "start_time": "2021-12-29T04:56:57.029448Z"
    }
   },
   "outputs": [],
   "source": [
    "x - 2"
   ]
  },
  {
   "cell_type": "code",
   "execution_count": null,
   "id": "9f8638c5",
   "metadata": {
    "ExecuteTime": {
     "end_time": "2021-12-29T04:56:57.035440Z",
     "start_time": "2021-12-29T04:56:57.035221Z"
    },
    "scrolled": true
   },
   "outputs": [],
   "source": [
    "np.subtract(x, 2)"
   ]
  },
  {
   "cell_type": "code",
   "execution_count": null,
   "id": "3bf3a104",
   "metadata": {
    "ExecuteTime": {
     "end_time": "2021-12-29T04:56:57.039310Z",
     "start_time": "2021-12-29T04:56:57.039272Z"
    }
   },
   "outputs": [],
   "source": [
    "x - y"
   ]
  },
  {
   "cell_type": "code",
   "execution_count": null,
   "id": "b757b16c",
   "metadata": {
    "ExecuteTime": {
     "end_time": "2021-12-29T04:56:57.042601Z",
     "start_time": "2021-12-29T04:56:57.042568Z"
    },
    "scrolled": true
   },
   "outputs": [],
   "source": [
    "np.subtract(x, y)"
   ]
  },
  {
   "cell_type": "code",
   "execution_count": null,
   "id": "2a37bba8",
   "metadata": {
    "ExecuteTime": {
     "end_time": "2021-12-29T04:56:57.046672Z",
     "start_time": "2021-12-29T04:56:57.046636Z"
    }
   },
   "outputs": [],
   "source": [
    "x * 3"
   ]
  },
  {
   "cell_type": "code",
   "execution_count": null,
   "id": "19210df5",
   "metadata": {
    "ExecuteTime": {
     "end_time": "2021-12-29T04:56:57.049633Z",
     "start_time": "2021-12-29T04:56:57.049540Z"
    }
   },
   "outputs": [],
   "source": [
    "np.multiply(x, 3)"
   ]
  },
  {
   "cell_type": "code",
   "execution_count": null,
   "id": "07056653",
   "metadata": {
    "ExecuteTime": {
     "end_time": "2021-12-29T04:56:57.059352Z",
     "start_time": "2021-12-29T04:56:57.059310Z"
    }
   },
   "outputs": [],
   "source": [
    "x * y"
   ]
  },
  {
   "cell_type": "code",
   "execution_count": null,
   "id": "5ffdcac8",
   "metadata": {
    "ExecuteTime": {
     "end_time": "2021-12-29T04:56:57.063933Z",
     "start_time": "2021-12-29T04:56:57.063897Z"
    }
   },
   "outputs": [],
   "source": [
    "np.multiply(x, y)"
   ]
  },
  {
   "cell_type": "code",
   "execution_count": null,
   "id": "9eaff839",
   "metadata": {
    "ExecuteTime": {
     "end_time": "2021-12-29T04:56:57.067903Z",
     "start_time": "2021-12-29T04:56:57.067854Z"
    }
   },
   "outputs": [],
   "source": [
    "x / 2"
   ]
  },
  {
   "cell_type": "code",
   "execution_count": null,
   "id": "a7057e49",
   "metadata": {
    "ExecuteTime": {
     "end_time": "2021-12-29T04:56:57.073848Z",
     "start_time": "2021-12-29T04:56:57.073815Z"
    }
   },
   "outputs": [],
   "source": [
    "np.divide(x, 2)"
   ]
  },
  {
   "cell_type": "code",
   "execution_count": null,
   "id": "12c8ffd5",
   "metadata": {
    "ExecuteTime": {
     "end_time": "2021-12-29T04:56:57.078745Z",
     "start_time": "2021-12-29T04:56:57.078712Z"
    }
   },
   "outputs": [],
   "source": [
    "x / y"
   ]
  },
  {
   "cell_type": "code",
   "execution_count": null,
   "id": "5ddce871",
   "metadata": {
    "ExecuteTime": {
     "end_time": "2021-12-29T04:56:57.085197Z",
     "start_time": "2021-12-29T04:56:57.085154Z"
    }
   },
   "outputs": [],
   "source": [
    "np.divide(x, y)"
   ]
  },
  {
   "cell_type": "code",
   "execution_count": null,
   "id": "2fa633ab",
   "metadata": {
    "ExecuteTime": {
     "end_time": "2021-12-29T04:56:57.088261Z",
     "start_time": "2021-12-29T04:56:57.088107Z"
    }
   },
   "outputs": [],
   "source": [
    "x // 2"
   ]
  },
  {
   "cell_type": "code",
   "execution_count": null,
   "id": "aad45466",
   "metadata": {
    "ExecuteTime": {
     "end_time": "2021-12-29T04:56:57.091674Z",
     "start_time": "2021-12-29T04:56:57.091640Z"
    }
   },
   "outputs": [],
   "source": [
    "np.floor_divide(x, 2)"
   ]
  },
  {
   "cell_type": "code",
   "execution_count": null,
   "id": "35f65bf6",
   "metadata": {
    "ExecuteTime": {
     "end_time": "2021-12-29T04:56:57.095043Z",
     "start_time": "2021-12-29T04:56:57.095011Z"
    }
   },
   "outputs": [],
   "source": [
    "x // y"
   ]
  },
  {
   "cell_type": "code",
   "execution_count": null,
   "id": "220d18a5",
   "metadata": {
    "ExecuteTime": {
     "end_time": "2021-12-29T04:56:57.097832Z",
     "start_time": "2021-12-29T04:56:57.097797Z"
    }
   },
   "outputs": [],
   "source": [
    "np.floor_divide(x, y)"
   ]
  },
  {
   "cell_type": "code",
   "execution_count": null,
   "id": "626f5120",
   "metadata": {
    "ExecuteTime": {
     "end_time": "2021-12-29T04:56:57.199421Z",
     "start_time": "2021-12-29T04:56:57.199377Z"
    }
   },
   "outputs": [],
   "source": [
    "x % 2"
   ]
  },
  {
   "cell_type": "code",
   "execution_count": null,
   "id": "988e4484",
   "metadata": {
    "ExecuteTime": {
     "end_time": "2021-12-29T04:56:57.203707Z",
     "start_time": "2021-12-29T04:56:57.203665Z"
    }
   },
   "outputs": [],
   "source": [
    "np.mod(x, 2)"
   ]
  },
  {
   "cell_type": "code",
   "execution_count": null,
   "id": "464a215b",
   "metadata": {
    "ExecuteTime": {
     "end_time": "2021-12-29T04:56:57.209780Z",
     "start_time": "2021-12-29T04:56:57.209732Z"
    }
   },
   "outputs": [],
   "source": [
    "x % y"
   ]
  },
  {
   "cell_type": "code",
   "execution_count": null,
   "id": "b0db72b7",
   "metadata": {
    "ExecuteTime": {
     "end_time": "2021-12-29T04:56:57.213044Z",
     "start_time": "2021-12-29T04:56:57.213005Z"
    }
   },
   "outputs": [],
   "source": [
    "np.mod(x, y)"
   ]
  },
  {
   "cell_type": "code",
   "execution_count": null,
   "id": "dfaa9359",
   "metadata": {
    "ExecuteTime": {
     "end_time": "2021-12-29T04:56:57.218361Z",
     "start_time": "2021-12-29T04:56:57.218312Z"
    }
   },
   "outputs": [],
   "source": [
    "x ** 2"
   ]
  },
  {
   "cell_type": "code",
   "execution_count": null,
   "id": "bc524f21",
   "metadata": {
    "ExecuteTime": {
     "end_time": "2021-12-29T04:56:57.223721Z",
     "start_time": "2021-12-29T04:56:57.223661Z"
    }
   },
   "outputs": [],
   "source": [
    "np.power(x, 2)"
   ]
  },
  {
   "cell_type": "code",
   "execution_count": null,
   "id": "c5b25209",
   "metadata": {
    "ExecuteTime": {
     "end_time": "2021-12-29T04:56:57.235996Z",
     "start_time": "2021-12-29T04:56:57.235909Z"
    }
   },
   "outputs": [],
   "source": [
    "x ** y"
   ]
  },
  {
   "cell_type": "code",
   "execution_count": null,
   "id": "1fb38aea",
   "metadata": {
    "ExecuteTime": {
     "end_time": "2021-12-29T04:56:57.241343Z",
     "start_time": "2021-12-29T04:56:57.241296Z"
    }
   },
   "outputs": [],
   "source": [
    "np.power(x, y)"
   ]
  },
  {
   "cell_type": "code",
   "execution_count": null,
   "id": "6f466ea4",
   "metadata": {
    "ExecuteTime": {
     "end_time": "2021-12-29T04:56:57.245423Z",
     "start_time": "2021-12-29T04:56:57.245367Z"
    }
   },
   "outputs": [],
   "source": [
    "pi_array = np.linspace(-1 * np.pi, np.pi, 5)\n",
    "pi_array"
   ]
  },
  {
   "cell_type": "code",
   "execution_count": null,
   "id": "f16aae1c",
   "metadata": {
    "ExecuteTime": {
     "end_time": "2021-12-29T04:56:57.250027Z",
     "start_time": "2021-12-29T04:56:57.249960Z"
    }
   },
   "outputs": [],
   "source": [
    "np.sin(pi_array)"
   ]
  },
  {
   "cell_type": "code",
   "execution_count": null,
   "id": "e612b277",
   "metadata": {
    "ExecuteTime": {
     "end_time": "2021-12-29T04:56:57.257102Z",
     "start_time": "2021-12-29T04:56:57.257042Z"
    }
   },
   "outputs": [],
   "source": [
    "np.cos(pi_array)"
   ]
  },
  {
   "cell_type": "code",
   "execution_count": null,
   "id": "7029b063",
   "metadata": {
    "ExecuteTime": {
     "end_time": "2021-12-29T04:56:57.263327Z",
     "start_time": "2021-12-29T04:56:57.263263Z"
    }
   },
   "outputs": [],
   "source": [
    "np.tan(pi_array)"
   ]
  },
  {
   "cell_type": "code",
   "execution_count": null,
   "id": "4a54295c",
   "metadata": {
    "ExecuteTime": {
     "end_time": "2021-12-29T04:56:57.282983Z",
     "start_time": "2021-12-29T04:56:57.282722Z"
    }
   },
   "outputs": [],
   "source": [
    "np.arcsin(np.sin(pi_array))"
   ]
  },
  {
   "cell_type": "code",
   "execution_count": null,
   "id": "69cb6765",
   "metadata": {
    "ExecuteTime": {
     "end_time": "2021-12-29T04:56:57.288096Z",
     "start_time": "2021-12-29T04:56:57.288040Z"
    }
   },
   "outputs": [],
   "source": [
    "np.arccos(np.cos(pi_array))"
   ]
  },
  {
   "cell_type": "code",
   "execution_count": null,
   "id": "19d33dd2",
   "metadata": {
    "ExecuteTime": {
     "end_time": "2021-12-29T04:56:57.292437Z",
     "start_time": "2021-12-29T04:56:57.292347Z"
    }
   },
   "outputs": [],
   "source": [
    "np.arctan(np.tan(pi_array))"
   ]
  },
  {
   "cell_type": "code",
   "execution_count": null,
   "id": "abe86dc6",
   "metadata": {
    "ExecuteTime": {
     "end_time": "2021-12-29T04:56:57.297507Z",
     "start_time": "2021-12-29T04:56:57.297461Z"
    }
   },
   "outputs": [],
   "source": [
    "np.exp(x)"
   ]
  },
  {
   "cell_type": "code",
   "execution_count": null,
   "id": "e274993f",
   "metadata": {
    "ExecuteTime": {
     "end_time": "2021-12-29T04:56:57.301448Z",
     "start_time": "2021-12-29T04:56:57.301406Z"
    }
   },
   "outputs": [],
   "source": [
    "np.exp2(x)"
   ]
  },
  {
   "cell_type": "code",
   "execution_count": null,
   "id": "a2f93110",
   "metadata": {
    "ExecuteTime": {
     "end_time": "2021-12-29T04:56:57.307103Z",
     "start_time": "2021-12-29T04:56:57.307062Z"
    }
   },
   "outputs": [],
   "source": [
    "np.power(3, x)"
   ]
  },
  {
   "cell_type": "code",
   "execution_count": null,
   "id": "b69fff06",
   "metadata": {
    "ExecuteTime": {
     "end_time": "2021-12-29T04:56:57.311009Z",
     "start_time": "2021-12-29T04:56:57.310971Z"
    }
   },
   "outputs": [],
   "source": [
    "np.log(x + 1)"
   ]
  },
  {
   "cell_type": "code",
   "execution_count": null,
   "id": "a4a7d7ca",
   "metadata": {
    "ExecuteTime": {
     "end_time": "2021-12-29T04:56:57.316209Z",
     "start_time": "2021-12-29T04:56:57.316163Z"
    }
   },
   "outputs": [],
   "source": [
    "np.log2(x + 1)"
   ]
  },
  {
   "cell_type": "code",
   "execution_count": null,
   "id": "b83b0da0",
   "metadata": {
    "ExecuteTime": {
     "end_time": "2021-12-29T04:56:57.320120Z",
     "start_time": "2021-12-29T04:56:57.320081Z"
    }
   },
   "outputs": [],
   "source": [
    "np.log10(x + 1)"
   ]
  },
  {
   "cell_type": "markdown",
   "id": "a94a07c1",
   "metadata": {},
   "source": [
    "## 5. Simple functions with ndarray\n",
    "### Reshape ndarray"
   ]
  },
  {
   "cell_type": "code",
   "execution_count": null,
   "id": "de96dd62",
   "metadata": {
    "ExecuteTime": {
     "end_time": "2021-12-29T04:56:57.323826Z",
     "start_time": "2021-12-29T04:56:57.323785Z"
    }
   },
   "outputs": [],
   "source": [
    "z = np.arange(12)\n",
    "z"
   ]
  },
  {
   "cell_type": "code",
   "execution_count": null,
   "id": "c2dadaa5",
   "metadata": {
    "ExecuteTime": {
     "end_time": "2021-12-29T04:56:57.328634Z",
     "start_time": "2021-12-29T04:56:57.328530Z"
    }
   },
   "outputs": [],
   "source": [
    "z.shape"
   ]
  },
  {
   "cell_type": "code",
   "execution_count": null,
   "id": "9836cab0",
   "metadata": {},
   "outputs": [],
   "source": []
  },
  {
   "cell_type": "code",
   "execution_count": null,
   "id": "f2498fbc",
   "metadata": {
    "ExecuteTime": {
     "end_time": "2021-12-29T04:56:57.331756Z",
     "start_time": "2021-12-29T04:56:57.331715Z"
    },
    "scrolled": true
   },
   "outputs": [],
   "source": [
    "z_reshape = z.reshape((12, 1))\n",
    "z_reshape"
   ]
  },
  {
   "cell_type": "code",
   "execution_count": null,
   "id": "1fe8bc16",
   "metadata": {
    "ExecuteTime": {
     "end_time": "2021-12-29T04:56:57.336948Z",
     "start_time": "2021-12-29T04:56:57.336898Z"
    }
   },
   "outputs": [],
   "source": [
    "z_reshape.shape"
   ]
  },
  {
   "cell_type": "code",
   "execution_count": null,
   "id": "9d9921cb",
   "metadata": {
    "ExecuteTime": {
     "end_time": "2021-12-29T04:56:57.339931Z",
     "start_time": "2021-12-29T04:56:57.339866Z"
    }
   },
   "outputs": [],
   "source": [
    "z_reshape = z.reshape((1, 12))\n",
    "z_reshape"
   ]
  },
  {
   "cell_type": "code",
   "execution_count": null,
   "id": "a009592b",
   "metadata": {
    "ExecuteTime": {
     "end_time": "2021-12-29T04:56:57.345941Z",
     "start_time": "2021-12-29T04:56:57.345881Z"
    }
   },
   "outputs": [],
   "source": [
    "z_reshape.shape"
   ]
  },
  {
   "cell_type": "code",
   "execution_count": null,
   "id": "dafd3186",
   "metadata": {
    "ExecuteTime": {
     "end_time": "2021-12-29T04:56:57.351790Z",
     "start_time": "2021-12-29T04:56:57.351755Z"
    }
   },
   "outputs": [],
   "source": [
    "z.reshape((4, 3))"
   ]
  },
  {
   "cell_type": "code",
   "execution_count": null,
   "id": "c688d718",
   "metadata": {
    "ExecuteTime": {
     "end_time": "2021-12-29T04:56:57.358850Z",
     "start_time": "2021-12-29T04:56:57.358813Z"
    }
   },
   "outputs": [],
   "source": [
    "z.reshape((2, 2, 3))"
   ]
  },
  {
   "cell_type": "markdown",
   "id": "3b01bac4",
   "metadata": {},
   "source": [
    "### Change number of dims, position of dims\n",
    "#### Change number of dims by using `np.expand_dims()` and `np.squeeze()`"
   ]
  },
  {
   "cell_type": "code",
   "execution_count": null,
   "id": "705b5362",
   "metadata": {
    "ExecuteTime": {
     "end_time": "2021-12-29T04:56:57.363498Z",
     "start_time": "2021-12-29T04:56:57.363433Z"
    }
   },
   "outputs": [],
   "source": [
    "z"
   ]
  },
  {
   "cell_type": "code",
   "execution_count": null,
   "id": "8db312c1",
   "metadata": {
    "ExecuteTime": {
     "end_time": "2021-12-29T04:56:57.369268Z",
     "start_time": "2021-12-29T04:56:57.369220Z"
    }
   },
   "outputs": [],
   "source": [
    "z.shape"
   ]
  },
  {
   "cell_type": "code",
   "execution_count": null,
   "id": "8f5ebff4",
   "metadata": {
    "ExecuteTime": {
     "end_time": "2021-12-29T04:56:57.375211Z",
     "start_time": "2021-12-29T04:56:57.375171Z"
    }
   },
   "outputs": [],
   "source": [
    "z_1 = np.expand_dims(z, axis=1)\n",
    "z_1"
   ]
  },
  {
   "cell_type": "code",
   "execution_count": null,
   "id": "408e0351",
   "metadata": {
    "ExecuteTime": {
     "end_time": "2021-12-29T04:56:57.378764Z",
     "start_time": "2021-12-29T04:56:57.378737Z"
    }
   },
   "outputs": [],
   "source": [
    "z_1.shape"
   ]
  },
  {
   "cell_type": "code",
   "execution_count": null,
   "id": "6d6e125f",
   "metadata": {
    "ExecuteTime": {
     "end_time": "2021-12-29T04:56:57.383083Z",
     "start_time": "2021-12-29T04:56:57.383044Z"
    }
   },
   "outputs": [],
   "source": [
    "z_0 = np.expand_dims(z, axis=0)\n",
    "z_0"
   ]
  },
  {
   "cell_type": "code",
   "execution_count": null,
   "id": "2db119a4",
   "metadata": {
    "ExecuteTime": {
     "end_time": "2021-12-29T04:56:57.386576Z",
     "start_time": "2021-12-29T04:56:57.386537Z"
    }
   },
   "outputs": [],
   "source": [
    "z_0.shape"
   ]
  },
  {
   "cell_type": "code",
   "execution_count": null,
   "id": "d3ca296e",
   "metadata": {
    "ExecuteTime": {
     "end_time": "2021-12-29T04:56:57.389715Z",
     "start_time": "2021-12-29T04:56:57.389680Z"
    }
   },
   "outputs": [],
   "source": [
    "np.squeeze(z_0, axis=0)"
   ]
  },
  {
   "cell_type": "code",
   "execution_count": null,
   "id": "a479e825",
   "metadata": {
    "ExecuteTime": {
     "end_time": "2021-12-29T04:56:57.392704Z",
     "start_time": "2021-12-29T04:56:57.392651Z"
    },
    "scrolled": true
   },
   "outputs": [],
   "source": [
    "np.squeeze(z_1, axis=1)"
   ]
  },
  {
   "cell_type": "markdown",
   "id": "1dc93723",
   "metadata": {},
   "source": [
    "#### Change position of dims by using `np.transpose()`"
   ]
  },
  {
   "cell_type": "code",
   "execution_count": null,
   "id": "f282382f",
   "metadata": {
    "ExecuteTime": {
     "end_time": "2021-12-29T04:56:57.396739Z",
     "start_time": "2021-12-29T04:56:57.396697Z"
    }
   },
   "outputs": [],
   "source": [
    "z_1"
   ]
  },
  {
   "cell_type": "code",
   "execution_count": null,
   "id": "0ce8758d",
   "metadata": {
    "ExecuteTime": {
     "end_time": "2021-12-29T04:56:57.401455Z",
     "start_time": "2021-12-29T04:56:57.401411Z"
    }
   },
   "outputs": [],
   "source": [
    "z_1.shape"
   ]
  },
  {
   "cell_type": "code",
   "execution_count": null,
   "id": "d80e3caf",
   "metadata": {
    "ExecuteTime": {
     "end_time": "2021-12-29T04:56:57.404393Z",
     "start_time": "2021-12-29T04:56:57.404358Z"
    }
   },
   "outputs": [],
   "source": [
    "z_1_trans = np.transpose(z_1, [1, 0])\n",
    "z_1_trans"
   ]
  },
  {
   "cell_type": "code",
   "execution_count": null,
   "id": "a6931858",
   "metadata": {
    "ExecuteTime": {
     "end_time": "2021-12-29T04:56:57.409108Z",
     "start_time": "2021-12-29T04:56:57.409077Z"
    },
    "scrolled": true
   },
   "outputs": [],
   "source": [
    "z_1_trans.shape"
   ]
  },
  {
   "cell_type": "markdown",
   "id": "dbbac7c5",
   "metadata": {},
   "source": [
    "### Concatenate ndarray\n",
    "#### Using `np.concatenate()`"
   ]
  },
  {
   "cell_type": "code",
   "execution_count": null,
   "id": "a1fa24ad",
   "metadata": {
    "ExecuteTime": {
     "end_time": "2021-12-29T04:56:57.412460Z",
     "start_time": "2021-12-29T04:56:57.412424Z"
    }
   },
   "outputs": [],
   "source": [
    "x = np.array([1, 2, 3])\n",
    "y = np.array([4.4, 5.5, 6.6])\n",
    "z = np.array([7.77, 8.88, 9.99])"
   ]
  },
  {
   "cell_type": "code",
   "execution_count": null,
   "id": "5559d595",
   "metadata": {
    "ExecuteTime": {
     "end_time": "2021-12-29T04:56:57.415039Z",
     "start_time": "2021-12-29T04:56:57.414999Z"
    }
   },
   "outputs": [],
   "source": [
    "x"
   ]
  },
  {
   "cell_type": "code",
   "execution_count": null,
   "id": "2591e3da",
   "metadata": {
    "ExecuteTime": {
     "end_time": "2021-12-29T04:56:57.420255Z",
     "start_time": "2021-12-29T04:56:57.420219Z"
    }
   },
   "outputs": [],
   "source": [
    "y"
   ]
  },
  {
   "cell_type": "code",
   "execution_count": null,
   "id": "4aa7198d",
   "metadata": {
    "ExecuteTime": {
     "end_time": "2021-12-29T04:56:57.423409Z",
     "start_time": "2021-12-29T04:56:57.423372Z"
    }
   },
   "outputs": [],
   "source": [
    "z"
   ]
  },
  {
   "cell_type": "code",
   "execution_count": null,
   "id": "82d27b5b",
   "metadata": {
    "ExecuteTime": {
     "end_time": "2021-12-29T04:56:57.426850Z",
     "start_time": "2021-12-29T04:56:57.426815Z"
    }
   },
   "outputs": [],
   "source": [
    "np.concatenate([x, y])"
   ]
  },
  {
   "cell_type": "code",
   "execution_count": null,
   "id": "6713b415",
   "metadata": {
    "ExecuteTime": {
     "end_time": "2021-12-29T04:56:57.430648Z",
     "start_time": "2021-12-29T04:56:57.430615Z"
    }
   },
   "outputs": [],
   "source": [
    "np.concatenate([x, y, z])"
   ]
  },
  {
   "cell_type": "code",
   "execution_count": null,
   "id": "a8d5eefe",
   "metadata": {
    "ExecuteTime": {
     "end_time": "2021-12-29T04:56:57.435662Z",
     "start_time": "2021-12-29T04:56:57.435471Z"
    }
   },
   "outputs": [],
   "source": [
    "xx = np.array([[1, 2, 3], [3, 2, 1]])\n",
    "yy = np.array([[4.4, 5.5, 6.6], [6.6, 5.5, 4.4]])"
   ]
  },
  {
   "cell_type": "code",
   "execution_count": null,
   "id": "b4af3f1f",
   "metadata": {
    "ExecuteTime": {
     "end_time": "2021-12-29T04:56:57.441396Z",
     "start_time": "2021-12-29T04:56:57.441356Z"
    }
   },
   "outputs": [],
   "source": [
    "xx.shape"
   ]
  },
  {
   "cell_type": "code",
   "execution_count": null,
   "id": "283dd23a",
   "metadata": {
    "ExecuteTime": {
     "end_time": "2021-12-29T04:56:57.445783Z",
     "start_time": "2021-12-29T04:56:57.445744Z"
    }
   },
   "outputs": [],
   "source": [
    "yy.shape"
   ]
  },
  {
   "cell_type": "code",
   "execution_count": null,
   "id": "2894025d",
   "metadata": {
    "ExecuteTime": {
     "end_time": "2021-12-29T04:56:57.450401Z",
     "start_time": "2021-12-29T04:56:57.450363Z"
    },
    "scrolled": true
   },
   "outputs": [],
   "source": [
    "np.concatenate([xx, yy], axis=0)"
   ]
  },
  {
   "cell_type": "code",
   "execution_count": null,
   "id": "59541710",
   "metadata": {
    "ExecuteTime": {
     "end_time": "2021-12-29T04:56:57.456017Z",
     "start_time": "2021-12-29T04:56:57.455973Z"
    }
   },
   "outputs": [],
   "source": [
    "np.concatenate([xx, yy], axis=1)"
   ]
  },
  {
   "cell_type": "markdown",
   "id": "a9d88852",
   "metadata": {},
   "source": [
    "#### Using `np.hstack()`(horizontal stack),  `np.vstack()`(vertical stack) and `np.dstack()`(depth stack)"
   ]
  },
  {
   "cell_type": "code",
   "execution_count": null,
   "id": "b42cdcac",
   "metadata": {
    "ExecuteTime": {
     "end_time": "2021-12-29T04:56:57.460960Z",
     "start_time": "2021-12-29T04:56:57.460924Z"
    }
   },
   "outputs": [],
   "source": [
    "np.hstack([xx, yy])"
   ]
  },
  {
   "cell_type": "code",
   "execution_count": null,
   "id": "235de6ae",
   "metadata": {
    "ExecuteTime": {
     "end_time": "2021-12-29T04:56:57.464712Z",
     "start_time": "2021-12-29T04:56:57.464675Z"
    }
   },
   "outputs": [],
   "source": [
    "np.vstack([xx, yy])"
   ]
  },
  {
   "cell_type": "code",
   "execution_count": null,
   "id": "3fac464b",
   "metadata": {
    "ExecuteTime": {
     "end_time": "2021-12-29T04:56:57.469135Z",
     "start_time": "2021-12-29T04:56:57.469092Z"
    }
   },
   "outputs": [],
   "source": [
    "np.dstack([xx, yy])"
   ]
  },
  {
   "cell_type": "markdown",
   "id": "b5b9c9ff",
   "metadata": {},
   "source": [
    "## 6. Data aggregation on ndarray\n",
    "|Function Name      |   NaN-safe Version  | Description                                   |\n",
    "|-------------------|---------------------|-----------------------------------------------|\n",
    "| ``np.sum``        | ``np.nansum``       | Compute sum of elements                       |\n",
    "| ``np.prod``       | ``np.nanprod``      | Compute product of elements                   |\n",
    "| ``np.mean``       | ``np.nanmean``      | Compute mean of elements                      |\n",
    "| ``np.std``        | ``np.nanstd``       | Compute standard deviation                    |\n",
    "| ``np.var``        | ``np.nanvar``       | Compute variance                              |\n",
    "| ``np.min``        | ``np.nanmin``       | Find minimum value                            |\n",
    "| ``np.max``        | ``np.nanmax``       | Find maximum value                            |\n",
    "| ``np.argmin``     | ``np.nanargmin``    | Find index of minimum value                   |\n",
    "| ``np.argmax``     | ``np.nanargmax``    | Find index of maximum value                   |\n",
    "| ``np.median``     | ``np.nanmedian``    | Compute median of elements                    |\n",
    "| ``np.percentile`` | ``np.nanpercentile``| Compute rank-based statistics of elements     |\n",
    "| ``np.any``        | N/A                 | Evaluate whether any elements are true        |\n",
    "| ``np.all``        | N/A                 | Evaluate whether all elements are true        |\n",
    "\n",
    "\n",
    "### Compare between built-in python `sum()` and `np.sum()`"
   ]
  },
  {
   "cell_type": "code",
   "execution_count": null,
   "id": "e5a172fe",
   "metadata": {
    "ExecuteTime": {
     "end_time": "2021-12-29T04:56:57.476548Z",
     "start_time": "2021-12-29T04:56:57.476506Z"
    }
   },
   "outputs": [],
   "source": [
    "big_array = np.random.rand(1_000_000)\n",
    "big_array.shape"
   ]
  },
  {
   "cell_type": "code",
   "execution_count": null,
   "id": "a14c74de",
   "metadata": {
    "ExecuteTime": {
     "end_time": "2021-12-29T04:56:57.482089Z",
     "start_time": "2021-12-29T04:56:57.482044Z"
    }
   },
   "outputs": [],
   "source": [
    "sum(big_array)"
   ]
  },
  {
   "cell_type": "code",
   "execution_count": null,
   "id": "fc26ca2f",
   "metadata": {
    "ExecuteTime": {
     "end_time": "2021-12-29T04:56:57.485430Z",
     "start_time": "2021-12-29T04:56:57.485366Z"
    }
   },
   "outputs": [],
   "source": [
    "np.sum(big_array)"
   ]
  },
  {
   "cell_type": "code",
   "execution_count": null,
   "id": "16c650b6",
   "metadata": {
    "ExecuteTime": {
     "end_time": "2021-12-29T04:56:57.488773Z",
     "start_time": "2021-12-29T04:56:57.488732Z"
    }
   },
   "outputs": [],
   "source": [
    "%timeit sum(big_array)"
   ]
  },
  {
   "cell_type": "code",
   "execution_count": null,
   "id": "9282fc77",
   "metadata": {
    "ExecuteTime": {
     "end_time": "2021-12-29T04:56:57.492522Z",
     "start_time": "2021-12-29T04:56:57.492481Z"
    }
   },
   "outputs": [],
   "source": [
    "%timeit np.sum(big_array)"
   ]
  },
  {
   "cell_type": "code",
   "execution_count": null,
   "id": "d7981144",
   "metadata": {
    "ExecuteTime": {
     "end_time": "2021-12-29T04:56:57.496668Z",
     "start_time": "2021-12-29T04:56:57.496636Z"
    }
   },
   "outputs": [],
   "source": [
    "x = np.random.randint(0, 10, (2, 5))\n",
    "x"
   ]
  },
  {
   "cell_type": "code",
   "execution_count": null,
   "id": "a5a10dbe",
   "metadata": {
    "ExecuteTime": {
     "end_time": "2021-12-29T04:56:57.500992Z",
     "start_time": "2021-12-29T04:56:57.500947Z"
    }
   },
   "outputs": [],
   "source": [
    "sum(x)"
   ]
  },
  {
   "cell_type": "code",
   "execution_count": null,
   "id": "9253a317",
   "metadata": {
    "ExecuteTime": {
     "end_time": "2021-12-29T04:56:57.504720Z",
     "start_time": "2021-12-29T04:56:57.504682Z"
    }
   },
   "outputs": [],
   "source": [
    "np.sum(x)"
   ]
  },
  {
   "cell_type": "code",
   "execution_count": null,
   "id": "e368d262",
   "metadata": {
    "ExecuteTime": {
     "end_time": "2021-12-29T04:56:57.509384Z",
     "start_time": "2021-12-29T04:56:57.509352Z"
    }
   },
   "outputs": [],
   "source": [
    "np.sum(x, axis=1)"
   ]
  },
  {
   "cell_type": "code",
   "execution_count": null,
   "id": "d96fac11",
   "metadata": {
    "ExecuteTime": {
     "end_time": "2021-12-29T04:56:57.513511Z",
     "start_time": "2021-12-29T04:56:57.513471Z"
    }
   },
   "outputs": [],
   "source": [
    "np.sum(x, axis=0)"
   ]
  },
  {
   "cell_type": "markdown",
   "id": "8df7c1ec",
   "metadata": {},
   "source": [
    "### Compare between built-in python `min(), max()` and `np.min(), np.max()`"
   ]
  },
  {
   "cell_type": "code",
   "execution_count": null,
   "id": "9991d284",
   "metadata": {
    "ExecuteTime": {
     "end_time": "2021-12-29T04:56:57.516963Z",
     "start_time": "2021-12-29T04:56:57.516828Z"
    }
   },
   "outputs": [],
   "source": [
    "min(big_array), max(big_array)"
   ]
  },
  {
   "cell_type": "code",
   "execution_count": null,
   "id": "9c4d16cf",
   "metadata": {
    "ExecuteTime": {
     "end_time": "2021-12-29T04:56:57.525408Z",
     "start_time": "2021-12-29T04:56:57.525358Z"
    }
   },
   "outputs": [],
   "source": [
    "np.min(big_array), np.max(big_array)"
   ]
  },
  {
   "cell_type": "code",
   "execution_count": null,
   "id": "3eaaad43",
   "metadata": {
    "ExecuteTime": {
     "end_time": "2021-12-29T04:56:57.530355Z",
     "start_time": "2021-12-29T04:56:57.530318Z"
    }
   },
   "outputs": [],
   "source": [
    "%timeit min(big_array)\n",
    "%timeit np.min(big_array)"
   ]
  },
  {
   "cell_type": "code",
   "execution_count": null,
   "id": "88856293",
   "metadata": {
    "ExecuteTime": {
     "end_time": "2021-12-29T04:56:57.535304Z",
     "start_time": "2021-12-29T04:56:57.535261Z"
    }
   },
   "outputs": [],
   "source": [
    "%timeit max(big_array)\n",
    "%timeit np.max(big_array)"
   ]
  },
  {
   "cell_type": "code",
   "execution_count": null,
   "id": "c881f2ed",
   "metadata": {
    "ExecuteTime": {
     "end_time": "2021-12-29T04:56:57.541004Z",
     "start_time": "2021-12-29T04:56:57.540953Z"
    }
   },
   "outputs": [],
   "source": [
    "x"
   ]
  },
  {
   "cell_type": "code",
   "execution_count": null,
   "id": "3fc394a1",
   "metadata": {
    "ExecuteTime": {
     "end_time": "2021-12-29T04:56:57.545091Z",
     "start_time": "2021-12-29T04:56:57.545055Z"
    }
   },
   "outputs": [],
   "source": [
    "x.shape"
   ]
  },
  {
   "cell_type": "code",
   "execution_count": null,
   "id": "9ec07c73",
   "metadata": {
    "ExecuteTime": {
     "end_time": "2021-12-29T04:56:57.547809Z",
     "start_time": "2021-12-29T04:56:57.547731Z"
    }
   },
   "outputs": [],
   "source": [
    "min(x), max(x)"
   ]
  },
  {
   "cell_type": "code",
   "execution_count": null,
   "id": "238c5cac",
   "metadata": {
    "ExecuteTime": {
     "end_time": "2021-12-29T04:56:57.553531Z",
     "start_time": "2021-12-29T04:56:57.553490Z"
    }
   },
   "outputs": [],
   "source": [
    "np.min(x), np.max(x)"
   ]
  },
  {
   "cell_type": "code",
   "execution_count": null,
   "id": "6c76e9e9",
   "metadata": {
    "ExecuteTime": {
     "end_time": "2021-12-29T04:56:57.557670Z",
     "start_time": "2021-12-29T04:56:57.557626Z"
    }
   },
   "outputs": [],
   "source": [
    "np.min(x, axis=0), np.max(x, axis=0)"
   ]
  },
  {
   "cell_type": "code",
   "execution_count": null,
   "id": "5428afeb",
   "metadata": {
    "ExecuteTime": {
     "end_time": "2021-12-29T04:56:57.561503Z",
     "start_time": "2021-12-29T04:56:57.561405Z"
    }
   },
   "outputs": [],
   "source": [
    "np.min(x, axis=1), np.max(x, axis=1)"
   ]
  },
  {
   "cell_type": "code",
   "execution_count": null,
   "id": "13957be7",
   "metadata": {
    "ExecuteTime": {
     "end_time": "2021-12-29T04:56:57.565103Z",
     "start_time": "2021-12-29T04:56:57.565049Z"
    }
   },
   "outputs": [],
   "source": [
    "x"
   ]
  },
  {
   "cell_type": "code",
   "execution_count": null,
   "id": "f44ee30a",
   "metadata": {
    "ExecuteTime": {
     "end_time": "2021-12-29T04:56:57.568938Z",
     "start_time": "2021-12-29T04:56:57.568901Z"
    }
   },
   "outputs": [],
   "source": [
    "np.any(x > 3)"
   ]
  },
  {
   "cell_type": "code",
   "execution_count": null,
   "id": "111e7d4c",
   "metadata": {
    "ExecuteTime": {
     "end_time": "2021-12-29T04:56:57.615648Z",
     "start_time": "2021-12-29T04:56:57.615510Z"
    }
   },
   "outputs": [],
   "source": [
    "np.all(x > 3)"
   ]
  },
  {
   "cell_type": "markdown",
   "id": "2db8cd0a",
   "metadata": {},
   "source": [
    "## 7. Ndarray with logical functions\n",
    "### Simple logical functions"
   ]
  },
  {
   "cell_type": "code",
   "execution_count": null,
   "id": "5416eb5f",
   "metadata": {
    "ExecuteTime": {
     "end_time": "2021-12-29T04:56:57.633080Z",
     "start_time": "2021-12-29T04:56:57.633032Z"
    }
   },
   "outputs": [],
   "source": [
    "x"
   ]
  },
  {
   "cell_type": "code",
   "execution_count": null,
   "id": "5863abbc",
   "metadata": {
    "ExecuteTime": {
     "end_time": "2021-12-29T04:56:57.645669Z",
     "start_time": "2021-12-29T04:56:57.645623Z"
    }
   },
   "outputs": [],
   "source": [
    "x > 2"
   ]
  },
  {
   "cell_type": "code",
   "execution_count": null,
   "id": "2abf71d8",
   "metadata": {
    "ExecuteTime": {
     "end_time": "2021-12-29T04:56:57.661116Z",
     "start_time": "2021-12-29T04:56:57.661072Z"
    }
   },
   "outputs": [],
   "source": [
    "x >= 2"
   ]
  },
  {
   "cell_type": "code",
   "execution_count": null,
   "id": "9fb812ae",
   "metadata": {
    "ExecuteTime": {
     "end_time": "2021-12-29T04:56:57.684122Z",
     "start_time": "2021-12-29T04:56:57.683715Z"
    }
   },
   "outputs": [],
   "source": [
    "x < 2"
   ]
  },
  {
   "cell_type": "code",
   "execution_count": null,
   "id": "2209d8c0",
   "metadata": {
    "ExecuteTime": {
     "end_time": "2021-12-29T04:56:57.697028Z",
     "start_time": "2021-12-29T04:56:57.696977Z"
    }
   },
   "outputs": [],
   "source": [
    "x <= 2"
   ]
  },
  {
   "cell_type": "code",
   "execution_count": null,
   "id": "2a39be44",
   "metadata": {
    "ExecuteTime": {
     "end_time": "2021-12-29T04:56:57.708242Z",
     "start_time": "2021-12-29T04:56:57.708199Z"
    }
   },
   "outputs": [],
   "source": [
    "x == 2"
   ]
  },
  {
   "cell_type": "code",
   "execution_count": null,
   "id": "985d0496",
   "metadata": {
    "ExecuteTime": {
     "end_time": "2021-12-29T04:56:57.710849Z",
     "start_time": "2021-12-29T04:56:57.710815Z"
    }
   },
   "outputs": [],
   "source": [
    "x != 2"
   ]
  },
  {
   "cell_type": "code",
   "execution_count": null,
   "id": "0980f859",
   "metadata": {
    "ExecuteTime": {
     "end_time": "2021-12-29T04:56:57.715706Z",
     "start_time": "2021-12-29T04:56:57.715641Z"
    }
   },
   "outputs": [],
   "source": [
    "np.all(x > 2)"
   ]
  },
  {
   "cell_type": "code",
   "execution_count": null,
   "id": "b2b4941b",
   "metadata": {
    "ExecuteTime": {
     "end_time": "2021-12-29T04:56:57.718189Z",
     "start_time": "2021-12-29T04:56:57.718149Z"
    }
   },
   "outputs": [],
   "source": [
    "np.all(x >= 0)"
   ]
  },
  {
   "cell_type": "code",
   "execution_count": null,
   "id": "d2b34229",
   "metadata": {
    "ExecuteTime": {
     "end_time": "2021-12-29T04:56:57.721545Z",
     "start_time": "2021-12-29T04:56:57.721509Z"
    }
   },
   "outputs": [],
   "source": [
    "np.any(x > 2)"
   ]
  },
  {
   "cell_type": "code",
   "execution_count": null,
   "id": "ff3bf284",
   "metadata": {
    "ExecuteTime": {
     "end_time": "2021-12-29T04:56:57.724331Z",
     "start_time": "2021-12-29T04:56:57.724291Z"
    }
   },
   "outputs": [],
   "source": [
    "np.any(x < 0)"
   ]
  },
  {
   "cell_type": "markdown",
   "id": "4f537bb9",
   "metadata": {},
   "source": [
    "### Use logical functions as mask"
   ]
  },
  {
   "cell_type": "code",
   "execution_count": null,
   "id": "0d73132a",
   "metadata": {
    "ExecuteTime": {
     "end_time": "2021-12-29T04:56:57.728469Z",
     "start_time": "2021-12-29T04:56:57.728432Z"
    }
   },
   "outputs": [],
   "source": [
    "x"
   ]
  },
  {
   "cell_type": "code",
   "execution_count": null,
   "id": "a9f31788",
   "metadata": {
    "ExecuteTime": {
     "end_time": "2021-12-29T04:56:57.732000Z",
     "start_time": "2021-12-29T04:56:57.731962Z"
    }
   },
   "outputs": [],
   "source": [
    "x > 3"
   ]
  },
  {
   "cell_type": "code",
   "execution_count": null,
   "id": "a18fab76",
   "metadata": {
    "ExecuteTime": {
     "end_time": "2021-12-29T04:56:57.735610Z",
     "start_time": "2021-12-29T04:56:57.735564Z"
    }
   },
   "outputs": [],
   "source": [
    "x[x > 3]"
   ]
  },
  {
   "cell_type": "markdown",
   "id": "da05abdc",
   "metadata": {},
   "source": [
    "## 8. Homework\n",
    "### 8.1. Exercise 1:\n",
    "Write a NumPy program to convert a list of numeric value into a one-dimensional NumPy array.\n",
    "\n",
    "### 8.2. Exercise 2:\n",
    "Write a NumPy program to create a 3x3 matrix with values ranging from 2 to 10.\n",
    "\n",
    "### 8.3. Exercise 3:\n",
    "Write a NumPy program to reverse an array (first element becomes last).\n",
    "\n",
    "### 8.4. Exercise 4:\n",
    "Write a NumPy program to convert an array to a float type.\n",
    "\n",
    "### 8.5. Exercise 5:\n",
    "Write a NumPy program to create a 2d array with 1 on the border and 0 inside.\n",
    "\n",
    "### 8.6. Exercise 6:\n",
    "Write a NumPy program to create a 8x8 matrix and fill it with a checkerboard pattern.\n",
    "\n",
    "### 8.7. Exercise 7:\n",
    "Write a NumPy program to convert the values of Centigrade degrees into Fahrenheit degrees. Centigrade values are stored into a NumPy array.\n",
    "\n",
    "### 8.8. Exercise 8:\n",
    "Write a NumPy program to get the indices of the sorted elements of a given array."
   ]
  }
 ],
 "metadata": {
  "kernelspec": {
   "display_name": "Python 3 (ipykernel)",
   "language": "python",
   "name": "python3"
  },
  "language_info": {
   "codemirror_mode": {
    "name": "ipython",
    "version": 3
   },
   "file_extension": ".py",
   "mimetype": "text/x-python",
   "name": "python",
   "nbconvert_exporter": "python",
   "pygments_lexer": "ipython3",
   "version": "3.8.12"
  },
  "toc": {
   "base_numbering": 1,
   "nav_menu": {},
   "number_sections": false,
   "sideBar": true,
   "skip_h1_title": false,
   "title_cell": "Table of Contents",
   "title_sidebar": "Table of Contents",
   "toc_cell": false,
   "toc_position": {
    "height": "calc(100% - 180px)",
    "left": "10px",
    "top": "150px",
    "width": "243.011px"
   },
   "toc_section_display": true,
   "toc_window_display": true
  }
 },
 "nbformat": 4,
 "nbformat_minor": 5
}
