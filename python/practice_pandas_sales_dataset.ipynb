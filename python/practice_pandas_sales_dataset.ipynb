{
 "cells": [
  {
   "cell_type": "markdown",
   "id": "a2444784",
   "metadata": {},
   "source": [
    "# LESSON 6: PANDAS PRACTICE\n",
    "<img src=\"../../images/pd_logo.png\" width=\"400px\"/>"
   ]
  },
  {
   "cell_type": "markdown",
   "id": "a63cbd4a",
   "metadata": {},
   "source": [
    "### PROBLEM:\n",
    "You are provided with daily historical sales data. The dataset contains 5 .csv file, file description and data fields description below:\n",
    "<br>\n",
    "\n",
    "#### File descriptions\n",
    "1. `sales.csv`: Daily historical data from January 2013 to October 2015.\n",
    "2. `items_list_1.csv`: Supplemental information about the items/products in list 1.\n",
    "3. `items_list_2.csv`: Supplemental information about the items/products in list 2.\n",
    "4. `item_categories.csv`: Supplemental information about the items categories.\n",
    "5. `shops.csv`: Supplemental information about the shops.\n",
    "<br>\n",
    "\n",
    "#### Data fields\n",
    "1. `shop_id`: Unique identifier of a shop.\n",
    "2. `item_id`: Unique identifier of a product.\n",
    "3. `item_category_id`: Unique identifier of item category.\n",
    "4. `item_cnt_day`: Number of products sold.\n",
    "5. `item_price`: Current price of an item.\n",
    "6. `date`: Date in format dd/mm/yyyy.\n",
    "7. `date_block_num`: A consecutive month number, used for convenience. January 2013 is 0, February 2013 is 1,..., October 2015 is 33.\n",
    "8. `item_name`: Name of item.\n",
    "9. `shop_name`: Name of shop.\n",
    "10. `item_category_name`: Name of item category.\n",
    "<br>\n",
    "\n",
    "#### Question\n",
    "1. How many **items** are there **in list 1**? **in list 2**? in **only list 1** (List the name of them)? in **only list 2** (List the name of them)? in **both of the two** lists (List the name of them)? Create the new csv file only **contains the unique items** from the two lists? (Name that file as `items.csv`)\n",
    "2. How many **items** are there in the `items.csv`? How many of them contain **digits in name**? How many of them are FIFA football game items (contain **\"FIFA\" in the name**)?\n",
    "3. How many **item categories** are there in the dataset? Which item category contain **highest number of items**? **lowest number of items**? List all items according to each item category. Calculate the average number of items in each category.\n",
    "4. Which **item** has the **highest price** in each year? Which **item** has the **lowest price** in each year? Calculate the **average price** of each item in each year?\n",
    "5. Which **item** has the **highest sales** in each year? Which **item** has the **lowest sales** in each year? Calculate the **average sales** of each item in each year?\n",
    "\n",
    "<!-- How many **shops** are there in the dataset? \n",
    "4. \n",
    "5. \n",
    "6. \n",
    "7. \n",
    "8. \n",
    "9. \n",
    "10.  -->"
   ]
  }
 ],
 "metadata": {
  "kernelspec": {
   "display_name": "Python 3 (ipykernel)",
   "language": "python",
   "name": "python3"
  },
  "language_info": {
   "codemirror_mode": {
    "name": "ipython",
    "version": 3
   },
   "file_extension": ".py",
   "mimetype": "text/x-python",
   "name": "python",
   "nbconvert_exporter": "python",
   "pygments_lexer": "ipython3",
   "version": "3.8.12"
  },
  "toc": {
   "base_numbering": 1,
   "nav_menu": {},
   "number_sections": false,
   "sideBar": true,
   "skip_h1_title": false,
   "title_cell": "Table of Contents",
   "title_sidebar": "Table of Contents",
   "toc_cell": false,
   "toc_position": {
    "height": "calc(100% - 180px)",
    "left": "10px",
    "top": "150px",
    "width": "213px"
   },
   "toc_section_display": true,
   "toc_window_display": true
  }
 },
 "nbformat": 4,
 "nbformat_minor": 5
}
