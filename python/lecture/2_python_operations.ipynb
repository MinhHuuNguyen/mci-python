{
 "cells": [
  {
   "cell_type": "markdown",
   "id": "c99228c8-58f3-48b1-9f40-f3aa61ac6d30",
   "metadata": {},
   "source": [
    "# LESSON 2: PYTHON OPERATIONS\n",
    "<img src=\"image/py_operations.jpeg\" width=\"400px\"/>"
   ]
  },
  {
   "cell_type": "markdown",
   "id": "35dc7bd2-beea-4ecd-88c1-6dd27b94b177",
   "metadata": {
    "tags": []
   },
   "source": [
    "## 1. Numeric operations"
   ]
  },
  {
   "cell_type": "code",
   "execution_count": null,
   "id": "c63c275b-533e-4109-a57c-8eaa8a68e293",
   "metadata": {
    "ExecuteTime": {
     "end_time": "2021-12-29T06:20:49.388061Z",
     "start_time": "2021-12-29T06:20:49.367892Z"
    }
   },
   "outputs": [],
   "source": [
    "a = 5\n",
    "b = 2\n",
    "c = -3\n",
    "\n",
    "a_add_b = a + b\n",
    "a_subtract_b = a - b\n",
    "a_multiply_b = a * b\n",
    "a_divide_b = a / b\n",
    "a_floor_divide_b = a // b\n",
    "a_modulus_b = a % b\n",
    "a_power_b = a ** b\n",
    "abs_c = abs(c)\n",
    "\n",
    "\n",
    "print('a + b = ', a_add_b)\n",
    "print('a - b = ', a_subtract_b)\n",
    "print('a * b = ', a_multiply_b)\n",
    "print('a / b = ', a_divide_b)\n",
    "print('a // b = ', a_floor_divide_b)\n",
    "print('a % b = ', a_modulus_b)\n",
    "print('a ** b = ', a_power_b)\n",
    "print('absolute_c = ', abs_c)"
   ]
  },
  {
   "cell_type": "markdown",
   "id": "95e559ca-dc5b-4e3b-bb41-57b2856506d8",
   "metadata": {},
   "source": [
    "## 2. String operation"
   ]
  },
  {
   "cell_type": "code",
   "execution_count": null,
   "id": "18ff1b13-f740-4684-af6f-65b2226b03fe",
   "metadata": {
    "ExecuteTime": {
     "end_time": "2021-12-29T06:20:49.411350Z",
     "start_time": "2021-12-29T06:20:49.398233Z"
    }
   },
   "outputs": [],
   "source": [
    "d = 'string 1'\n",
    "e = 'string 2'\n",
    "\n",
    "f = d + e\n",
    "print('string `d` + string `e` : ', f)"
   ]
  },
  {
   "cell_type": "markdown",
   "id": "f662d371-33c6-4b83-9dd2-33857d12d80d",
   "metadata": {},
   "source": [
    "## 3. Bool operations"
   ]
  },
  {
   "cell_type": "code",
   "execution_count": null,
   "id": "600bddfe-a724-40af-a2aa-02b771594a03",
   "metadata": {
    "ExecuteTime": {
     "end_time": "2021-12-29T06:20:49.471050Z",
     "start_time": "2021-12-29T06:20:49.442200Z"
    }
   },
   "outputs": [],
   "source": [
    "d = True\n",
    "e = True\n",
    "f = False\n",
    "\n",
    "d_and_e_1 = d and e\n",
    "d_and_e_2 = d & e\n",
    "print('d and e by using `and`: ', d_and_e_1)\n",
    "print('d and e by using `&`: ', d_and_e_2)\n",
    "\n",
    "d_and_f_1 = d and f\n",
    "d_and_f_2 = d & f\n",
    "print('d and f by using `and`: ', d_and_f_1)\n",
    "print('d and f by using `&`: ', d_and_f_2)\n",
    "\n",
    "d_or_e_1 = d or e\n",
    "d_or_e_2 = d | e\n",
    "print('d or e by using `or`: ', d_or_e_1)\n",
    "print('d or e by using `|`: ', d_or_e_2)\n",
    "\n",
    "d_or_f_1 = d or f\n",
    "d_or_f_2 = d | f\n",
    "print('d or f by using `or`: ', d_or_f_1)\n",
    "print('d or f by using `|`: ', d_or_f_2)"
   ]
  },
  {
   "cell_type": "code",
   "execution_count": null,
   "id": "12f1066b-dd03-4bb2-9899-4fc22fb363cf",
   "metadata": {
    "ExecuteTime": {
     "end_time": "2021-12-29T06:20:49.508216Z",
     "start_time": "2021-12-29T06:20:49.488818Z"
    }
   },
   "outputs": [],
   "source": [
    "x = 1\n",
    "y = 1\n",
    "z = 2\n",
    "\n",
    "is_x_equal_y = x == y\n",
    "is_x_equal_z = x == z\n",
    "print('Is x equal y: ', is_x_equal_y)\n",
    "print('Is x equal z: ', is_x_equal_z)\n",
    "\n",
    "is_x_diff_y = x != y\n",
    "is_x_diff_z = x != z\n",
    "print('Is x different y: ', is_x_diff_y)\n",
    "print('Is x different z: ', is_x_diff_z)\n",
    "\n",
    "is_x_greater_y = x > y\n",
    "is_x_greater_equal_y = x >= y\n",
    "print('Is x greater than y: ', is_x_greater_y)\n",
    "print('Is x greater than or equal y: ', is_x_greater_equal_y)\n",
    "\n",
    "is_x_lower_z = x < z\n",
    "is_x_lower_equal_z = x <= z\n",
    "print('Is x lower than z: ', is_x_lower_z)\n",
    "print('Is x lower than or equal z: ', is_x_lower_equal_z)"
   ]
  },
  {
   "cell_type": "code",
   "execution_count": null,
   "id": "af38268a-7ff5-4904-8ed0-3eb5d0aa9ba4",
   "metadata": {
    "ExecuteTime": {
     "end_time": "2021-12-29T06:20:49.559391Z",
     "start_time": "2021-12-29T06:20:49.520172Z"
    }
   },
   "outputs": [],
   "source": [
    "m = ['minh', 'thao anh', 1504]\n",
    "\n",
    "minh_in_m = 'minh' in m\n",
    "print('minh in m: ', minh_in_m)\n",
    "\n",
    "minh_not_in_m = 'minh' not in m\n",
    "print('minh not in m: ', minh_not_in_m)\n",
    "\n",
    "hieu_in_m = 'hieu' in m\n",
    "print('hieu in m: ', hieu_in_m)\n",
    "\n",
    "hieu_not_in_m = 'hieu' not in m\n",
    "print('hieu not in m: ', hieu_not_in_m)"
   ]
  }
 ],
 "metadata": {
  "kernelspec": {
   "display_name": "Python 3 (ipykernel)",
   "language": "python",
   "name": "python3"
  },
  "language_info": {
   "codemirror_mode": {
    "name": "ipython",
    "version": 3
   },
   "file_extension": ".py",
   "mimetype": "text/x-python",
   "name": "python",
   "nbconvert_exporter": "python",
   "pygments_lexer": "ipython3",
   "version": "3.8.12"
  },
  "toc": {
   "base_numbering": 1,
   "nav_menu": {},
   "number_sections": false,
   "sideBar": true,
   "skip_h1_title": false,
   "title_cell": "Table of Contents",
   "title_sidebar": "Table of Contents",
   "toc_cell": false,
   "toc_position": {},
   "toc_section_display": true,
   "toc_window_display": true
  }
 },
 "nbformat": 4,
 "nbformat_minor": 5
}
