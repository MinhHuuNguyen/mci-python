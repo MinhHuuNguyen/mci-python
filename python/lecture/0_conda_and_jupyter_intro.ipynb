{
 "cells": [
  {
   "cell_type": "markdown",
   "id": "1aa0f28f",
   "metadata": {},
   "source": [
    "# LESSON 0: ANACONDA AND JUPYTER NOTEBOOK INTRODUCTION\n",
    "<table><tr>\n",
    "<td> <img src=\"image/conda_logo.png\" width=\"400px\"/> </td>\n",
    "<td> <img src=\"image/jupyter_logo.png\" width=\"400px\"/> </td>\n",
    "</tr></table>"
   ]
  },
  {
   "cell_type": "markdown",
   "id": "a71b676c",
   "metadata": {},
   "source": [
    "## 1. Anaconda introduction\n",
    "### 1.1. Download and install anaconda\n",
    "Install Anaconda on Windows: https://docs.anaconda.com/anaconda/install/windows/\n",
    "<br>\n",
    "Install Anaconda on MacOS: https://docs.anaconda.com/anaconda/install/mac-os/\n",
    "\n",
    "### 1.2. Interact with anaconda environment\n",
    "#### Introduce to anaconda environment\n",
    "An anaconda environment is a directory that contains a specific collection of conda packages that you have installed. The environment is separated and independent to each other. <br>\n",
    "Anaconda environments manage and run multiple python version on single computer. <br>\n",
    "Anaconda manage and run lots of packages in different environments and reduce conflicts between them.\n",
    "\n",
    "#### Check environment info\n",
    "Run `conda info --envs` or `conda env list` to list environments which have installed.\n",
    "\n",
    "#### Create anaconda environment\n",
    "Run `conda create -n <ENV_NAME> python=<PYTHON_VERSION> -y` to create new environment with specific python version. <br>\n",
    "Example: `conda create -n mci_env python=3.8 -y`. <br>\n",
    "It can take time to create environment.\n",
    "\n",
    "#### Activate an environment\n",
    "Run `conda activate <ENV_NAME>` to activate the environment. <br>\n",
    "Example: `conda activate mci_env`. <br>\n",
    "After activating an environment, the running environment change from `base` to `mci_env` and we can check the python version by running `python --version` or `python -V`.\n",
    "\n",
    "#### Deactivate an environment\n",
    "Run `conda deactivate` to deactivate the running environment and change back to `base`.\n",
    "\n",
    "#### Remove an environment\n",
    "Run `conda env remove --name <ENV_NAME>` to remove the environment. <br>\n",
    "Example: `conda env remove --name mci_env`. <br>\n",
    "After removing the environments, we can check `conda env list`.\n",
    "\n",
    "### 1.3. Install packages to anaconda environment\n",
    "#### List packages installed in an environment\n",
    "Run `conda list` to list all packages installed in an environment. <br>"
   ]
  },
  {
   "cell_type": "markdown",
   "id": "c62158a3",
   "metadata": {},
   "source": [
    "## 2. Jupyter notebook introduction\n",
    "### 2.1. Get started with jupyter notebook\n",
    "To use jupyter notebook, please following these steps:\n",
    "- Step 1: Activate conda environment\n",
    "- Step 2: Install jupyter notebook by running `conda install jupyter notebook`\n",
    "- Step 3: Create a folder which contains document of MCI Python level 1\n",
    "- Step 4: Run `jupyter notebook --notebook-dir=<PATH_TO_FOLDER_FROM_STEP_3>` to use jupyter notebook or run `jupyter lab --notebook-dir=<PATH_TO_FOLDER_FROM_STEP_3>` to use jupyter lab.\n",
    "- Step 5: jupyter notebook or jupyter lab will be opened in browser with address `http://localhost:8888/`\n",
    "\n",
    "### 2.2. Shortcuts in jupyter notebook\n",
    "- `ESC` + `A`: Add a new cell above.\n",
    "- `ESC` + `B`: Add a new cell below.\n",
    "- `ESC` + `M`: Change a `code` cell into a `markdown` cell.\n",
    "- `ESC` + `Y`: Change a `markdown` cell into a `code` cell.\n",
    "- `ESC` + `D` + `D`: Remove a cell"
   ]
  }
 ],
 "metadata": {
  "kernelspec": {
   "display_name": "Python 3 (ipykernel)",
   "language": "python",
   "name": "python3"
  },
  "language_info": {
   "codemirror_mode": {
    "name": "ipython",
    "version": 3
   },
   "file_extension": ".py",
   "mimetype": "text/x-python",
   "name": "python",
   "nbconvert_exporter": "python",
   "pygments_lexer": "ipython3",
   "version": "3.8.12"
  },
  "notify_time": "5",
  "toc": {
   "base_numbering": 1,
   "nav_menu": {},
   "number_sections": false,
   "sideBar": true,
   "skip_h1_title": false,
   "title_cell": "Table of Contents",
   "title_sidebar": "Table of Contents",
   "toc_cell": false,
   "toc_position": {},
   "toc_section_display": true,
   "toc_window_display": true
  }
 },
 "nbformat": 4,
 "nbformat_minor": 5
}
