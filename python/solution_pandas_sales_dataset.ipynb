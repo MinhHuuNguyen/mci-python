{
 "cells": [
  {
   "cell_type": "markdown",
   "id": "a2444784",
   "metadata": {},
   "source": [
    "# LESSON 6: PANDAS PRACTICE\n",
    "<img src=\"../../images/pd_logo.png\" width=\"400px\"/>"
   ]
  },
  {
   "cell_type": "markdown",
   "id": "a63cbd4a",
   "metadata": {},
   "source": [
    "### PROBLEM:\n",
    "You are provided with daily historical sales data. The dataset contains 5 .csv file, file description and data fields description below:\n",
    "<br>\n",
    "\n",
    "#### File descriptions\n",
    "1. `sales.csv`: Daily historical data from January 2013 to October 2015.\n",
    "2. `items_list_1.csv`: Supplemental information about the items/products in list 1.\n",
    "3. `items_list_2.csv`: Supplemental information about the items/products in list 2.\n",
    "4. `item_categories.csv`: Supplemental information about the items categories.\n",
    "5. `shops.csv`: Supplemental information about the shops.\n",
    "<br>\n",
    "\n",
    "#### Data fields\n",
    "1. `shop_id`: Unique identifier of a shop.\n",
    "2. `item_id`: Unique identifier of a product.\n",
    "3. `item_category_id`: Unique identifier of item category.\n",
    "4. `item_cnt_day`: Number of products sold.\n",
    "5. `item_price`: Current price of an item.\n",
    "6. `date`: Date in format dd/mm/yyyy.\n",
    "7. `date_block_num`: A consecutive month number, used for convenience. January 2013 is 0, February 2013 is 1,..., October 2015 is 33.\n",
    "8. `item_name`: Name of item.\n",
    "9. `shop_name`: Name of shop.\n",
    "10. `item_category_name`: Name of item category.\n",
    "<br>\n",
    "\n",
    "#### Question\n",
    "1. How many **items** are there **in list 1**? **in list 2**? in **only list 1** (List the name of them)? in **only list 2** (List the name of them)? in **both of the two** lists (List the name of them)? Create the new csv file only **contains the unique items** from the two lists? (Name that file as `items.csv`)\n",
    "2. How many **items** are there in the `items.csv`? How many of them contain **digits in name**? How many of them are FIFA football game items (contain **\"FIFA\" in the name**)?\n",
    "3. How many **item categories** are there in the dataset? Which item category contain **highest number of items**? **lowest number of items**? List all items according to each item category. Calculate the average number of items in each category.\n",
    "4. Which **item** has the **highest price** in each year? Which **item** has the **lowest price** in each year? Calculate the **average price** of each item in each year?\n",
    "5. Which **item** has the **highest sales** in each year? Which **item** has the **lowest sales** in each year? Calculate the **average sales** of each item in each year?\n",
    "\n",
    "<!-- How many **shops** are there in the dataset? \n",
    "4. \n",
    "5. \n",
    "6. \n",
    "7. \n",
    "8. \n",
    "9. \n",
    "10.  -->"
   ]
  },
  {
   "cell_type": "markdown",
   "id": "be249b57",
   "metadata": {},
   "source": [
    "### SOLUTION:\n",
    "#### Preparation\n",
    "Import library and read some data files"
   ]
  },
  {
   "cell_type": "code",
   "execution_count": null,
   "id": "a5db31c2",
   "metadata": {
    "ExecuteTime": {
     "end_time": "2021-12-29T06:23:30.439972Z",
     "start_time": "2021-12-29T06:23:29.401067Z"
    }
   },
   "outputs": [],
   "source": [
    "import pandas as pd"
   ]
  },
  {
   "cell_type": "code",
   "execution_count": null,
   "id": "c809380f",
   "metadata": {
    "ExecuteTime": {
     "end_time": "2021-12-29T06:23:30.546563Z",
     "start_time": "2021-12-29T06:23:30.444609Z"
    }
   },
   "outputs": [],
   "source": [
    "item_list_1_df = pd.read_csv('data/predict_future_sales/items_list_1.csv')\n",
    "item_list_1_df"
   ]
  },
  {
   "cell_type": "code",
   "execution_count": null,
   "id": "90776187",
   "metadata": {
    "ExecuteTime": {
     "end_time": "2021-12-29T06:23:30.627239Z",
     "start_time": "2021-12-29T06:23:30.555319Z"
    },
    "scrolled": false
   },
   "outputs": [],
   "source": [
    "item_list_2_df = pd.read_csv('data/predict_future_sales/items_list_2.csv')\n",
    "item_list_2_df"
   ]
  },
  {
   "cell_type": "code",
   "execution_count": null,
   "id": "a330ca05",
   "metadata": {
    "ExecuteTime": {
     "end_time": "2021-12-29T06:23:30.651802Z",
     "start_time": "2021-12-29T06:23:30.631613Z"
    },
    "scrolled": false
   },
   "outputs": [],
   "source": [
    "item_categories_df = pd.read_csv('data/predict_future_sales/item_categories.csv')\n",
    "item_categories_df.head()"
   ]
  },
  {
   "cell_type": "code",
   "execution_count": null,
   "id": "82bf2107",
   "metadata": {
    "ExecuteTime": {
     "end_time": "2021-12-29T06:23:32.657431Z",
     "start_time": "2021-12-29T06:23:30.656668Z"
    },
    "scrolled": false
   },
   "outputs": [],
   "source": [
    "sales_df = pd.read_csv('data/predict_future_sales/sales.csv')\n",
    "sales_df.head()"
   ]
  },
  {
   "cell_type": "markdown",
   "id": "36200511",
   "metadata": {},
   "source": [
    "#### Question 1:\n",
    "How many **items** are there **in list 1**? **in list 2**? in **only list 1** (List the name of them)? in **only list 2** (List the name of them)? in **both of the two** lists (List the name of them)? Create the new csv file only **contains the unique items** from the two lists? (Name that file as `items.csv`)"
   ]
  },
  {
   "cell_type": "code",
   "execution_count": null,
   "id": "99b5e6ba",
   "metadata": {
    "ExecuteTime": {
     "end_time": "2021-12-29T06:23:32.688760Z",
     "start_time": "2021-12-29T06:23:32.678319Z"
    }
   },
   "outputs": [],
   "source": [
    "print(f'There are {len(item_list_1_df)} items in list 1')\n",
    "print(f'There are {len(item_list_2_df)} items in list 2')"
   ]
  },
  {
   "cell_type": "code",
   "execution_count": null,
   "id": "385b1f68",
   "metadata": {
    "ExecuteTime": {
     "end_time": "2021-12-29T06:23:32.867156Z",
     "start_time": "2021-12-29T06:23:32.693716Z"
    }
   },
   "outputs": [],
   "source": [
    "merged_df = pd.merge(item_list_1_df, item_list_2_df, on='item_id', how='outer', indicator=True)\n",
    "merged_df"
   ]
  },
  {
   "cell_type": "code",
   "execution_count": null,
   "id": "dff4206b",
   "metadata": {
    "ExecuteTime": {
     "end_time": "2021-12-29T06:23:32.881851Z",
     "start_time": "2021-12-29T06:23:32.871943Z"
    }
   },
   "outputs": [],
   "source": [
    "def process_df(_df):\n",
    "    _df = _df.dropna(axis=1).drop(columns='_merge')\n",
    "    \n",
    "    rename_dict = dict()\n",
    "    for col_name in _df.columns:\n",
    "        if '_x' in col_name or '_y' in col_name:\n",
    "            rename_dict[col_name] = col_name[:-2]\n",
    "    \n",
    "    new_df = _df.rename(columns=rename_dict)\n",
    "    return new_df"
   ]
  },
  {
   "cell_type": "code",
   "execution_count": null,
   "id": "2f56e284",
   "metadata": {
    "ExecuteTime": {
     "end_time": "2021-12-29T06:23:32.974391Z",
     "start_time": "2021-12-29T06:23:32.894085Z"
    }
   },
   "outputs": [],
   "source": [
    "item_only_list_1_df = merged_df[merged_df._merge == 'left_only']\n",
    "item_only_list_1_df = process_df(item_only_list_1_df)\n",
    "item_only_list_1_df"
   ]
  },
  {
   "cell_type": "code",
   "execution_count": null,
   "id": "cfa7eb9d",
   "metadata": {
    "ExecuteTime": {
     "end_time": "2021-12-29T06:23:33.051945Z",
     "start_time": "2021-12-29T06:23:32.979593Z"
    }
   },
   "outputs": [],
   "source": [
    "item_only_list_2_df = merged_df[merged_df._merge == 'right_only']\n",
    "item_only_list_2_df = process_df(item_only_list_2_df)\n",
    "item_only_list_2_df"
   ]
  },
  {
   "cell_type": "code",
   "execution_count": null,
   "id": "088374c1",
   "metadata": {
    "ExecuteTime": {
     "end_time": "2021-12-29T06:23:33.109192Z",
     "start_time": "2021-12-29T06:23:33.058438Z"
    }
   },
   "outputs": [],
   "source": [
    "item_both_list_df = merged_df[merged_df._merge == 'both']\n",
    "item_both_list_df = process_df(item_both_list_df)\n",
    "item_both_list_df = item_both_list_df.loc[:,~item_both_list_df.columns.duplicated()]\n",
    "item_both_list_df"
   ]
  },
  {
   "cell_type": "code",
   "execution_count": null,
   "id": "4bb916d0",
   "metadata": {
    "ExecuteTime": {
     "end_time": "2021-12-29T06:23:33.127003Z",
     "start_time": "2021-12-29T06:23:33.116147Z"
    }
   },
   "outputs": [],
   "source": [
    "print(f'There are {len(item_only_list_1_df)} items in only list 1')\n",
    "print(f'There are {len(item_only_list_2_df)} items in only list 2')\n",
    "print(f'There are {len(item_both_list_df)} items in both list 1 and list 2')"
   ]
  },
  {
   "cell_type": "code",
   "execution_count": null,
   "id": "ee0c2410",
   "metadata": {
    "ExecuteTime": {
     "end_time": "2021-12-29T06:23:33.296857Z",
     "start_time": "2021-12-29T06:23:33.141645Z"
    }
   },
   "outputs": [],
   "source": [
    "items_df = pd.concat([item_only_list_1_df, item_only_list_2_df, item_both_list_df])\n",
    "items_df.to_csv('items.csv', index=False)\n",
    "items_df"
   ]
  },
  {
   "cell_type": "markdown",
   "id": "70a061b2",
   "metadata": {},
   "source": [
    "#### Question 2:\n",
    "How many **items** are there in the `items.csv`? How many of them contain **digits in name**? How many of them are FIFA football game items (contain **\"FIFA\" in the name**)?"
   ]
  },
  {
   "cell_type": "code",
   "execution_count": null,
   "id": "d89b407d",
   "metadata": {
    "ExecuteTime": {
     "end_time": "2021-12-29T06:23:33.310877Z",
     "start_time": "2021-12-29T06:23:33.300785Z"
    }
   },
   "outputs": [],
   "source": [
    "print(f'There are {len(items_df)} items in items.csv')"
   ]
  },
  {
   "cell_type": "code",
   "execution_count": null,
   "id": "16922001",
   "metadata": {
    "ExecuteTime": {
     "end_time": "2021-12-29T06:23:33.323907Z",
     "start_time": "2021-12-29T06:23:33.314665Z"
    }
   },
   "outputs": [],
   "source": [
    "def check_digits(name):\n",
    "    for char in name:\n",
    "        if char.isdigit():\n",
    "            return True\n",
    "    return False\n",
    "\n",
    "def check_fifa(name):\n",
    "    if 'FIFA' in name.upper():\n",
    "        return True\n",
    "    return False"
   ]
  },
  {
   "cell_type": "code",
   "execution_count": null,
   "id": "b11b6db3",
   "metadata": {
    "ExecuteTime": {
     "end_time": "2021-12-29T06:23:33.465461Z",
     "start_time": "2021-12-29T06:23:33.327575Z"
    },
    "scrolled": true
   },
   "outputs": [],
   "source": [
    "items_df['is_digits_in_name'] = items_df.item_name.apply(check_digits)\n",
    "items_df"
   ]
  },
  {
   "cell_type": "code",
   "execution_count": null,
   "id": "801c1e44",
   "metadata": {
    "ExecuteTime": {
     "end_time": "2021-12-29T06:23:33.515863Z",
     "start_time": "2021-12-29T06:23:33.471072Z"
    }
   },
   "outputs": [],
   "source": [
    "item_name_with_digits_df = items_df.loc[items_df.is_digits_in_name]\n",
    "\n",
    "print(f'There are {len(item_name_with_digits_df)} items with digits in item_name')\n",
    "item_name_with_digits_df"
   ]
  },
  {
   "cell_type": "code",
   "execution_count": null,
   "id": "ef547bdf",
   "metadata": {
    "ExecuteTime": {
     "end_time": "2021-12-29T06:23:33.589317Z",
     "start_time": "2021-12-29T06:23:33.527108Z"
    }
   },
   "outputs": [],
   "source": [
    "items_df['is_fifa_in_name'] = items_df.item_name.apply(check_fifa)\n",
    "item_name_with_fifa_df = items_df[items_df.is_fifa_in_name]\n",
    "\n",
    "print(f'There are {len(item_name_with_fifa_df)} items with FIFA in item_name')\n",
    "item_name_with_fifa_df"
   ]
  },
  {
   "cell_type": "markdown",
   "id": "357fb4b7",
   "metadata": {},
   "source": [
    "#### Question 3:\n",
    "How many **item categories** are there in the dataset? Which item category contain **highest number of items**? **lowest number of items**? List all items according to each item category. Calculate the average number of items in each category."
   ]
  },
  {
   "cell_type": "code",
   "execution_count": null,
   "id": "a97ab77e",
   "metadata": {
    "ExecuteTime": {
     "end_time": "2021-12-29T06:23:33.600561Z",
     "start_time": "2021-12-29T06:23:33.593573Z"
    }
   },
   "outputs": [],
   "source": [
    "import numpy as np"
   ]
  },
  {
   "cell_type": "code",
   "execution_count": null,
   "id": "073dd40f",
   "metadata": {
    "ExecuteTime": {
     "end_time": "2021-12-29T06:23:33.616685Z",
     "start_time": "2021-12-29T06:23:33.608447Z"
    }
   },
   "outputs": [],
   "source": [
    "print(f'There are {len(item_categories_df)} categories in the dataset')"
   ]
  },
  {
   "cell_type": "code",
   "execution_count": null,
   "id": "b4319d3a",
   "metadata": {
    "ExecuteTime": {
     "end_time": "2021-12-29T06:23:33.710877Z",
     "start_time": "2021-12-29T06:23:33.625001Z"
    },
    "scrolled": true
   },
   "outputs": [],
   "source": [
    "merged_item_cat_df = pd.merge(items_df, item_categories_df, how='left', on='item_category_id')\n",
    "grouped_merged_item_cat_df = merged_item_cat_df.groupby(\n",
    "    by=['item_category_id', 'item_category_name']).agg({'item_id': list}).reset_index()\n",
    "grouped_merged_item_cat_df['num_of_items'] = grouped_merged_item_cat_df.item_id.apply(len)\n",
    "grouped_merged_item_cat_df"
   ]
  },
  {
   "cell_type": "code",
   "execution_count": null,
   "id": "283f3587",
   "metadata": {
    "ExecuteTime": {
     "end_time": "2021-12-29T06:23:33.725270Z",
     "start_time": "2021-12-29T06:23:33.717125Z"
    }
   },
   "outputs": [],
   "source": [
    "print(f'Average number of items {np.average(grouped_merged_item_cat_df.num_of_items)}')"
   ]
  },
  {
   "cell_type": "code",
   "execution_count": null,
   "id": "51d56bcd",
   "metadata": {
    "ExecuteTime": {
     "end_time": "2021-12-29T06:23:33.753699Z",
     "start_time": "2021-12-29T06:23:33.730684Z"
    }
   },
   "outputs": [],
   "source": [
    "max_num_of_items_df = grouped_merged_item_cat_df[\n",
    "    grouped_merged_item_cat_df.num_of_items == np.max(grouped_merged_item_cat_df.num_of_items)]\n",
    "max_num_of_items_df"
   ]
  },
  {
   "cell_type": "code",
   "execution_count": null,
   "id": "b0bcc71d",
   "metadata": {
    "ExecuteTime": {
     "end_time": "2021-12-29T06:23:33.779788Z",
     "start_time": "2021-12-29T06:23:33.759956Z"
    }
   },
   "outputs": [],
   "source": [
    "min_num_of_items_df = grouped_merged_item_cat_df[\n",
    "    grouped_merged_item_cat_df.num_of_items == np.min(grouped_merged_item_cat_df.num_of_items)]\n",
    "min_num_of_items_df"
   ]
  },
  {
   "cell_type": "markdown",
   "id": "7e1506ef",
   "metadata": {},
   "source": [
    "#### Question 4:\n",
    "Which **item** has the **highest price** in each year? Which **item** has the **lowest price** in each year? Calculate the **average price** of each item in each year?"
   ]
  },
  {
   "cell_type": "code",
   "execution_count": null,
   "id": "062fcb2e",
   "metadata": {
    "ExecuteTime": {
     "end_time": "2021-12-29T06:23:36.641031Z",
     "start_time": "2021-12-29T06:23:33.786812Z"
    }
   },
   "outputs": [],
   "source": [
    "sales_item_name_df = pd.merge(sales_df, items_df, on='item_id', how='left')\n",
    "sales_item_name_df.date = sales_item_name_df.date.apply(lambda x: x.split('.')[-1])\n",
    "sales_item_name_df"
   ]
  },
  {
   "cell_type": "code",
   "execution_count": null,
   "id": "9b31ada6",
   "metadata": {
    "ExecuteTime": {
     "end_time": "2021-12-29T06:23:36.651992Z",
     "start_time": "2021-12-29T06:23:36.644900Z"
    }
   },
   "outputs": [],
   "source": [
    "def find_highest_lowest_price(df, year):\n",
    "    sales_year_df = df[df.date == year]\n",
    "    highest_df = sales_year_df[sales_year_df.item_price == np.max(sales_year_df.item_price)]\n",
    "    lowest_df = sales_year_df[sales_year_df.item_price == np.min(sales_year_df.item_price)]\n",
    "    average_price = np.average(sales_year_df.item_price)\n",
    "    return highest_df, lowest_df, average_price"
   ]
  },
  {
   "cell_type": "code",
   "execution_count": null,
   "id": "c629143f",
   "metadata": {
    "ExecuteTime": {
     "end_time": "2021-12-29T06:23:38.604694Z",
     "start_time": "2021-12-29T06:23:36.674665Z"
    }
   },
   "outputs": [],
   "source": [
    "year_list = sales_item_name_df.date.unique()\n",
    "\n",
    "price = dict()\n",
    "for year in year_list:\n",
    "    highest_df, lowest_df, average_price = find_highest_lowest_price(sales_item_name_df, year)\n",
    "    price[year] = dict()\n",
    "    price[year]['highest'] = highest_df\n",
    "    price[year]['lowest'] = lowest_df\n",
    "    price[year]['average_price'] = average_price\n"
   ]
  },
  {
   "cell_type": "code",
   "execution_count": null,
   "id": "596afe57",
   "metadata": {
    "ExecuteTime": {
     "end_time": "2021-12-29T06:23:38.664720Z",
     "start_time": "2021-12-29T06:23:38.615148Z"
    }
   },
   "outputs": [],
   "source": [
    "price['2013']['highest']"
   ]
  },
  {
   "cell_type": "code",
   "execution_count": null,
   "id": "415be9bd",
   "metadata": {
    "ExecuteTime": {
     "end_time": "2021-12-29T06:23:38.731567Z",
     "start_time": "2021-12-29T06:23:38.694784Z"
    }
   },
   "outputs": [],
   "source": [
    "price['2013']['lowest']"
   ]
  },
  {
   "cell_type": "code",
   "execution_count": null,
   "id": "55cc137f",
   "metadata": {
    "ExecuteTime": {
     "end_time": "2021-12-29T06:23:38.748481Z",
     "start_time": "2021-12-29T06:23:38.739081Z"
    }
   },
   "outputs": [],
   "source": [
    "price['2013']['average_price']"
   ]
  },
  {
   "cell_type": "code",
   "execution_count": null,
   "id": "bede3a0c",
   "metadata": {
    "ExecuteTime": {
     "end_time": "2021-12-29T06:23:38.779049Z",
     "start_time": "2021-12-29T06:23:38.754644Z"
    }
   },
   "outputs": [],
   "source": [
    "price['2014']['highest']"
   ]
  },
  {
   "cell_type": "code",
   "execution_count": null,
   "id": "b31bc379",
   "metadata": {
    "ExecuteTime": {
     "end_time": "2021-12-29T06:23:38.826932Z",
     "start_time": "2021-12-29T06:23:38.782911Z"
    }
   },
   "outputs": [],
   "source": [
    "price['2014']['lowest']"
   ]
  },
  {
   "cell_type": "code",
   "execution_count": null,
   "id": "f1f383b0",
   "metadata": {
    "ExecuteTime": {
     "end_time": "2021-12-29T06:23:38.842698Z",
     "start_time": "2021-12-29T06:23:38.832490Z"
    }
   },
   "outputs": [],
   "source": [
    "price['2014']['average_price']"
   ]
  },
  {
   "cell_type": "code",
   "execution_count": null,
   "id": "36d37acf",
   "metadata": {
    "ExecuteTime": {
     "end_time": "2021-12-29T06:23:38.868351Z",
     "start_time": "2021-12-29T06:23:38.846466Z"
    }
   },
   "outputs": [],
   "source": [
    "price['2015']['highest']"
   ]
  },
  {
   "cell_type": "code",
   "execution_count": null,
   "id": "36713dba",
   "metadata": {
    "ExecuteTime": {
     "end_time": "2021-12-29T06:23:38.913148Z",
     "start_time": "2021-12-29T06:23:38.876129Z"
    }
   },
   "outputs": [],
   "source": [
    "price['2015']['lowest']"
   ]
  },
  {
   "cell_type": "code",
   "execution_count": null,
   "id": "61633700",
   "metadata": {
    "ExecuteTime": {
     "end_time": "2021-12-29T06:23:38.950057Z",
     "start_time": "2021-12-29T06:23:38.916714Z"
    },
    "scrolled": true
   },
   "outputs": [],
   "source": [
    "price['2015']['average_price']"
   ]
  },
  {
   "cell_type": "markdown",
   "id": "f8ca1e0e",
   "metadata": {},
   "source": [
    "#### Question 5:\n",
    "Which **item** has the **highest sales** in each year? Which **item** has the **lowest sales** in each year? Calculate the **average sales** of each item in each year?"
   ]
  },
  {
   "cell_type": "code",
   "execution_count": null,
   "id": "8fd53734",
   "metadata": {
    "ExecuteTime": {
     "end_time": "2021-12-29T06:23:38.991328Z",
     "start_time": "2021-12-29T06:23:38.953790Z"
    }
   },
   "outputs": [],
   "source": [
    "sales_item_name_df"
   ]
  },
  {
   "cell_type": "code",
   "execution_count": null,
   "id": "a7dca34e",
   "metadata": {
    "ExecuteTime": {
     "end_time": "2021-12-29T06:23:39.007492Z",
     "start_time": "2021-12-29T06:23:38.994869Z"
    }
   },
   "outputs": [],
   "source": [
    "def find_highest_lowest_sales(df, year):\n",
    "    sales_year_df = df[df.date == year]\n",
    "    grouped_df = sales_year_df.groupby(by='item_id').agg({'item_cnt_day': sum}).reset_index()\n",
    "\n",
    "    highest_df = grouped_df[grouped_df.item_cnt_day == np.max(grouped_df.item_cnt_day)]\n",
    "    lowest_df = grouped_df[grouped_df.item_cnt_day == np.min(grouped_df.item_cnt_day)]\n",
    "    average_sales = np.average(grouped_df.item_cnt_day)\n",
    "    return highest_df, lowest_df, average_sales"
   ]
  },
  {
   "cell_type": "code",
   "execution_count": null,
   "id": "e045ccc7",
   "metadata": {
    "ExecuteTime": {
     "end_time": "2021-12-29T06:23:40.509281Z",
     "start_time": "2021-12-29T06:23:39.022441Z"
    }
   },
   "outputs": [],
   "source": [
    "sales = dict()\n",
    "for year in year_list:\n",
    "    highest_df, lowest_df, average_sales = find_highest_lowest_sales(sales_item_name_df, year)\n",
    "    sales[year] = dict()\n",
    "    sales[year]['highest'] = highest_df\n",
    "    sales[year]['lowest'] = lowest_df\n",
    "    sales[year]['average_sales'] = average_sales"
   ]
  },
  {
   "cell_type": "code",
   "execution_count": null,
   "id": "ec15ceb2",
   "metadata": {
    "ExecuteTime": {
     "end_time": "2021-12-29T06:23:40.541597Z",
     "start_time": "2021-12-29T06:23:40.511446Z"
    }
   },
   "outputs": [],
   "source": [
    "sales['2013']['highest']"
   ]
  },
  {
   "cell_type": "code",
   "execution_count": null,
   "id": "19738e2b",
   "metadata": {
    "ExecuteTime": {
     "end_time": "2021-12-29T06:23:40.576174Z",
     "start_time": "2021-12-29T06:23:40.545632Z"
    }
   },
   "outputs": [],
   "source": [
    "sales['2013']['lowest']"
   ]
  },
  {
   "cell_type": "code",
   "execution_count": null,
   "id": "130ee804",
   "metadata": {
    "ExecuteTime": {
     "end_time": "2021-12-29T06:23:40.643013Z",
     "start_time": "2021-12-29T06:23:40.579810Z"
    }
   },
   "outputs": [],
   "source": [
    "sales['2013']['average_sales']"
   ]
  },
  {
   "cell_type": "code",
   "execution_count": null,
   "id": "e64c72ee",
   "metadata": {
    "ExecuteTime": {
     "end_time": "2021-12-29T06:23:40.684777Z",
     "start_time": "2021-12-29T06:23:40.658293Z"
    }
   },
   "outputs": [],
   "source": [
    "sales['2014']['highest']"
   ]
  },
  {
   "cell_type": "code",
   "execution_count": null,
   "id": "ae4444cc",
   "metadata": {
    "ExecuteTime": {
     "end_time": "2021-12-29T06:23:40.714737Z",
     "start_time": "2021-12-29T06:23:40.693250Z"
    }
   },
   "outputs": [],
   "source": [
    "sales['2014']['lowest']"
   ]
  },
  {
   "cell_type": "code",
   "execution_count": null,
   "id": "dcb58c7f",
   "metadata": {
    "ExecuteTime": {
     "end_time": "2021-12-29T06:23:40.733550Z",
     "start_time": "2021-12-29T06:23:40.723732Z"
    }
   },
   "outputs": [],
   "source": [
    "sales['2014']['average_sales']"
   ]
  },
  {
   "cell_type": "code",
   "execution_count": null,
   "id": "60e06fd7",
   "metadata": {
    "ExecuteTime": {
     "end_time": "2021-12-29T06:23:40.765017Z",
     "start_time": "2021-12-29T06:23:40.741888Z"
    }
   },
   "outputs": [],
   "source": [
    "sales['2015']['highest']"
   ]
  },
  {
   "cell_type": "code",
   "execution_count": null,
   "id": "521fabc0",
   "metadata": {
    "ExecuteTime": {
     "end_time": "2021-12-29T06:23:40.790808Z",
     "start_time": "2021-12-29T06:23:40.775111Z"
    }
   },
   "outputs": [],
   "source": [
    "sales['2015']['lowest']"
   ]
  },
  {
   "cell_type": "code",
   "execution_count": null,
   "id": "ac91fb97",
   "metadata": {
    "ExecuteTime": {
     "end_time": "2021-12-29T06:23:40.813339Z",
     "start_time": "2021-12-29T06:23:40.797229Z"
    },
    "scrolled": true
   },
   "outputs": [],
   "source": [
    "sales['2015']['average_sales']"
   ]
  }
 ],
 "metadata": {
  "kernelspec": {
   "display_name": "Python 3 (ipykernel)",
   "language": "python",
   "name": "python3"
  },
  "language_info": {
   "codemirror_mode": {
    "name": "ipython",
    "version": 3
   },
   "file_extension": ".py",
   "mimetype": "text/x-python",
   "name": "python",
   "nbconvert_exporter": "python",
   "pygments_lexer": "ipython3",
   "version": "3.8.12"
  },
  "toc": {
   "base_numbering": 1,
   "nav_menu": {},
   "number_sections": false,
   "sideBar": true,
   "skip_h1_title": false,
   "title_cell": "Table of Contents",
   "title_sidebar": "Table of Contents",
   "toc_cell": false,
   "toc_position": {
    "height": "calc(100% - 180px)",
    "left": "10px",
    "top": "150px",
    "width": "213px"
   },
   "toc_section_display": true,
   "toc_window_display": true
  }
 },
 "nbformat": 4,
 "nbformat_minor": 5
}
