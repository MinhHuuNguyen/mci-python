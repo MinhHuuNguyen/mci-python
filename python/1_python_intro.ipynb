{
 "cells": [
  {
   "cell_type": "markdown",
   "metadata": {},
   "source": [
    "# LESSON 1: PYTHON INTRODUCTION\n",
    "<img src=\"../images/py_logo.jpeg\" width=\"300px\"/>"
   ]
  },
  {
   "cell_type": "markdown",
   "metadata": {},
   "source": [
    "## 1. Overall introduction\n",
    "\"Python is a programming language that lets you work more quickly and integrate your systems more effectively.\"\n",
    "### Python is popular\n",
    "One of the main reasons for the popularity of Python would be its simplicity in syntax and it's very close to the English language so that it could be easily read and understood. <br>\n",
    "Another reason is the 4th industrial revolution which makes Cloud Computing, Machine Learning, and Big Data become hot trend. Python allows professionals to conduct complex statistical calculations, create data visualizations, build machine learning algorithms, manipulate and analyze data, and complete other data-related tasks. <br>\n",
    "<img src=\"../images/py_popular.png\" width=\"700px\"/>\n",
    "### Python has lots of applications\n",
    "- Web and Internet Development\n",
    "- Database Access\n",
    "- Desktop GUIs\n",
    "- Scientific & Numeric\n",
    "- Education\n",
    "- Network Programming\n",
    "- Software & Game Development\n",
    "\n",
    "### Python is easy to learn\n",
    "- Active community which hosts conferences and meetups, collaborates on code, and much more.\n",
    "- Python document is open and easy to understand ([link](https://docs.python.org/3/library/)).\n",
    "- Built-in libraries and external libraries are powerful for many tasks, especially for data science, data engineer and data analysis:\n",
    "    - Scientific computing: numpy, numba, etc.\n",
    "    - AWS interaction: boto3\n",
    "    - Image processing: opencv, pillow, albumentation, etc.\n",
    "    - Machine learning and Deep learning framework: tensorflow, pytorch, onnx, sklearn, etc.\n",
    "    - Data processing and visualization: pandas, pyyaml, matplotlib, seaborn etc.\n"
   ]
  },
  {
   "cell_type": "code",
   "execution_count": null,
   "metadata": {
    "ExecuteTime": {
     "end_time": "2021-12-29T05:00:50.037627Z",
     "start_time": "2021-12-29T05:00:50.027251Z"
    }
   },
   "outputs": [],
   "source": [
    "print('Hello world!!!')"
   ]
  },
  {
   "cell_type": "markdown",
   "metadata": {},
   "source": [
    "## 2. Install and import Python library in notebook\n",
    "### 2.1. Install - uninstall Python library\n",
    "#### Use ipython notebook requires the ` ! ` before running the command\n",
    "`conda`: use anaconda or miniconda to execute the command <br>\n",
    "`install` (or `uninstall`): <br>\n",
    "`-c`: <br>\n",
    "`anaconda`: <br>\n",
    "`conda-forge`: <br>\n",
    "`-y`: "
   ]
  },
  {
   "cell_type": "code",
   "execution_count": null,
   "metadata": {
    "ExecuteTime": {
     "end_time": "2022-01-05T21:17:26.989907Z",
     "start_time": "2022-01-05T21:17:14.982070Z"
    },
    "jupyter": {
     "outputs_hidden": true
    },
    "tags": []
   },
   "outputs": [],
   "source": [
    "!conda install -c anaconda numpy -y"
   ]
  },
  {
   "cell_type": "code",
   "execution_count": null,
   "metadata": {
    "ExecuteTime": {
     "end_time": "2022-01-05T21:17:47.807664Z",
     "start_time": "2022-01-05T21:17:26.994335Z"
    },
    "jupyter": {
     "outputs_hidden": true
    },
    "tags": []
   },
   "outputs": [],
   "source": [
    "!conda install -c anaconda pandas -y"
   ]
  },
  {
   "cell_type": "code",
   "execution_count": null,
   "metadata": {
    "ExecuteTime": {
     "end_time": "2022-01-05T21:18:04.291301Z",
     "start_time": "2022-01-05T21:17:47.818668Z"
    },
    "jupyter": {
     "outputs_hidden": true
    },
    "scrolled": true,
    "tags": []
   },
   "outputs": [],
   "source": [
    "!conda install -c conda-forge matplotlib -y"
   ]
  },
  {
   "cell_type": "markdown",
   "metadata": {},
   "source": [
    "#### Specify the version of library by using ` = <NAME_OF_VERSION>`"
   ]
  },
  {
   "cell_type": "code",
   "execution_count": null,
   "metadata": {
    "ExecuteTime": {
     "end_time": "2022-01-05T21:19:34.053711Z",
     "start_time": "2022-01-05T21:19:22.701749Z"
    },
    "jupyter": {
     "outputs_hidden": true
    },
    "tags": []
   },
   "outputs": [],
   "source": [
    "!conda install -c anaconda numpy=1.21.2 -y"
   ]
  },
  {
   "cell_type": "code",
   "execution_count": null,
   "metadata": {
    "ExecuteTime": {
     "end_time": "2022-01-05T21:18:44.811895Z",
     "start_time": "2022-01-05T21:18:16.917031Z"
    },
    "jupyter": {
     "outputs_hidden": true
    },
    "tags": []
   },
   "outputs": [],
   "source": [
    "!conda install -c anaconda pandas=1.3.4 -y"
   ]
  },
  {
   "cell_type": "code",
   "execution_count": null,
   "metadata": {
    "ExecuteTime": {
     "end_time": "2022-01-05T21:19:13.332634Z",
     "start_time": "2022-01-05T21:18:44.815085Z"
    },
    "jupyter": {
     "outputs_hidden": true
    },
    "scrolled": true,
    "tags": []
   },
   "outputs": [],
   "source": [
    "!conda install -c conda-forge matplotlib=3.5.0 -y"
   ]
  },
  {
   "cell_type": "markdown",
   "metadata": {},
   "source": [
    "### 2.2. Import the library into Python code"
   ]
  },
  {
   "cell_type": "markdown",
   "metadata": {},
   "source": [
    "#### Import internal library"
   ]
  },
  {
   "cell_type": "code",
   "execution_count": null,
   "metadata": {
    "ExecuteTime": {
     "end_time": "2021-12-29T05:01:52.028959Z",
     "start_time": "2021-12-29T05:01:52.021087Z"
    }
   },
   "outputs": [],
   "source": [
    "import math\n",
    "import json\n",
    "import os"
   ]
  },
  {
   "cell_type": "code",
   "execution_count": null,
   "metadata": {
    "ExecuteTime": {
     "end_time": "2021-12-29T05:01:52.040493Z",
     "start_time": "2021-12-29T05:01:52.034317Z"
    }
   },
   "outputs": [],
   "source": [
    "print(math.pi)"
   ]
  },
  {
   "cell_type": "markdown",
   "metadata": {
    "tags": []
   },
   "source": [
    "#### Import modules from internal library"
   ]
  },
  {
   "cell_type": "code",
   "execution_count": null,
   "metadata": {
    "ExecuteTime": {
     "end_time": "2021-12-29T05:01:52.050624Z",
     "start_time": "2021-12-29T05:01:52.044498Z"
    }
   },
   "outputs": [],
   "source": [
    "from math import pi"
   ]
  },
  {
   "cell_type": "code",
   "execution_count": null,
   "metadata": {
    "ExecuteTime": {
     "end_time": "2021-12-29T05:01:52.063044Z",
     "start_time": "2021-12-29T05:01:52.054781Z"
    }
   },
   "outputs": [],
   "source": [
    "print(pi)"
   ]
  },
  {
   "cell_type": "code",
   "execution_count": null,
   "metadata": {
    "ExecuteTime": {
     "end_time": "2021-12-29T05:01:52.087606Z",
     "start_time": "2021-12-29T05:01:52.081833Z"
    }
   },
   "outputs": [],
   "source": [
    "from math import pi, e"
   ]
  },
  {
   "cell_type": "code",
   "execution_count": null,
   "metadata": {
    "ExecuteTime": {
     "end_time": "2021-12-29T05:01:52.120487Z",
     "start_time": "2021-12-29T05:01:52.093702Z"
    }
   },
   "outputs": [],
   "source": [
    "print(pi)\n",
    "print(e)"
   ]
  },
  {
   "cell_type": "markdown",
   "metadata": {
    "tags": []
   },
   "source": [
    "#### Import all modules from library"
   ]
  },
  {
   "cell_type": "code",
   "execution_count": null,
   "metadata": {
    "ExecuteTime": {
     "end_time": "2021-12-29T05:01:52.173204Z",
     "start_time": "2021-12-29T05:01:52.141814Z"
    }
   },
   "outputs": [],
   "source": [
    "from math import *"
   ]
  },
  {
   "cell_type": "code",
   "execution_count": null,
   "metadata": {
    "ExecuteTime": {
     "end_time": "2021-12-29T05:01:52.194544Z",
     "start_time": "2021-12-29T05:01:52.180177Z"
    }
   },
   "outputs": [],
   "source": [
    "print(pi)\n",
    "print(e)"
   ]
  },
  {
   "cell_type": "markdown",
   "metadata": {
    "tags": []
   },
   "source": [
    "#### Set module alias while importing"
   ]
  },
  {
   "cell_type": "code",
   "execution_count": null,
   "metadata": {
    "ExecuteTime": {
     "end_time": "2021-12-29T05:01:52.215327Z",
     "start_time": "2021-12-29T05:01:52.199485Z"
    }
   },
   "outputs": [],
   "source": [
    "from math import pi as pi_number"
   ]
  },
  {
   "cell_type": "code",
   "execution_count": null,
   "metadata": {
    "ExecuteTime": {
     "end_time": "2021-12-29T05:01:52.230565Z",
     "start_time": "2021-12-29T05:01:52.223714Z"
    }
   },
   "outputs": [],
   "source": [
    "print(pi_number)"
   ]
  },
  {
   "cell_type": "code",
   "execution_count": null,
   "metadata": {
    "ExecuteTime": {
     "end_time": "2021-12-29T05:01:52.245756Z",
     "start_time": "2021-12-29T05:01:52.238574Z"
    }
   },
   "outputs": [],
   "source": [
    "from math import pi as pi_number, e as e_number"
   ]
  },
  {
   "cell_type": "code",
   "execution_count": null,
   "metadata": {
    "ExecuteTime": {
     "end_time": "2021-12-29T05:01:52.257309Z",
     "start_time": "2021-12-29T05:01:52.249492Z"
    }
   },
   "outputs": [],
   "source": [
    "print(pi_number)\n",
    "print(e_number)"
   ]
  },
  {
   "cell_type": "markdown",
   "metadata": {},
   "source": [
    "#### Import external libraries"
   ]
  },
  {
   "cell_type": "code",
   "execution_count": null,
   "metadata": {
    "ExecuteTime": {
     "end_time": "2021-12-29T05:02:16.159414Z",
     "start_time": "2021-12-29T05:01:52.262957Z"
    }
   },
   "outputs": [],
   "source": [
    "import numpy\n",
    "import pandas\n",
    "import matplotlib"
   ]
  },
  {
   "cell_type": "code",
   "execution_count": null,
   "metadata": {
    "ExecuteTime": {
     "end_time": "2021-12-29T05:02:16.625334Z",
     "start_time": "2021-12-29T05:02:16.163220Z"
    },
    "tags": []
   },
   "outputs": [],
   "source": [
    "# Error while import library that haven't been installed\n",
    "import torch"
   ]
  },
  {
   "cell_type": "markdown",
   "metadata": {
    "tags": []
   },
   "source": [
    "## 3. Introduce Python data types\n",
    "\n",
    "<img src=\"../images/py_data_types.png\" width=\"500px\"/>\n",
    "\n",
    "+ **Text type**: `str`\n",
    "+ **Numeric types**: `int`, `float`, complex\n",
    "+ **Sequence types**: `list`, `tuple`, range\n",
    "+ **Mapping type**: `dict`\n",
    "+ **Set types**: `set`, frozenset\n",
    "+ **Boolean type**: `bool`\n",
    "+ **Binary types**: bytes, bytearray, memoryview\n",
    "\n",
    "### 3.1. String data type: str"
   ]
  },
  {
   "cell_type": "code",
   "execution_count": 1,
   "metadata": {
    "ExecuteTime": {
     "end_time": "2022-01-10T04:22:31.166635Z",
     "start_time": "2022-01-10T04:22:31.155059Z"
    }
   },
   "outputs": [
    {
     "name": "stdout",
     "output_type": "stream",
     "text": [
      "Value:\n",
      "this is a string in Python\n",
      "Type:\n",
      "<class 'str'>\n"
     ]
    }
   ],
   "source": [
    "a = 'this is a string in Python'\n",
    "print('Value:')\n",
    "print(a)\n",
    "print('Type:')\n",
    "print(type(a))"
   ]
  },
  {
   "cell_type": "markdown",
   "metadata": {
    "tags": []
   },
   "source": [
    "### 3.2. Integer data type: int"
   ]
  },
  {
   "cell_type": "code",
   "execution_count": null,
   "metadata": {
    "ExecuteTime": {
     "end_time": "2021-12-29T06:18:57.850443Z",
     "start_time": "2021-12-29T06:18:57.840962Z"
    }
   },
   "outputs": [],
   "source": [
    "b = 1\n",
    "print('Value:')\n",
    "print(b)\n",
    "print('Type:')\n",
    "print(type(b))"
   ]
  },
  {
   "cell_type": "markdown",
   "metadata": {
    "tags": []
   },
   "source": [
    "### 3.3. Float data type: float"
   ]
  },
  {
   "cell_type": "code",
   "execution_count": null,
   "metadata": {
    "ExecuteTime": {
     "end_time": "2021-12-29T06:18:57.863185Z",
     "start_time": "2021-12-29T06:18:57.855865Z"
    }
   },
   "outputs": [],
   "source": [
    "c = 0.5555\n",
    "print('Value:')\n",
    "print(c)\n",
    "print('Type:')\n",
    "print(type(c))"
   ]
  },
  {
   "cell_type": "code",
   "execution_count": null,
   "metadata": {
    "ExecuteTime": {
     "end_time": "2021-12-29T06:18:57.879262Z",
     "start_time": "2021-12-29T06:18:57.871473Z"
    }
   },
   "outputs": [],
   "source": [
    "b = 1.\n",
    "print('Value:')\n",
    "print(b)\n",
    "print('Type:')\n",
    "print(type(b))"
   ]
  },
  {
   "cell_type": "markdown",
   "metadata": {
    "tags": []
   },
   "source": [
    "### 3.4. Bool data type: bool"
   ]
  },
  {
   "cell_type": "code",
   "execution_count": null,
   "metadata": {
    "ExecuteTime": {
     "end_time": "2021-12-29T06:18:57.905973Z",
     "start_time": "2021-12-29T06:18:57.891425Z"
    }
   },
   "outputs": [],
   "source": [
    "d = True\n",
    "e = False\n",
    "print('Value:')\n",
    "print(d)\n",
    "print('Type:')\n",
    "print(type(d))\n",
    "\n",
    "print('Value:')\n",
    "print(e)\n",
    "print('Type:')\n",
    "print(type(e))"
   ]
  },
  {
   "cell_type": "markdown",
   "metadata": {
    "tags": []
   },
   "source": [
    "### 3.5. List data type: list"
   ]
  },
  {
   "cell_type": "code",
   "execution_count": null,
   "metadata": {
    "ExecuteTime": {
     "end_time": "2021-12-29T06:18:57.930775Z",
     "start_time": "2021-12-29T06:18:57.911290Z"
    }
   },
   "outputs": [],
   "source": [
    "f = [1, 2.5, 3, 'stringgg']\n",
    "print('Value:')\n",
    "print(f)\n",
    "print('Type:')\n",
    "print(type(f))\n",
    "print('Length:')\n",
    "print(len(f))\n",
    "\n",
    "# Print the third element in list `f`\n",
    "print('The third element in list f:')\n",
    "print(f[2])\n",
    "\n",
    "# Print the elements from index 1 to index before 3 in list `f`\n",
    "# `f[1:3]` is a list\n",
    "print('The elements from index 1 to index before 3 in list `f`:')\n",
    "print(f[1:3])\n",
    "print(type(f[1:3]))\n",
    "\n",
    "# Print the element by negative index\n",
    "print('The last elements of list `f` by using negative index:')\n",
    "print(f[-1])"
   ]
  },
  {
   "cell_type": "code",
   "execution_count": null,
   "metadata": {
    "ExecuteTime": {
     "end_time": "2021-12-29T06:18:58.282860Z",
     "start_time": "2021-12-29T06:18:57.937700Z"
    }
   },
   "outputs": [],
   "source": [
    "# Error while using list data type\n",
    "# `list indices must be integer or slices`\n",
    "# `not float`\n",
    "print(f[1.])"
   ]
  },
  {
   "cell_type": "code",
   "execution_count": null,
   "metadata": {
    "ExecuteTime": {
     "end_time": "2021-12-29T06:19:08.875619Z",
     "start_time": "2021-12-29T06:19:08.842394Z"
    }
   },
   "outputs": [],
   "source": [
    "# `not str`\n",
    "print(f['1'])"
   ]
  },
  {
   "cell_type": "code",
   "execution_count": null,
   "metadata": {
    "ExecuteTime": {
     "end_time": "2021-12-29T06:19:11.408002Z",
     "start_time": "2021-12-29T06:19:11.393707Z"
    }
   },
   "outputs": [],
   "source": [
    "# Error while using list data type\n",
    "# List `f` contain only 4 elements but we are printing the seventh element\n",
    "# so it raise error `list index out of range`\n",
    "print(f[7])"
   ]
  },
  {
   "cell_type": "code",
   "execution_count": null,
   "metadata": {
    "ExecuteTime": {
     "end_time": "2021-12-29T06:19:12.030398Z",
     "start_time": "2021-12-29T06:19:12.023229Z"
    }
   },
   "outputs": [],
   "source": [
    "# Assign value to the item in list\n",
    "print('List `f` before re-assigning:')\n",
    "print(f)\n",
    "\n",
    "f[0] = 'change the first value'\n",
    "\n",
    "print('List `f` after re-assigning:')\n",
    "print(f)"
   ]
  },
  {
   "cell_type": "markdown",
   "metadata": {
    "tags": []
   },
   "source": [
    "### 3.6. Tuple data type: tuple"
   ]
  },
  {
   "cell_type": "code",
   "execution_count": null,
   "metadata": {
    "ExecuteTime": {
     "end_time": "2021-12-29T06:19:12.397228Z",
     "start_time": "2021-12-29T06:19:12.376397Z"
    },
    "tags": []
   },
   "outputs": [],
   "source": [
    "g = (1, 2.5, 3, 'stringgg')\n",
    "\n",
    "print('Value:')\n",
    "print(g)\n",
    "print('Type:')\n",
    "print(type(g))\n",
    "print('Length:')\n",
    "print(len(g))\n",
    "\n",
    "# Print the second element in tuple `g`\n",
    "print('The second element in tuple `f`:')\n",
    "print(g[1])\n",
    "\n",
    "# Print the elements from index 1 to index before 3 in tuple `g`\n",
    "# `g[1:3]` is a tuple\n",
    "print(g[1:3])\n",
    "print(type(g[1:3]))\n",
    "\n",
    "# Print the element by negative index\n",
    "print('The elements of tuple `g` by using negative index:')\n",
    "print(g[-2])"
   ]
  },
  {
   "cell_type": "code",
   "execution_count": null,
   "metadata": {
    "ExecuteTime": {
     "end_time": "2021-12-29T06:19:12.482244Z",
     "start_time": "2021-12-29T06:19:12.467349Z"
    }
   },
   "outputs": [],
   "source": [
    "# Like list data type, error while using tuple data type\n",
    "# `tuple indices must be integers or slices`\n",
    "# `not float`\n",
    "print(g[1.])"
   ]
  },
  {
   "cell_type": "code",
   "execution_count": null,
   "metadata": {
    "ExecuteTime": {
     "end_time": "2021-12-29T06:19:12.602281Z",
     "start_time": "2021-12-29T06:19:12.575414Z"
    }
   },
   "outputs": [],
   "source": [
    "# Like list data type, error while using tuple data type\n",
    "# `tuple indices must be integers or slices`\n",
    "# `not str`\n",
    "print(g['1'])"
   ]
  },
  {
   "cell_type": "code",
   "execution_count": null,
   "metadata": {
    "ExecuteTime": {
     "end_time": "2021-12-29T06:19:12.685620Z",
     "start_time": "2021-12-29T06:19:12.672200Z"
    }
   },
   "outputs": [],
   "source": [
    "# Like list data type, error while using tuple data type\n",
    "# `tuple index out of range`\n",
    "print(g[100])"
   ]
  },
  {
   "cell_type": "markdown",
   "metadata": {
    "tags": []
   },
   "source": [
    "### Difference between List and Tuple"
   ]
  },
  {
   "cell_type": "code",
   "execution_count": null,
   "metadata": {
    "ExecuteTime": {
     "end_time": "2021-12-29T06:19:12.896777Z",
     "start_time": "2021-12-29T06:19:12.877373Z"
    }
   },
   "outputs": [],
   "source": [
    "# Add item to list\n",
    "print('List `f` before add new item:')\n",
    "print(f)\n",
    "print(len(f))\n",
    "\n",
    "# Append new item to list\n",
    "new = 'new_item'\n",
    "f.append(new)\n",
    "\n",
    "print('List `f` after add new item:')\n",
    "print(f)\n",
    "print(len(f))\n",
    "\n",
    "# Tuple cannot add new items or re-assign item's value\n",
    "g[0] = 123123"
   ]
  },
  {
   "cell_type": "markdown",
   "metadata": {
    "tags": []
   },
   "source": [
    "### Set data type: set"
   ]
  },
  {
   "cell_type": "code",
   "execution_count": null,
   "metadata": {
    "ExecuteTime": {
     "end_time": "2021-12-29T06:19:13.089962Z",
     "start_time": "2021-12-29T06:19:13.076529Z"
    }
   },
   "outputs": [],
   "source": [
    "h = set()\n",
    "print(h)\n",
    "\n",
    "# Add items to set\n",
    "h.add(1)\n",
    "h.add(2.5)\n",
    "h.add('stringgg')\n",
    "h.add(1)\n",
    "\n",
    "print('Value:')\n",
    "print(h)"
   ]
  },
  {
   "cell_type": "markdown",
   "metadata": {},
   "source": [
    "### Dictionary data type: dict"
   ]
  },
  {
   "cell_type": "code",
   "execution_count": null,
   "metadata": {
    "ExecuteTime": {
     "end_time": "2021-12-29T06:19:13.280760Z",
     "start_time": "2021-12-29T06:19:13.267929Z"
    },
    "tags": []
   },
   "outputs": [],
   "source": [
    "i = {}\n",
    "\n",
    "# Add key-value pairs into dictionary\n",
    "i['name'] = 'Minh'\n",
    "i['age'] = 24\n",
    "i[123] = 456\n",
    "\n",
    "print('Value:')\n",
    "print(i)\n",
    "print(type(i))\n",
    "print('All keys of dictionary `i`:')\n",
    "print(i.keys())"
   ]
  },
  {
   "cell_type": "code",
   "execution_count": null,
   "metadata": {
    "ExecuteTime": {
     "end_time": "2021-12-29T06:19:13.380565Z",
     "start_time": "2021-12-29T06:19:13.374378Z"
    },
    "tags": []
   },
   "outputs": [],
   "source": [
    "j = dict()\n",
    "\n",
    "# Add key-value pairs into dictionary\n",
    "j['name'] = 'Minh'\n",
    "j['age'] = 24\n",
    "j[123] = 456\n",
    "\n",
    "print('Value:')\n",
    "print(j)\n",
    "print(type(j))\n",
    "print('All keys of dictionary `j`:')\n",
    "print(j.keys())"
   ]
  },
  {
   "cell_type": "code",
   "execution_count": null,
   "metadata": {
    "ExecuteTime": {
     "end_time": "2021-12-29T06:19:13.472869Z",
     "start_time": "2021-12-29T06:19:13.465039Z"
    }
   },
   "outputs": [],
   "source": [
    "jj = {\n",
    "    'name': 'Minh',\n",
    "    'age': 24,\n",
    "    123: 456\n",
    "}\n",
    "\n",
    "print('Value:')\n",
    "print(jj)\n",
    "print(type(jj))\n",
    "print('All keys of dictionary `jj`:')\n",
    "print(jj.keys())"
   ]
  },
  {
   "cell_type": "code",
   "execution_count": null,
   "metadata": {
    "ExecuteTime": {
     "end_time": "2021-12-29T06:19:13.595742Z",
     "start_time": "2021-12-29T06:19:13.585794Z"
    }
   },
   "outputs": [],
   "source": [
    "# Get value from key of dict\n",
    "print(i['name'])\n",
    "print(i['age'])\n",
    "print(i[123.])"
   ]
  },
  {
   "cell_type": "code",
   "execution_count": null,
   "metadata": {
    "ExecuteTime": {
     "end_time": "2021-12-29T06:19:13.693065Z",
     "start_time": "2021-12-29T06:19:13.675421Z"
    }
   },
   "outputs": [],
   "source": [
    "# If key is not available\n",
    "# raise KeyError\n",
    "print(i['job'])"
   ]
  },
  {
   "cell_type": "markdown",
   "metadata": {
    "tags": []
   },
   "source": [
    "## 2. Casting data types"
   ]
  },
  {
   "cell_type": "markdown",
   "metadata": {
    "tags": []
   },
   "source": [
    "### Casting between string and integer (str and int)"
   ]
  },
  {
   "cell_type": "code",
   "execution_count": null,
   "metadata": {
    "ExecuteTime": {
     "end_time": "2021-12-29T06:19:13.990695Z",
     "start_time": "2021-12-29T06:19:13.982257Z"
    }
   },
   "outputs": [],
   "source": [
    "# Init an integer\n",
    "k = 1\n",
    "print(k, type(k))\n",
    "\n",
    "# Cast integer to string\n",
    "l = str(k)\n",
    "print(l, type(l))\n",
    "\n",
    "# Cast string to integer\n",
    "m = int(l)\n",
    "print(m, type(m))"
   ]
  },
  {
   "cell_type": "markdown",
   "metadata": {
    "tags": []
   },
   "source": [
    "### Casting between string and float (str and float)"
   ]
  },
  {
   "cell_type": "code",
   "execution_count": null,
   "metadata": {
    "ExecuteTime": {
     "end_time": "2021-12-29T06:19:14.177553Z",
     "start_time": "2021-12-29T06:19:14.170873Z"
    }
   },
   "outputs": [],
   "source": [
    "# Init a float\n",
    "n = 1.\n",
    "print(n, type(n))\n",
    "\n",
    "# Cast integer to string\n",
    "p = str(n)\n",
    "print(p, type(p))\n",
    "\n",
    "# Cast string to float\n",
    "o = float(p)\n",
    "print(o, type(o))"
   ]
  },
  {
   "cell_type": "markdown",
   "metadata": {
    "tags": []
   },
   "source": [
    "### Casting between integer and float (int and float)"
   ]
  },
  {
   "cell_type": "code",
   "execution_count": null,
   "metadata": {
    "ExecuteTime": {
     "end_time": "2021-12-29T06:19:14.401164Z",
     "start_time": "2021-12-29T06:19:14.384048Z"
    }
   },
   "outputs": [],
   "source": [
    "# Init an integer\n",
    "r = 1\n",
    "print(r, type(r))\n",
    "\n",
    "# Cast integer to float\n",
    "t = float(r)\n",
    "print(t, type(t))\n",
    "\n",
    "# Cast float to integer\n",
    "q = int(t)\n",
    "print(q, type(q))"
   ]
  },
  {
   "cell_type": "markdown",
   "metadata": {
    "tags": []
   },
   "source": [
    "### Casting between list and tuple (list and tuple)"
   ]
  },
  {
   "cell_type": "code",
   "execution_count": null,
   "metadata": {
    "ExecuteTime": {
     "end_time": "2021-12-29T06:19:16.242449Z",
     "start_time": "2021-12-29T06:19:16.234160Z"
    }
   },
   "outputs": [],
   "source": [
    "# Init a list\n",
    "w = [1, 2.5, 'stringggg']\n",
    "print(w, type(w))\n",
    "\n",
    "# Cast list to tuple\n",
    "u = tuple(w)\n",
    "print(u, type(u))\n",
    "\n",
    "# Cast tuple to list\n",
    "v = list(u)\n",
    "print(v, type(v))"
   ]
  },
  {
   "cell_type": "markdown",
   "metadata": {
    "tags": []
   },
   "source": [
    "### Casting between list and set (list and set)"
   ]
  },
  {
   "cell_type": "code",
   "execution_count": null,
   "metadata": {
    "ExecuteTime": {
     "end_time": "2021-12-29T06:19:16.813393Z",
     "start_time": "2021-12-29T06:19:16.806051Z"
    }
   },
   "outputs": [],
   "source": [
    "# Init a list\n",
    "w = [1, 2.5, 'stringggg', 1, 'stringggg']\n",
    "print(w, type(w))\n",
    "\n",
    "# Cast list to set\n",
    "z = set(w)\n",
    "print(z, type(z))\n",
    "\n",
    "# Cast set to list\n",
    "x = list(z)\n",
    "print(x, type(x))"
   ]
  },
  {
   "cell_type": "markdown",
   "metadata": {
    "tags": []
   },
   "source": [
    "### Some data types that cannot casting between them"
   ]
  },
  {
   "cell_type": "code",
   "execution_count": null,
   "metadata": {
    "ExecuteTime": {
     "end_time": "2021-12-29T06:19:19.361483Z",
     "start_time": "2021-12-29T06:19:19.346666Z"
    }
   },
   "outputs": [],
   "source": [
    "zz = {\n",
    "    'name': 'Minh',\n",
    "    'age': 24,\n",
    "    123: 456\n",
    "}\n",
    "print(zz)\n",
    "\n",
    "xx = list(zz)\n",
    "print(xx)\n",
    "\n",
    "yy = dict(xx)\n",
    "print(yy)"
   ]
  },
  {
   "cell_type": "markdown",
   "metadata": {},
   "source": [
    "## 4. Introduce Python data operation\n",
    "\n",
    "<img src=\"../images/py_operations.jpeg\" width=\"400px\"/>\n",
    "\n",
    "### 4.1. Numeric operations"
   ]
  },
  {
   "cell_type": "code",
   "execution_count": 2,
   "metadata": {
    "ExecuteTime": {
     "end_time": "2022-01-10T04:28:08.407978Z",
     "start_time": "2022-01-10T04:28:08.389611Z"
    }
   },
   "outputs": [
    {
     "name": "stdout",
     "output_type": "stream",
     "text": [
      "a + b =  7\n",
      "a - b =  3\n",
      "a * b =  10\n",
      "a / b =  2.5\n",
      "a // b =  2\n",
      "a % b =  1\n",
      "a ** b =  25\n",
      "absolute_c =  3\n"
     ]
    }
   ],
   "source": [
    "a = 5\n",
    "b = 2\n",
    "c = -3\n",
    "\n",
    "a_add_b = a + b\n",
    "a_subtract_b = a - b\n",
    "a_multiply_b = a * b\n",
    "a_divide_b = a / b\n",
    "a_floor_divide_b = a // b\n",
    "a_modulus_b = a % b\n",
    "a_power_b = a ** b\n",
    "abs_c = abs(c)\n",
    "\n",
    "\n",
    "print('a + b = ', a_add_b)\n",
    "print('a - b = ', a_subtract_b)\n",
    "print('a * b = ', a_multiply_b)\n",
    "print('a / b = ', a_divide_b)\n",
    "print('a // b = ', a_floor_divide_b)\n",
    "print('a % b = ', a_modulus_b)\n",
    "print('a ** b = ', a_power_b)\n",
    "print('absolute_c = ', abs_c)"
   ]
  },
  {
   "cell_type": "markdown",
   "metadata": {},
   "source": [
    "### 4.2. String operation"
   ]
  },
  {
   "cell_type": "code",
   "execution_count": 3,
   "metadata": {
    "ExecuteTime": {
     "end_time": "2022-01-10T04:28:55.310791Z",
     "start_time": "2022-01-10T04:28:55.294567Z"
    }
   },
   "outputs": [
    {
     "name": "stdout",
     "output_type": "stream",
     "text": [
      "string `d` + string `e` :  string 1string 2\n"
     ]
    }
   ],
   "source": [
    "d = 'string 1'\n",
    "e = 'string 2'\n",
    "\n",
    "f = d + e\n",
    "print('string `d` + string `e` : ', f)"
   ]
  },
  {
   "cell_type": "markdown",
   "metadata": {},
   "source": [
    "### 4.3. Bool operations"
   ]
  },
  {
   "cell_type": "code",
   "execution_count": 4,
   "metadata": {
    "ExecuteTime": {
     "end_time": "2022-01-10T04:29:23.632339Z",
     "start_time": "2022-01-10T04:29:23.622602Z"
    }
   },
   "outputs": [
    {
     "name": "stdout",
     "output_type": "stream",
     "text": [
      "d and e by using `and`:  True\n",
      "d and e by using `&`:  True\n",
      "d and f by using `and`:  False\n",
      "d and f by using `&`:  False\n",
      "d or e by using `or`:  True\n",
      "d or e by using `|`:  True\n",
      "d or f by using `or`:  True\n",
      "d or f by using `|`:  True\n"
     ]
    }
   ],
   "source": [
    "d = True\n",
    "e = True\n",
    "f = False\n",
    "\n",
    "d_and_e_1 = d and e\n",
    "d_and_e_2 = d & e\n",
    "print('d and e by using `and`: ', d_and_e_1)\n",
    "print('d and e by using `&`: ', d_and_e_2)\n",
    "\n",
    "d_and_f_1 = d and f\n",
    "d_and_f_2 = d & f\n",
    "print('d and f by using `and`: ', d_and_f_1)\n",
    "print('d and f by using `&`: ', d_and_f_2)\n",
    "\n",
    "d_or_e_1 = d or e\n",
    "d_or_e_2 = d | e\n",
    "print('d or e by using `or`: ', d_or_e_1)\n",
    "print('d or e by using `|`: ', d_or_e_2)\n",
    "\n",
    "d_or_f_1 = d or f\n",
    "d_or_f_2 = d | f\n",
    "print('d or f by using `or`: ', d_or_f_1)\n",
    "print('d or f by using `|`: ', d_or_f_2)"
   ]
  },
  {
   "cell_type": "code",
   "execution_count": 5,
   "metadata": {
    "ExecuteTime": {
     "end_time": "2022-01-10T04:29:31.469842Z",
     "start_time": "2022-01-10T04:29:31.460329Z"
    }
   },
   "outputs": [
    {
     "name": "stdout",
     "output_type": "stream",
     "text": [
      "Is x equal y:  True\n",
      "Is x equal z:  False\n",
      "Is x different y:  False\n",
      "Is x different z:  True\n",
      "Is x greater than y:  False\n",
      "Is x greater than or equal y:  True\n",
      "Is x lower than z:  True\n",
      "Is x lower than or equal z:  True\n"
     ]
    }
   ],
   "source": [
    "x = 1\n",
    "y = 1\n",
    "z = 2\n",
    "\n",
    "is_x_equal_y = x == y\n",
    "is_x_equal_z = x == z\n",
    "print('Is x equal y: ', is_x_equal_y)\n",
    "print('Is x equal z: ', is_x_equal_z)\n",
    "\n",
    "is_x_diff_y = x != y\n",
    "is_x_diff_z = x != z\n",
    "print('Is x different y: ', is_x_diff_y)\n",
    "print('Is x different z: ', is_x_diff_z)\n",
    "\n",
    "is_x_greater_y = x > y\n",
    "is_x_greater_equal_y = x >= y\n",
    "print('Is x greater than y: ', is_x_greater_y)\n",
    "print('Is x greater than or equal y: ', is_x_greater_equal_y)\n",
    "\n",
    "is_x_lower_z = x < z\n",
    "is_x_lower_equal_z = x <= z\n",
    "print('Is x lower than z: ', is_x_lower_z)\n",
    "print('Is x lower than or equal z: ', is_x_lower_equal_z)"
   ]
  },
  {
   "cell_type": "code",
   "execution_count": 6,
   "metadata": {
    "ExecuteTime": {
     "end_time": "2022-01-10T04:29:38.885304Z",
     "start_time": "2022-01-10T04:29:38.876593Z"
    }
   },
   "outputs": [
    {
     "name": "stdout",
     "output_type": "stream",
     "text": [
      "minh in m:  True\n",
      "minh not in m:  False\n",
      "hieu in m:  False\n",
      "hieu not in m:  True\n"
     ]
    }
   ],
   "source": [
    "m = ['minh', 'thao anh', 1504]\n",
    "\n",
    "minh_in_m = 'minh' in m\n",
    "print('minh in m: ', minh_in_m)\n",
    "\n",
    "minh_not_in_m = 'minh' not in m\n",
    "print('minh not in m: ', minh_not_in_m)\n",
    "\n",
    "hieu_in_m = 'hieu' in m\n",
    "print('hieu in m: ', hieu_in_m)\n",
    "\n",
    "hieu_not_in_m = 'hieu' not in m\n",
    "print('hieu not in m: ', hieu_not_in_m)"
   ]
  },
  {
   "cell_type": "code",
   "execution_count": null,
   "metadata": {},
   "outputs": [],
   "source": []
  }
 ],
 "metadata": {
  "kernelspec": {
   "display_name": "Python 3",
   "language": "python",
   "name": "python3"
  },
  "language_info": {
   "codemirror_mode": {
    "name": "ipython",
    "version": 3
   },
   "file_extension": ".py",
   "mimetype": "text/x-python",
   "name": "python",
   "nbconvert_exporter": "python",
   "pygments_lexer": "ipython3",
   "version": "3.8.12"
  },
  "toc": {
   "base_numbering": 1,
   "nav_menu": {},
   "number_sections": false,
   "sideBar": true,
   "skip_h1_title": false,
   "title_cell": "Table of Contents",
   "title_sidebar": "Table of Contents",
   "toc_cell": false,
   "toc_position": {
    "height": "calc(100% - 180px)",
    "left": "10px",
    "top": "150px",
    "width": "231px"
   },
   "toc_section_display": true,
   "toc_window_display": true
  }
 },
 "nbformat": 4,
 "nbformat_minor": 5
}
