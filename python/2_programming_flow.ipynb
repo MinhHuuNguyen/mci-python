{
 "cells": [
  {
   "cell_type": "markdown",
   "metadata": {},
   "source": [
    "# LESSON 3: PYTHON PROGRAMMING FLOW\n",
    "<img src=\"../images/py_flow.jpeg\" width=\"400px\"/>"
   ]
  },
  {
   "cell_type": "markdown",
   "metadata": {
    "tags": []
   },
   "source": [
    "## 1. Condition\n",
    "### 1.1. IF .... ELSE ....\n",
    "`if < CONDITION >:` <br>\n",
    "&nbsp;&nbsp;&nbsp;&nbsp;&nbsp;&nbsp;&nbsp;&nbsp;`< DO_SOME_CODE_1 >` <br>\n",
    "`else:` <br>\n",
    "&nbsp;&nbsp;&nbsp;&nbsp;&nbsp;&nbsp;&nbsp;&nbsp;`< DO_SOME_CODE_2 >` <br>"
   ]
  },
  {
   "cell_type": "code",
   "execution_count": null,
   "metadata": {
    "ExecuteTime": {
     "end_time": "2021-12-29T04:58:31.180386Z",
     "start_time": "2021-12-29T04:58:31.173319Z"
    }
   },
   "outputs": [],
   "source": [
    "test_number = 11\n",
    "\n",
    "if test_number % 2 == 0:\n",
    "    print('Test number is even!!!')\n",
    "else:\n",
    "    print('Test number is odd!!!')"
   ]
  },
  {
   "cell_type": "markdown",
   "metadata": {
    "tags": []
   },
   "source": [
    "### 1.2. IF .... ELIF .... ELSE ....\n",
    "`if < CONDITION_1 >:` <br>\n",
    "&nbsp;&nbsp;&nbsp;&nbsp;&nbsp;&nbsp;&nbsp;&nbsp;`< DO_SOME_CODE_1 >` <br>\n",
    "`elif < CONDITION_2 >:` <br>\n",
    "&nbsp;&nbsp;&nbsp;&nbsp;&nbsp;&nbsp;&nbsp;&nbsp;`< DO_SOME_CODE_2 >` <br>\n",
    "`...` <br>\n",
    "`elif < CONDITION_N >:` <br>\n",
    "&nbsp;&nbsp;&nbsp;&nbsp;&nbsp;&nbsp;&nbsp;&nbsp;`< DO_SOME_CODE_N >` <br>\n",
    "`else:` <br>\n",
    "&nbsp;&nbsp;&nbsp;&nbsp;&nbsp;&nbsp;&nbsp;&nbsp;`< DO_SOME_CODE_N+1 >` <br>"
   ]
  },
  {
   "cell_type": "code",
   "execution_count": null,
   "metadata": {
    "ExecuteTime": {
     "end_time": "2021-12-29T04:58:31.196802Z",
     "start_time": "2021-12-29T04:58:31.187418Z"
    }
   },
   "outputs": [],
   "source": [
    "time = 30\n",
    "\n",
    "if 5 <= time and time < 11:\n",
    "    print('Good morning!!!')\n",
    "elif 11 <= time and time < 13:\n",
    "    print('Good noon!!!')\n",
    "elif 13 <= time and time < 18:\n",
    "    print('Good afternoon!!!')\n",
    "elif 18 <= time and time < 23:\n",
    "    print('Good evening!!!')\n",
    "elif 23 <= time or time < 5:\n",
    "    print('Good night!!!')\n",
    "else:\n",
    "    print('Never print this line')"
   ]
  },
  {
   "cell_type": "markdown",
   "metadata": {},
   "source": [
    "### 1.3. Shorthand structure\n",
    "#### Shorthand IF ...\n",
    "`if < CONDITION >:` `< DO_SOME_CODE >`\n",
    "<br>\n",
    "#### Shorthand IF ... ELSE ...\n",
    "`< DO_SOME_CODE_1 > if < CONDITION >:` `< DO_SOME_CODE_2 >`"
   ]
  },
  {
   "cell_type": "code",
   "execution_count": null,
   "metadata": {
    "ExecuteTime": {
     "end_time": "2021-12-29T04:58:31.217504Z",
     "start_time": "2021-12-29T04:58:31.206446Z"
    }
   },
   "outputs": [],
   "source": [
    "weather = 'sunny'\n",
    "if weather == 'sunny': print('I go to school!')"
   ]
  },
  {
   "cell_type": "code",
   "execution_count": null,
   "metadata": {
    "ExecuteTime": {
     "end_time": "2021-12-29T04:58:31.232558Z",
     "start_time": "2021-12-29T04:58:31.223345Z"
    },
    "scrolled": true
   },
   "outputs": [],
   "source": [
    "weather = 'rainy'\n",
    "print('I go to school!') if weather == 'sunny' else print('I go to sleep!')"
   ]
  },
  {
   "cell_type": "markdown",
   "metadata": {},
   "source": [
    "### 1.4. PASS\n",
    "Because the `if`, `elif` or `else` statement cannot be empty, we can use `pass` if we don't want to put any code in `if`, `elif` or `else` statement."
   ]
  },
  {
   "cell_type": "code",
   "execution_count": null,
   "metadata": {
    "ExecuteTime": {
     "end_time": "2021-12-29T04:58:31.244893Z",
     "start_time": "2021-12-29T04:58:31.237193Z"
    }
   },
   "outputs": [],
   "source": [
    "time = 14\n",
    "\n",
    "if 5 <= time and time < 11:\n",
    "    print('Good morning!!!')\n",
    "elif 11 <= time and time < 13:\n",
    "    print('Good noon!!!')\n",
    "elif 13 <= time and time < 18:\n",
    "    pass\n",
    "elif 18 <= time and time < 23:\n",
    "    print('Good evening!!!')\n",
    "elif 23 <= time or time < 5:\n",
    "    pass\n",
    "else:\n",
    "    print('Never print this line')"
   ]
  },
  {
   "cell_type": "markdown",
   "metadata": {
    "tags": []
   },
   "source": [
    "## 2. Loop\n",
    "Python has two primitive loop commands: `for` loop and `while` loop\n",
    "### 2.1. FOR loop\n",
    "#### Simple FOR loop\n",
    "`for <ITEM_IN_SEQUENCE> in < SEQUENCE_OR_GENERATOR >:` <br>\n",
    "&nbsp;&nbsp;&nbsp;&nbsp;&nbsp;&nbsp;&nbsp;&nbsp; `<DO_SOME_CODE>`"
   ]
  },
  {
   "cell_type": "code",
   "execution_count": null,
   "metadata": {
    "ExecuteTime": {
     "end_time": "2021-12-29T04:58:31.258970Z",
     "start_time": "2021-12-29T04:58:31.250444Z"
    }
   },
   "outputs": [],
   "source": [
    "fruit_list = ['apple', 'banana', 'lemon', 'grape']\n",
    "print(fruit_list[0])\n",
    "print(fruit_list[1])\n",
    "print(fruit_list[2])\n",
    "print(fruit_list[3])"
   ]
  },
  {
   "cell_type": "code",
   "execution_count": null,
   "metadata": {
    "ExecuteTime": {
     "end_time": "2021-12-29T04:58:31.271504Z",
     "start_time": "2021-12-29T04:58:31.264000Z"
    }
   },
   "outputs": [],
   "source": [
    "fruit_list = ['apple', 'banana', 'lemon', 'grape']\n",
    "for fruit in fruit_list:\n",
    "    print(fruit)"
   ]
  },
  {
   "cell_type": "markdown",
   "metadata": {
    "tags": []
   },
   "source": [
    "#### FOR loop with `enumerate`\n",
    "`for <INDEX>, <ITEM_IN_SEQUENCE> in enumerate(< SEQUENCE_OR_GENERATOR >):` <br>\n",
    "&nbsp;&nbsp;&nbsp;&nbsp;&nbsp;&nbsp;&nbsp;&nbsp; `<DO_SOME_CODE>`"
   ]
  },
  {
   "cell_type": "code",
   "execution_count": null,
   "metadata": {
    "ExecuteTime": {
     "end_time": "2021-12-29T04:58:31.293685Z",
     "start_time": "2021-12-29T04:58:31.285007Z"
    }
   },
   "outputs": [],
   "source": [
    "fruit_list = ['apple', 'banana', 'lemon', 'grape']\n",
    "for index, fruit in enumerate(fruit_list):\n",
    "    print(index, fruit)"
   ]
  },
  {
   "cell_type": "markdown",
   "metadata": {
    "tags": []
   },
   "source": [
    "#### FOR loop with `tqdm`\n",
    "`tqdm` derives from the Arabic word taqaddum which can mean “progress,” and is an abbreviation for “I love you so much” in Spanish (te quiero demasiado).\n",
    "\n",
    "Instantly make your loops show a smart progress meter - just wrap any iterable with `tqdm(iterable)`, and you’re done!\n",
    "\n",
    "\n",
    "`for <ITEM_IN_SEQUENCE> in tqdm(< SEQUENCE_OR_GENERATOR >):` <br>\n",
    "&nbsp;&nbsp;&nbsp;&nbsp; `<DO_SOME_CODE>`"
   ]
  },
  {
   "cell_type": "code",
   "execution_count": null,
   "metadata": {
    "ExecuteTime": {
     "end_time": "2022-01-05T21:21:46.171775Z",
     "start_time": "2022-01-05T21:21:20.288440Z"
    },
    "jupyter": {
     "outputs_hidden": true
    },
    "tags": []
   },
   "outputs": [],
   "source": [
    "!conda install -c conda-forge tqdm -y"
   ]
  },
  {
   "cell_type": "code",
   "execution_count": null,
   "metadata": {
    "ExecuteTime": {
     "end_time": "2021-12-29T04:58:41.413759Z",
     "start_time": "2021-12-29T04:58:34.508712Z"
    },
    "scrolled": false
   },
   "outputs": [],
   "source": [
    "from tqdm import tqdm\n",
    "\n",
    "fruit_list = ['apple', 'banana', 'lemon', 'grape'] * 3000000\n",
    "print(len(fruit_list))\n",
    "for fruit in tqdm(fruit_list, ncols=100):\n",
    "    pass"
   ]
  },
  {
   "cell_type": "markdown",
   "metadata": {
    "tags": []
   },
   "source": [
    "### 2.2. WHILE loop\n",
    "With the `while` loop we can execute a set of statements as long as a condition is true. <br><br>\n",
    "`while <CONDITION>:` <br>\n",
    "&nbsp;&nbsp;&nbsp;&nbsp;&nbsp;&nbsp;&nbsp;&nbsp; `<DO_SOME_CODE>`"
   ]
  },
  {
   "cell_type": "code",
   "execution_count": null,
   "metadata": {
    "ExecuteTime": {
     "end_time": "2021-12-29T04:58:41.465772Z",
     "start_time": "2021-12-29T04:58:41.440499Z"
    }
   },
   "outputs": [],
   "source": [
    "test_number = 1\n",
    "while test_number < 6:\n",
    "    print('test_number = ', test_number)\n",
    "    test_number += 1"
   ]
  },
  {
   "cell_type": "code",
   "execution_count": null,
   "metadata": {
    "ExecuteTime": {
     "end_time": "2021-12-29T04:58:41.521423Z",
     "start_time": "2021-12-29T04:58:41.483351Z"
    }
   },
   "outputs": [],
   "source": [
    "test_number = 1\n",
    "while test_number < 6:\n",
    "    print('test_number = ', test_number)\n",
    "    test_number += 1\n",
    "else:\n",
    "    print('The while loop is stoped, test_number >= 6')"
   ]
  },
  {
   "cell_type": "markdown",
   "metadata": {
    "tags": []
   },
   "source": [
    "### 2.3. BREAK\n",
    "The `break` statement can stop the **nearest** loop even if the condition is True."
   ]
  },
  {
   "cell_type": "code",
   "execution_count": null,
   "metadata": {
    "ExecuteTime": {
     "end_time": "2021-12-29T04:58:41.540164Z",
     "start_time": "2021-12-29T04:58:41.527069Z"
    }
   },
   "outputs": [],
   "source": [
    "test_number = 1\n",
    "\n",
    "while test_number < 6:\n",
    "    print('test_number = ', test_number)\n",
    "    test_number += 1\n",
    "    break"
   ]
  },
  {
   "cell_type": "code",
   "execution_count": null,
   "metadata": {
    "ExecuteTime": {
     "end_time": "2021-12-29T04:58:41.566978Z",
     "start_time": "2021-12-29T04:58:41.558977Z"
    }
   },
   "outputs": [],
   "source": [
    "x = 15\n",
    "\n",
    "while x > 10:\n",
    "    y = 1\n",
    "    while y < 6:\n",
    "        print('x = ', x, 'y = ', y)\n",
    "        y += 1\n",
    "        break\n",
    "    x -= 1"
   ]
  },
  {
   "cell_type": "code",
   "execution_count": null,
   "metadata": {
    "ExecuteTime": {
     "end_time": "2021-12-29T04:58:41.654547Z",
     "start_time": "2021-12-29T04:58:41.589898Z"
    }
   },
   "outputs": [],
   "source": [
    "fruit_list = ['apple', 'banana', 'lemon', 'grape']\n",
    "for fruit in fruit_list:\n",
    "    print(fruit)\n",
    "    break"
   ]
  },
  {
   "cell_type": "code",
   "execution_count": null,
   "metadata": {
    "ExecuteTime": {
     "end_time": "2021-12-29T04:58:41.677801Z",
     "start_time": "2021-12-29T04:58:41.667586Z"
    }
   },
   "outputs": [],
   "source": [
    "fruit_list = ['apple', 'banana', 'lemon', 'grape']\n",
    "number_list = [1, 2, 3, 4, 5]\n",
    "\n",
    "for fruit in fruit_list:\n",
    "    for number in number_list:\n",
    "        print(fruit, number)\n",
    "        break"
   ]
  },
  {
   "cell_type": "markdown",
   "metadata": {
    "tags": []
   },
   "source": [
    "### 2.4. CONTINUE\n",
    "The `continue` statement can stop the current iteration, and continue with the next iteration."
   ]
  },
  {
   "cell_type": "code",
   "execution_count": null,
   "metadata": {
    "ExecuteTime": {
     "end_time": "2021-12-29T04:58:41.696500Z",
     "start_time": "2021-12-29T04:58:41.687526Z"
    }
   },
   "outputs": [],
   "source": [
    "fruit_list = ['apple', 'banana', 'lemon', 'grape']\n",
    "\n",
    "for fruit in fruit_list:\n",
    "    if fruit == 'lemon':\n",
    "        continue\n",
    "    print(fruit)"
   ]
  },
  {
   "cell_type": "markdown",
   "metadata": {
    "tags": []
   },
   "source": [
    "## 3. Function"
   ]
  },
  {
   "cell_type": "markdown",
   "metadata": {},
   "source": [
    "### 3.1. Simple function\n",
    "`def < FUNCTION_NAME > (< ARGUMENT_1 >, < ARGUMENT_2 >, ..., < ARGUMENT_N >):` <br><br>\n",
    "&nbsp;&nbsp;&nbsp;&nbsp; `< DO_SOME_CODE >` <br><br>\n",
    "&nbsp;&nbsp;&nbsp;&nbsp; `return < RETURNED_VALUE >`"
   ]
  },
  {
   "cell_type": "code",
   "execution_count": null,
   "metadata": {
    "ExecuteTime": {
     "end_time": "2021-12-29T04:58:41.715261Z",
     "start_time": "2021-12-29T04:58:41.704795Z"
    }
   },
   "outputs": [],
   "source": [
    "def add(a, b):\n",
    "    sum_ab = a + b\n",
    "    return sum_ab"
   ]
  },
  {
   "cell_type": "code",
   "execution_count": null,
   "metadata": {
    "ExecuteTime": {
     "end_time": "2021-12-29T04:58:41.734994Z",
     "start_time": "2021-12-29T04:58:41.724145Z"
    }
   },
   "outputs": [],
   "source": [
    "def add_multiple(number_list):\n",
    "    sum_list = 0\n",
    "    for number in number_list:\n",
    "        sum_list = add(sum_list, number)\n",
    "    return sum_list"
   ]
  },
  {
   "cell_type": "code",
   "execution_count": null,
   "metadata": {
    "ExecuteTime": {
     "end_time": "2021-12-29T04:58:41.751409Z",
     "start_time": "2021-12-29T04:58:41.742326Z"
    }
   },
   "outputs": [],
   "source": [
    "def add_odd(number_list):\n",
    "    odd_sum_list = 0\n",
    "    for number in number_list:\n",
    "        if number % 2 == 1:\n",
    "            odd_sum_list = add(odd_sum_list, number)\n",
    "    return odd_sum_list"
   ]
  },
  {
   "cell_type": "code",
   "execution_count": null,
   "metadata": {
    "ExecuteTime": {
     "end_time": "2021-12-29T04:58:41.768807Z",
     "start_time": "2021-12-29T04:58:41.757585Z"
    }
   },
   "outputs": [],
   "source": [
    "a = 1\n",
    "b = 2\n",
    "print(add(a, b))"
   ]
  },
  {
   "cell_type": "code",
   "execution_count": null,
   "metadata": {
    "ExecuteTime": {
     "end_time": "2021-12-29T04:58:42.158590Z",
     "start_time": "2021-12-29T04:58:41.775630Z"
    }
   },
   "outputs": [],
   "source": [
    "a = 1\n",
    "b = '2'\n",
    "print(add(a, b))"
   ]
  },
  {
   "cell_type": "code",
   "execution_count": null,
   "metadata": {
    "ExecuteTime": {
     "end_time": "2021-12-29T04:58:42.164513Z",
     "start_time": "2021-12-29T04:58:42.164368Z"
    }
   },
   "outputs": [],
   "source": [
    "a = '1'\n",
    "b = '2'\n",
    "print(add(a, b))"
   ]
  },
  {
   "cell_type": "code",
   "execution_count": null,
   "metadata": {
    "ExecuteTime": {
     "end_time": "2021-12-29T04:58:42.168771Z",
     "start_time": "2021-12-29T04:58:42.168722Z"
    }
   },
   "outputs": [],
   "source": [
    "number_list = [1, 2, 3, 4, 5, 6, 7, 8, 9, 10]\n",
    "print('number_list', number_list)"
   ]
  },
  {
   "cell_type": "code",
   "execution_count": null,
   "metadata": {
    "ExecuteTime": {
     "end_time": "2021-12-29T04:58:42.172572Z",
     "start_time": "2021-12-29T04:58:42.172498Z"
    }
   },
   "outputs": [],
   "source": [
    "print(add_multiple(number_list))"
   ]
  },
  {
   "cell_type": "code",
   "execution_count": null,
   "metadata": {
    "ExecuteTime": {
     "end_time": "2021-12-29T04:58:42.179269Z",
     "start_time": "2021-12-29T04:58:42.179229Z"
    }
   },
   "outputs": [],
   "source": [
    "print(add_odd(number_list))"
   ]
  },
  {
   "cell_type": "markdown",
   "metadata": {},
   "source": [
    "### 3.2. Simple function with default arguments\n",
    "`def < FUNCTION_NAME > (< ARGUMENT_1 >, < ARGUMENT_2 >, ..., < DEFAULT_ARGUMENT >=<DEFAULT_VALUE>):` <br><br>\n",
    "&nbsp;&nbsp;&nbsp;&nbsp; `< DO_SOME_CODE >` <br><br>\n",
    "&nbsp;&nbsp;&nbsp;&nbsp; `return < RETURNED_VALUE >`"
   ]
  },
  {
   "cell_type": "code",
   "execution_count": null,
   "metadata": {
    "ExecuteTime": {
     "end_time": "2021-12-29T04:58:42.184651Z",
     "start_time": "2021-12-29T04:58:42.184244Z"
    }
   },
   "outputs": [],
   "source": [
    "def x(a, b=10):\n",
    "    return a + b"
   ]
  },
  {
   "cell_type": "code",
   "execution_count": null,
   "metadata": {
    "ExecuteTime": {
     "end_time": "2021-12-29T04:58:42.189248Z",
     "start_time": "2021-12-29T04:58:42.189196Z"
    },
    "scrolled": true
   },
   "outputs": [],
   "source": [
    "x(5)"
   ]
  },
  {
   "cell_type": "code",
   "execution_count": null,
   "metadata": {
    "ExecuteTime": {
     "end_time": "2021-12-29T04:58:42.194549Z",
     "start_time": "2021-12-29T04:58:42.194508Z"
    },
    "scrolled": true
   },
   "outputs": [],
   "source": [
    "x(5, 6)"
   ]
  },
  {
   "cell_type": "markdown",
   "metadata": {},
   "source": [
    "### 3.3. `lambda` function\n",
    "`lambda < ARGUMENT_1 >, < ARGUMENT_2 >, ..., < ARGUMENT_N >: DO_SOME_CODE`"
   ]
  },
  {
   "cell_type": "code",
   "execution_count": null,
   "metadata": {
    "ExecuteTime": {
     "end_time": "2021-12-29T04:58:42.209160Z",
     "start_time": "2021-12-29T04:58:42.209115Z"
    }
   },
   "outputs": [],
   "source": [
    "x = lambda a: a + 10\n",
    "print(x(5))\n",
    "print(x(10))"
   ]
  },
  {
   "cell_type": "code",
   "execution_count": null,
   "metadata": {
    "ExecuteTime": {
     "end_time": "2021-12-29T04:58:42.216719Z",
     "start_time": "2021-12-29T04:58:42.216676Z"
    }
   },
   "outputs": [],
   "source": [
    "x = lambda a, b: a * b\n",
    "print(x(5, 6))"
   ]
  },
  {
   "cell_type": "markdown",
   "metadata": {},
   "source": [
    "## 4. Homework\n",
    "### 4.1. Excercise 1:\n",
    "Write a `function` using `for loop` and another function using `while loop` to print the **pascal triangle** with 10 lines, 20 lines and 100 lines. <br>\n",
    "1 <br>\n",
    "1 1 <br>\n",
    "1 2 1 <br>\n",
    "1 3 3 1 <br>\n",
    "1 4 6 4 1 <br>\n",
    "1 5 10 5 1 <br>\n",
    "...\n",
    "\n",
    "### 4.2. Excercise 2:\n",
    "Write a `function` to check input number is a prime number or composite number.\n",
    "\n",
    "### 4.3. Excercise 3:\n",
    "Write a `function` to calculate the sum or average of a list of integers.\n",
    "\n",
    "### 4.4. Excercise 4:\n",
    "Generate randomly 3 numbers `a, b, c` to form a **quadratic equation**. Write a `function` to solve this equation."
   ]
  }
 ],
 "metadata": {
  "kernelspec": {
   "display_name": "Python 3",
   "language": "python",
   "name": "python3"
  },
  "language_info": {
   "codemirror_mode": {
    "name": "ipython",
    "version": 3
   },
   "file_extension": ".py",
   "mimetype": "text/x-python",
   "name": "python",
   "nbconvert_exporter": "python",
   "pygments_lexer": "ipython3",
   "version": "3.8.12"
  },
  "toc": {
   "base_numbering": 1,
   "nav_menu": {},
   "number_sections": false,
   "sideBar": true,
   "skip_h1_title": false,
   "title_cell": "Table of Contents",
   "title_sidebar": "Table of Contents",
   "toc_cell": false,
   "toc_position": {
    "height": "calc(100% - 180px)",
    "left": "10px",
    "top": "150px",
    "width": "257px"
   },
   "toc_section_display": true,
   "toc_window_display": true
  },
  "toc-autonumbering": false,
  "toc-showcode": false,
  "toc-showmarkdowntxt": false,
  "toc-showtags": false
 },
 "nbformat": 4,
 "nbformat_minor": 5
}
