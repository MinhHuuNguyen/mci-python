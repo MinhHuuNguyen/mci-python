{
 "cells": [
  {
   "cell_type": "markdown",
   "id": "90adf1f9-8321-42b1-b7e8-7f969c81b099",
   "metadata": {},
   "source": [
    "# LESSON 3: PYTHON PROGRAMMING FLOW\n",
    "<img src=\"image/py_flow.jpeg\" width=\"400px\"/>"
   ]
  },
  {
   "cell_type": "markdown",
   "id": "6bf3ea00-d9e5-4a20-9d6a-33f62d497505",
   "metadata": {
    "tags": []
   },
   "source": [
    "## 1. Condition\n",
    "### 1.1. IF .... ELSE ....\n",
    "`if < CONDITION >:` <br>\n",
    "&nbsp;&nbsp;&nbsp;&nbsp;&nbsp;&nbsp;&nbsp;&nbsp;`< DO_SOME_CODE_1 >` <br>\n",
    "`else:` <br>\n",
    "&nbsp;&nbsp;&nbsp;&nbsp;&nbsp;&nbsp;&nbsp;&nbsp;`< DO_SOME_CODE_2 >` <br>"
   ]
  },
  {
   "cell_type": "code",
   "execution_count": 4,
   "id": "109a15e4-8a3c-4da1-b8c0-8fd81e491f5b",
   "metadata": {
    "ExecuteTime": {
     "end_time": "2021-12-16T12:57:03.620684Z",
     "start_time": "2021-12-16T12:57:03.612433Z"
    }
   },
   "outputs": [
    {
     "name": "stdout",
     "output_type": "stream",
     "text": [
      "Test number is odd!!!\n"
     ]
    }
   ],
   "source": [
    "test_number = 11\n",
    "\n",
    "if test_number % 2 == 0:\n",
    "    print('Test number is even!!!')\n",
    "else:\n",
    "    print('Test number is odd!!!')"
   ]
  },
  {
   "cell_type": "markdown",
   "id": "968fd91f-5965-454e-ade1-b7e282cc78a2",
   "metadata": {
    "tags": []
   },
   "source": [
    "### 1.2. IF .... ELIF .... ELSE ....\n",
    "`if < CONDITION_1 >:` <br>\n",
    "&nbsp;&nbsp;&nbsp;&nbsp;&nbsp;&nbsp;&nbsp;&nbsp;`< DO_SOME_CODE_1 >` <br>\n",
    "`elif < CONDITION_2 >:` <br>\n",
    "&nbsp;&nbsp;&nbsp;&nbsp;&nbsp;&nbsp;&nbsp;&nbsp;`< DO_SOME_CODE_2 >` <br>\n",
    "`...` <br>\n",
    "`elif < CONDITION_N >:` <br>\n",
    "&nbsp;&nbsp;&nbsp;&nbsp;&nbsp;&nbsp;&nbsp;&nbsp;`< DO_SOME_CODE_N >` <br>\n",
    "`else:` <br>\n",
    "&nbsp;&nbsp;&nbsp;&nbsp;&nbsp;&nbsp;&nbsp;&nbsp;`< DO_SOME_CODE_N+1 >` <br>"
   ]
  },
  {
   "cell_type": "code",
   "execution_count": 13,
   "id": "15e2fb6b-6bb5-4330-9e88-3ffadb1602e6",
   "metadata": {
    "ExecuteTime": {
     "end_time": "2021-12-16T13:04:40.845670Z",
     "start_time": "2021-12-16T13:04:40.837256Z"
    }
   },
   "outputs": [
    {
     "name": "stdout",
     "output_type": "stream",
     "text": [
      "Good night!!!\n"
     ]
    }
   ],
   "source": [
    "time = 30\n",
    "\n",
    "if 5 <= time and time < 11:\n",
    "    print('Good morning!!!')\n",
    "elif 11 <= time and time < 13:\n",
    "    print('Good noon!!!')\n",
    "elif 13 <= time and time < 18:\n",
    "    print('Good afternoon!!!')\n",
    "elif 18 <= time and time < 23:\n",
    "    print('Good evening!!!')\n",
    "elif 23 <= time or time < 5:\n",
    "    print('Good night!!!')\n",
    "else:\n",
    "    print('Never print this line')"
   ]
  },
  {
   "cell_type": "markdown",
   "id": "ce8294c2",
   "metadata": {},
   "source": [
    "### 1.3. Shorthand structure\n",
    "#### Shorthand IF ...\n",
    "`if < CONDITION >:` `< DO_SOME_CODE >`\n",
    "<br>\n",
    "#### Shorthand IF ... ELSE ...\n",
    "`< DO_SOME_CODE_1 > if < CONDITION >:` `< DO_SOME_CODE_2 >`"
   ]
  },
  {
   "cell_type": "code",
   "execution_count": 8,
   "id": "2496b194",
   "metadata": {
    "ExecuteTime": {
     "end_time": "2021-12-16T13:01:36.585625Z",
     "start_time": "2021-12-16T13:01:36.575944Z"
    }
   },
   "outputs": [
    {
     "name": "stdout",
     "output_type": "stream",
     "text": [
      "I go to school!\n"
     ]
    }
   ],
   "source": [
    "weather = 'sunny'\n",
    "if weather == 'sunny': print('I go to school!')"
   ]
  },
  {
   "cell_type": "code",
   "execution_count": 11,
   "id": "13181233",
   "metadata": {
    "ExecuteTime": {
     "end_time": "2021-12-16T13:02:39.708352Z",
     "start_time": "2021-12-16T13:02:39.699593Z"
    },
    "scrolled": true
   },
   "outputs": [
    {
     "name": "stdout",
     "output_type": "stream",
     "text": [
      "I go to sleep!\n"
     ]
    }
   ],
   "source": [
    "weather = 'rainy'\n",
    "print('I go to school!') if weather == 'sunny' else print('I go to sleep!')"
   ]
  },
  {
   "cell_type": "markdown",
   "id": "41792c5b",
   "metadata": {},
   "source": [
    "### 1.4. PASS\n",
    "Because the `if`, `elif` or `else` statement cannot be empty, we can use `pass` if we don't want to put any code in `if`, `elif` or `else` statement."
   ]
  },
  {
   "cell_type": "code",
   "execution_count": 17,
   "id": "b170cc0b",
   "metadata": {
    "ExecuteTime": {
     "end_time": "2021-12-16T13:06:45.165000Z",
     "start_time": "2021-12-16T13:06:45.152726Z"
    }
   },
   "outputs": [],
   "source": [
    "time = 14\n",
    "\n",
    "if 5 <= time and time < 11:\n",
    "    print('Good morning!!!')\n",
    "elif 11 <= time and time < 13:\n",
    "    print('Good noon!!!')\n",
    "elif 13 <= time and time < 18:\n",
    "    pass\n",
    "elif 18 <= time and time < 23:\n",
    "    print('Good evening!!!')\n",
    "elif 23 <= time or time < 5:\n",
    "    pass\n",
    "else:\n",
    "    print('Never print this line')"
   ]
  },
  {
   "cell_type": "markdown",
   "id": "b1f8f8ad-c283-4308-a5df-c804f2ed593e",
   "metadata": {
    "tags": []
   },
   "source": [
    "## 2. Loop\n",
    "Python has two primitive loop commands: `for` loop and `while` loop\n",
    "### 2.1. FOR loop\n",
    "#### Simple FOR loop\n",
    "`for <ITEM_IN_SEQUENCE> in < SEQUENCE_OR_GENERATOR >:` <br>\n",
    "&nbsp;&nbsp;&nbsp;&nbsp;&nbsp;&nbsp;&nbsp;&nbsp; `<DO_SOME_CODE>`"
   ]
  },
  {
   "cell_type": "code",
   "execution_count": 18,
   "id": "35c1ec77",
   "metadata": {
    "ExecuteTime": {
     "end_time": "2021-12-16T13:11:41.811935Z",
     "start_time": "2021-12-16T13:11:41.804189Z"
    }
   },
   "outputs": [
    {
     "name": "stdout",
     "output_type": "stream",
     "text": [
      "apple\n",
      "banana\n",
      "lemon\n",
      "grape\n"
     ]
    }
   ],
   "source": [
    "fruit_list = ['apple', 'banana', 'lemon', 'grape']\n",
    "print(fruit_list[0])\n",
    "print(fruit_list[1])\n",
    "print(fruit_list[2])\n",
    "print(fruit_list[3])"
   ]
  },
  {
   "cell_type": "code",
   "execution_count": 19,
   "id": "f7b2ab4e-c945-4851-ae81-4916c171f1a0",
   "metadata": {
    "ExecuteTime": {
     "end_time": "2021-12-16T13:12:02.097808Z",
     "start_time": "2021-12-16T13:12:02.091859Z"
    }
   },
   "outputs": [
    {
     "name": "stdout",
     "output_type": "stream",
     "text": [
      "apple\n",
      "banana\n",
      "lemon\n",
      "grape\n"
     ]
    }
   ],
   "source": [
    "fruit_list = ['apple', 'banana', 'lemon', 'grape']\n",
    "for fruit in fruit_list:\n",
    "    print(fruit)"
   ]
  },
  {
   "cell_type": "markdown",
   "id": "db2765de-2ecf-496b-9965-983c2c787522",
   "metadata": {
    "tags": []
   },
   "source": [
    "#### FOR loop with `enumerate`\n",
    "`for <INDEX>, <ITEM_IN_SEQUENCE> in enumerate(< SEQUENCE_OR_GENERATOR >):` <br>\n",
    "&nbsp;&nbsp;&nbsp;&nbsp;&nbsp;&nbsp;&nbsp;&nbsp; `<DO_SOME_CODE>`"
   ]
  },
  {
   "cell_type": "code",
   "execution_count": 20,
   "id": "7ac7102e-7b07-4c14-a87e-0f60c1420e28",
   "metadata": {
    "ExecuteTime": {
     "end_time": "2021-12-16T13:13:20.031546Z",
     "start_time": "2021-12-16T13:13:20.024518Z"
    }
   },
   "outputs": [
    {
     "name": "stdout",
     "output_type": "stream",
     "text": [
      "0 apple\n",
      "1 banana\n",
      "2 lemon\n",
      "3 grape\n"
     ]
    }
   ],
   "source": [
    "fruit_list = ['apple', 'banana', 'lemon', 'grape']\n",
    "for index, fruit in enumerate(fruit_list):\n",
    "    print(index, fruit)"
   ]
  },
  {
   "cell_type": "markdown",
   "id": "5bbede97-9843-4608-8a06-54ab768ef4c3",
   "metadata": {
    "tags": []
   },
   "source": [
    "#### FOR loop with `tqdm`\n",
    "`tqdm` derives from the Arabic word taqaddum which can mean “progress,” and is an abbreviation for “I love you so much” in Spanish (te quiero demasiado).\n",
    "\n",
    "Instantly make your loops show a smart progress meter - just wrap any iterable with `tqdm(iterable)`, and you’re done!\n",
    "\n",
    "\n",
    "`for <ITEM_IN_SEQUENCE> in tqdm(< SEQUENCE_OR_GENERATOR >):` <br>\n",
    "&nbsp;&nbsp;&nbsp;&nbsp; `<DO_SOME_CODE>`"
   ]
  },
  {
   "cell_type": "code",
   "execution_count": 8,
   "id": "02818183-b2d1-421a-aa82-00e2387bba15",
   "metadata": {
    "jupyter": {
     "outputs_hidden": true
    },
    "tags": []
   },
   "outputs": [
    {
     "name": "stdout",
     "output_type": "stream",
     "text": [
      "Requirement already satisfied: tqdm in /Users/nguyenhuuminh/Works/env/lib/python3.8/site-packages (4.62.3)\n",
      "\u001b[33mWARNING: You are using pip version 21.2.2; however, version 21.3.1 is available.\n",
      "You should consider upgrading via the '/Users/nguyenhuuminh/Works/env/bin/python -m pip install --upgrade pip' command.\u001b[0m\n"
     ]
    }
   ],
   "source": [
    "!pip install tqdm"
   ]
  },
  {
   "cell_type": "code",
   "execution_count": 29,
   "id": "50a44cca-22e1-44b9-a6d6-8b0a90e1ef6b",
   "metadata": {
    "ExecuteTime": {
     "end_time": "2021-12-16T13:18:17.033426Z",
     "start_time": "2021-12-16T13:18:10.784585Z"
    },
    "scrolled": false
   },
   "outputs": [
    {
     "name": "stdout",
     "output_type": "stream",
     "text": [
      "12000000\n"
     ]
    },
    {
     "name": "stderr",
     "output_type": "stream",
     "text": [
      "100%|██████████████████████████████████████████████| 12000000/12000000 [00:06<00:00, 1945658.41it/s]\n"
     ]
    }
   ],
   "source": [
    "from tqdm import tqdm\n",
    "\n",
    "fruit_list = ['apple', 'banana', 'lemon', 'grape'] * 3000000\n",
    "print(len(fruit_list))\n",
    "for fruit in tqdm(fruit_list, ncols=100):\n",
    "    pass"
   ]
  },
  {
   "cell_type": "markdown",
   "id": "678fdd7d-8df8-4a86-87cf-9fe9aa4664d6",
   "metadata": {
    "tags": []
   },
   "source": [
    "### 2.2. WHILE loop\n",
    "With the `while` loop we can execute a set of statements as long as a condition is true. <br><br>\n",
    "`while <CONDITION>:` <br>\n",
    "&nbsp;&nbsp;&nbsp;&nbsp;&nbsp;&nbsp;&nbsp;&nbsp; `<DO_SOME_CODE>`"
   ]
  },
  {
   "cell_type": "code",
   "execution_count": 1,
   "id": "bf8280f8-cf61-4f01-84f7-524461d0ac02",
   "metadata": {
    "ExecuteTime": {
     "end_time": "2021-12-16T13:19:22.912412Z",
     "start_time": "2021-12-16T13:19:22.894736Z"
    }
   },
   "outputs": [
    {
     "name": "stdout",
     "output_type": "stream",
     "text": [
      "test_number =  1\n",
      "test_number =  2\n",
      "test_number =  3\n",
      "test_number =  4\n",
      "test_number =  5\n"
     ]
    }
   ],
   "source": [
    "test_number = 1\n",
    "while test_number < 6:\n",
    "    print('test_number = ', test_number)\n",
    "    test_number += 1"
   ]
  },
  {
   "cell_type": "code",
   "execution_count": 2,
   "id": "72436010",
   "metadata": {
    "ExecuteTime": {
     "end_time": "2021-12-16T13:20:06.562031Z",
     "start_time": "2021-12-16T13:20:06.551135Z"
    }
   },
   "outputs": [
    {
     "name": "stdout",
     "output_type": "stream",
     "text": [
      "test_number =  1\n",
      "test_number =  2\n",
      "test_number =  3\n",
      "test_number =  4\n",
      "test_number =  5\n",
      "The while loop is stoped, test_number >= 6\n"
     ]
    }
   ],
   "source": [
    "test_number = 1\n",
    "while test_number < 6:\n",
    "    print('test_number = ', test_number)\n",
    "    test_number += 1\n",
    "else:\n",
    "    print('The while loop is stoped, test_number >= 6')"
   ]
  },
  {
   "cell_type": "markdown",
   "id": "bc32b7ae",
   "metadata": {
    "tags": []
   },
   "source": [
    "### 2.3. BREAK\n",
    "The `break` statement can stop the **nearest** loop even if the condition is True."
   ]
  },
  {
   "cell_type": "code",
   "execution_count": 4,
   "id": "07271d7d",
   "metadata": {
    "ExecuteTime": {
     "end_time": "2021-12-16T13:21:44.218297Z",
     "start_time": "2021-12-16T13:21:44.199526Z"
    }
   },
   "outputs": [
    {
     "name": "stdout",
     "output_type": "stream",
     "text": [
      "test_number =  1\n"
     ]
    }
   ],
   "source": [
    "test_number = 1\n",
    "\n",
    "while test_number < 6:\n",
    "    print('test_number = ', test_number)\n",
    "    test_number += 1\n",
    "    break"
   ]
  },
  {
   "cell_type": "code",
   "execution_count": 5,
   "id": "999d3e48",
   "metadata": {
    "ExecuteTime": {
     "end_time": "2021-12-16T13:22:18.924586Z",
     "start_time": "2021-12-16T13:22:18.918655Z"
    }
   },
   "outputs": [
    {
     "name": "stdout",
     "output_type": "stream",
     "text": [
      "x =  15 y =  1\n",
      "x =  14 y =  1\n",
      "x =  13 y =  1\n",
      "x =  12 y =  1\n",
      "x =  11 y =  1\n"
     ]
    }
   ],
   "source": [
    "x = 15\n",
    "\n",
    "while x > 10:\n",
    "    y = 1\n",
    "    while y < 6:\n",
    "        print('x = ', x, 'y = ', y)\n",
    "        y += 1\n",
    "        break\n",
    "    x -= 1"
   ]
  },
  {
   "cell_type": "code",
   "execution_count": 6,
   "id": "a8c27607",
   "metadata": {
    "ExecuteTime": {
     "end_time": "2021-12-16T13:23:27.434062Z",
     "start_time": "2021-12-16T13:23:27.424292Z"
    }
   },
   "outputs": [
    {
     "name": "stdout",
     "output_type": "stream",
     "text": [
      "apple\n"
     ]
    }
   ],
   "source": [
    "fruit_list = ['apple', 'banana', 'lemon', 'grape']\n",
    "for fruit in fruit_list:\n",
    "    print(fruit)\n",
    "    break"
   ]
  },
  {
   "cell_type": "code",
   "execution_count": 7,
   "id": "eeec30af",
   "metadata": {
    "ExecuteTime": {
     "end_time": "2021-12-16T13:24:11.986617Z",
     "start_time": "2021-12-16T13:24:11.980662Z"
    }
   },
   "outputs": [
    {
     "name": "stdout",
     "output_type": "stream",
     "text": [
      "apple 1\n",
      "banana 1\n",
      "lemon 1\n",
      "grape 1\n"
     ]
    }
   ],
   "source": [
    "fruit_list = ['apple', 'banana', 'lemon', 'grape']\n",
    "number_list = [1, 2, 3, 4, 5]\n",
    "\n",
    "for fruit in fruit_list:\n",
    "    for number in number_list:\n",
    "        print(fruit, number)\n",
    "        break"
   ]
  },
  {
   "cell_type": "markdown",
   "id": "8007ee58",
   "metadata": {
    "tags": []
   },
   "source": [
    "### 2.4. CONTINUE\n",
    "The `continue` statement can stop the current iteration, and continue with the next iteration."
   ]
  },
  {
   "cell_type": "code",
   "execution_count": 8,
   "id": "9789875d",
   "metadata": {
    "ExecuteTime": {
     "end_time": "2021-12-16T13:25:08.106794Z",
     "start_time": "2021-12-16T13:25:08.099759Z"
    }
   },
   "outputs": [
    {
     "name": "stdout",
     "output_type": "stream",
     "text": [
      "apple\n",
      "banana\n",
      "grape\n"
     ]
    }
   ],
   "source": [
    "fruit_list = ['apple', 'banana', 'lemon', 'grape']\n",
    "\n",
    "for fruit in fruit_list:\n",
    "    if fruit == 'lemon':\n",
    "        continue\n",
    "    print(fruit)"
   ]
  },
  {
   "cell_type": "markdown",
   "id": "fe70af2c-2481-47a6-b366-f74ef390627d",
   "metadata": {
    "tags": []
   },
   "source": [
    "## 3. Function"
   ]
  },
  {
   "cell_type": "markdown",
   "id": "aa355792-b4b0-4ddb-9464-3d7e5af630ce",
   "metadata": {},
   "source": [
    "### 3.1. Simple function\n",
    "`def < FUNCTION_NAME > (< ARGUMENT_1 >, < ARGUMENT_2 >, ..., < ARGUMENT_N >):` <br><br>\n",
    "&nbsp;&nbsp;&nbsp;&nbsp; `< DO_SOME_CODE >` <br><br>\n",
    "&nbsp;&nbsp;&nbsp;&nbsp; `return < RETURNED_VALUE >`"
   ]
  },
  {
   "cell_type": "code",
   "execution_count": 9,
   "id": "5e452c0e-ed91-4e60-8379-8f0dcb3180c8",
   "metadata": {
    "ExecuteTime": {
     "end_time": "2021-12-16T13:34:03.097258Z",
     "start_time": "2021-12-16T13:34:03.090817Z"
    }
   },
   "outputs": [],
   "source": [
    "def add(a, b):\n",
    "    sum_ab = a + b\n",
    "    return sum_ab"
   ]
  },
  {
   "cell_type": "code",
   "execution_count": 15,
   "id": "4c1c3aed-cbcb-4650-8ccc-c534ad80091b",
   "metadata": {
    "ExecuteTime": {
     "end_time": "2021-12-16T13:37:08.351980Z",
     "start_time": "2021-12-16T13:37:08.333679Z"
    }
   },
   "outputs": [],
   "source": [
    "def add_multiple(number_list):\n",
    "    sum_list = 0\n",
    "    for number in number_list:\n",
    "        sum_list = add(sum_list, number)\n",
    "    return sum_list"
   ]
  },
  {
   "cell_type": "code",
   "execution_count": 16,
   "id": "295c65af-5daa-4743-8fd1-a41880ff08f0",
   "metadata": {
    "ExecuteTime": {
     "end_time": "2021-12-16T13:37:08.803531Z",
     "start_time": "2021-12-16T13:37:08.781202Z"
    }
   },
   "outputs": [],
   "source": [
    "def add_odd(number_list):\n",
    "    odd_sum_list = 0\n",
    "    for number in number_list:\n",
    "        if number % 2 == 1:\n",
    "            odd_sum_list = add(odd_sum_list, number)\n",
    "    return odd_sum_list"
   ]
  },
  {
   "cell_type": "code",
   "execution_count": 10,
   "id": "0f6e5f4e-1ca9-4c0b-9f1b-af1df7cc31bd",
   "metadata": {
    "ExecuteTime": {
     "end_time": "2021-12-16T13:34:07.993391Z",
     "start_time": "2021-12-16T13:34:07.987563Z"
    }
   },
   "outputs": [
    {
     "name": "stdout",
     "output_type": "stream",
     "text": [
      "3\n"
     ]
    }
   ],
   "source": [
    "a = 1\n",
    "b = 2\n",
    "print(add(a, b))"
   ]
  },
  {
   "cell_type": "code",
   "execution_count": 11,
   "id": "665a6791-e138-4305-9d7a-15932b07b3bb",
   "metadata": {
    "ExecuteTime": {
     "end_time": "2021-12-16T13:35:55.720287Z",
     "start_time": "2021-12-16T13:35:55.415549Z"
    }
   },
   "outputs": [
    {
     "ename": "TypeError",
     "evalue": "unsupported operand type(s) for +: 'int' and 'str'",
     "output_type": "error",
     "traceback": [
      "\u001b[0;31m---------------------------------------------------------------------------\u001b[0m",
      "\u001b[0;31mTypeError\u001b[0m                                 Traceback (most recent call last)",
      "\u001b[0;32m/var/folders/9m/8kxkp3s10g9gnjlz2bk_8zs00000gp/T/ipykernel_35007/2948387803.py\u001b[0m in \u001b[0;36m<module>\u001b[0;34m\u001b[0m\n\u001b[1;32m      1\u001b[0m \u001b[0ma\u001b[0m \u001b[0;34m=\u001b[0m \u001b[0;36m1\u001b[0m\u001b[0;34m\u001b[0m\u001b[0;34m\u001b[0m\u001b[0m\n\u001b[1;32m      2\u001b[0m \u001b[0mb\u001b[0m \u001b[0;34m=\u001b[0m \u001b[0;34m'2'\u001b[0m\u001b[0;34m\u001b[0m\u001b[0;34m\u001b[0m\u001b[0m\n\u001b[0;32m----> 3\u001b[0;31m \u001b[0mprint\u001b[0m\u001b[0;34m(\u001b[0m\u001b[0madd\u001b[0m\u001b[0;34m(\u001b[0m\u001b[0ma\u001b[0m\u001b[0;34m,\u001b[0m \u001b[0mb\u001b[0m\u001b[0;34m)\u001b[0m\u001b[0;34m)\u001b[0m\u001b[0;34m\u001b[0m\u001b[0;34m\u001b[0m\u001b[0m\n\u001b[0m",
      "\u001b[0;32m/var/folders/9m/8kxkp3s10g9gnjlz2bk_8zs00000gp/T/ipykernel_35007/2227001247.py\u001b[0m in \u001b[0;36madd\u001b[0;34m(a, b)\u001b[0m\n\u001b[1;32m      1\u001b[0m \u001b[0;32mdef\u001b[0m \u001b[0madd\u001b[0m\u001b[0;34m(\u001b[0m\u001b[0ma\u001b[0m\u001b[0;34m,\u001b[0m \u001b[0mb\u001b[0m\u001b[0;34m)\u001b[0m\u001b[0;34m:\u001b[0m\u001b[0;34m\u001b[0m\u001b[0;34m\u001b[0m\u001b[0m\n\u001b[0;32m----> 2\u001b[0;31m     \u001b[0msum_ab\u001b[0m \u001b[0;34m=\u001b[0m \u001b[0ma\u001b[0m \u001b[0;34m+\u001b[0m \u001b[0mb\u001b[0m\u001b[0;34m\u001b[0m\u001b[0;34m\u001b[0m\u001b[0m\n\u001b[0m\u001b[1;32m      3\u001b[0m     \u001b[0;32mreturn\u001b[0m \u001b[0msum_ab\u001b[0m\u001b[0;34m\u001b[0m\u001b[0;34m\u001b[0m\u001b[0m\n",
      "\u001b[0;31mTypeError\u001b[0m: unsupported operand type(s) for +: 'int' and 'str'"
     ]
    }
   ],
   "source": [
    "a = 1\n",
    "b = '2'\n",
    "print(add(a, b))"
   ]
  },
  {
   "cell_type": "code",
   "execution_count": 12,
   "id": "ef6c5bb3-aea6-4a85-93cd-2d324b4c59c2",
   "metadata": {
    "ExecuteTime": {
     "end_time": "2021-12-16T13:36:04.916639Z",
     "start_time": "2021-12-16T13:36:04.910273Z"
    }
   },
   "outputs": [
    {
     "name": "stdout",
     "output_type": "stream",
     "text": [
      "12\n"
     ]
    }
   ],
   "source": [
    "a = '1'\n",
    "b = '2'\n",
    "print(add(a, b))"
   ]
  },
  {
   "cell_type": "code",
   "execution_count": 13,
   "id": "d602d781-3338-46c2-a71e-603f913f1e32",
   "metadata": {
    "ExecuteTime": {
     "end_time": "2021-12-16T13:36:53.745611Z",
     "start_time": "2021-12-16T13:36:53.733611Z"
    }
   },
   "outputs": [
    {
     "name": "stdout",
     "output_type": "stream",
     "text": [
      "number_list [1, 2, 3, 4, 5, 6, 7, 8, 9, 10]\n"
     ]
    }
   ],
   "source": [
    "number_list = [1, 2, 3, 4, 5, 6, 7, 8, 9, 10]\n",
    "print('number_list', number_list)"
   ]
  },
  {
   "cell_type": "code",
   "execution_count": 17,
   "id": "fc117222-47ad-4c1c-b30e-93c2d2e9335b",
   "metadata": {
    "ExecuteTime": {
     "end_time": "2021-12-16T13:37:11.926770Z",
     "start_time": "2021-12-16T13:37:11.918673Z"
    }
   },
   "outputs": [
    {
     "name": "stdout",
     "output_type": "stream",
     "text": [
      "55\n"
     ]
    }
   ],
   "source": [
    "print(add_multiple(number_list))"
   ]
  },
  {
   "cell_type": "code",
   "execution_count": 18,
   "id": "97aa0146-39d9-409b-8cf8-9e5d3e81d4f1",
   "metadata": {
    "ExecuteTime": {
     "end_time": "2021-12-16T13:38:00.015263Z",
     "start_time": "2021-12-16T13:38:00.008177Z"
    }
   },
   "outputs": [
    {
     "name": "stdout",
     "output_type": "stream",
     "text": [
      "25\n"
     ]
    }
   ],
   "source": [
    "print(add_odd(number_list))"
   ]
  },
  {
   "cell_type": "markdown",
   "id": "ff22d994",
   "metadata": {},
   "source": [
    "### 3.2. Simple function with default arguments\n",
    "`def < FUNCTION_NAME > (< ARGUMENT_1 >, < ARGUMENT_2 >, ..., < DEFAULT_ARGUMENT >=<DEFAULT_VALUE>):` <br><br>\n",
    "&nbsp;&nbsp;&nbsp;&nbsp; `< DO_SOME_CODE >` <br><br>\n",
    "&nbsp;&nbsp;&nbsp;&nbsp; `return < RETURNED_VALUE >`"
   ]
  },
  {
   "cell_type": "code",
   "execution_count": 1,
   "id": "8bd6a035",
   "metadata": {
    "ExecuteTime": {
     "end_time": "2021-12-19T02:46:07.617804Z",
     "start_time": "2021-12-19T02:46:07.598292Z"
    }
   },
   "outputs": [],
   "source": [
    "def x(a, b=10):\n",
    "    return a + b"
   ]
  },
  {
   "cell_type": "code",
   "execution_count": 3,
   "id": "f1666816",
   "metadata": {
    "ExecuteTime": {
     "end_time": "2021-12-19T02:46:18.748769Z",
     "start_time": "2021-12-19T02:46:18.738776Z"
    },
    "scrolled": true
   },
   "outputs": [
    {
     "data": {
      "text/plain": [
       "15"
      ]
     },
     "execution_count": 3,
     "metadata": {},
     "output_type": "execute_result"
    }
   ],
   "source": [
    "x(5)"
   ]
  },
  {
   "cell_type": "code",
   "execution_count": 4,
   "id": "c0bbd39a",
   "metadata": {
    "ExecuteTime": {
     "end_time": "2021-12-19T02:46:19.415474Z",
     "start_time": "2021-12-19T02:46:19.408139Z"
    },
    "scrolled": true
   },
   "outputs": [
    {
     "data": {
      "text/plain": [
       "11"
      ]
     },
     "execution_count": 4,
     "metadata": {},
     "output_type": "execute_result"
    }
   ],
   "source": [
    "x(5, 6)"
   ]
  },
  {
   "cell_type": "markdown",
   "id": "b6f6add1",
   "metadata": {},
   "source": [
    "### 3.3. `lambda` function\n",
    "`lambda < ARGUMENT_1 >, < ARGUMENT_2 >, ..., < ARGUMENT_N >: DO_SOME_CODE`"
   ]
  },
  {
   "cell_type": "code",
   "execution_count": 22,
   "id": "289781e2",
   "metadata": {
    "ExecuteTime": {
     "end_time": "2021-12-16T13:43:52.722602Z",
     "start_time": "2021-12-16T13:43:52.714501Z"
    }
   },
   "outputs": [
    {
     "name": "stdout",
     "output_type": "stream",
     "text": [
      "15\n",
      "20\n"
     ]
    }
   ],
   "source": [
    "x = lambda a: a + 10\n",
    "print(x(5))\n",
    "print(x(10))"
   ]
  },
  {
   "cell_type": "code",
   "execution_count": 21,
   "id": "47f906ce",
   "metadata": {
    "ExecuteTime": {
     "end_time": "2021-12-16T13:42:14.825289Z",
     "start_time": "2021-12-16T13:42:14.819911Z"
    }
   },
   "outputs": [
    {
     "name": "stdout",
     "output_type": "stream",
     "text": [
      "30\n"
     ]
    }
   ],
   "source": [
    "x = lambda a, b: a * b\n",
    "print(x(5, 6))"
   ]
  },
  {
   "cell_type": "markdown",
   "id": "ec65c48d",
   "metadata": {},
   "source": [
    "## 4. Homework\n",
    "### 4.1. Excercise 1:\n",
    "Write a `function` using `for loop` and another function using `while loop` to print the **pascal triangle** with 10 lines, 20 lines and 100 lines. <br>\n",
    "1 <br>\n",
    "1 1 <br>\n",
    "1 2 1 <br>\n",
    "1 3 3 1 <br>\n",
    "1 4 6 4 1 <br>\n",
    "1 5 10 5 1 <br>\n",
    "...\n",
    "\n",
    "### 4.2. Excercise 2:\n",
    "Write a `function` to check input number is a prime number or composite number.\n",
    "### 4.3. Excercise 3:\n",
    "Write a `function` to calculate the sum or average of a list of integers.\n",
    "### 4.4. Excercise 4:\n",
    "Generate randomly 3 numbers `a, b, c` to form a **quadratic equation**. Write a `function` to solve this equation."
   ]
  },
  {
   "cell_type": "code",
   "execution_count": null,
   "id": "c8f9a5f3",
   "metadata": {},
   "outputs": [],
   "source": []
  }
 ],
 "metadata": {
  "kernelspec": {
   "display_name": "Python 3 (ipykernel)",
   "language": "python",
   "name": "python3"
  },
  "language_info": {
   "codemirror_mode": {
    "name": "ipython",
    "version": 3
   },
   "file_extension": ".py",
   "mimetype": "text/x-python",
   "name": "python",
   "nbconvert_exporter": "python",
   "pygments_lexer": "ipython3",
   "version": "3.8.12"
  },
  "toc": {
   "base_numbering": 1,
   "nav_menu": {},
   "number_sections": false,
   "sideBar": true,
   "skip_h1_title": false,
   "title_cell": "Table of Contents",
   "title_sidebar": "Table of Contents",
   "toc_cell": false,
   "toc_position": {
    "height": "calc(100% - 180px)",
    "left": "10px",
    "top": "150px",
    "width": "257px"
   },
   "toc_section_display": true,
   "toc_window_display": true
  },
  "toc-autonumbering": false,
  "toc-showcode": false,
  "toc-showmarkdowntxt": false,
  "toc-showtags": false
 },
 "nbformat": 4,
 "nbformat_minor": 5
}
