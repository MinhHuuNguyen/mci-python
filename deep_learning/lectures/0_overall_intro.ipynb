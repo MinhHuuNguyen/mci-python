{
 "cells": [
  {
   "cell_type": "markdown",
   "metadata": {},
   "source": [
    "# LESSON 0: OVERALL INTRODUCTION\n",
    "<table><tr>\n",
    "<td> <img src=\"../images/conda_logo.png\" width=\"400px\"/> </td>\n",
    "<td> <img src=\"../images/jupyter_logo.png\" width=\"400px\"/> </td>\n",
    "<td> <img src=\"../images/colab_logo.jpeg\" width=\"400px\"/> </td>\n",
    "<td> <img src=\"../images/git_logo.png\" width=\"400px\"/> </td>\n",
    "</tr></table>"
   ]
  },
  {
   "cell_type": "markdown",
   "metadata": {},
   "source": [
    "## 1. Anaconda and Jupyter notebook introduction\n",
    "Anaconda and Jupyter notebook have been introduced in Python level 1 course. Detail of the introduction can be found [here](https://github.com/MinhHuuNguyen/mci-python/blob/master/python_lv1/lectures/0_conda_and_jupyter_intro.ipynb)"
   ]
  },
  {
   "cell_type": "markdown",
   "metadata": {},
   "source": [
    "## 2. Google Colab and Git introduction\n",
    "Google Colab and Google Colab have been introduced in Python level 2 course. Detail of the introduction can be found [here]()"
   ]
  },
  {
   "cell_type": "code",
   "execution_count": null,
   "metadata": {},
   "outputs": [],
   "source": []
  }
 ],
 "metadata": {
  "kernelspec": {
   "display_name": "Python 3",
   "language": "python",
   "name": "python3"
  },
  "language_info": {
   "codemirror_mode": {
    "name": "ipython",
    "version": 3
   },
   "file_extension": ".py",
   "mimetype": "text/x-python",
   "name": "python",
   "nbconvert_exporter": "python",
   "pygments_lexer": "ipython3",
   "version": "3.8.12"
  },
  "toc": {
   "base_numbering": 1,
   "nav_menu": {},
   "number_sections": false,
   "sideBar": true,
   "skip_h1_title": false,
   "title_cell": "Table of Contents",
   "title_sidebar": "Table of Contents",
   "toc_cell": false,
   "toc_position": {},
   "toc_section_display": true,
   "toc_window_display": true
  }
 },
 "nbformat": 4,
 "nbformat_minor": 4
}
