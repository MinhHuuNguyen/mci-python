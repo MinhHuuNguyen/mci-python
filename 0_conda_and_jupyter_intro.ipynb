{
 "cells": [
  {
   "cell_type": "markdown",
   "id": "1aa0f28f",
   "metadata": {},
   "source": [
    "# LESSON 0: ANACONDA AND JUPYTER NOTEBOOK INTRODUCTION\n",
    "<table><tr>\n",
    "<td> <img src=\"image/conda_logo.png\" width=\"400px\"/> </td>\n",
    "<td> <img src=\"image/jupyter_logo.png\" width=\"400px\"/> </td>\n",
    "</tr></table>"
   ]
  },
  {
   "cell_type": "markdown",
   "id": "a71b676c",
   "metadata": {},
   "source": [
    "## 1. Anaconda introduction\n",
    "### 1.1. Download and install anaconda\n",
    "### 1.2. Interact with anaconda environment\n",
    "#### Introduce anaconda environment\n",
    "An anaconda environment is a directory that contains a specific collection of conda packages that you have installed. The environment is separated and independent to each other. <br>\n",
    "Anaconda environments manage and run multiple python version on single computer. <br>\n",
    "Anaconda manage and run lots of packages in different environments and reduce conflicts between them.\n",
    "#### Check environment info\n",
    "Run `conda info --envs` or `conda env list` to list environments which have installed.\n",
    "#### Create anaconda environment\n",
    "Run `conda create -n <ENV_NAME> python=<PYTHON_VERSION> -y` to create new environment with specific python version. <br>\n",
    "Example: `conda create -n mci_env python=3.8 -y`. <br>\n",
    "It can take time to create environment.\n",
    "#### Activate an environment\n",
    "Run `conda activate <ENV_NAME>` to activate the environment. <br>\n",
    "Example: `conda activate mci_env`. <br>\n",
    "After activating an environment, the running environment change from `base` to `mci_env` and we can check the python version by running `python --version` or `python -V`.\n",
    "#### Deactivate an environment\n",
    "Run `conda deactivate` to deactivate the running environment and change back to `base`.\n",
    "#### Remove an environment\n",
    "Run `conda env remove --name <ENV_NAME>` to remove the environment. <br>\n",
    "Example: `conda env remove --name mci_env`. <br>\n",
    "After removing the environments, we can check `conda env list`.\n",
    "### 1.3. Install packages to anaconda environment\n",
    "#### List packages installed in an environment\n",
    "Run `conda list` to list all packages installed in an environment. <br>"
   ]
  },
  {
   "cell_type": "markdown",
   "id": "c62158a3",
   "metadata": {},
   "source": [
    "## 2. Jupyter notebook introduction\n",
    "### 2.1. Get started with jupyter notebook\n",
    "To use jupyter notebook, please following these steps:\n",
    "- Step 1: Activate conda environment\n",
    "- Step 2: Install jupyter notebook by running ``\n",
    "- Step 3: Create a folder which contains document of MCI Python level 1\n",
    "- Step 4: Run `jupyter notebook --notebook-dir=<PATH_TO_FOLDER_FROM_STEP_3>` to use jupyter notebook or run `jupyter lab --notebook-dir=<PATH_TO_FOLDER_FROM_STEP_3>` to use jupyter lab.\n",
    "- Step 5: jupyter notebook or jupyter lab will be opened in browser with address `http://localhost:8888/`\n",
    "### 2.2. Magic commands in jupyter notebook\n",
    "- `%lsmagic`: Show all magic commands.\n",
    "- `%%time`: Show time taken to run the code in cell.\n",
    "- `%who`: Show all the assigned variables.\n",
    "- `!` : To run os command"
   ]
  },
  {
   "cell_type": "code",
   "execution_count": 1,
   "id": "b3e314bb",
   "metadata": {},
   "outputs": [
    {
     "data": {
      "application/json": {
       "cell": {
        "!": "OSMagics",
        "HTML": "Other",
        "SVG": "Other",
        "bash": "Other",
        "capture": "ExecutionMagics",
        "debug": "ExecutionMagics",
        "file": "Other",
        "html": "DisplayMagics",
        "javascript": "DisplayMagics",
        "js": "DisplayMagics",
        "latex": "DisplayMagics",
        "markdown": "DisplayMagics",
        "perl": "Other",
        "prun": "ExecutionMagics",
        "pypy": "Other",
        "python": "Other",
        "python2": "Other",
        "python3": "Other",
        "ruby": "Other",
        "script": "ScriptMagics",
        "sh": "Other",
        "svg": "DisplayMagics",
        "sx": "OSMagics",
        "system": "OSMagics",
        "time": "ExecutionMagics",
        "timeit": "ExecutionMagics",
        "writefile": "OSMagics"
       },
       "line": {
        "alias": "OSMagics",
        "alias_magic": "BasicMagics",
        "autoawait": "AsyncMagics",
        "autocall": "AutoMagics",
        "automagic": "AutoMagics",
        "autosave": "KernelMagics",
        "bookmark": "OSMagics",
        "cat": "Other",
        "cd": "OSMagics",
        "clear": "KernelMagics",
        "colors": "BasicMagics",
        "conda": "PackagingMagics",
        "config": "ConfigMagics",
        "connect_info": "KernelMagics",
        "cp": "Other",
        "debug": "ExecutionMagics",
        "dhist": "OSMagics",
        "dirs": "OSMagics",
        "doctest_mode": "BasicMagics",
        "ed": "Other",
        "edit": "KernelMagics",
        "env": "OSMagics",
        "gui": "BasicMagics",
        "hist": "Other",
        "history": "HistoryMagics",
        "killbgscripts": "ScriptMagics",
        "ldir": "Other",
        "less": "KernelMagics",
        "lf": "Other",
        "lk": "Other",
        "ll": "Other",
        "load": "CodeMagics",
        "load_ext": "ExtensionMagics",
        "loadpy": "CodeMagics",
        "logoff": "LoggingMagics",
        "logon": "LoggingMagics",
        "logstart": "LoggingMagics",
        "logstate": "LoggingMagics",
        "logstop": "LoggingMagics",
        "ls": "Other",
        "lsmagic": "BasicMagics",
        "lx": "Other",
        "macro": "ExecutionMagics",
        "magic": "BasicMagics",
        "man": "KernelMagics",
        "matplotlib": "PylabMagics",
        "mkdir": "Other",
        "more": "KernelMagics",
        "mv": "Other",
        "notebook": "BasicMagics",
        "page": "BasicMagics",
        "pastebin": "CodeMagics",
        "pdb": "ExecutionMagics",
        "pdef": "NamespaceMagics",
        "pdoc": "NamespaceMagics",
        "pfile": "NamespaceMagics",
        "pinfo": "NamespaceMagics",
        "pinfo2": "NamespaceMagics",
        "pip": "PackagingMagics",
        "popd": "OSMagics",
        "pprint": "BasicMagics",
        "precision": "BasicMagics",
        "prun": "ExecutionMagics",
        "psearch": "NamespaceMagics",
        "psource": "NamespaceMagics",
        "pushd": "OSMagics",
        "pwd": "OSMagics",
        "pycat": "OSMagics",
        "pylab": "PylabMagics",
        "qtconsole": "KernelMagics",
        "quickref": "BasicMagics",
        "recall": "HistoryMagics",
        "rehashx": "OSMagics",
        "reload_ext": "ExtensionMagics",
        "rep": "Other",
        "rerun": "HistoryMagics",
        "reset": "NamespaceMagics",
        "reset_selective": "NamespaceMagics",
        "rm": "Other",
        "rmdir": "Other",
        "run": "ExecutionMagics",
        "save": "CodeMagics",
        "sc": "OSMagics",
        "set_env": "OSMagics",
        "store": "StoreMagics",
        "sx": "OSMagics",
        "system": "OSMagics",
        "tb": "ExecutionMagics",
        "time": "ExecutionMagics",
        "timeit": "ExecutionMagics",
        "unalias": "OSMagics",
        "unload_ext": "ExtensionMagics",
        "who": "NamespaceMagics",
        "who_ls": "NamespaceMagics",
        "whos": "NamespaceMagics",
        "xdel": "NamespaceMagics",
        "xmode": "BasicMagics"
       }
      },
      "text/plain": [
       "Available line magics:\n",
       "%alias  %alias_magic  %autoawait  %autocall  %automagic  %autosave  %bookmark  %cat  %cd  %clear  %colors  %conda  %config  %connect_info  %cp  %debug  %dhist  %dirs  %doctest_mode  %ed  %edit  %env  %gui  %hist  %history  %killbgscripts  %ldir  %less  %lf  %lk  %ll  %load  %load_ext  %loadpy  %logoff  %logon  %logstart  %logstate  %logstop  %ls  %lsmagic  %lx  %macro  %magic  %man  %matplotlib  %mkdir  %more  %mv  %notebook  %page  %pastebin  %pdb  %pdef  %pdoc  %pfile  %pinfo  %pinfo2  %pip  %popd  %pprint  %precision  %prun  %psearch  %psource  %pushd  %pwd  %pycat  %pylab  %qtconsole  %quickref  %recall  %rehashx  %reload_ext  %rep  %rerun  %reset  %reset_selective  %rm  %rmdir  %run  %save  %sc  %set_env  %store  %sx  %system  %tb  %time  %timeit  %unalias  %unload_ext  %who  %who_ls  %whos  %xdel  %xmode\n",
       "\n",
       "Available cell magics:\n",
       "%%!  %%HTML  %%SVG  %%bash  %%capture  %%debug  %%file  %%html  %%javascript  %%js  %%latex  %%markdown  %%perl  %%prun  %%pypy  %%python  %%python2  %%python3  %%ruby  %%script  %%sh  %%svg  %%sx  %%system  %%time  %%timeit  %%writefile\n",
       "\n",
       "Automagic is ON, % prefix IS NOT needed for line magics."
      ]
     },
     "execution_count": 1,
     "metadata": {},
     "output_type": "execute_result"
    }
   ],
   "source": [
    "%lsmagic"
   ]
  },
  {
   "cell_type": "code",
   "execution_count": 2,
   "id": "3d2d2d24",
   "metadata": {},
   "outputs": [
    {
     "name": "stdout",
     "output_type": "stream",
     "text": [
      "Hello world!!!\n",
      "CPU times: user 290 µs, sys: 201 µs, total: 491 µs\n",
      "Wall time: 369 µs\n"
     ]
    }
   ],
   "source": [
    "%time print('Hello world!!!')"
   ]
  },
  {
   "cell_type": "markdown",
   "id": "a448fa0a",
   "metadata": {},
   "source": [
    "### 2.3. Shortcuts in jupyter notebook\n",
    "- `ESC` + `A`: Add a new cell above.\n",
    "- `ESC` + `B`: Add a new cell below.\n",
    "- `ESC` + `M`: Change a `code` cell into a `markdown` cell.\n",
    "- `ESC` + `Y`: Change a `markdown` cell into a `code` cell.\n",
    "- `ESC` + `D` + `D`: Remove a cell"
   ]
  }
 ],
 "metadata": {
  "kernelspec": {
   "display_name": "Python 3 (ipykernel)",
   "language": "python",
   "name": "python3"
  },
  "language_info": {
   "codemirror_mode": {
    "name": "ipython",
    "version": 3
   },
   "file_extension": ".py",
   "mimetype": "text/x-python",
   "name": "python",
   "nbconvert_exporter": "python",
   "pygments_lexer": "ipython3",
   "version": "3.8.2"
  },
  "toc": {
   "base_numbering": 1,
   "nav_menu": {},
   "number_sections": false,
   "sideBar": true,
   "skip_h1_title": false,
   "title_cell": "Table of Contents",
   "title_sidebar": "Table of Contents",
   "toc_cell": false,
   "toc_position": {},
   "toc_section_display": true,
   "toc_window_display": true
  }
 },
 "nbformat": 4,
 "nbformat_minor": 5
}
