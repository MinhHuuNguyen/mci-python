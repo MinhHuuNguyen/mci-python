{
 "cells": [
  {
   "cell_type": "markdown",
   "id": "3c15ef46-3199-4a47-a759-5bbc12e64066",
   "metadata": {},
   "source": [
    "# LESSON 1: PYTHON INTRODUCTION\n",
    "<img src=\"image/py_logo.jpeg\" width=\"300px\"/>"
   ]
  },
  {
   "cell_type": "markdown",
   "id": "29900494-bb10-49a1-b595-c43d5a074e90",
   "metadata": {},
   "source": [
    "## 1. Overall introduction\n",
    "\"Python is a programming language that lets you work more quickly and integrate your systems more effectively.\"\n",
    "### Python is popular\n",
    "One of the main reasons for the popularity of Python would be its simplicity in syntax and it's very close to the English language so that it could be easily read and understood. <br>\n",
    "Another reason is the 4th industrial revolution which makes Cloud Computing, Machine Learning, and Big Data become hot trend. Python allows professionals to conduct complex statistical calculations, create data visualizations, build machine learning algorithms, manipulate and analyze data, and complete other data-related tasks. <br>\n",
    "<img src=\"image/py_popular.png\" width=\"700px\"/>\n",
    "### Python has lots of applications\n",
    "- Web and Internet Development\n",
    "- Database Access\n",
    "- Desktop GUIs\n",
    "- Scientific & Numeric\n",
    "- Education\n",
    "- Network Programming\n",
    "- Software & Game Development\n",
    "\n",
    "### Python is easy to learn\n",
    "- Active community which hosts conferences and meetups, collaborates on code, and much more.\n",
    "- Python document is open and easy to understand ([link](https://docs.python.org/3/library/)).\n",
    "- Built-in libraries and external libraries are powerful for many tasks, especially for data science, data engineer and data analysis:\n",
    "    - Scientific computing: numpy, numba, etc.\n",
    "    - AWS interaction: boto3\n",
    "    - Image processing: opencv, pillow, albumentation, etc.\n",
    "    - Machine learning and Deep learning framework: tensorflow, pytorch, onnx, sklearn, etc.\n",
    "    - Data processing and visualization: pandas, pyyaml, matplotlib, seaborn etc.\n"
   ]
  },
  {
   "cell_type": "code",
   "execution_count": 2,
   "id": "ce28c8b2-ea16-4996-ad5a-22dd001c9283",
   "metadata": {},
   "outputs": [
    {
     "name": "stdout",
     "output_type": "stream",
     "text": [
      "Hello world!!!\n"
     ]
    }
   ],
   "source": [
    "print('Hello world!!!')"
   ]
  },
  {
   "cell_type": "markdown",
   "id": "46e9bbe1-324a-479b-8857-777f0e36f854",
   "metadata": {},
   "source": [
    "## 2. Install libraries using ipython notebook"
   ]
  },
  {
   "cell_type": "markdown",
   "id": "87d39719-bea6-49cd-96d6-cea896725a3f",
   "metadata": {},
   "source": [
    "### Use ipython notebook requires the ` ! `"
   ]
  },
  {
   "cell_type": "code",
   "execution_count": 9,
   "id": "0ba97ccc",
   "metadata": {
    "jupyter": {
     "outputs_hidden": true
    },
    "tags": []
   },
   "outputs": [
    {
     "name": "stdout",
     "output_type": "stream",
     "text": [
      "Requirement already satisfied: numpy in /Users/nguyenhuuminh/opt/anaconda3/envs/mci_py_1/lib/python3.8/site-packages (1.21.4)\r\n"
     ]
    }
   ],
   "source": [
    "!pip install numpy"
   ]
  },
  {
   "cell_type": "code",
   "execution_count": 10,
   "id": "71d21233-6d6e-4451-9621-7e339bf01637",
   "metadata": {
    "jupyter": {
     "outputs_hidden": true
    },
    "scrolled": true,
    "tags": []
   },
   "outputs": [
    {
     "name": "stdout",
     "output_type": "stream",
     "text": [
      "Collecting pandas\n",
      "  Using cached pandas-1.3.4-cp38-cp38-macosx_10_9_x86_64.whl (11.4 MB)\n",
      "Collecting pytz>=2017.3\n",
      "  Using cached pytz-2021.3-py2.py3-none-any.whl (503 kB)\n",
      "Requirement already satisfied: numpy>=1.17.3 in /Users/nguyenhuuminh/opt/anaconda3/envs/mci_py_1/lib/python3.8/site-packages (from pandas) (1.21.4)\n",
      "Requirement already satisfied: python-dateutil>=2.7.3 in /Users/nguyenhuuminh/opt/anaconda3/envs/mci_py_1/lib/python3.8/site-packages (from pandas) (2.8.2)\n",
      "Requirement already satisfied: six>=1.5 in /Users/nguyenhuuminh/opt/anaconda3/envs/mci_py_1/lib/python3.8/site-packages (from python-dateutil>=2.7.3->pandas) (1.16.0)\n",
      "Installing collected packages: pytz, pandas\n",
      "Successfully installed pandas-1.3.4 pytz-2021.3\n",
      "Collecting matplotlib\n",
      "  Downloading matplotlib-3.5.1-cp38-cp38-macosx_10_9_x86_64.whl (7.3 MB)\n",
      "\u001b[K     |████████████████████████████████| 7.3 MB 1.3 MB/s eta 0:00:01     |████████████████████            | 4.5 MB 1.3 MB/s eta 0:00:03\n",
      "\u001b[?25hCollecting kiwisolver>=1.0.1\n",
      "  Using cached kiwisolver-1.3.2-cp38-cp38-macosx_10_9_x86_64.whl (61 kB)\n",
      "Requirement already satisfied: pyparsing>=2.2.1 in /Users/nguyenhuuminh/opt/anaconda3/envs/mci_py_1/lib/python3.8/site-packages (from matplotlib) (3.0.4)\n",
      "Collecting cycler>=0.10\n",
      "  Using cached cycler-0.11.0-py3-none-any.whl (6.4 kB)\n",
      "Requirement already satisfied: numpy>=1.17 in /Users/nguyenhuuminh/opt/anaconda3/envs/mci_py_1/lib/python3.8/site-packages (from matplotlib) (1.21.4)\n",
      "Collecting fonttools>=4.22.0\n",
      "  Downloading fonttools-4.28.3-py3-none-any.whl (884 kB)\n",
      "\u001b[K     |████████████████████████████████| 884 kB 10.9 MB/s eta 0:00:01\n",
      "\u001b[?25hRequirement already satisfied: python-dateutil>=2.7 in /Users/nguyenhuuminh/opt/anaconda3/envs/mci_py_1/lib/python3.8/site-packages (from matplotlib) (2.8.2)\n",
      "Collecting pillow>=6.2.0\n",
      "  Using cached Pillow-8.4.0-cp38-cp38-macosx_10_10_x86_64.whl (3.0 MB)\n",
      "Requirement already satisfied: packaging>=20.0 in /Users/nguyenhuuminh/opt/anaconda3/envs/mci_py_1/lib/python3.8/site-packages (from matplotlib) (21.3)\n",
      "Requirement already satisfied: six>=1.5 in /Users/nguyenhuuminh/opt/anaconda3/envs/mci_py_1/lib/python3.8/site-packages (from python-dateutil>=2.7->matplotlib) (1.16.0)\n",
      "Installing collected packages: pillow, kiwisolver, fonttools, cycler, matplotlib\n",
      "Successfully installed cycler-0.11.0 fonttools-4.28.3 kiwisolver-1.3.2 matplotlib-3.5.1 pillow-8.4.0\n"
     ]
    }
   ],
   "source": [
    "!pip install pandas\n",
    "!pip install matplotlib"
   ]
  },
  {
   "cell_type": "markdown",
   "id": "456dab98-0e71-4156-b1b2-fe4d526e6829",
   "metadata": {},
   "source": [
    "### Specify the version of library by using ` == `"
   ]
  },
  {
   "cell_type": "code",
   "execution_count": 3,
   "id": "2ca0ca97-6894-4443-abb6-ebf24a0d92a0",
   "metadata": {
    "jupyter": {
     "outputs_hidden": true
    },
    "scrolled": true,
    "tags": []
   },
   "outputs": [
    {
     "name": "stdout",
     "output_type": "stream",
     "text": [
      "Requirement already satisfied: numpy==1.21.4 in /Users/nguyenhuuminh/Works/env/lib/python3.8/site-packages (1.21.4)\n",
      "\u001b[33mWARNING: You are using pip version 21.2.2; however, version 21.3.1 is available.\n",
      "You should consider upgrading via the '/Users/nguyenhuuminh/Works/env/bin/python -m pip install --upgrade pip' command.\u001b[0m\n",
      "Requirement already satisfied: pandas==1.3.4 in /Users/nguyenhuuminh/Works/env/lib/python3.8/site-packages (1.3.4)\n",
      "Requirement already satisfied: numpy>=1.17.3 in /Users/nguyenhuuminh/Works/env/lib/python3.8/site-packages (from pandas==1.3.4) (1.21.4)\n",
      "Requirement already satisfied: python-dateutil>=2.7.3 in /Users/nguyenhuuminh/Works/env/lib/python3.8/site-packages (from pandas==1.3.4) (2.8.2)\n",
      "Requirement already satisfied: pytz>=2017.3 in /Users/nguyenhuuminh/Works/env/lib/python3.8/site-packages (from pandas==1.3.4) (2021.3)\n",
      "Requirement already satisfied: six>=1.5 in /Users/nguyenhuuminh/Works/env/lib/python3.8/site-packages (from python-dateutil>=2.7.3->pandas==1.3.4) (1.16.0)\n",
      "\u001b[33mWARNING: You are using pip version 21.2.2; however, version 21.3.1 is available.\n",
      "You should consider upgrading via the '/Users/nguyenhuuminh/Works/env/bin/python -m pip install --upgrade pip' command.\u001b[0m\n",
      "Requirement already satisfied: matplotlib==3.5.0 in /Users/nguyenhuuminh/Works/env/lib/python3.8/site-packages (3.5.0)\n",
      "Requirement already satisfied: packaging>=20.0 in /Users/nguyenhuuminh/Works/env/lib/python3.8/site-packages (from matplotlib==3.5.0) (21.3)\n",
      "Requirement already satisfied: cycler>=0.10 in /Users/nguyenhuuminh/Works/env/lib/python3.8/site-packages (from matplotlib==3.5.0) (0.11.0)\n",
      "Requirement already satisfied: kiwisolver>=1.0.1 in /Users/nguyenhuuminh/Works/env/lib/python3.8/site-packages (from matplotlib==3.5.0) (1.3.2)\n",
      "Requirement already satisfied: python-dateutil>=2.7 in /Users/nguyenhuuminh/Works/env/lib/python3.8/site-packages (from matplotlib==3.5.0) (2.8.2)\n",
      "Requirement already satisfied: numpy>=1.17 in /Users/nguyenhuuminh/Works/env/lib/python3.8/site-packages (from matplotlib==3.5.0) (1.21.4)\n",
      "Requirement already satisfied: setuptools-scm>=4 in /Users/nguyenhuuminh/Works/env/lib/python3.8/site-packages (from matplotlib==3.5.0) (6.3.2)\n",
      "Requirement already satisfied: pillow>=6.2.0 in /Users/nguyenhuuminh/Works/env/lib/python3.8/site-packages (from matplotlib==3.5.0) (8.4.0)\n",
      "Requirement already satisfied: pyparsing>=2.2.1 in /Users/nguyenhuuminh/Works/env/lib/python3.8/site-packages (from matplotlib==3.5.0) (3.0.6)\n",
      "Requirement already satisfied: fonttools>=4.22.0 in /Users/nguyenhuuminh/Works/env/lib/python3.8/site-packages (from matplotlib==3.5.0) (4.28.1)\n",
      "Requirement already satisfied: six>=1.5 in /Users/nguyenhuuminh/Works/env/lib/python3.8/site-packages (from python-dateutil>=2.7->matplotlib==3.5.0) (1.16.0)\n",
      "Requirement already satisfied: tomli>=1.0.0 in /Users/nguyenhuuminh/Works/env/lib/python3.8/site-packages (from setuptools-scm>=4->matplotlib==3.5.0) (1.2.2)\n",
      "Requirement already satisfied: setuptools in /Users/nguyenhuuminh/Works/env/lib/python3.8/site-packages (from setuptools-scm>=4->matplotlib==3.5.0) (57.4.0)\n",
      "\u001b[33mWARNING: You are using pip version 21.2.2; however, version 21.3.1 is available.\n",
      "You should consider upgrading via the '/Users/nguyenhuuminh/Works/env/bin/python -m pip install --upgrade pip' command.\u001b[0m\n"
     ]
    }
   ],
   "source": [
    "!pip install numpy==1.21.4\n",
    "!pip install pandas==1.3.4\n",
    "!pip install matplotlib==3.5.0"
   ]
  },
  {
   "cell_type": "markdown",
   "id": "0ceb6a50-51a6-4357-87c3-034b8493facb",
   "metadata": {},
   "source": [
    "## 3. Import the library into Python code"
   ]
  },
  {
   "cell_type": "markdown",
   "id": "fe5b55ee-ec38-4d28-9331-9be2c251e8eb",
   "metadata": {},
   "source": [
    "### 3.1. Import internal library"
   ]
  },
  {
   "cell_type": "code",
   "execution_count": 5,
   "id": "ce3735c1-0b5f-48f2-8e31-a026409ee418",
   "metadata": {},
   "outputs": [],
   "source": [
    "import math\n",
    "import json\n",
    "import os"
   ]
  },
  {
   "cell_type": "code",
   "execution_count": 6,
   "id": "27f049ea-3a6d-49f2-8447-15aa5e0a648a",
   "metadata": {},
   "outputs": [
    {
     "name": "stdout",
     "output_type": "stream",
     "text": [
      "3.141592653589793\n"
     ]
    }
   ],
   "source": [
    "print(math.pi)"
   ]
  },
  {
   "cell_type": "markdown",
   "id": "8888baca-6c43-48dc-a069-6e4212361514",
   "metadata": {
    "tags": []
   },
   "source": [
    "### 3.2. Import modules from internal library"
   ]
  },
  {
   "cell_type": "code",
   "execution_count": 1,
   "id": "48a221c1-6408-497b-8651-cabc99a6c9da",
   "metadata": {},
   "outputs": [],
   "source": [
    "from math import pi"
   ]
  },
  {
   "cell_type": "code",
   "execution_count": 2,
   "id": "dd61bcc9-bacd-4f4a-8bdc-72706912a452",
   "metadata": {},
   "outputs": [
    {
     "name": "stdout",
     "output_type": "stream",
     "text": [
      "3.141592653589793\n"
     ]
    }
   ],
   "source": [
    "print(pi)"
   ]
  },
  {
   "cell_type": "code",
   "execution_count": 4,
   "id": "fe32bd0e-cf7f-4f1d-b79b-7ff3008102f0",
   "metadata": {},
   "outputs": [],
   "source": [
    "from math import pi, e"
   ]
  },
  {
   "cell_type": "code",
   "execution_count": 5,
   "id": "e7a511ad-740e-4c37-a0f1-bb86981c39bd",
   "metadata": {},
   "outputs": [
    {
     "name": "stdout",
     "output_type": "stream",
     "text": [
      "3.141592653589793\n",
      "2.718281828459045\n"
     ]
    }
   ],
   "source": [
    "print(pi)\n",
    "print(e)"
   ]
  },
  {
   "cell_type": "markdown",
   "id": "f4609eed-3aaa-4b92-a57c-85d301514a10",
   "metadata": {
    "tags": []
   },
   "source": [
    "### 3.3. Import all modules from library"
   ]
  },
  {
   "cell_type": "code",
   "execution_count": 4,
   "id": "8898239c-2ca3-40d6-baa8-dc7f32560493",
   "metadata": {},
   "outputs": [],
   "source": [
    "from math import *"
   ]
  },
  {
   "cell_type": "code",
   "execution_count": 3,
   "id": "3dfee946-bbbb-46c0-a4cb-04cc5354c497",
   "metadata": {},
   "outputs": [
    {
     "name": "stdout",
     "output_type": "stream",
     "text": [
      "3.141592653589793\n",
      "2.718281828459045\n"
     ]
    }
   ],
   "source": [
    "print(pi)\n",
    "print(e)"
   ]
  },
  {
   "cell_type": "markdown",
   "id": "f2a0349e-7cd1-42d9-895e-4d860ad35317",
   "metadata": {
    "tags": []
   },
   "source": [
    "### 3.4. Set module alias while importing"
   ]
  },
  {
   "cell_type": "code",
   "execution_count": 3,
   "id": "0a4cfec0-2318-4135-bfa6-d56baba2c02f",
   "metadata": {},
   "outputs": [],
   "source": [
    "from math import pi as pi_number"
   ]
  },
  {
   "cell_type": "code",
   "execution_count": 4,
   "id": "a49ec1d6-db8a-4a1d-a86d-9d0d87e50e30",
   "metadata": {},
   "outputs": [
    {
     "name": "stdout",
     "output_type": "stream",
     "text": [
      "3.141592653589793\n"
     ]
    }
   ],
   "source": [
    "print(pi_number)"
   ]
  },
  {
   "cell_type": "code",
   "execution_count": 7,
   "id": "5e7e4b7a-6bd8-45a3-bbda-fa552d1aa1bb",
   "metadata": {},
   "outputs": [],
   "source": [
    "from math import pi as pi_number, e as e_number"
   ]
  },
  {
   "cell_type": "code",
   "execution_count": 8,
   "id": "fe4437ca-c527-4ca5-b3d1-f69350b97c03",
   "metadata": {},
   "outputs": [
    {
     "name": "stdout",
     "output_type": "stream",
     "text": [
      "3.141592653589793\n",
      "2.718281828459045\n"
     ]
    }
   ],
   "source": [
    "print(pi_number)\n",
    "print(e_number)"
   ]
  },
  {
   "cell_type": "markdown",
   "id": "a94c71ab-f91d-4f4d-9133-5247f97ba4ae",
   "metadata": {},
   "source": [
    "### 3.5. Import external libraries"
   ]
  },
  {
   "cell_type": "code",
   "execution_count": 1,
   "id": "46e21b2e-9c1e-4779-a010-2f01c594591c",
   "metadata": {},
   "outputs": [],
   "source": [
    "import numpy\n",
    "import pandas\n",
    "import matplotlib"
   ]
  },
  {
   "cell_type": "code",
   "execution_count": 2,
   "id": "363602eb-712f-4d26-b1d6-29e92d4edb7e",
   "metadata": {
    "tags": []
   },
   "outputs": [
    {
     "ename": "ModuleNotFoundError",
     "evalue": "No module named 'torch'",
     "output_type": "error",
     "traceback": [
      "\u001b[0;31m---------------------------------------------------------------------------\u001b[0m",
      "\u001b[0;31mModuleNotFoundError\u001b[0m                       Traceback (most recent call last)",
      "\u001b[0;32m/var/folders/9m/8kxkp3s10g9gnjlz2bk_8zs00000gp/T/ipykernel_15284/798162075.py\u001b[0m in \u001b[0;36m<module>\u001b[0;34m\u001b[0m\n\u001b[1;32m      1\u001b[0m \u001b[0;31m# Error while import library that haven't been installed\u001b[0m\u001b[0;34m\u001b[0m\u001b[0;34m\u001b[0m\u001b[0;34m\u001b[0m\u001b[0m\n\u001b[0;32m----> 2\u001b[0;31m \u001b[0;32mimport\u001b[0m \u001b[0mtorch\u001b[0m\u001b[0;34m\u001b[0m\u001b[0;34m\u001b[0m\u001b[0m\n\u001b[0m",
      "\u001b[0;31mModuleNotFoundError\u001b[0m: No module named 'torch'"
     ]
    }
   ],
   "source": [
    "# Error while import library that haven't been installed\n",
    "import torch"
   ]
  }
 ],
 "metadata": {
  "kernelspec": {
   "display_name": "Python 3 (ipykernel)",
   "language": "python",
   "name": "python3"
  },
  "language_info": {
   "codemirror_mode": {
    "name": "ipython",
    "version": 3
   },
   "file_extension": ".py",
   "mimetype": "text/x-python",
   "name": "python",
   "nbconvert_exporter": "python",
   "pygments_lexer": "ipython3",
   "version": "3.8.12"
  },
  "toc": {
   "base_numbering": 1,
   "nav_menu": {},
   "number_sections": false,
   "sideBar": true,
   "skip_h1_title": false,
   "title_cell": "Table of Contents",
   "title_sidebar": "Table of Contents",
   "toc_cell": false,
   "toc_position": {
    "height": "calc(100% - 180px)",
    "left": "10px",
    "top": "150px",
    "width": "231px"
   },
   "toc_section_display": true,
   "toc_window_display": true
  }
 },
 "nbformat": 4,
 "nbformat_minor": 5
}
