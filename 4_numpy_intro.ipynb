{
 "cells": [
  {
   "cell_type": "markdown",
   "id": "28ed965f-2f18-47bd-b761-a88fbdf156c4",
   "metadata": {},
   "source": [
    "# LESSON 4: NUMPY INTRODUCTION\n",
    "<img src=\"image/np_logo.png\" width=\"400px\"/>"
   ]
  },
  {
   "cell_type": "markdown",
   "id": "dca9cda2-9b90-4ee1-8ef4-5dcc9c5ce11a",
   "metadata": {
    "jp-MarkdownHeadingCollapsed": true,
    "tags": []
   },
   "source": [
    "## 1. Overall introduction\n",
    "\"The fundamental package for scientific computing with Python.\" <br>\n",
    "NumPy official document is available [here](https://numpy.org/doc/stable/). <br>\n",
    "NumPy official open-source is [here](https://github.com/numpy/numpy). <br>\n",
    "Compare with Python `list`, NumPy is FAST and MEMORY EFFIENCY!!! (computing on vector and single data type)"
   ]
  },
  {
   "cell_type": "markdown",
   "id": "6537d173",
   "metadata": {},
   "source": [
    "### 1.1. Vectorization"
   ]
  },
  {
   "cell_type": "code",
   "execution_count": null,
   "id": "3c8bc8ea",
   "metadata": {
    "ExecuteTime": {
     "end_time": "2021-12-19T07:52:38.536722Z",
     "start_time": "2021-12-19T07:52:37.435031Z"
    }
   },
   "outputs": [],
   "source": [
    "# Python list\n",
    "\n",
    "list_a = [1, 2, 3] * 1_000_000\n",
    "list_b = [10, 11, 12] * 1_000_000\n",
    "list_results = []\n",
    "\n",
    "for index in range(len(list_a)):\n",
    "    list_results.append(list_a[index] + list_b[index])\n",
    "\n",
    "# print(list_results)"
   ]
  },
  {
   "cell_type": "code",
   "execution_count": null,
   "id": "b3a41bc8",
   "metadata": {
    "ExecuteTime": {
     "end_time": "2021-12-19T07:52:39.842642Z",
     "start_time": "2021-12-19T07:52:39.239827Z"
    }
   },
   "outputs": [],
   "source": [
    "# Numpy\n",
    "\n",
    "np_a = np.array([1, 2, 3] * 1_000_000)\n",
    "np_b = np.array([10, 11, 12] * 1_000_000)\n",
    "\n",
    "np_results = np_a + np_b\n",
    "# print(np_results)"
   ]
  },
  {
   "cell_type": "markdown",
   "id": "42e69ebb",
   "metadata": {},
   "source": [
    "### 1.2. Broadcasting\n",
    "<img src=\"image/np_broadcast_1.png\" width=\"400px\"/>\n",
    "\n",
    "In the simplest example of broadcasting, the scalar `b` is stretched to become an array of same shape as `a` so the shapes are compatible for element-by-element multiplication.\n",
    "\n",
    "<img src=\"image/np_broadcast_2.png\" width=\"400px\"/>\n",
    "\n",
    "A two dimensional array added by a one dimensional array results in broadcasting if number of 1-d array elements matches the number of 2-d array columns.\n",
    "\n",
    "<img src=\"image/np_broadcast_3.png\" width=\"400px\"/>\n",
    "\n",
    "In some cases, broadcasting stretches both arrays to form an output array larger than either of the initial arrays.\n",
    "\n",
    "<img src=\"image/np_broadcast_4.png\" width=\"400px\"/>\n",
    "\n",
    "When the trailing dimensions of the arrays are unequal, broadcasting fails because it is impossible to align the values in the rows of the 1st array with the elements of the 2nd arrays for element-by-element addition."
   ]
  },
  {
   "cell_type": "markdown",
   "id": "057dbaec-4eb3-4c0a-8913-e5ef7b561921",
   "metadata": {
    "tags": []
   },
   "source": [
    "## 2. Install and import numpy"
   ]
  },
  {
   "cell_type": "code",
   "execution_count": null,
   "id": "faa3ecba-45c8-4b12-b22f-126fdaf67304",
   "metadata": {
    "jupyter": {
     "outputs_hidden": true
    },
    "tags": []
   },
   "outputs": [],
   "source": [
    "!pip install numpy"
   ]
  },
  {
   "cell_type": "code",
   "execution_count": null,
   "id": "f5e3463a-0bec-4be4-a8b8-7c7b44ced846",
   "metadata": {
    "ExecuteTime": {
     "end_time": "2021-12-23T12:30:24.908737Z",
     "start_time": "2021-12-23T12:30:20.982096Z"
    }
   },
   "outputs": [],
   "source": [
    "import numpy as np"
   ]
  },
  {
   "cell_type": "markdown",
   "id": "4f2d8474",
   "metadata": {
    "tags": []
   },
   "source": [
    "## 3. Get started with numpy ndarray\n",
    "<img src=\"image/np_array.png\" width=\"500px\"/>\n",
    "\n",
    "### Create ndarray\n",
    "| Data type\t    | Description |\n",
    "|---------------|-------------|\n",
    "| ``bool_``     | Boolean (True or False) stored as a byte |\n",
    "| ``int_``      | Default integer type (same as C ``long``; normally either ``int64`` or ``int32``)| \n",
    "| ``intc``      | Identical to C ``int`` (normally ``int32`` or ``int64``)| \n",
    "| ``intp``      | Integer used for indexing (same as C ``ssize_t``; normally either ``int32`` or ``int64``)| \n",
    "| ``int8``      | Byte (-128 to 127)| \n",
    "| ``int16``     | Integer (-32768 to 32767)|\n",
    "| ``int32``     | Integer (-2147483648 to 2147483647)|\n",
    "| ``int64``     | Integer (-9223372036854775808 to 9223372036854775807)| \n",
    "| ``uint8``     | Unsigned integer (0 to 255)| \n",
    "| ``uint16``    | Unsigned integer (0 to 65535)| \n",
    "| ``uint32``    | Unsigned integer (0 to 4294967295)| \n",
    "| ``uint64``    | Unsigned integer (0 to 18446744073709551615)| \n",
    "| ``float_``    | Shorthand for ``float64``.| \n",
    "| ``float16``   | Half precision float: sign bit, 5 bits exponent, 10 bits mantissa| \n",
    "| ``float32``   | Single precision float: sign bit, 8 bits exponent, 23 bits mantissa| \n",
    "| ``float64``   | Double precision float: sign bit, 11 bits exponent, 52 bits mantissa| \n",
    "| ``complex_``  | Shorthand for ``complex128``.| \n",
    "| ``complex64`` | Complex number, represented by two 32-bit floats| \n",
    "| ``complex128``| Complex number, represented by two 64-bit floats|"
   ]
  },
  {
   "cell_type": "code",
   "execution_count": null,
   "id": "fcd8649a-4f36-4be5-961b-939b59841c99",
   "metadata": {
    "ExecuteTime": {
     "end_time": "2021-12-19T08:02:41.219727Z",
     "start_time": "2021-12-19T08:02:41.193650Z"
    }
   },
   "outputs": [],
   "source": [
    "# Create a length-10 integer array filled with zeros\n",
    "np.zeros(10, dtype=int)"
   ]
  },
  {
   "cell_type": "code",
   "execution_count": null,
   "id": "7b7c000b",
   "metadata": {
    "ExecuteTime": {
     "end_time": "2021-12-19T08:03:04.395000Z",
     "start_time": "2021-12-19T08:03:04.385136Z"
    }
   },
   "outputs": [],
   "source": [
    "# Create a 3x5 floating-point array filled with ones\n",
    "np.ones((3, 5), dtype=float)"
   ]
  },
  {
   "cell_type": "code",
   "execution_count": null,
   "id": "623cafa1",
   "metadata": {
    "ExecuteTime": {
     "end_time": "2021-12-19T08:03:28.570170Z",
     "start_time": "2021-12-19T08:03:28.562569Z"
    }
   },
   "outputs": [],
   "source": [
    "# Create a 3x5 array filled with 3.14\n",
    "np.full((3, 5), np.pi)"
   ]
  },
  {
   "cell_type": "code",
   "execution_count": null,
   "id": "c2d07dda",
   "metadata": {
    "ExecuteTime": {
     "end_time": "2021-12-19T08:03:40.155329Z",
     "start_time": "2021-12-19T08:03:40.146799Z"
    }
   },
   "outputs": [],
   "source": [
    "# Create an array filled with a linear sequence\n",
    "# Starting at 0, ending at 20, stepping by 2\n",
    "# (this is similar to the built-in range() function)\n",
    "np.arange(0, 20, 2)"
   ]
  },
  {
   "cell_type": "code",
   "execution_count": null,
   "id": "8a61c00b",
   "metadata": {
    "ExecuteTime": {
     "end_time": "2021-12-19T08:03:55.899548Z",
     "start_time": "2021-12-19T08:03:55.892916Z"
    }
   },
   "outputs": [],
   "source": [
    "# Create an array of five values evenly spaced between 0 and 1\n",
    "np.linspace(0, 1, 5)"
   ]
  },
  {
   "cell_type": "code",
   "execution_count": null,
   "id": "3f5e8eac",
   "metadata": {
    "ExecuteTime": {
     "end_time": "2021-12-19T08:04:15.308812Z",
     "start_time": "2021-12-19T08:04:15.287914Z"
    }
   },
   "outputs": [],
   "source": [
    "# Create a 3x3 array of uniformly distributed\n",
    "# random values between 0 and 1\n",
    "np.random.random((3, 3))"
   ]
  },
  {
   "cell_type": "code",
   "execution_count": null,
   "id": "4e9de9fa",
   "metadata": {
    "ExecuteTime": {
     "end_time": "2021-12-19T08:04:33.091843Z",
     "start_time": "2021-12-19T08:04:33.079584Z"
    }
   },
   "outputs": [],
   "source": [
    "# Create a 3x3 array of normally distributed random values\n",
    "# with mean 0 and standard deviation 1\n",
    "np.random.normal(0, 1, (3, 3))"
   ]
  },
  {
   "cell_type": "markdown",
   "id": "0ebd402a",
   "metadata": {
    "tags": []
   },
   "source": [
    "### Show ndarray's attributes"
   ]
  },
  {
   "cell_type": "code",
   "execution_count": null,
   "id": "21aa31f8",
   "metadata": {
    "ExecuteTime": {
     "end_time": "2021-12-19T08:17:05.657478Z",
     "start_time": "2021-12-19T08:17:05.644770Z"
    }
   },
   "outputs": [],
   "source": [
    "x = np.random.randint(10, size=(3, 4, 5))\n",
    "x"
   ]
  },
  {
   "cell_type": "code",
   "execution_count": null,
   "id": "abcb997c",
   "metadata": {
    "ExecuteTime": {
     "end_time": "2021-12-19T08:06:34.180090Z",
     "start_time": "2021-12-19T08:06:34.170234Z"
    }
   },
   "outputs": [],
   "source": [
    "x.ndim # Number of dimensions"
   ]
  },
  {
   "cell_type": "code",
   "execution_count": null,
   "id": "c2dea2bf",
   "metadata": {
    "ExecuteTime": {
     "end_time": "2021-12-19T08:06:46.836377Z",
     "start_time": "2021-12-19T08:06:46.827531Z"
    }
   },
   "outputs": [],
   "source": [
    "x.shape # Detail size each dimension"
   ]
  },
  {
   "cell_type": "code",
   "execution_count": null,
   "id": "8aaef0e3",
   "metadata": {
    "ExecuteTime": {
     "end_time": "2021-12-19T08:06:55.536345Z",
     "start_time": "2021-12-19T08:06:55.508374Z"
    }
   },
   "outputs": [],
   "source": [
    "x.size # Total elements in array"
   ]
  },
  {
   "cell_type": "code",
   "execution_count": null,
   "id": "9325d31c",
   "metadata": {
    "ExecuteTime": {
     "end_time": "2021-12-19T08:07:02.029932Z",
     "start_time": "2021-12-19T08:07:02.020358Z"
    }
   },
   "outputs": [],
   "source": [
    "x.dtype # Data type used in array"
   ]
  },
  {
   "cell_type": "code",
   "execution_count": null,
   "id": "96781460",
   "metadata": {
    "ExecuteTime": {
     "end_time": "2021-12-19T08:07:06.972899Z",
     "start_time": "2021-12-19T08:07:06.959521Z"
    }
   },
   "outputs": [],
   "source": [
    "x.itemsize # Size (in bytes) of each element"
   ]
  },
  {
   "cell_type": "code",
   "execution_count": null,
   "id": "44c1228b",
   "metadata": {
    "ExecuteTime": {
     "end_time": "2021-12-19T08:07:23.391325Z",
     "start_time": "2021-12-19T08:07:23.379988Z"
    }
   },
   "outputs": [],
   "source": [
    "x.nbytes # Total size of all elements in array"
   ]
  },
  {
   "cell_type": "markdown",
   "id": "b3e359e7",
   "metadata": {},
   "source": [
    "### Access elements in ndarray by index"
   ]
  },
  {
   "cell_type": "code",
   "execution_count": null,
   "id": "e54d8412",
   "metadata": {
    "ExecuteTime": {
     "end_time": "2021-12-19T08:16:48.746906Z",
     "start_time": "2021-12-19T08:16:48.739220Z"
    }
   },
   "outputs": [],
   "source": [
    "x"
   ]
  },
  {
   "cell_type": "code",
   "execution_count": null,
   "id": "3c48d6ab",
   "metadata": {
    "ExecuteTime": {
     "end_time": "2021-12-19T08:09:01.709580Z",
     "start_time": "2021-12-19T08:09:01.689915Z"
    }
   },
   "outputs": [],
   "source": [
    "x[1]"
   ]
  },
  {
   "cell_type": "code",
   "execution_count": null,
   "id": "8bb7ffc1",
   "metadata": {
    "ExecuteTime": {
     "end_time": "2021-12-19T08:11:21.586110Z",
     "start_time": "2021-12-19T08:11:21.558190Z"
    }
   },
   "outputs": [],
   "source": [
    "x[1, 1]"
   ]
  },
  {
   "cell_type": "code",
   "execution_count": null,
   "id": "74048935",
   "metadata": {
    "ExecuteTime": {
     "end_time": "2021-12-19T08:11:46.691311Z",
     "start_time": "2021-12-19T08:11:46.684833Z"
    }
   },
   "outputs": [],
   "source": [
    "x[1, 1, 1]"
   ]
  },
  {
   "cell_type": "code",
   "execution_count": null,
   "id": "7ae1ceb8",
   "metadata": {
    "ExecuteTime": {
     "end_time": "2021-12-19T08:16:51.398483Z",
     "start_time": "2021-12-19T08:16:51.392456Z"
    }
   },
   "outputs": [],
   "source": [
    "x[1, 1, 1] = 999\n",
    "x"
   ]
  },
  {
   "cell_type": "code",
   "execution_count": null,
   "id": "12d21e32",
   "metadata": {
    "ExecuteTime": {
     "end_time": "2021-12-19T08:12:44.125770Z",
     "start_time": "2021-12-19T08:12:44.117899Z"
    }
   },
   "outputs": [],
   "source": [
    "x[-1]"
   ]
  },
  {
   "cell_type": "markdown",
   "id": "7a72cb0d",
   "metadata": {},
   "source": [
    "### Slice ndarray by index and `:`\n",
    "<img src=\"image/np_slice.jpeg\" width=\"400px\"/>"
   ]
  },
  {
   "cell_type": "code",
   "execution_count": null,
   "id": "6ec33b70",
   "metadata": {
    "ExecuteTime": {
     "end_time": "2021-12-19T08:17:10.861353Z",
     "start_time": "2021-12-19T08:17:10.854693Z"
    }
   },
   "outputs": [],
   "source": [
    "x"
   ]
  },
  {
   "cell_type": "code",
   "execution_count": null,
   "id": "c4322f32",
   "metadata": {
    "ExecuteTime": {
     "end_time": "2021-12-19T08:17:12.808085Z",
     "start_time": "2021-12-19T08:17:12.800221Z"
    }
   },
   "outputs": [],
   "source": [
    "x[1:]"
   ]
  },
  {
   "cell_type": "code",
   "execution_count": null,
   "id": "8ee74f81",
   "metadata": {
    "ExecuteTime": {
     "end_time": "2021-12-19T08:17:13.477561Z",
     "start_time": "2021-12-19T08:17:13.467973Z"
    }
   },
   "outputs": [],
   "source": [
    "x[1:, 1:]"
   ]
  },
  {
   "cell_type": "code",
   "execution_count": null,
   "id": "802e11ae",
   "metadata": {
    "ExecuteTime": {
     "end_time": "2021-12-19T08:17:15.477509Z",
     "start_time": "2021-12-19T08:17:15.461460Z"
    }
   },
   "outputs": [],
   "source": [
    "x[1:, 1:, 1:]"
   ]
  },
  {
   "cell_type": "code",
   "execution_count": null,
   "id": "559e1eb8",
   "metadata": {
    "ExecuteTime": {
     "end_time": "2021-12-19T08:17:37.386960Z",
     "start_time": "2021-12-19T08:17:37.369363Z"
    }
   },
   "outputs": [],
   "source": [
    "x[1:, 1:, 1:] = np.full((2, 3, 4), 888)\n",
    "x"
   ]
  },
  {
   "cell_type": "markdown",
   "id": "c4a4b049",
   "metadata": {},
   "source": [
    "### Slice ndarray with step"
   ]
  },
  {
   "cell_type": "code",
   "execution_count": null,
   "id": "696c84a3",
   "metadata": {
    "ExecuteTime": {
     "end_time": "2021-12-19T08:18:15.044408Z",
     "start_time": "2021-12-19T08:18:15.028072Z"
    }
   },
   "outputs": [],
   "source": [
    "y = x[0, 0]\n",
    "y"
   ]
  },
  {
   "cell_type": "code",
   "execution_count": null,
   "id": "2a155db2",
   "metadata": {
    "ExecuteTime": {
     "end_time": "2021-12-19T08:19:12.665351Z",
     "start_time": "2021-12-19T08:19:12.656980Z"
    }
   },
   "outputs": [],
   "source": [
    "y[::2] # start = 0 (first index), stop = 5 (last index + 1), step = 2"
   ]
  },
  {
   "cell_type": "code",
   "execution_count": null,
   "id": "48dd2f8e",
   "metadata": {
    "ExecuteTime": {
     "end_time": "2021-12-19T08:19:59.498193Z",
     "start_time": "2021-12-19T08:19:59.487830Z"
    }
   },
   "outputs": [],
   "source": [
    "y[::-2] # step is negative => start and stop are swapped"
   ]
  },
  {
   "cell_type": "markdown",
   "id": "758de705",
   "metadata": {},
   "source": [
    "## 4. Computation on ndarrays\n",
    "| Operator\t    | Equivalent ufunc    | Description                           |\n",
    "|---------------|---------------------|---------------------------------------|\n",
    "|``+``          |``np.add``           |Addition (e.g., ``1 + 1 = 2``)         |\n",
    "|``-``          |``np.subtract``      |Subtraction (e.g., ``3 - 2 = 1``)      |\n",
    "|``-``          |``np.negative``      |Unary negation (e.g., ``-2``)          |\n",
    "|``*``          |``np.multiply``      |Multiplication (e.g., ``2 * 3 = 6``)   |\n",
    "|``/``          |``np.divide``        |Division (e.g., ``3 / 2 = 1.5``)       |\n",
    "|``//``         |``np.floor_divide``  |Floor division (e.g., ``3 // 2 = 1``)  |\n",
    "|``**``         |``np.power``         |Exponentiation (e.g., ``2 ** 3 = 8``)  |\n",
    "|``%``          |``np.mod``           |Modulus/remainder (e.g., ``9 % 4 = 1``)|"
   ]
  },
  {
   "cell_type": "code",
   "execution_count": null,
   "id": "69d99773",
   "metadata": {
    "ExecuteTime": {
     "end_time": "2021-12-19T08:22:28.984509Z",
     "start_time": "2021-12-19T08:22:28.973208Z"
    }
   },
   "outputs": [],
   "source": [
    "x = np.arange(5)\n",
    "x"
   ]
  },
  {
   "cell_type": "code",
   "execution_count": null,
   "id": "c49ca0f0",
   "metadata": {
    "ExecuteTime": {
     "end_time": "2021-12-19T08:22:34.666795Z",
     "start_time": "2021-12-19T08:22:34.656860Z"
    }
   },
   "outputs": [],
   "source": [
    "y = np.arange(10, 20, 2)\n",
    "y"
   ]
  },
  {
   "cell_type": "code",
   "execution_count": null,
   "id": "a07a8f56",
   "metadata": {
    "ExecuteTime": {
     "end_time": "2021-12-19T08:22:40.688669Z",
     "start_time": "2021-12-19T08:22:40.678943Z"
    }
   },
   "outputs": [],
   "source": [
    "x + 10"
   ]
  },
  {
   "cell_type": "code",
   "execution_count": null,
   "id": "637ba492",
   "metadata": {
    "ExecuteTime": {
     "end_time": "2021-12-19T08:23:46.367916Z",
     "start_time": "2021-12-19T08:23:46.355464Z"
    }
   },
   "outputs": [],
   "source": [
    "np.add(x, 10)"
   ]
  },
  {
   "cell_type": "code",
   "execution_count": null,
   "id": "46bcada2",
   "metadata": {
    "ExecuteTime": {
     "end_time": "2021-12-19T08:24:01.240248Z",
     "start_time": "2021-12-19T08:24:01.233427Z"
    }
   },
   "outputs": [],
   "source": [
    "x + y"
   ]
  },
  {
   "cell_type": "code",
   "execution_count": null,
   "id": "8df12807",
   "metadata": {
    "ExecuteTime": {
     "end_time": "2021-12-19T08:24:06.941366Z",
     "start_time": "2021-12-19T08:24:06.932837Z"
    }
   },
   "outputs": [],
   "source": [
    "np.add(x, y)"
   ]
  },
  {
   "cell_type": "code",
   "execution_count": null,
   "id": "0efef391",
   "metadata": {
    "ExecuteTime": {
     "end_time": "2021-12-19T08:24:12.848405Z",
     "start_time": "2021-12-19T08:24:12.838883Z"
    }
   },
   "outputs": [],
   "source": [
    "x - 2"
   ]
  },
  {
   "cell_type": "code",
   "execution_count": null,
   "id": "9f8638c5",
   "metadata": {
    "ExecuteTime": {
     "end_time": "2021-12-19T08:24:17.731995Z",
     "start_time": "2021-12-19T08:24:17.718203Z"
    },
    "scrolled": true
   },
   "outputs": [],
   "source": [
    "np.subtract(x, 2)"
   ]
  },
  {
   "cell_type": "code",
   "execution_count": null,
   "id": "3bf3a104",
   "metadata": {
    "ExecuteTime": {
     "end_time": "2021-12-19T08:24:22.470813Z",
     "start_time": "2021-12-19T08:24:22.460721Z"
    }
   },
   "outputs": [],
   "source": [
    "x - y"
   ]
  },
  {
   "cell_type": "code",
   "execution_count": null,
   "id": "b757b16c",
   "metadata": {
    "ExecuteTime": {
     "end_time": "2021-12-19T08:24:26.542494Z",
     "start_time": "2021-12-19T08:24:26.532625Z"
    },
    "scrolled": true
   },
   "outputs": [],
   "source": [
    "np.subtract(x, y)"
   ]
  },
  {
   "cell_type": "code",
   "execution_count": null,
   "id": "2a37bba8",
   "metadata": {
    "ExecuteTime": {
     "end_time": "2021-12-19T08:24:44.379620Z",
     "start_time": "2021-12-19T08:24:44.370711Z"
    }
   },
   "outputs": [],
   "source": [
    "x * 3"
   ]
  },
  {
   "cell_type": "code",
   "execution_count": null,
   "id": "19210df5",
   "metadata": {
    "ExecuteTime": {
     "end_time": "2021-12-19T08:24:47.812575Z",
     "start_time": "2021-12-19T08:24:47.647254Z"
    }
   },
   "outputs": [],
   "source": [
    "np.multiply(x, 3)"
   ]
  },
  {
   "cell_type": "code",
   "execution_count": null,
   "id": "07056653",
   "metadata": {
    "ExecuteTime": {
     "end_time": "2021-12-19T08:24:53.900878Z",
     "start_time": "2021-12-19T08:24:53.891389Z"
    }
   },
   "outputs": [],
   "source": [
    "x * y"
   ]
  },
  {
   "cell_type": "code",
   "execution_count": null,
   "id": "5ffdcac8",
   "metadata": {
    "ExecuteTime": {
     "end_time": "2021-12-19T08:25:05.994681Z",
     "start_time": "2021-12-19T08:25:05.986616Z"
    }
   },
   "outputs": [],
   "source": [
    "np.multiply(x, y)"
   ]
  },
  {
   "cell_type": "code",
   "execution_count": null,
   "id": "9eaff839",
   "metadata": {
    "ExecuteTime": {
     "end_time": "2021-12-19T08:25:09.533536Z",
     "start_time": "2021-12-19T08:25:09.520943Z"
    }
   },
   "outputs": [],
   "source": [
    "x / 2"
   ]
  },
  {
   "cell_type": "code",
   "execution_count": null,
   "id": "a7057e49",
   "metadata": {
    "ExecuteTime": {
     "end_time": "2021-12-19T08:25:12.352398Z",
     "start_time": "2021-12-19T08:25:12.338066Z"
    }
   },
   "outputs": [],
   "source": [
    "np.divide(x, 2)"
   ]
  },
  {
   "cell_type": "code",
   "execution_count": null,
   "id": "12c8ffd5",
   "metadata": {
    "ExecuteTime": {
     "end_time": "2021-12-19T08:25:15.985698Z",
     "start_time": "2021-12-19T08:25:15.969025Z"
    }
   },
   "outputs": [],
   "source": [
    "x / y"
   ]
  },
  {
   "cell_type": "code",
   "execution_count": null,
   "id": "5ddce871",
   "metadata": {
    "ExecuteTime": {
     "end_time": "2021-12-19T08:25:46.203173Z",
     "start_time": "2021-12-19T08:25:46.195461Z"
    }
   },
   "outputs": [],
   "source": [
    "np.divide(x, y)"
   ]
  },
  {
   "cell_type": "code",
   "execution_count": null,
   "id": "2fa633ab",
   "metadata": {
    "ExecuteTime": {
     "end_time": "2021-12-19T08:25:48.316889Z",
     "start_time": "2021-12-19T08:25:48.303757Z"
    }
   },
   "outputs": [],
   "source": [
    "x // 2"
   ]
  },
  {
   "cell_type": "code",
   "execution_count": null,
   "id": "aad45466",
   "metadata": {
    "ExecuteTime": {
     "end_time": "2021-12-19T08:25:50.274161Z",
     "start_time": "2021-12-19T08:25:50.267749Z"
    }
   },
   "outputs": [],
   "source": [
    "np.floor_divide(x, 2)"
   ]
  },
  {
   "cell_type": "code",
   "execution_count": null,
   "id": "35f65bf6",
   "metadata": {
    "ExecuteTime": {
     "end_time": "2021-12-19T08:25:53.413873Z",
     "start_time": "2021-12-19T08:25:53.403184Z"
    }
   },
   "outputs": [],
   "source": [
    "x // y"
   ]
  },
  {
   "cell_type": "code",
   "execution_count": null,
   "id": "220d18a5",
   "metadata": {
    "ExecuteTime": {
     "end_time": "2021-12-19T08:25:56.303119Z",
     "start_time": "2021-12-19T08:25:56.295478Z"
    }
   },
   "outputs": [],
   "source": [
    "np.floor_divide(x, y)"
   ]
  },
  {
   "cell_type": "code",
   "execution_count": null,
   "id": "626f5120",
   "metadata": {
    "ExecuteTime": {
     "end_time": "2021-12-19T08:25:59.709845Z",
     "start_time": "2021-12-19T08:25:59.698935Z"
    }
   },
   "outputs": [],
   "source": [
    "x % 2"
   ]
  },
  {
   "cell_type": "code",
   "execution_count": null,
   "id": "988e4484",
   "metadata": {
    "ExecuteTime": {
     "end_time": "2021-12-19T08:26:00.761634Z",
     "start_time": "2021-12-19T08:26:00.752677Z"
    }
   },
   "outputs": [],
   "source": [
    "np.mod(x, 2)"
   ]
  },
  {
   "cell_type": "code",
   "execution_count": null,
   "id": "464a215b",
   "metadata": {
    "ExecuteTime": {
     "end_time": "2021-12-19T08:26:04.561425Z",
     "start_time": "2021-12-19T08:26:04.553693Z"
    }
   },
   "outputs": [],
   "source": [
    "x % y"
   ]
  },
  {
   "cell_type": "code",
   "execution_count": null,
   "id": "b0db72b7",
   "metadata": {
    "ExecuteTime": {
     "end_time": "2021-12-19T08:26:07.458146Z",
     "start_time": "2021-12-19T08:26:07.451517Z"
    }
   },
   "outputs": [],
   "source": [
    "np.mod(x, y)"
   ]
  },
  {
   "cell_type": "code",
   "execution_count": null,
   "id": "dfaa9359",
   "metadata": {
    "ExecuteTime": {
     "end_time": "2021-12-19T08:26:11.522142Z",
     "start_time": "2021-12-19T08:26:11.512436Z"
    }
   },
   "outputs": [],
   "source": [
    "x ** 2"
   ]
  },
  {
   "cell_type": "code",
   "execution_count": null,
   "id": "bc524f21",
   "metadata": {
    "ExecuteTime": {
     "end_time": "2021-12-19T08:26:12.256504Z",
     "start_time": "2021-12-19T08:26:12.248139Z"
    }
   },
   "outputs": [],
   "source": [
    "np.power(x, 2)"
   ]
  },
  {
   "cell_type": "code",
   "execution_count": null,
   "id": "c5b25209",
   "metadata": {
    "ExecuteTime": {
     "end_time": "2021-12-19T08:26:13.653795Z",
     "start_time": "2021-12-19T08:26:13.644881Z"
    }
   },
   "outputs": [],
   "source": [
    "x ** y"
   ]
  },
  {
   "cell_type": "code",
   "execution_count": null,
   "id": "1fb38aea",
   "metadata": {
    "ExecuteTime": {
     "end_time": "2021-12-19T08:26:14.457392Z",
     "start_time": "2021-12-19T08:26:14.449682Z"
    }
   },
   "outputs": [],
   "source": [
    "np.power(x, y)"
   ]
  },
  {
   "cell_type": "code",
   "execution_count": null,
   "id": "6f466ea4",
   "metadata": {
    "ExecuteTime": {
     "end_time": "2021-12-19T08:26:26.539186Z",
     "start_time": "2021-12-19T08:26:26.531989Z"
    }
   },
   "outputs": [],
   "source": [
    "pi_array = np.linspace(-1 * np.pi, np.pi, 5)\n",
    "pi_array"
   ]
  },
  {
   "cell_type": "code",
   "execution_count": null,
   "id": "f16aae1c",
   "metadata": {
    "ExecuteTime": {
     "end_time": "2021-12-19T08:26:40.827049Z",
     "start_time": "2021-12-19T08:26:40.817277Z"
    }
   },
   "outputs": [],
   "source": [
    "np.sin(pi_array)"
   ]
  },
  {
   "cell_type": "code",
   "execution_count": null,
   "id": "e612b277",
   "metadata": {
    "ExecuteTime": {
     "end_time": "2021-12-19T08:26:43.299002Z",
     "start_time": "2021-12-19T08:26:43.289685Z"
    }
   },
   "outputs": [],
   "source": [
    "np.cos(pi_array)"
   ]
  },
  {
   "cell_type": "code",
   "execution_count": null,
   "id": "7029b063",
   "metadata": {
    "ExecuteTime": {
     "end_time": "2021-12-19T08:26:45.048854Z",
     "start_time": "2021-12-19T08:26:45.027758Z"
    }
   },
   "outputs": [],
   "source": [
    "np.tan(pi_array)"
   ]
  },
  {
   "cell_type": "code",
   "execution_count": null,
   "id": "4a54295c",
   "metadata": {
    "ExecuteTime": {
     "end_time": "2021-12-19T08:26:46.764203Z",
     "start_time": "2021-12-19T08:26:46.755389Z"
    }
   },
   "outputs": [],
   "source": [
    "np.arcsin(np.sin(pi_array))"
   ]
  },
  {
   "cell_type": "code",
   "execution_count": null,
   "id": "69cb6765",
   "metadata": {
    "ExecuteTime": {
     "end_time": "2021-12-19T08:26:48.658486Z",
     "start_time": "2021-12-19T08:26:48.650310Z"
    }
   },
   "outputs": [],
   "source": [
    "np.arccos(np.cos(pi_array))"
   ]
  },
  {
   "cell_type": "code",
   "execution_count": null,
   "id": "19d33dd2",
   "metadata": {
    "ExecuteTime": {
     "end_time": "2021-12-19T08:26:50.419472Z",
     "start_time": "2021-12-19T08:26:50.410534Z"
    }
   },
   "outputs": [],
   "source": [
    "np.arctan(np.tan(pi_array))"
   ]
  },
  {
   "cell_type": "code",
   "execution_count": null,
   "id": "abe86dc6",
   "metadata": {
    "ExecuteTime": {
     "end_time": "2021-12-19T08:26:54.809972Z",
     "start_time": "2021-12-19T08:26:54.800698Z"
    }
   },
   "outputs": [],
   "source": [
    "np.exp(x)"
   ]
  },
  {
   "cell_type": "code",
   "execution_count": null,
   "id": "e274993f",
   "metadata": {
    "ExecuteTime": {
     "end_time": "2021-12-19T08:26:58.349853Z",
     "start_time": "2021-12-19T08:26:58.340338Z"
    }
   },
   "outputs": [],
   "source": [
    "np.exp2(x)"
   ]
  },
  {
   "cell_type": "code",
   "execution_count": null,
   "id": "a2f93110",
   "metadata": {
    "ExecuteTime": {
     "end_time": "2021-12-19T08:27:03.057756Z",
     "start_time": "2021-12-19T08:27:03.042060Z"
    }
   },
   "outputs": [],
   "source": [
    "np.power(3, x)"
   ]
  },
  {
   "cell_type": "code",
   "execution_count": null,
   "id": "b69fff06",
   "metadata": {
    "ExecuteTime": {
     "end_time": "2021-12-19T08:27:06.315329Z",
     "start_time": "2021-12-19T08:27:06.310091Z"
    }
   },
   "outputs": [],
   "source": [
    "np.log(x + 1)"
   ]
  },
  {
   "cell_type": "code",
   "execution_count": null,
   "id": "a4a7d7ca",
   "metadata": {
    "ExecuteTime": {
     "end_time": "2021-12-19T08:27:09.271691Z",
     "start_time": "2021-12-19T08:27:09.260863Z"
    }
   },
   "outputs": [],
   "source": [
    "np.log2(x + 1)"
   ]
  },
  {
   "cell_type": "code",
   "execution_count": null,
   "id": "b83b0da0",
   "metadata": {
    "ExecuteTime": {
     "end_time": "2021-12-19T08:27:11.515354Z",
     "start_time": "2021-12-19T08:27:11.502059Z"
    }
   },
   "outputs": [],
   "source": [
    "np.log10(x + 1)"
   ]
  },
  {
   "cell_type": "markdown",
   "id": "a94a07c1",
   "metadata": {},
   "source": [
    "## 5. Simple functions with ndarray\n",
    "### Reshape ndarray"
   ]
  },
  {
   "cell_type": "code",
   "execution_count": null,
   "id": "de96dd62",
   "metadata": {
    "ExecuteTime": {
     "end_time": "2021-12-19T08:31:10.699652Z",
     "start_time": "2021-12-19T08:31:10.678985Z"
    }
   },
   "outputs": [],
   "source": [
    "z = np.arange(12)\n",
    "z"
   ]
  },
  {
   "cell_type": "code",
   "execution_count": null,
   "id": "c2dadaa5",
   "metadata": {
    "ExecuteTime": {
     "end_time": "2021-12-19T08:29:06.965404Z",
     "start_time": "2021-12-19T08:29:06.953963Z"
    }
   },
   "outputs": [],
   "source": [
    "z.shape"
   ]
  },
  {
   "cell_type": "code",
   "execution_count": null,
   "id": "9836cab0",
   "metadata": {},
   "outputs": [],
   "source": []
  },
  {
   "cell_type": "code",
   "execution_count": null,
   "id": "f2498fbc",
   "metadata": {
    "ExecuteTime": {
     "end_time": "2021-12-19T08:32:33.543412Z",
     "start_time": "2021-12-19T08:32:33.531788Z"
    },
    "scrolled": true
   },
   "outputs": [],
   "source": [
    "z_reshape = z.reshape((12, 1))\n",
    "z_reshape"
   ]
  },
  {
   "cell_type": "code",
   "execution_count": null,
   "id": "1fe8bc16",
   "metadata": {
    "ExecuteTime": {
     "end_time": "2021-12-19T08:32:39.651826Z",
     "start_time": "2021-12-19T08:32:39.641041Z"
    }
   },
   "outputs": [],
   "source": [
    "z_reshape.shape"
   ]
  },
  {
   "cell_type": "code",
   "execution_count": null,
   "id": "9d9921cb",
   "metadata": {
    "ExecuteTime": {
     "end_time": "2021-12-19T08:34:02.439953Z",
     "start_time": "2021-12-19T08:34:02.433380Z"
    }
   },
   "outputs": [],
   "source": [
    "z_reshape = z.reshape((1, 12))\n",
    "z_reshape"
   ]
  },
  {
   "cell_type": "code",
   "execution_count": null,
   "id": "a009592b",
   "metadata": {
    "ExecuteTime": {
     "end_time": "2021-12-19T08:34:09.273621Z",
     "start_time": "2021-12-19T08:34:09.263221Z"
    }
   },
   "outputs": [],
   "source": [
    "z_reshape.shape"
   ]
  },
  {
   "cell_type": "code",
   "execution_count": null,
   "id": "dafd3186",
   "metadata": {
    "ExecuteTime": {
     "end_time": "2021-12-19T08:35:26.010780Z",
     "start_time": "2021-12-19T08:35:26.002101Z"
    }
   },
   "outputs": [],
   "source": [
    "z.reshape((4, 3))"
   ]
  },
  {
   "cell_type": "code",
   "execution_count": null,
   "id": "c688d718",
   "metadata": {
    "ExecuteTime": {
     "end_time": "2021-12-19T08:36:31.129236Z",
     "start_time": "2021-12-19T08:36:31.119813Z"
    }
   },
   "outputs": [],
   "source": [
    "z.reshape((2, 2, 3))"
   ]
  },
  {
   "cell_type": "markdown",
   "id": "3b01bac4",
   "metadata": {},
   "source": [
    "### Change number of dims, position of dims\n",
    "#### Change number of dims by using `np.expand_dims()` and `np.squeeze()`"
   ]
  },
  {
   "cell_type": "code",
   "execution_count": null,
   "id": "705b5362",
   "metadata": {
    "ExecuteTime": {
     "end_time": "2021-12-19T08:37:33.780060Z",
     "start_time": "2021-12-19T08:37:33.773594Z"
    }
   },
   "outputs": [],
   "source": [
    "z"
   ]
  },
  {
   "cell_type": "code",
   "execution_count": null,
   "id": "8db312c1",
   "metadata": {
    "ExecuteTime": {
     "end_time": "2021-12-19T08:37:42.660269Z",
     "start_time": "2021-12-19T08:37:42.651041Z"
    }
   },
   "outputs": [],
   "source": [
    "z.shape"
   ]
  },
  {
   "cell_type": "code",
   "execution_count": null,
   "id": "8f5ebff4",
   "metadata": {
    "ExecuteTime": {
     "end_time": "2021-12-19T08:38:00.065118Z",
     "start_time": "2021-12-19T08:38:00.052360Z"
    }
   },
   "outputs": [],
   "source": [
    "z_1 = np.expand_dims(z, axis=1)\n",
    "z_1"
   ]
  },
  {
   "cell_type": "code",
   "execution_count": null,
   "id": "408e0351",
   "metadata": {
    "ExecuteTime": {
     "end_time": "2021-12-19T08:38:07.584243Z",
     "start_time": "2021-12-19T08:38:07.576891Z"
    }
   },
   "outputs": [],
   "source": [
    "z_1.shape"
   ]
  },
  {
   "cell_type": "code",
   "execution_count": null,
   "id": "6d6e125f",
   "metadata": {
    "ExecuteTime": {
     "end_time": "2021-12-19T08:38:35.013465Z",
     "start_time": "2021-12-19T08:38:35.003392Z"
    }
   },
   "outputs": [],
   "source": [
    "z_0 = np.expand_dims(z, axis=0)\n",
    "z_0"
   ]
  },
  {
   "cell_type": "code",
   "execution_count": null,
   "id": "2db119a4",
   "metadata": {
    "ExecuteTime": {
     "end_time": "2021-12-19T08:38:37.980515Z",
     "start_time": "2021-12-19T08:38:37.965687Z"
    }
   },
   "outputs": [],
   "source": [
    "z_0.shape"
   ]
  },
  {
   "cell_type": "code",
   "execution_count": null,
   "id": "d3ca296e",
   "metadata": {
    "ExecuteTime": {
     "end_time": "2021-12-19T08:40:25.313198Z",
     "start_time": "2021-12-19T08:40:25.298956Z"
    }
   },
   "outputs": [],
   "source": [
    "np.squeeze(z_0, axis=0)"
   ]
  },
  {
   "cell_type": "code",
   "execution_count": null,
   "id": "a479e825",
   "metadata": {
    "ExecuteTime": {
     "end_time": "2021-12-19T08:40:45.845413Z",
     "start_time": "2021-12-19T08:40:45.838833Z"
    },
    "scrolled": true
   },
   "outputs": [],
   "source": [
    "np.squeeze(z_1, axis=1)"
   ]
  },
  {
   "cell_type": "markdown",
   "id": "1dc93723",
   "metadata": {},
   "source": [
    "#### Change position of dims by using `np.transpose()`"
   ]
  },
  {
   "cell_type": "code",
   "execution_count": null,
   "id": "f282382f",
   "metadata": {
    "ExecuteTime": {
     "end_time": "2021-12-19T08:41:41.145953Z",
     "start_time": "2021-12-19T08:41:41.133014Z"
    }
   },
   "outputs": [],
   "source": [
    "z_1"
   ]
  },
  {
   "cell_type": "code",
   "execution_count": null,
   "id": "0ce8758d",
   "metadata": {
    "ExecuteTime": {
     "end_time": "2021-12-19T08:42:20.914971Z",
     "start_time": "2021-12-19T08:42:20.905866Z"
    }
   },
   "outputs": [],
   "source": [
    "z_1.shape"
   ]
  },
  {
   "cell_type": "code",
   "execution_count": null,
   "id": "d80e3caf",
   "metadata": {
    "ExecuteTime": {
     "end_time": "2021-12-19T08:43:41.779616Z",
     "start_time": "2021-12-19T08:43:41.757315Z"
    }
   },
   "outputs": [],
   "source": [
    "z_1_trans = np.transpose(z_1, [1, 0])\n",
    "z_1_trans"
   ]
  },
  {
   "cell_type": "code",
   "execution_count": null,
   "id": "a6931858",
   "metadata": {
    "ExecuteTime": {
     "end_time": "2021-12-19T08:43:43.646830Z",
     "start_time": "2021-12-19T08:43:43.638051Z"
    },
    "scrolled": true
   },
   "outputs": [],
   "source": [
    "z_1_trans.shape"
   ]
  },
  {
   "cell_type": "markdown",
   "id": "dbbac7c5",
   "metadata": {},
   "source": [
    "### Concatenate ndarray\n",
    "#### Using `np.concatenate()`"
   ]
  },
  {
   "cell_type": "code",
   "execution_count": null,
   "id": "a1fa24ad",
   "metadata": {
    "ExecuteTime": {
     "end_time": "2021-12-23T12:30:29.200420Z",
     "start_time": "2021-12-23T12:30:29.191757Z"
    }
   },
   "outputs": [],
   "source": [
    "x = np.array([1, 2, 3])\n",
    "y = np.array([4.4, 5.5, 6.6])\n",
    "z = np.array([7.77, 8.88, 9.99])"
   ]
  },
  {
   "cell_type": "code",
   "execution_count": null,
   "id": "5559d595",
   "metadata": {
    "ExecuteTime": {
     "end_time": "2021-12-23T12:30:32.346193Z",
     "start_time": "2021-12-23T12:30:32.319557Z"
    }
   },
   "outputs": [],
   "source": [
    "x"
   ]
  },
  {
   "cell_type": "code",
   "execution_count": null,
   "id": "2591e3da",
   "metadata": {
    "ExecuteTime": {
     "end_time": "2021-12-23T12:30:33.077953Z",
     "start_time": "2021-12-23T12:30:33.067286Z"
    }
   },
   "outputs": [],
   "source": [
    "y"
   ]
  },
  {
   "cell_type": "code",
   "execution_count": null,
   "id": "4aa7198d",
   "metadata": {
    "ExecuteTime": {
     "end_time": "2021-12-23T12:30:33.731453Z",
     "start_time": "2021-12-23T12:30:33.720038Z"
    }
   },
   "outputs": [],
   "source": [
    "z"
   ]
  },
  {
   "cell_type": "code",
   "execution_count": null,
   "id": "82d27b5b",
   "metadata": {
    "ExecuteTime": {
     "end_time": "2021-12-23T12:30:37.344293Z",
     "start_time": "2021-12-23T12:30:37.320615Z"
    }
   },
   "outputs": [],
   "source": [
    "np.concatenate([x, y])"
   ]
  },
  {
   "cell_type": "code",
   "execution_count": null,
   "id": "6713b415",
   "metadata": {
    "ExecuteTime": {
     "end_time": "2021-12-23T12:30:49.903360Z",
     "start_time": "2021-12-23T12:30:49.896965Z"
    }
   },
   "outputs": [],
   "source": [
    "np.concatenate([x, y, z])"
   ]
  },
  {
   "cell_type": "code",
   "execution_count": null,
   "id": "a8d5eefe",
   "metadata": {
    "ExecuteTime": {
     "end_time": "2021-12-23T12:30:58.516151Z",
     "start_time": "2021-12-23T12:30:58.507637Z"
    }
   },
   "outputs": [],
   "source": [
    "xx = np.array([[1, 2, 3], [3, 2, 1]])\n",
    "yy = np.array([[4.4, 5.5, 6.6], [6.6, 5.5, 4.4]])"
   ]
  },
  {
   "cell_type": "code",
   "execution_count": null,
   "id": "b4af3f1f",
   "metadata": {
    "ExecuteTime": {
     "end_time": "2021-12-23T12:30:59.494300Z",
     "start_time": "2021-12-23T12:30:59.487187Z"
    }
   },
   "outputs": [],
   "source": [
    "xx.shape"
   ]
  },
  {
   "cell_type": "code",
   "execution_count": null,
   "id": "283dd23a",
   "metadata": {
    "ExecuteTime": {
     "end_time": "2021-12-23T12:31:00.850233Z",
     "start_time": "2021-12-23T12:31:00.814329Z"
    }
   },
   "outputs": [],
   "source": [
    "yy.shape"
   ]
  },
  {
   "cell_type": "code",
   "execution_count": null,
   "id": "2894025d",
   "metadata": {
    "ExecuteTime": {
     "end_time": "2021-12-23T12:31:10.226108Z",
     "start_time": "2021-12-23T12:31:10.198765Z"
    },
    "scrolled": true
   },
   "outputs": [],
   "source": [
    "np.concatenate([xx, yy], axis=0)"
   ]
  },
  {
   "cell_type": "code",
   "execution_count": null,
   "id": "59541710",
   "metadata": {
    "ExecuteTime": {
     "end_time": "2021-12-23T12:31:31.314139Z",
     "start_time": "2021-12-23T12:31:31.306538Z"
    }
   },
   "outputs": [],
   "source": [
    "np.concatenate([xx, yy], axis=1)"
   ]
  },
  {
   "cell_type": "markdown",
   "id": "a9d88852",
   "metadata": {},
   "source": [
    "#### Using `np.hstack()`(horizontal stack),  `np.vstack()`(vertical stack) and `np.dstack()`(depth stack)"
   ]
  },
  {
   "cell_type": "code",
   "execution_count": null,
   "id": "b42cdcac",
   "metadata": {
    "ExecuteTime": {
     "end_time": "2021-12-19T08:51:07.426007Z",
     "start_time": "2021-12-19T08:51:07.414681Z"
    }
   },
   "outputs": [],
   "source": [
    "np.hstack([xx, yy])"
   ]
  },
  {
   "cell_type": "code",
   "execution_count": null,
   "id": "235de6ae",
   "metadata": {
    "ExecuteTime": {
     "end_time": "2021-12-19T08:51:10.886265Z",
     "start_time": "2021-12-19T08:51:10.875242Z"
    }
   },
   "outputs": [],
   "source": [
    "np.vstack([xx, yy])"
   ]
  },
  {
   "cell_type": "code",
   "execution_count": null,
   "id": "3fac464b",
   "metadata": {
    "ExecuteTime": {
     "end_time": "2021-12-19T08:51:57.628396Z",
     "start_time": "2021-12-19T08:51:57.619956Z"
    }
   },
   "outputs": [],
   "source": [
    "np.dstack([xx, yy])"
   ]
  },
  {
   "cell_type": "markdown",
   "id": "b5b9c9ff",
   "metadata": {},
   "source": [
    "## 6. Data aggregation on ndarray\n",
    "|Function Name      |   NaN-safe Version  | Description                                   |\n",
    "|-------------------|---------------------|-----------------------------------------------|\n",
    "| ``np.sum``        | ``np.nansum``       | Compute sum of elements                       |\n",
    "| ``np.prod``       | ``np.nanprod``      | Compute product of elements                   |\n",
    "| ``np.mean``       | ``np.nanmean``      | Compute mean of elements                      |\n",
    "| ``np.std``        | ``np.nanstd``       | Compute standard deviation                    |\n",
    "| ``np.var``        | ``np.nanvar``       | Compute variance                              |\n",
    "| ``np.min``        | ``np.nanmin``       | Find minimum value                            |\n",
    "| ``np.max``        | ``np.nanmax``       | Find maximum value                            |\n",
    "| ``np.argmin``     | ``np.nanargmin``    | Find index of minimum value                   |\n",
    "| ``np.argmax``     | ``np.nanargmax``    | Find index of maximum value                   |\n",
    "| ``np.median``     | ``np.nanmedian``    | Compute median of elements                    |\n",
    "| ``np.percentile`` | ``np.nanpercentile``| Compute rank-based statistics of elements     |\n",
    "| ``np.any``        | N/A                 | Evaluate whether any elements are true        |\n",
    "| ``np.all``        | N/A                 | Evaluate whether all elements are true        |\n",
    "\n",
    "\n",
    "### Compare between built-in python `sum()` and `np.sum()`"
   ]
  },
  {
   "cell_type": "code",
   "execution_count": null,
   "id": "e5a172fe",
   "metadata": {
    "ExecuteTime": {
     "end_time": "2021-12-19T08:56:59.957154Z",
     "start_time": "2021-12-19T08:56:59.930545Z"
    }
   },
   "outputs": [],
   "source": [
    "big_array = np.random.rand(1_000_000)\n",
    "big_array.shape"
   ]
  },
  {
   "cell_type": "code",
   "execution_count": null,
   "id": "a14c74de",
   "metadata": {
    "ExecuteTime": {
     "end_time": "2021-12-19T08:57:08.526067Z",
     "start_time": "2021-12-19T08:57:08.408524Z"
    }
   },
   "outputs": [],
   "source": [
    "sum(big_array)"
   ]
  },
  {
   "cell_type": "code",
   "execution_count": null,
   "id": "fc26ca2f",
   "metadata": {
    "ExecuteTime": {
     "end_time": "2021-12-19T08:57:18.540999Z",
     "start_time": "2021-12-19T08:57:18.530306Z"
    }
   },
   "outputs": [],
   "source": [
    "np.sum(big_array)"
   ]
  },
  {
   "cell_type": "code",
   "execution_count": null,
   "id": "16c650b6",
   "metadata": {
    "ExecuteTime": {
     "end_time": "2021-12-19T08:58:19.950327Z",
     "start_time": "2021-12-19T08:58:11.663888Z"
    }
   },
   "outputs": [],
   "source": [
    "%timeit sum(big_array)"
   ]
  },
  {
   "cell_type": "code",
   "execution_count": null,
   "id": "9282fc77",
   "metadata": {
    "ExecuteTime": {
     "end_time": "2021-12-19T08:58:20.877486Z",
     "start_time": "2021-12-19T08:58:19.972668Z"
    }
   },
   "outputs": [],
   "source": [
    "%timeit np.sum(big_array)"
   ]
  },
  {
   "cell_type": "code",
   "execution_count": null,
   "id": "d7981144",
   "metadata": {
    "ExecuteTime": {
     "end_time": "2021-12-23T13:05:25.341193Z",
     "start_time": "2021-12-23T13:05:25.329922Z"
    }
   },
   "outputs": [],
   "source": [
    "x = np.random.randint(0, 10, (2, 5))\n",
    "x"
   ]
  },
  {
   "cell_type": "code",
   "execution_count": null,
   "id": "a5a10dbe",
   "metadata": {
    "ExecuteTime": {
     "end_time": "2021-12-19T09:00:05.706883Z",
     "start_time": "2021-12-19T09:00:05.693149Z"
    }
   },
   "outputs": [],
   "source": [
    "sum(x)"
   ]
  },
  {
   "cell_type": "code",
   "execution_count": null,
   "id": "9253a317",
   "metadata": {
    "ExecuteTime": {
     "end_time": "2021-12-19T09:00:06.643955Z",
     "start_time": "2021-12-19T09:00:06.633893Z"
    }
   },
   "outputs": [],
   "source": [
    "np.sum(x)"
   ]
  },
  {
   "cell_type": "code",
   "execution_count": null,
   "id": "e368d262",
   "metadata": {
    "ExecuteTime": {
     "end_time": "2021-12-19T09:00:14.908004Z",
     "start_time": "2021-12-19T09:00:14.895856Z"
    }
   },
   "outputs": [],
   "source": [
    "np.sum(x, axis=1)"
   ]
  },
  {
   "cell_type": "code",
   "execution_count": null,
   "id": "d96fac11",
   "metadata": {
    "ExecuteTime": {
     "end_time": "2021-12-19T09:00:16.511659Z",
     "start_time": "2021-12-19T09:00:16.490930Z"
    }
   },
   "outputs": [],
   "source": [
    "np.sum(x, axis=0)"
   ]
  },
  {
   "cell_type": "markdown",
   "id": "8df7c1ec",
   "metadata": {},
   "source": [
    "### Compare between built-in python `min(), max()` and `np.min(), np.max()`"
   ]
  },
  {
   "cell_type": "code",
   "execution_count": null,
   "id": "9991d284",
   "metadata": {
    "ExecuteTime": {
     "end_time": "2021-12-19T09:02:06.396470Z",
     "start_time": "2021-12-19T09:02:06.203603Z"
    }
   },
   "outputs": [],
   "source": [
    "min(big_array), max(big_array)"
   ]
  },
  {
   "cell_type": "code",
   "execution_count": null,
   "id": "9c4d16cf",
   "metadata": {
    "ExecuteTime": {
     "end_time": "2021-12-19T09:02:10.835259Z",
     "start_time": "2021-12-19T09:02:10.824760Z"
    }
   },
   "outputs": [],
   "source": [
    "np.min(big_array), np.max(big_array)"
   ]
  },
  {
   "cell_type": "code",
   "execution_count": null,
   "id": "3eaaad43",
   "metadata": {
    "ExecuteTime": {
     "end_time": "2021-12-19T09:02:36.185388Z",
     "start_time": "2021-12-19T09:02:23.646408Z"
    }
   },
   "outputs": [],
   "source": [
    "%timeit min(big_array)\n",
    "%timeit np.min(big_array)"
   ]
  },
  {
   "cell_type": "code",
   "execution_count": null,
   "id": "88856293",
   "metadata": {
    "ExecuteTime": {
     "end_time": "2021-12-19T09:02:54.714464Z",
     "start_time": "2021-12-19T09:02:36.197472Z"
    }
   },
   "outputs": [],
   "source": [
    "%timeit max(big_array)\n",
    "%timeit np.max(big_array)"
   ]
  },
  {
   "cell_type": "code",
   "execution_count": null,
   "id": "c881f2ed",
   "metadata": {
    "ExecuteTime": {
     "end_time": "2021-12-19T09:10:22.167911Z",
     "start_time": "2021-12-19T09:10:22.156832Z"
    }
   },
   "outputs": [],
   "source": [
    "x"
   ]
  },
  {
   "cell_type": "code",
   "execution_count": null,
   "id": "3fc394a1",
   "metadata": {
    "ExecuteTime": {
     "end_time": "2021-12-19T09:10:27.515697Z",
     "start_time": "2021-12-19T09:10:27.498635Z"
    }
   },
   "outputs": [],
   "source": [
    "x.shape"
   ]
  },
  {
   "cell_type": "code",
   "execution_count": null,
   "id": "9ec07c73",
   "metadata": {
    "ExecuteTime": {
     "end_time": "2021-12-19T09:03:21.959888Z",
     "start_time": "2021-12-19T09:03:21.946311Z"
    }
   },
   "outputs": [],
   "source": [
    "min(x), max(x)"
   ]
  },
  {
   "cell_type": "code",
   "execution_count": null,
   "id": "238c5cac",
   "metadata": {
    "ExecuteTime": {
     "end_time": "2021-12-19T09:03:27.422291Z",
     "start_time": "2021-12-19T09:03:27.403817Z"
    }
   },
   "outputs": [],
   "source": [
    "np.min(x), np.max(x)"
   ]
  },
  {
   "cell_type": "code",
   "execution_count": null,
   "id": "6c76e9e9",
   "metadata": {
    "ExecuteTime": {
     "end_time": "2021-12-19T09:04:10.285836Z",
     "start_time": "2021-12-19T09:04:10.279491Z"
    }
   },
   "outputs": [],
   "source": [
    "np.min(x, axis=0), np.max(x, axis=0)"
   ]
  },
  {
   "cell_type": "code",
   "execution_count": null,
   "id": "5428afeb",
   "metadata": {
    "ExecuteTime": {
     "end_time": "2021-12-19T09:04:37.827409Z",
     "start_time": "2021-12-19T09:04:37.799222Z"
    }
   },
   "outputs": [],
   "source": [
    "np.min(x, axis=1), np.max(x, axis=1)"
   ]
  },
  {
   "cell_type": "code",
   "execution_count": null,
   "id": "13957be7",
   "metadata": {
    "ExecuteTime": {
     "end_time": "2021-12-19T09:07:16.648496Z",
     "start_time": "2021-12-19T09:07:16.642819Z"
    }
   },
   "outputs": [],
   "source": [
    "x"
   ]
  },
  {
   "cell_type": "code",
   "execution_count": null,
   "id": "f44ee30a",
   "metadata": {
    "ExecuteTime": {
     "end_time": "2021-12-19T09:07:27.323123Z",
     "start_time": "2021-12-19T09:07:27.312261Z"
    }
   },
   "outputs": [],
   "source": [
    "np.any(x > 3)"
   ]
  },
  {
   "cell_type": "code",
   "execution_count": null,
   "id": "111e7d4c",
   "metadata": {
    "ExecuteTime": {
     "end_time": "2021-12-19T09:08:42.672642Z",
     "start_time": "2021-12-19T09:08:42.665384Z"
    }
   },
   "outputs": [],
   "source": [
    "np.all(x > 3)"
   ]
  },
  {
   "cell_type": "markdown",
   "id": "2db8cd0a",
   "metadata": {},
   "source": [
    "## 7. Ndarray with logical functions\n",
    "### Simple logical functions"
   ]
  },
  {
   "cell_type": "code",
   "execution_count": null,
   "id": "5416eb5f",
   "metadata": {
    "ExecuteTime": {
     "end_time": "2021-12-23T13:05:16.218932Z",
     "start_time": "2021-12-23T13:05:16.207887Z"
    }
   },
   "outputs": [],
   "source": [
    "x"
   ]
  },
  {
   "cell_type": "code",
   "execution_count": null,
   "id": "5863abbc",
   "metadata": {
    "ExecuteTime": {
     "end_time": "2021-12-19T09:13:42.383868Z",
     "start_time": "2021-12-19T09:13:42.376831Z"
    }
   },
   "outputs": [],
   "source": [
    "x > 2"
   ]
  },
  {
   "cell_type": "code",
   "execution_count": null,
   "id": "2abf71d8",
   "metadata": {
    "ExecuteTime": {
     "end_time": "2021-12-19T09:14:12.917371Z",
     "start_time": "2021-12-19T09:14:12.905650Z"
    }
   },
   "outputs": [],
   "source": [
    "x >= 2"
   ]
  },
  {
   "cell_type": "code",
   "execution_count": null,
   "id": "9fb812ae",
   "metadata": {
    "ExecuteTime": {
     "end_time": "2021-12-19T09:14:16.503525Z",
     "start_time": "2021-12-19T09:14:16.491259Z"
    }
   },
   "outputs": [],
   "source": [
    "x < 2"
   ]
  },
  {
   "cell_type": "code",
   "execution_count": null,
   "id": "2209d8c0",
   "metadata": {
    "ExecuteTime": {
     "end_time": "2021-12-19T09:14:18.492783Z",
     "start_time": "2021-12-19T09:14:18.485542Z"
    }
   },
   "outputs": [],
   "source": [
    "x <= 2"
   ]
  },
  {
   "cell_type": "code",
   "execution_count": null,
   "id": "2a39be44",
   "metadata": {
    "ExecuteTime": {
     "end_time": "2021-12-19T09:14:20.338179Z",
     "start_time": "2021-12-19T09:14:20.325896Z"
    }
   },
   "outputs": [],
   "source": [
    "x == 2"
   ]
  },
  {
   "cell_type": "code",
   "execution_count": null,
   "id": "985d0496",
   "metadata": {
    "ExecuteTime": {
     "end_time": "2021-12-19T09:14:22.198967Z",
     "start_time": "2021-12-19T09:14:22.190698Z"
    }
   },
   "outputs": [],
   "source": [
    "x != 2"
   ]
  },
  {
   "cell_type": "code",
   "execution_count": null,
   "id": "0980f859",
   "metadata": {
    "ExecuteTime": {
     "end_time": "2021-12-19T09:14:49.286783Z",
     "start_time": "2021-12-19T09:14:49.279978Z"
    }
   },
   "outputs": [],
   "source": [
    "np.all(x > 2)"
   ]
  },
  {
   "cell_type": "code",
   "execution_count": null,
   "id": "b2b4941b",
   "metadata": {
    "ExecuteTime": {
     "end_time": "2021-12-19T09:15:06.390760Z",
     "start_time": "2021-12-19T09:15:06.383926Z"
    }
   },
   "outputs": [],
   "source": [
    "np.all(x >= 0)"
   ]
  },
  {
   "cell_type": "code",
   "execution_count": null,
   "id": "d2b34229",
   "metadata": {
    "ExecuteTime": {
     "end_time": "2021-12-19T09:15:09.506741Z",
     "start_time": "2021-12-19T09:15:09.471680Z"
    }
   },
   "outputs": [],
   "source": [
    "np.any(x > 2)"
   ]
  },
  {
   "cell_type": "code",
   "execution_count": null,
   "id": "ff3bf284",
   "metadata": {
    "ExecuteTime": {
     "end_time": "2021-12-19T09:15:10.996711Z",
     "start_time": "2021-12-19T09:15:10.985852Z"
    }
   },
   "outputs": [],
   "source": [
    "np.any(x < 0)"
   ]
  },
  {
   "cell_type": "markdown",
   "id": "4f537bb9",
   "metadata": {},
   "source": [
    "### Use logical functions as mask"
   ]
  },
  {
   "cell_type": "code",
   "execution_count": null,
   "id": "0d73132a",
   "metadata": {
    "ExecuteTime": {
     "end_time": "2021-12-23T13:05:29.864343Z",
     "start_time": "2021-12-23T13:05:29.855393Z"
    }
   },
   "outputs": [],
   "source": [
    "x"
   ]
  },
  {
   "cell_type": "code",
   "execution_count": null,
   "id": "a9f31788",
   "metadata": {
    "ExecuteTime": {
     "end_time": "2021-12-19T09:16:35.197633Z",
     "start_time": "2021-12-19T09:16:35.187464Z"
    }
   },
   "outputs": [],
   "source": [
    "x > 3"
   ]
  },
  {
   "cell_type": "code",
   "execution_count": null,
   "id": "a18fab76",
   "metadata": {
    "ExecuteTime": {
     "end_time": "2021-12-23T13:05:43.689740Z",
     "start_time": "2021-12-23T13:05:43.678421Z"
    }
   },
   "outputs": [],
   "source": [
    "x[x > 3]"
   ]
  },
  {
   "cell_type": "markdown",
   "id": "da05abdc",
   "metadata": {},
   "source": [
    "## 8. Homework\n",
    "#### 8.1. Exercise 1: Write a NumPy program to convert a list of numeric value into a one-dimensional NumPy array.\n",
    "#### 8.2. Exercise 2: Write a NumPy program to create a 3x3 matrix with values ranging from 2 to 10.\n",
    "#### 8.3. Exercise 3: Write a NumPy program to reverse an array (first element becomes last).\n",
    "#### 8.4. Exercise 4: Write a NumPy program to convert an array to a float type\n",
    "#### 8.5. Exercise 5: Write a NumPy program to create a 2d array with 1 on the border and 0 inside.\n",
    "#### 8.6. Exercise 6: Write a NumPy program to create a 8x8 matrix and fill it with a checkerboard pattern.\n",
    "#### 8.7. Exercise 7: Write a NumPy program to convert the values of Centigrade degrees into Fahrenheit degrees. Centigrade values are stored into a NumPy array.\n",
    "#### 8.8. Exercise 8: Write a NumPy program to get the indices of the sorted elements of a given array."
   ]
  },
  {
   "cell_type": "code",
   "execution_count": null,
   "id": "e9d8733b",
   "metadata": {},
   "outputs": [],
   "source": []
  }
 ],
 "metadata": {
  "kernelspec": {
   "display_name": "Python 3 (ipykernel)",
   "language": "python",
   "name": "python3"
  },
  "language_info": {
   "codemirror_mode": {
    "name": "ipython",
    "version": 3
   },
   "file_extension": ".py",
   "mimetype": "text/x-python",
   "name": "python",
   "nbconvert_exporter": "python",
   "pygments_lexer": "ipython3",
   "version": "3.8.12"
  },
  "toc": {
   "base_numbering": 1,
   "nav_menu": {},
   "number_sections": false,
   "sideBar": true,
   "skip_h1_title": false,
   "title_cell": "Table of Contents",
   "title_sidebar": "Table of Contents",
   "toc_cell": false,
   "toc_position": {
    "height": "calc(100% - 180px)",
    "left": "10px",
    "top": "150px",
    "width": "243.011px"
   },
   "toc_section_display": true,
   "toc_window_display": true
  }
 },
 "nbformat": 4,
 "nbformat_minor": 5
}
