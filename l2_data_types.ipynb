{
 "cells": [
  {
   "cell_type": "markdown",
   "id": "c9624e51-6b75-4453-bc93-fafe027b33a5",
   "metadata": {},
   "source": [
    "# LESSON 2: PYTHON DATA TYPES\n",
    "\n",
    "More information about this lesson can be found [here]()"
   ]
  },
  {
   "cell_type": "markdown",
   "id": "c9964f23-763f-440a-8e49-9ca1b32155ed",
   "metadata": {
    "tags": []
   },
   "source": [
    "## 1. Data types"
   ]
  },
  {
   "cell_type": "markdown",
   "id": "7c792929-5b1f-44ea-a472-ac4824429e78",
   "metadata": {},
   "source": [
    "+ **Text type**: `str`\n",
    "+ **Numeric types**: `int`, `float`, complex\n",
    "+ **Sequence types**: `list`, `tuple`, range\n",
    "+ **Mapping type**: `dict`\n",
    "+ **Set types**: `set`, frozenset\n",
    "+ **Boolean type**: `bool`\n",
    "+ **Binary types**: bytes, bytearray, memoryview"
   ]
  },
  {
   "cell_type": "markdown",
   "id": "d59ee942-45ba-4fd1-83c3-cb1ac01eebf7",
   "metadata": {
    "tags": []
   },
   "source": [
    "### String data type: str"
   ]
  },
  {
   "cell_type": "code",
   "execution_count": 1,
   "id": "8e50d37f-1540-49ba-8951-ab957d8ac964",
   "metadata": {},
   "outputs": [
    {
     "name": "stdout",
     "output_type": "stream",
     "text": [
      "Value:\n",
      "this is a string in Python\n",
      "Type:\n",
      "<class 'str'>\n"
     ]
    }
   ],
   "source": [
    "a = 'this is a string in Python'\n",
    "print('Value:')\n",
    "print(a)\n",
    "print('Type:')\n",
    "print(type(a))"
   ]
  },
  {
   "cell_type": "markdown",
   "id": "102e3e72-9a5d-4a8d-a972-4de21b9a8cb0",
   "metadata": {
    "tags": []
   },
   "source": [
    "### Integer data type: int"
   ]
  },
  {
   "cell_type": "code",
   "execution_count": 2,
   "id": "09d33d30-31d5-4603-9b6e-b3cc0fc71e4e",
   "metadata": {},
   "outputs": [
    {
     "name": "stdout",
     "output_type": "stream",
     "text": [
      "Value:\n",
      "1\n",
      "Type:\n",
      "<class 'int'>\n"
     ]
    }
   ],
   "source": [
    "b = 1\n",
    "print('Value:')\n",
    "print(b)\n",
    "print('Type:')\n",
    "print(type(b))"
   ]
  },
  {
   "cell_type": "markdown",
   "id": "64f93be2-83b0-4641-b9ff-73aa1eb7801e",
   "metadata": {
    "tags": []
   },
   "source": [
    "### Float data type: float"
   ]
  },
  {
   "cell_type": "code",
   "execution_count": 3,
   "id": "3b004335-c397-41b6-b034-59ffa7726c1e",
   "metadata": {},
   "outputs": [
    {
     "name": "stdout",
     "output_type": "stream",
     "text": [
      "Value:\n",
      "0.5555\n",
      "Type:\n",
      "<class 'float'>\n"
     ]
    }
   ],
   "source": [
    "c = 0.5555\n",
    "print('Value:')\n",
    "print(c)\n",
    "print('Type:')\n",
    "print(type(c))"
   ]
  },
  {
   "cell_type": "markdown",
   "id": "340fd56a-1cfe-42f7-8ed0-14233d5d2c73",
   "metadata": {
    "tags": []
   },
   "source": [
    "### Bool data type: bool"
   ]
  },
  {
   "cell_type": "code",
   "execution_count": 4,
   "id": "2c213413-b1d5-4d3b-ac16-131958a78086",
   "metadata": {},
   "outputs": [
    {
     "name": "stdout",
     "output_type": "stream",
     "text": [
      "Value:\n",
      "True\n",
      "Type:\n",
      "<class 'bool'>\n",
      "Value:\n",
      "False\n",
      "Type:\n",
      "<class 'bool'>\n"
     ]
    }
   ],
   "source": [
    "d = True\n",
    "e = False\n",
    "print('Value:')\n",
    "print(d)\n",
    "print('Type:')\n",
    "print(type(d))\n",
    "\n",
    "print('Value:')\n",
    "print(e)\n",
    "print('Type:')\n",
    "print(type(e))"
   ]
  },
  {
   "cell_type": "markdown",
   "id": "f4d17b7f-943a-4b66-8f16-32d89ed7d16f",
   "metadata": {
    "tags": []
   },
   "source": [
    "### List data type: list"
   ]
  },
  {
   "cell_type": "code",
   "execution_count": 5,
   "id": "d07ed3b3-717e-43da-b714-18db1eaf7c4d",
   "metadata": {},
   "outputs": [
    {
     "name": "stdout",
     "output_type": "stream",
     "text": [
      "Value:\n",
      "[1, 2.5, 3, 'stringgg']\n",
      "Type:\n",
      "<class 'list'>\n",
      "Length:\n",
      "4\n",
      "The third element in list f:\n",
      "3\n",
      "The elements from index 1 to index before 3 in list `f`:\n",
      "[2.5, 3]\n",
      "<class 'list'>\n",
      "The last elements of list `f` by using negative index:\n",
      "stringgg\n"
     ]
    }
   ],
   "source": [
    "f = [1, 2.5, 3, 'stringgg']\n",
    "print('Value:')\n",
    "print(f)\n",
    "print('Type:')\n",
    "print(type(f))\n",
    "print('Length:')\n",
    "print(len(f))\n",
    "\n",
    "# Print the third element in list `f`\n",
    "print('The third element in list f:')\n",
    "print(f[2])\n",
    "\n",
    "# Print the elements from index 1 to index before 3 in list `f`\n",
    "# `f[1:3]` is a list\n",
    "print('The elements from index 1 to index before 3 in list `f`:')\n",
    "print(f[1:3])\n",
    "print(type(f[1:3]))\n",
    "\n",
    "# Print the element by negative index\n",
    "print('The last elements of list `f` by using negative index:')\n",
    "print(f[-1])"
   ]
  },
  {
   "cell_type": "code",
   "execution_count": 6,
   "id": "717ee9b5-5a41-456b-9873-11250ea79077",
   "metadata": {},
   "outputs": [
    {
     "ename": "TypeError",
     "evalue": "list indices must be integers or slices, not float",
     "output_type": "error",
     "traceback": [
      "\u001b[0;31m---------------------------------------------------------------------------\u001b[0m",
      "\u001b[0;31mTypeError\u001b[0m                                 Traceback (most recent call last)",
      "\u001b[0;32m/var/folders/9m/8kxkp3s10g9gnjlz2bk_8zs00000gp/T/ipykernel_36591/256700788.py\u001b[0m in \u001b[0;36m<module>\u001b[0;34m\u001b[0m\n\u001b[1;32m      2\u001b[0m \u001b[0;31m# `list indices must be integers or slices`\u001b[0m\u001b[0;34m\u001b[0m\u001b[0;34m\u001b[0m\u001b[0;34m\u001b[0m\u001b[0m\n\u001b[1;32m      3\u001b[0m \u001b[0;31m# `not float`\u001b[0m\u001b[0;34m\u001b[0m\u001b[0;34m\u001b[0m\u001b[0;34m\u001b[0m\u001b[0m\n\u001b[0;32m----> 4\u001b[0;31m \u001b[0mprint\u001b[0m\u001b[0;34m(\u001b[0m\u001b[0mf\u001b[0m\u001b[0;34m[\u001b[0m\u001b[0;36m1.1\u001b[0m\u001b[0;34m]\u001b[0m\u001b[0;34m)\u001b[0m\u001b[0;34m\u001b[0m\u001b[0;34m\u001b[0m\u001b[0m\n\u001b[0m",
      "\u001b[0;31mTypeError\u001b[0m: list indices must be integers or slices, not float"
     ]
    }
   ],
   "source": [
    "# Error while using list data type\n",
    "# `list indices must be integers or slices`\n",
    "# `not float`\n",
    "print(f[1.1])"
   ]
  },
  {
   "cell_type": "code",
   "execution_count": null,
   "id": "fecbb513-9970-4c0b-879f-f3c1ffe82dcb",
   "metadata": {},
   "outputs": [],
   "source": [
    "# `not str`\n",
    "print(f['1'])"
   ]
  },
  {
   "cell_type": "code",
   "execution_count": null,
   "id": "0e9fc5b5-6a2a-4b60-a663-1dec1eec5f0f",
   "metadata": {},
   "outputs": [],
   "source": [
    "# Error while using list data type\n",
    "# List `f` contain only 4 elements but we are printing the seventh element\n",
    "# so it raise error `list index out of range`\n",
    "print(f[7])"
   ]
  },
  {
   "cell_type": "code",
   "execution_count": 7,
   "id": "c7d5b38a-352c-494f-b413-5cd31e042967",
   "metadata": {},
   "outputs": [
    {
     "name": "stdout",
     "output_type": "stream",
     "text": [
      "List `f` before re-assigning:\n",
      "[1, 2.5, 3, 'stringgg']\n",
      "List `f` after re-assigning:\n",
      "['change the first value', 2.5, 3, 'stringgg']\n"
     ]
    }
   ],
   "source": [
    "# Assign value to the item in list\n",
    "print('List `f` before re-assigning:')\n",
    "print(f)\n",
    "\n",
    "f[0] = 'change the first value'\n",
    "\n",
    "print('List `f` after re-assigning:')\n",
    "print(f)"
   ]
  },
  {
   "cell_type": "markdown",
   "id": "29f60478-4809-45c3-9287-6abcc7c7f022",
   "metadata": {
    "tags": []
   },
   "source": [
    "### Tuple data type: tuple"
   ]
  },
  {
   "cell_type": "code",
   "execution_count": 8,
   "id": "e20ae1f8-beae-434b-aecc-52f00233ff0a",
   "metadata": {
    "tags": []
   },
   "outputs": [
    {
     "name": "stdout",
     "output_type": "stream",
     "text": [
      "Value:\n",
      "(1, 2.5, 3, 'stringgg')\n",
      "Type:\n",
      "<class 'tuple'>\n",
      "Length:\n",
      "4\n",
      "The second element in tuple `f`:\n",
      "2.5\n",
      "(2.5, 3)\n",
      "<class 'tuple'>\n",
      "The elements of tuple `g` by using negative index:\n",
      "3\n"
     ]
    }
   ],
   "source": [
    "g = (1, 2.5, 3, 'stringgg')\n",
    "\n",
    "print('Value:')\n",
    "print(g)\n",
    "print('Type:')\n",
    "print(type(g))\n",
    "print('Length:')\n",
    "print(len(g))\n",
    "\n",
    "# Print the second element in tuple `g`\n",
    "print('The second element in tuple `f`:')\n",
    "print(g[1])\n",
    "\n",
    "# Print the elements from index 1 to index before 3 in tuple `g`\n",
    "# `g[1:3]` is a tuple\n",
    "print(g[1:3])\n",
    "print(type(g[1:3]))\n",
    "\n",
    "# Print the element by negative index\n",
    "print('The elements of tuple `g` by using negative index:')\n",
    "print(g[-2])"
   ]
  },
  {
   "cell_type": "code",
   "execution_count": 9,
   "id": "2a6541d3-b0ee-4080-8e1f-a9c44c2ef616",
   "metadata": {},
   "outputs": [
    {
     "ename": "TypeError",
     "evalue": "tuple indices must be integers or slices, not float",
     "output_type": "error",
     "traceback": [
      "\u001b[0;31m---------------------------------------------------------------------------\u001b[0m",
      "\u001b[0;31mTypeError\u001b[0m                                 Traceback (most recent call last)",
      "\u001b[0;32m/var/folders/9m/8kxkp3s10g9gnjlz2bk_8zs00000gp/T/ipykernel_36591/3859938162.py\u001b[0m in \u001b[0;36m<module>\u001b[0;34m\u001b[0m\n\u001b[1;32m      2\u001b[0m \u001b[0;31m# `tuple indices must be integers or slices`\u001b[0m\u001b[0;34m\u001b[0m\u001b[0;34m\u001b[0m\u001b[0;34m\u001b[0m\u001b[0m\n\u001b[1;32m      3\u001b[0m \u001b[0;31m# `not float`\u001b[0m\u001b[0;34m\u001b[0m\u001b[0;34m\u001b[0m\u001b[0;34m\u001b[0m\u001b[0m\n\u001b[0;32m----> 4\u001b[0;31m \u001b[0mprint\u001b[0m\u001b[0;34m(\u001b[0m\u001b[0mg\u001b[0m\u001b[0;34m[\u001b[0m\u001b[0;36m1.1\u001b[0m\u001b[0;34m]\u001b[0m\u001b[0;34m)\u001b[0m\u001b[0;34m\u001b[0m\u001b[0;34m\u001b[0m\u001b[0m\n\u001b[0m",
      "\u001b[0;31mTypeError\u001b[0m: tuple indices must be integers or slices, not float"
     ]
    }
   ],
   "source": [
    "# Like list data type, error while using tuple data type\n",
    "# `tuple indices must be integers or slices`\n",
    "# `not float`\n",
    "print(g[1.1])"
   ]
  },
  {
   "cell_type": "code",
   "execution_count": 10,
   "id": "f29edd0f-8e0b-4fcc-8ba3-d6a59629b870",
   "metadata": {},
   "outputs": [
    {
     "ename": "TypeError",
     "evalue": "tuple indices must be integers or slices, not str",
     "output_type": "error",
     "traceback": [
      "\u001b[0;31m---------------------------------------------------------------------------\u001b[0m",
      "\u001b[0;31mTypeError\u001b[0m                                 Traceback (most recent call last)",
      "\u001b[0;32m/var/folders/9m/8kxkp3s10g9gnjlz2bk_8zs00000gp/T/ipykernel_36591/4162304969.py\u001b[0m in \u001b[0;36m<module>\u001b[0;34m\u001b[0m\n\u001b[1;32m      2\u001b[0m \u001b[0;31m# `tuple indices must be integers or slices`\u001b[0m\u001b[0;34m\u001b[0m\u001b[0;34m\u001b[0m\u001b[0;34m\u001b[0m\u001b[0m\n\u001b[1;32m      3\u001b[0m \u001b[0;31m# `not str`\u001b[0m\u001b[0;34m\u001b[0m\u001b[0;34m\u001b[0m\u001b[0;34m\u001b[0m\u001b[0m\n\u001b[0;32m----> 4\u001b[0;31m \u001b[0mprint\u001b[0m\u001b[0;34m(\u001b[0m\u001b[0mg\u001b[0m\u001b[0;34m[\u001b[0m\u001b[0;34m'1'\u001b[0m\u001b[0;34m]\u001b[0m\u001b[0;34m)\u001b[0m\u001b[0;34m\u001b[0m\u001b[0;34m\u001b[0m\u001b[0m\n\u001b[0m",
      "\u001b[0;31mTypeError\u001b[0m: tuple indices must be integers or slices, not str"
     ]
    }
   ],
   "source": [
    "# Like list data type, error while using tuple data type\n",
    "# `tuple indices must be integers or slices`\n",
    "# `not str`\n",
    "print(g['1'])"
   ]
  },
  {
   "cell_type": "code",
   "execution_count": 11,
   "id": "9dd63eb7-2d1c-4533-8b3a-73ea5641cbf2",
   "metadata": {},
   "outputs": [
    {
     "ename": "IndexError",
     "evalue": "tuple index out of range",
     "output_type": "error",
     "traceback": [
      "\u001b[0;31m---------------------------------------------------------------------------\u001b[0m",
      "\u001b[0;31mIndexError\u001b[0m                                Traceback (most recent call last)",
      "\u001b[0;32m/var/folders/9m/8kxkp3s10g9gnjlz2bk_8zs00000gp/T/ipykernel_36591/974895424.py\u001b[0m in \u001b[0;36m<module>\u001b[0;34m\u001b[0m\n\u001b[1;32m      1\u001b[0m \u001b[0;31m# Like list data type, error while using tuple data type\u001b[0m\u001b[0;34m\u001b[0m\u001b[0;34m\u001b[0m\u001b[0;34m\u001b[0m\u001b[0m\n\u001b[1;32m      2\u001b[0m \u001b[0;31m# `tuple index out of range`\u001b[0m\u001b[0;34m\u001b[0m\u001b[0;34m\u001b[0m\u001b[0;34m\u001b[0m\u001b[0m\n\u001b[0;32m----> 3\u001b[0;31m \u001b[0mprint\u001b[0m\u001b[0;34m(\u001b[0m\u001b[0mg\u001b[0m\u001b[0;34m[\u001b[0m\u001b[0;36m100\u001b[0m\u001b[0;34m]\u001b[0m\u001b[0;34m)\u001b[0m\u001b[0;34m\u001b[0m\u001b[0;34m\u001b[0m\u001b[0m\n\u001b[0m",
      "\u001b[0;31mIndexError\u001b[0m: tuple index out of range"
     ]
    }
   ],
   "source": [
    "# Like list data type, error while using tuple data type\n",
    "# `tuple index out of range`\n",
    "print(g[100])"
   ]
  },
  {
   "cell_type": "markdown",
   "id": "3e0c3d85-c3a5-4934-9e0c-455b3ba5ec95",
   "metadata": {
    "tags": []
   },
   "source": [
    "### Difference between List and Tuple"
   ]
  },
  {
   "cell_type": "code",
   "execution_count": 12,
   "id": "391ce9d7-aa7e-43e7-80e3-b7c4218f916c",
   "metadata": {},
   "outputs": [
    {
     "name": "stdout",
     "output_type": "stream",
     "text": [
      "List `f` before add new item:\n",
      "['change the first value', 2.5, 3, 'stringgg']\n",
      "4\n",
      "List `f` after add new item:\n",
      "['change the first value', 2.5, 3, 'stringgg', 'new_item']\n",
      "5\n"
     ]
    },
    {
     "ename": "TypeError",
     "evalue": "'tuple' object does not support item assignment",
     "output_type": "error",
     "traceback": [
      "\u001b[0;31m---------------------------------------------------------------------------\u001b[0m",
      "\u001b[0;31mTypeError\u001b[0m                                 Traceback (most recent call last)",
      "\u001b[0;32m/var/folders/9m/8kxkp3s10g9gnjlz2bk_8zs00000gp/T/ipykernel_36591/2777529174.py\u001b[0m in \u001b[0;36m<module>\u001b[0;34m\u001b[0m\n\u001b[1;32m     13\u001b[0m \u001b[0;34m\u001b[0m\u001b[0m\n\u001b[1;32m     14\u001b[0m \u001b[0;31m# Tuple cannot add new items or re-assign item's value\u001b[0m\u001b[0;34m\u001b[0m\u001b[0;34m\u001b[0m\u001b[0;34m\u001b[0m\u001b[0m\n\u001b[0;32m---> 15\u001b[0;31m \u001b[0mg\u001b[0m\u001b[0;34m[\u001b[0m\u001b[0;36m0\u001b[0m\u001b[0;34m]\u001b[0m \u001b[0;34m=\u001b[0m \u001b[0;36m123123\u001b[0m\u001b[0;34m\u001b[0m\u001b[0;34m\u001b[0m\u001b[0m\n\u001b[0m",
      "\u001b[0;31mTypeError\u001b[0m: 'tuple' object does not support item assignment"
     ]
    }
   ],
   "source": [
    "# Add item to list\n",
    "print('List `f` before add new item:')\n",
    "print(f)\n",
    "print(len(f))\n",
    "\n",
    "# Append new item to list\n",
    "new = 'new_item'\n",
    "f.append(new)\n",
    "\n",
    "print('List `f` after add new item:')\n",
    "print(f)\n",
    "print(len(f))\n",
    "\n",
    "# Tuple cannot add new items or re-assign item's value\n",
    "g[0] = 123123"
   ]
  },
  {
   "cell_type": "markdown",
   "id": "deb22715-e137-4ace-821d-a1eaa12ecfaf",
   "metadata": {
    "tags": []
   },
   "source": [
    "### Set data type: set"
   ]
  },
  {
   "cell_type": "code",
   "execution_count": 13,
   "id": "821d2f04-43af-4986-8d15-43ceb0b75ef7",
   "metadata": {},
   "outputs": [
    {
     "name": "stdout",
     "output_type": "stream",
     "text": [
      "Value:\n",
      "{1, 2.5, 'stringgg'}\n"
     ]
    }
   ],
   "source": [
    "h = set()\n",
    "\n",
    "# Add items to set\n",
    "h.add(1)\n",
    "h.add(2.5)\n",
    "h.add('stringgg')\n",
    "h.add(1)\n",
    "\n",
    "print('Value:')\n",
    "print(h)"
   ]
  },
  {
   "cell_type": "markdown",
   "id": "d544b8dd-7fbe-41e6-a88f-15d88f42e42e",
   "metadata": {},
   "source": [
    "### Dictionary data type: dict"
   ]
  },
  {
   "cell_type": "code",
   "execution_count": 14,
   "id": "6c464908-b6ed-4e14-8b52-41b474bd78d9",
   "metadata": {
    "tags": []
   },
   "outputs": [
    {
     "name": "stdout",
     "output_type": "stream",
     "text": [
      "Value:\n",
      "{'name': 'Minh', 'age': 24, 123: 456}\n",
      "<class 'dict'>\n",
      "All keys of dictionary `i`:\n",
      "dict_keys(['name', 'age', 123])\n"
     ]
    }
   ],
   "source": [
    "i = {}\n",
    "\n",
    "# Add key-value pairs into dictionary\n",
    "i['name'] = 'Minh'\n",
    "i['age'] = 24\n",
    "i[123] = 456\n",
    "\n",
    "print('Value:')\n",
    "print(i)\n",
    "print(type(i))\n",
    "print('All keys of dictionary `i`:')\n",
    "print(i.keys())"
   ]
  },
  {
   "cell_type": "code",
   "execution_count": 15,
   "id": "e7865184-7ea8-4ff8-bd74-e73dc0861f7b",
   "metadata": {
    "tags": []
   },
   "outputs": [
    {
     "name": "stdout",
     "output_type": "stream",
     "text": [
      "Value:\n",
      "{'name': 'Minh', 'age': 24, 123: 456}\n",
      "<class 'dict'>\n",
      "All keys of dictionary `j`:\n",
      "dict_keys(['name', 'age', 123])\n"
     ]
    }
   ],
   "source": [
    "j = dict()\n",
    "\n",
    "# Add key-value pairs into dictionary\n",
    "j['name'] = 'Minh'\n",
    "j['age'] = 24\n",
    "j[123] = 456\n",
    "\n",
    "print('Value:')\n",
    "print(j)\n",
    "print(type(j))\n",
    "print('All keys of dictionary `j`:')\n",
    "print(j.keys())"
   ]
  },
  {
   "cell_type": "code",
   "execution_count": 33,
   "id": "9c4b7460-0a81-4fda-a595-20122d73dfdd",
   "metadata": {},
   "outputs": [
    {
     "name": "stdout",
     "output_type": "stream",
     "text": [
      "Value:\n",
      "{'name': 'Minh', 'age': 24, 123: 456}\n",
      "<class 'dict'>\n",
      "All keys of dictionary `jj`:\n",
      "dict_keys(['name', 'age', 123])\n"
     ]
    }
   ],
   "source": [
    "jj = {\n",
    "    'name': 'Minh',\n",
    "    'age': 24,\n",
    "    123: 456\n",
    "}\n",
    "\n",
    "print('Value:')\n",
    "print(jj)\n",
    "print(type(jj))\n",
    "print('All keys of dictionary `jj`:')\n",
    "print(jj.keys())"
   ]
  },
  {
   "cell_type": "code",
   "execution_count": 16,
   "id": "11ac5b41-ec3f-4fb5-8469-8ed42e5cfee7",
   "metadata": {},
   "outputs": [
    {
     "name": "stdout",
     "output_type": "stream",
     "text": [
      "Minh\n",
      "24\n",
      "456\n"
     ]
    }
   ],
   "source": [
    "# Get value from key of dict\n",
    "print(i['name'])\n",
    "print(i['age'])\n",
    "print(i[123])"
   ]
  },
  {
   "cell_type": "code",
   "execution_count": 17,
   "id": "04b9700b-8331-471b-9773-26e0934b836b",
   "metadata": {},
   "outputs": [
    {
     "ename": "KeyError",
     "evalue": "'job'",
     "output_type": "error",
     "traceback": [
      "\u001b[0;31m---------------------------------------------------------------------------\u001b[0m",
      "\u001b[0;31mKeyError\u001b[0m                                  Traceback (most recent call last)",
      "\u001b[0;32m/var/folders/9m/8kxkp3s10g9gnjlz2bk_8zs00000gp/T/ipykernel_36591/965807586.py\u001b[0m in \u001b[0;36m<module>\u001b[0;34m\u001b[0m\n\u001b[1;32m      1\u001b[0m \u001b[0;31m# If key is not available\u001b[0m\u001b[0;34m\u001b[0m\u001b[0;34m\u001b[0m\u001b[0;34m\u001b[0m\u001b[0m\n\u001b[1;32m      2\u001b[0m \u001b[0;31m# raise KeyError\u001b[0m\u001b[0;34m\u001b[0m\u001b[0;34m\u001b[0m\u001b[0;34m\u001b[0m\u001b[0m\n\u001b[0;32m----> 3\u001b[0;31m \u001b[0mprint\u001b[0m\u001b[0;34m(\u001b[0m\u001b[0mi\u001b[0m\u001b[0;34m[\u001b[0m\u001b[0;34m'job'\u001b[0m\u001b[0;34m]\u001b[0m\u001b[0;34m)\u001b[0m\u001b[0;34m\u001b[0m\u001b[0;34m\u001b[0m\u001b[0m\n\u001b[0m",
      "\u001b[0;31mKeyError\u001b[0m: 'job'"
     ]
    }
   ],
   "source": [
    "# If key is not available\n",
    "# raise KeyError\n",
    "print(i['job'])"
   ]
  },
  {
   "cell_type": "markdown",
   "id": "35e8fb3c-0380-4110-89c1-aac51adbc730",
   "metadata": {
    "tags": []
   },
   "source": [
    "## 2. Casting data types"
   ]
  },
  {
   "cell_type": "markdown",
   "id": "ad18166e-3a82-4ddf-8730-bb3575c1022f",
   "metadata": {
    "tags": []
   },
   "source": [
    "### Casting between string and integer (str and int)"
   ]
  },
  {
   "cell_type": "code",
   "execution_count": 20,
   "id": "4cc6511d-3e58-4817-a956-2ec92a59003e",
   "metadata": {},
   "outputs": [
    {
     "name": "stdout",
     "output_type": "stream",
     "text": [
      "1 <class 'int'>\n",
      "1 <class 'str'>\n",
      "1 <class 'int'>\n"
     ]
    }
   ],
   "source": [
    "# Init an integer\n",
    "k = 1\n",
    "print(k, type(k))\n",
    "\n",
    "# Cast integer to string\n",
    "l = str(k)\n",
    "print(l, type(l))\n",
    "\n",
    "# Cast string to integer\n",
    "m = int(l)\n",
    "print(m, type(m))"
   ]
  },
  {
   "cell_type": "markdown",
   "id": "c4be3e5b-a276-4945-bfeb-533b6ca562cc",
   "metadata": {
    "tags": []
   },
   "source": [
    "### Casting between string and float (str and float)"
   ]
  },
  {
   "cell_type": "code",
   "execution_count": 25,
   "id": "fe2fb75c-10f7-4e56-b1f6-af928c3b2e43",
   "metadata": {},
   "outputs": [
    {
     "name": "stdout",
     "output_type": "stream",
     "text": [
      "1.0 <class 'float'>\n",
      "1.0 <class 'str'>\n",
      "1.0 <class 'float'>\n"
     ]
    }
   ],
   "source": [
    "# Init a float\n",
    "n = 1.\n",
    "print(n, type(n))\n",
    "\n",
    "# Cast integer to string\n",
    "p = str(n)\n",
    "print(p, type(p))\n",
    "\n",
    "# Cast string to float\n",
    "o = float(p)\n",
    "print(o, type(o))"
   ]
  },
  {
   "cell_type": "markdown",
   "id": "64554efd-c9c3-426c-9502-ed6d0c9d6dc7",
   "metadata": {
    "tags": []
   },
   "source": [
    "### Casting between integer and float (int and float)"
   ]
  },
  {
   "cell_type": "code",
   "execution_count": 26,
   "id": "77ea421e-59fb-41e6-81a6-6b714cddbcbd",
   "metadata": {},
   "outputs": [
    {
     "name": "stdout",
     "output_type": "stream",
     "text": [
      "1 <class 'int'>\n",
      "1.0 <class 'float'>\n",
      "1 <class 'int'>\n"
     ]
    }
   ],
   "source": [
    "# Init an integer\n",
    "r = 1\n",
    "print(r, type(r))\n",
    "\n",
    "# Cast integer to float\n",
    "t = float(r)\n",
    "print(t, type(t))\n",
    "\n",
    "# Cast float to integer\n",
    "q = int(t)\n",
    "print(q, type(q))"
   ]
  },
  {
   "cell_type": "markdown",
   "id": "4bf8d23c-c3cf-4b49-aa0c-508fdf6dcf0e",
   "metadata": {
    "tags": []
   },
   "source": [
    "### Casting between list and tuple (list and tuple)"
   ]
  },
  {
   "cell_type": "code",
   "execution_count": 31,
   "id": "9ba49fb6-b1a4-4cf1-b119-465165b42457",
   "metadata": {},
   "outputs": [
    {
     "name": "stdout",
     "output_type": "stream",
     "text": [
      "[1, 2.5, 'stringggg'] <class 'list'>\n",
      "(1, 2.5, 'stringggg') <class 'tuple'>\n",
      "[1, 2.5, 'stringggg'] <class 'list'>\n"
     ]
    }
   ],
   "source": [
    "# Init a list\n",
    "w = [1, 2.5, 'stringggg']\n",
    "print(w, type(w))\n",
    "\n",
    "# Cast list to tuple\n",
    "u = tuple(w)\n",
    "print(u, type(u))\n",
    "\n",
    "# Cast tuple to list\n",
    "v = list(u)\n",
    "print(v, type(v))"
   ]
  },
  {
   "cell_type": "markdown",
   "id": "596d44be-4d78-4381-ab92-e1f86a3b9490",
   "metadata": {
    "tags": []
   },
   "source": [
    "### Casting between list and set (list and set)"
   ]
  },
  {
   "cell_type": "code",
   "execution_count": 32,
   "id": "3a625e82-fa71-4f0a-818b-d1f41fdd7390",
   "metadata": {},
   "outputs": [
    {
     "name": "stdout",
     "output_type": "stream",
     "text": [
      "[1, 2.5, 'stringggg', 1, 'stringggg'] <class 'list'>\n",
      "{1, 2.5, 'stringggg'} <class 'set'>\n",
      "[1, 2.5, 'stringggg'] <class 'list'>\n"
     ]
    }
   ],
   "source": [
    "# Init a list\n",
    "w = [1, 2.5, 'stringggg', 1, 'stringggg']\n",
    "print(w, type(w))\n",
    "\n",
    "# Cast list to set\n",
    "z = set(w)\n",
    "print(z, type(z))\n",
    "\n",
    "# Cast set to list\n",
    "x = list(z)\n",
    "print(x, type(x))"
   ]
  },
  {
   "cell_type": "markdown",
   "id": "88142616-a4f1-4033-b74c-14e3a8e95aae",
   "metadata": {
    "tags": []
   },
   "source": [
    "### Some data types that cannot casting between them"
   ]
  },
  {
   "cell_type": "code",
   "execution_count": 36,
   "id": "a4dd3d1b-4076-4424-aefe-8bec3a2ae2a2",
   "metadata": {},
   "outputs": [
    {
     "name": "stdout",
     "output_type": "stream",
     "text": [
      "{'name': 'Minh', 'age': 24, 123: 456}\n",
      "['name', 'age', 123]\n"
     ]
    },
    {
     "ename": "ValueError",
     "evalue": "dictionary update sequence element #0 has length 4; 2 is required",
     "output_type": "error",
     "traceback": [
      "\u001b[0;31m---------------------------------------------------------------------------\u001b[0m",
      "\u001b[0;31mValueError\u001b[0m                                Traceback (most recent call last)",
      "\u001b[0;32m/var/folders/9m/8kxkp3s10g9gnjlz2bk_8zs00000gp/T/ipykernel_36591/1983299393.py\u001b[0m in \u001b[0;36m<module>\u001b[0;34m\u001b[0m\n\u001b[1;32m      9\u001b[0m \u001b[0mprint\u001b[0m\u001b[0;34m(\u001b[0m\u001b[0mxx\u001b[0m\u001b[0;34m)\u001b[0m\u001b[0;34m\u001b[0m\u001b[0;34m\u001b[0m\u001b[0m\n\u001b[1;32m     10\u001b[0m \u001b[0;34m\u001b[0m\u001b[0m\n\u001b[0;32m---> 11\u001b[0;31m \u001b[0myy\u001b[0m \u001b[0;34m=\u001b[0m \u001b[0mdict\u001b[0m\u001b[0;34m(\u001b[0m\u001b[0mxx\u001b[0m\u001b[0;34m)\u001b[0m\u001b[0;34m\u001b[0m\u001b[0;34m\u001b[0m\u001b[0m\n\u001b[0m\u001b[1;32m     12\u001b[0m \u001b[0mprint\u001b[0m\u001b[0;34m(\u001b[0m\u001b[0myy\u001b[0m\u001b[0;34m)\u001b[0m\u001b[0;34m\u001b[0m\u001b[0;34m\u001b[0m\u001b[0m\n",
      "\u001b[0;31mValueError\u001b[0m: dictionary update sequence element #0 has length 4; 2 is required"
     ]
    }
   ],
   "source": [
    "zz = {\n",
    "    'name': 'Minh',\n",
    "    'age': 24,\n",
    "    123: 456\n",
    "}\n",
    "print(zz)\n",
    "\n",
    "xx = list(zz)\n",
    "print(xx)\n",
    "\n",
    "yy = dict(xx)\n",
    "print(yy)"
   ]
  },
  {
   "cell_type": "code",
   "execution_count": null,
   "id": "17eb9d20-c97b-4ba5-b4b7-042e4b0542e5",
   "metadata": {},
   "outputs": [],
   "source": []
  }
 ],
 "metadata": {
  "kernelspec": {
   "display_name": "Python 3 (ipykernel)",
   "language": "python",
   "name": "python3"
  },
  "language_info": {
   "codemirror_mode": {
    "name": "ipython",
    "version": 3
   },
   "file_extension": ".py",
   "mimetype": "text/x-python",
   "name": "python",
   "nbconvert_exporter": "python",
   "pygments_lexer": "ipython3",
   "version": "3.8.2"
  }
 },
 "nbformat": 4,
 "nbformat_minor": 5
}
