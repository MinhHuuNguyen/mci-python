{
 "cells": [
  {
   "cell_type": "markdown",
   "metadata": {},
   "source": [
    "# LESSON 3: REGRESSION LOSS AND METRICS\n",
    "\n",
    "<img src=\"../images/linear_logistic_regression_logo.jpeg\" width=\"600px\"/>"
   ]
  },
  {
   "cell_type": "markdown",
   "metadata": {},
   "source": [
    "## 1. Mean square error and Root mean square error\n",
    "MSE (Mean Squared Error) represents the difference between the original and predicted values extracted by squared the average difference over the data set.\n",
    "\n",
    "<center>\n",
    "    \\[\n",
    "    MSE(w) = \\frac{1}{N}\\sum_{i=1}^{N}(\\hat{y}^{i} - y^{i})^2\n",
    "    \\]\n",
    "</center>\n",
    "\n",
    "RMSE (Root Mean Squared Error) is the error rate by the square root of MSE.\n",
    "\n",
    "<center>\n",
    "    \\[\n",
    "    RMSE(w) = \\sqrt{MSE(w)} = \\sqrt{\\frac{1}{N}\\sum_{i=1}^{N}(\\hat{y}^{i} - y^{i})^2}\n",
    "    \\]\n",
    "</center>"
   ]
  },
  {
   "cell_type": "markdown",
   "metadata": {},
   "source": [
    "## 2. Mean absolute error\n",
    "\n",
    "MAE (Mean absolute error) represents the difference between the original and predicted values extracted by averaged the absolute difference over the data set.\n",
    "\n",
    "<center>\n",
    "    \\[\n",
    "    MAE(w) = \\frac{1}{N}\\sum_{i=1}^{N}|\\hat{y}^{i} - y^{i}|\n",
    "    \\]\n",
    "</center>"
   ]
  },
  {
   "cell_type": "markdown",
   "metadata": {},
   "source": [
    "## 3. Why we need MAE and MSE?\n",
    "\n",
    "We have true value list $y = [3, 3, 3, 3]$.\n",
    "\n",
    "### 3.1. If we use simple subtract\n",
    "\n",
    "And we have predicted value list $\\hat(y) = [6, 6, 0, 0]$.\n",
    "\n",
    "If we use simple subtract as loss function, we calculate error\n",
    "\n",
    "<center>\n",
    "    \\[\n",
    "    L(w) = \\frac{1}{4}((6 - 3) + (6 - 3) + (0 - 3) + (0 - 3)) = 0\n",
    "    \\]\n",
    "</center>\n",
    "\n",
    "Loss value = 0 and it's totally wrong!!!\n",
    "\n",
    "### 3.2. If we use MAE\n",
    "\n",
    "If we use MAE as loss function, we calculate error\n",
    "\n",
    "<center>\n",
    "    \\[\n",
    "    L(w) = \\frac{1}{4}(|6 - 3| + |6 - 3| + |0 - 3| + |0 - 3|) = 3\n",
    "    \\]\n",
    "</center>\n",
    "\n",
    "Loss value = 3 and it's better.\n",
    "\n",
    "But in this case, we have predicted value list $\\hat(y) = [12, 4, 2, 2]$.\n",
    "\n",
    "<center>\n",
    "    \\[\n",
    "    L(w) = \\frac{1}{4}(|12 - 3| + |4 - 3| + |2 - 3| + |2 - 3|) = 3\n",
    "    \\]\n",
    "</center>\n",
    "\n",
    "Loss value = 3 and it's similar to the above case?\n",
    "\n",
    "### 3.3. If we use RMSE\n",
    "\n",
    "If we use RMSE as loss function, we calculate error\n",
    "\n",
    "<center>\n",
    "    \\[\n",
    "    L(w) = \\frac{1}{4}((6 - 3)^2 + (6 - 3)^2 + (0 - 3)^2 + (0 - 3)^2) = 3\n",
    "    \\]\n",
    "</center>\n",
    "Loss value = 3\n",
    "\n",
    "And in this case,\n",
    "\n",
    "<center>\n",
    "    \\[\n",
    "    L(w) = \\frac{1}{4}((12 - 3)^2 + (4 - 3)^2 + (2 - 3)^2 + (2 - 3)^2) = 4.58\n",
    "    \\]\n",
    "</center>\n",
    "Loss value = 4.58"
   ]
  },
  {
   "cell_type": "markdown",
   "metadata": {},
   "source": [
    "## 4. Coefficient of determination (R-squared)\n",
    "R-squared (Coefficient of determination) represents the coefficient of how well the values fit compared to the original values.\n",
    "\n",
    "The value from 0 to 1 interpreted as percentages. The higher the value is, the better the model is.\n",
    "\n",
    "<center>\n",
    "    \\[\n",
    "    R^2(w) = \\frac{1}{N}\\frac{\\sum_{i=1}^{N}(\\hat{y}^{i} - y^{i})^2}{\\sum_{i=1}^{N}(\\bar{y}^{i} - y^{i})^2}\n",
    "    \\]\n",
    "</center>"
   ]
  },
  {
   "cell_type": "code",
   "execution_count": null,
   "metadata": {},
   "outputs": [],
   "source": []
  }
 ],
 "metadata": {
  "kernelspec": {
   "display_name": "Python 3",
   "language": "python",
   "name": "python3"
  },
  "language_info": {
   "codemirror_mode": {
    "name": "ipython",
    "version": 3
   },
   "file_extension": ".py",
   "mimetype": "text/x-python",
   "name": "python",
   "nbconvert_exporter": "python",
   "pygments_lexer": "ipython3",
   "version": "3.8.12"
  },
  "notify_time": "5",
  "toc": {
   "base_numbering": 1,
   "nav_menu": {},
   "number_sections": false,
   "sideBar": true,
   "skip_h1_title": false,
   "title_cell": "Table of Contents",
   "title_sidebar": "Table of Contents",
   "toc_cell": false,
   "toc_position": {},
   "toc_section_display": true,
   "toc_window_display": true
  }
 },
 "nbformat": 4,
 "nbformat_minor": 5
}
