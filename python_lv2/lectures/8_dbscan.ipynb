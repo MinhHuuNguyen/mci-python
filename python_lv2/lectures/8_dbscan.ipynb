{
 "cells": [
  {
   "cell_type": "markdown",
   "metadata": {},
   "source": [
    "# LESSON 8: DBSCAN\n",
    "<table><tr>\n",
    "<td> <img src=\"../images/clustering_logo.png\" width=\"500px\"/> </td>\n",
    "</tr></table>\n",
    "\n",
    "*This lecture was refered by [A Density-Based Algorithm for Discovering Clusters in Large Spatial Databases with Noise](https://www.aaai.org/Papers/KDD/1996/KDD96-037.pdf)*"
   ]
  },
  {
   "cell_type": "markdown",
   "metadata": {},
   "source": [
    "## 1. DBSCAN introduction\n",
    "While K-means clustering split the given dataset by choosing center and assign label for each data point, DBSCAN approachs clustering problem in a different way.\n",
    "\n",
    "**D**ensity-**b**ased **s**patial **c**lustering of **a**pplications with **n**oise (or DBSCAN for short), like its name, is based on the density of data points to assign label.\n",
    "\n",
    "Moreover, DBSCAN accepts noise in its results (noise means some data points will not be assign label).\n",
    "\n",
    "These properties of DBSCAN solves some remaining problems of K-means clustering.\n",
    "\n",
    "<img src=\"../images/dbscan_kmeans_compare.png\" width=\"600px\"/>\n",
    "\n",
    "<img src=\"../images/dbscan_smile_face.gif\" width=\"500px\"/>"
   ]
  },
  {
   "cell_type": "markdown",
   "metadata": {},
   "source": [
    "## 2. Some definitions in DBSCAN\n",
    "To prepare for DBSCAN algorithm, we have to understand some definitions\n",
    "\n",
    "### 2.1. Eps-neighborhood of a point\n",
    "**Definition 1:** Let D be a database of points, the Eps-neighborhood of a point p, denoted by $N_{Eps}(P)$, is defined $N_{Eps}(P) = \\{q \\in D | dist(p, q) ≤ Eps\\}$.\n",
    "\n",
    "### 2.2. Directly density-reachable\n",
    "**Definition 2:** A point p is directly density-reachable from a point q wrt. Eps, MinPts if\n",
    "1) $p \\in N_{Eps}(q)$ <br>\n",
    "2) $|N_{Eps}(q)| > MinPts$ (core point condition)\n",
    "\n",
    "### 2.3. Density-reachable\n",
    "**Definition 3:** A point p is density-reachable from a point q wrt. Eps and MinPts if there is a chain of points $P_1, \\dots, P_n, P_1 = q, P_n = p$ such that $P_{i+1}$ is directly density-reachable from $P_i$.\n",
    "\n",
    "### 2.4. Density-connected\n",
    "**Definition 4:** A point p is density-connected to a point q wrt. Eps and MinPts if there is a point $o$ such that both, $p$ and $q$ are density-reachable from $o$ wrt. Eps and MinPts.\n",
    "\n",
    "### 2.5. Cluster\n",
    "**Definition 5:** Let D be a database of points. Cluster C wrt. Eps and MinPts is a non-empty subset of D satisfying the following conditions:\n",
    "1) **Maximality**: $\\forall p, q$: if $p \\in C$ and $q$ is density-reachable from $p$ wrt. Eps and MinPts, then $q \\in C$ <br>\n",
    "2) **Connectivity**: $\\forall p, q \\in C$: $p$ is density-connected to $q$ wrt. Eps and MinPts.\n",
    "\n",
    "### 2.6. Noise\n",
    "**Definition 6:** Let $C_1 ..... C_k$ be the clusters of the database D wrt. parameters $Eps_i$ and $MinPts_i$, $i = 1, \\dots, k$. Then we define the noise as the set of points in the database D not belonging to any cluster $C_i$, i.e. noise = {$p \\in D | \\forall i: p \\notin C_i$}."
   ]
  },
  {
   "cell_type": "markdown",
   "metadata": {},
   "source": [
    "## 3. The algorithm\n",
    "With the above definitions, we have DBSCAN algorithm\n",
    "\n",
    "***Input***: Dataset, Eps, MinPts\n",
    "\n",
    "***Output***: Label of each data point in the dataset.\n",
    "\n",
    "***For each point p in dataset:***\n",
    "\n",
    "***Step 1***: Get the next cluster id c.\n",
    "\n",
    "***Step 2***:\n",
    "- If p is not assigned cluster, go to ***Step 3***.\n",
    "- Else, go to the next point p in the dataset.\n",
    "\n",
    "***Step 3***: Get all the points around p, we call seeds_list.\n",
    "- If length of seeds_list < MinPts, **assign label of p to NOISE** and go to the next point p in the dataset.\n",
    "- Else, **assign all points in seeds_list to cluser id c** and go to ***Step 4***.\n",
    "\n",
    "***Step 4***: ***For each point q in seeds_list:***\n",
    "\n",
    "*Step 4.1*: Get the points around q.\n",
    "- If number of points around q < MinPts, remove q from seed_list and go to the next point q in seeds_list.\n",
    "- Else, go to *Step 4.2*.\n",
    "\n",
    "*Step 4.2*: For each point t in the points around q.\n",
    "- If t doesn't have label, **assign label of t to cluser id c** and add t into seed_list.\n",
    "- If label of t is NOISE, **assign label of t to cluser id c**.\n",
    "- Else:\n",
    "    - If there are remaining points in the points around q, go to the next point in the points around q.\n",
    "    - Else: end the loop and go to *Step 4.3*\n",
    "\n",
    "*Step 4.3*:\n",
    "- If there are remaining points in seeds_list, go to the next point in seeds_list.\n",
    "- Else: end the loop and go to ***Step 5***.\n",
    " \n",
    "***Step 5***:\n",
    "- If there are remaining points in the dataset, go to the next point in dataset.\n",
    "- Else: end the algorithm."
   ]
  },
  {
   "cell_type": "markdown",
   "metadata": {},
   "source": [
    "## 4. Implementation example"
   ]
  },
  {
   "cell_type": "markdown",
   "metadata": {},
   "source": [
    "### 4.1. Prepare library and data"
   ]
  },
  {
   "cell_type": "code",
   "execution_count": null,
   "metadata": {},
   "outputs": [],
   "source": []
  },
  {
   "cell_type": "markdown",
   "metadata": {},
   "source": [
    "### 4.2. Implement from scratch"
   ]
  },
  {
   "cell_type": "code",
   "execution_count": null,
   "metadata": {},
   "outputs": [],
   "source": []
  },
  {
   "cell_type": "markdown",
   "metadata": {},
   "source": [
    "### 4.3. Use `sklearn`"
   ]
  },
  {
   "cell_type": "code",
   "execution_count": null,
   "metadata": {},
   "outputs": [],
   "source": []
  },
  {
   "cell_type": "markdown",
   "metadata": {},
   "source": [
    "## 5. Homework"
   ]
  },
  {
   "cell_type": "code",
   "execution_count": null,
   "metadata": {},
   "outputs": [],
   "source": []
  }
 ],
 "metadata": {
  "kernelspec": {
   "display_name": "Python 3",
   "language": "python",
   "name": "python3"
  },
  "language_info": {
   "codemirror_mode": {
    "name": "ipython",
    "version": 3
   },
   "file_extension": ".py",
   "mimetype": "text/x-python",
   "name": "python",
   "nbconvert_exporter": "python",
   "pygments_lexer": "ipython3",
   "version": "3.8.12"
  },
  "notify_time": "5",
  "toc": {
   "base_numbering": 1,
   "nav_menu": {},
   "number_sections": false,
   "sideBar": true,
   "skip_h1_title": false,
   "title_cell": "Table of Contents",
   "title_sidebar": "Table of Contents",
   "toc_cell": false,
   "toc_position": {},
   "toc_section_display": true,
   "toc_window_display": true
  }
 },
 "nbformat": 4,
 "nbformat_minor": 5
}
