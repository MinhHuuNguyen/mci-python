{
 "cells": [
  {
   "cell_type": "markdown",
   "metadata": {},
   "source": [
    "# LESSON 6: SOFTMAX REGRESSION\n",
    "<table><tr>\n",
    "<td> <img src=\"../images/linear_logistic_regression_logo.jpeg\" width=\"600px\"/> </td>\n",
    "</tr></table>\n",
    "\n",
    "*This lecture was refered by [machinelearningcoban.com](https://machinelearningcoban.com/2017/02/17/softmax/)*"
   ]
  },
  {
   "cell_type": "markdown",
   "metadata": {},
   "source": [
    "## 1. Softmax regression introduction\n",
    "Using simple logistic regression, we only solve classification problem with only 1 class.\n",
    "\n",
    "To solve multiple classes classification problem by using logistic regression, we have to build multiple logistic regression models. This model is called ***one-vs-rest***.\n",
    "\n",
    "<img src=\"../images/softmax_regression_one_vs_rest.png\" width=\"600px\"/>\n",
    "\n",
    "$a_i$ with i = 1, 2, 3 ... C are almost independent and their sum can be larger or smaller than 1.\n",
    "\n",
    "<img src=\"../images/softmax_regression_softmax_net.png\" width=\"700px\"/>\n",
    "\n",
    "<img src=\"../images/softmax_regression_example.png\" width=\"700px\"/>\n",
    "\n",
    "Because we have to calculate $e^{z_i}$, if $z_i$ is large, $e^{z_i}$ will be very large and it causes value out of range error. We need to build a stable version of softmax.\n",
    "\n",
    "<center>\n",
    "    \\[\n",
    "    softmax(z^i)\n",
    "    = \\frac{e^{z_i}}{\\sum_j^C e^{z_j}}\n",
    "    = \\frac{e^{-max_j(z_j)} * e^{z_i}}{e^{-max_j(z_j)} * \\sum_j^C e^{z_j}}\n",
    "    = \\frac{e^{z_i - max_j(z_j)}}{\\sum_j^C e^{z_j - max_j(z_j)}}\n",
    "    \\]\n",
    "</center>"
   ]
  },
  {
   "cell_type": "markdown",
   "metadata": {},
   "source": [
    "## 2. Loss function and Optimizer for Softmax regression\n",
    "Instead of having only 2 classes like logistic regression, softmax regression has C classes and it need another form of cross entropy loss function.\n",
    "\n",
    "Its name is ***CATEGORICAL CROSS ENTROPY***\n",
    "\n",
    "<center>\n",
    "    \\[\n",
    "    J(W; X, Y) = -\\sum_{i=1}^N \\sum_{j=1}^C y_{ji}\\log(a_{ji})\n",
    "    = -\\sum_{i=1}^N \\sum_{j=1}^C y_{ji}\\log\\frac{e^{{z}_i}}{\\sum_{k=1}^C e^{{z}_k}}\n",
    "    \\]\n",
    "</center>\n",
    "\n",
    "For each sample from the dataset,\n",
    "<center>\n",
    "    \\[\n",
    "    J({W}; {x}_i, {y}_i)\n",
    "    = -\\sum_{j=1}^C y_{ji}\\log\\frac{e^{{z}_ji}}{\\sum_{k=1}^C e^{{z}_ki}} \\\\\n",
    "    = -\\sum_{j=1}^C (y_{ji}{z}_ji - y_{ji}\\log{\\sum_{k=1}^C e^{{z}_ki}}) \\\\\n",
    "    = -\\sum_{j=1}^C y_{ji}{z}_ji + \\sum_{j=1}^C y_{ji}\\log{\\sum_{k=1}^C e^{{z}_ki}} \\\\\n",
    "    = -\\sum_{j=1}^C y_{ji}{z}_ji + \\log{\\sum_{k=1}^C e^{{z}_ki}}\n",
    "    \\]\n",
    "</center>\n",
    "\n",
    "Note:\n",
    "- $\\sum_{j=1}^C y_{ji}=1$ because it's the sum of probability\n",
    "- $\\log{\\sum_{k=1}^C e^{{z}_ki}}$ is independent with $j$ so we can remove $\\sum_{j=1}^C$\n",
    "\n",
    "To calculate derivative of $J$ with $W$, we can use the following fomular\n",
    "\n",
    "<center>\n",
    "    \\[\n",
    "    \\frac{\\partial J_i(W)}{\\partial W} = [\\frac{\\partial J_i(W)}{\\partial w_1}, \\frac{\\partial J_i(W)}{\\partial w_2}, \\dots, \\frac{\\partial J_i(W)}{\\partial w_C}]\n",
    "    \\]\n",
    "</center>\n",
    "\n",
    "and gradient of each column can be calculated by\n",
    "\n",
    "<center>\n",
    "    \\[\n",
    "    \\frac{\\partial J_i(W)}{\\partial w_j} \n",
    "    = -y_{ji}x_i + \\frac{e^{z_ji} x_i}{\\sum_{k=1}^C e^{z_ki}}\n",
    "    = -y_{ji}x_i + a_{ji} x_i\n",
    "    = x_i (a_{ji} - y_{ji})\n",
    "    \\]\n",
    "</center>\n",
    "\n",
    "Note:\n",
    "- In the first equation, because we do derivative with $w_j$, all elements in $\\sum_{k=1}^C e^{z_ki}$ are equal to 0 except $e^{z_ji}$\n",
    "- $e_{ji} = a_{ji} - y_{ji}$ is the different between the prediction and the real value\n",
    "\n",
    "Now, we have \n",
    "\n",
    "<center>\n",
    "    \\[\n",
    "    \\frac{\\partial J_i(W)}{\\partial W} = x_i[e_{1i}, e_{1i}, \\dots, e_{ji}] = x_i e_i\n",
    "    \\]\n",
    "</center>\n",
    "\n",
    "and for the whole dataset\n",
    "\n",
    "<center>\n",
    "    \\[\n",
    "    \\frac{\\partial J(W)}{\\partial W} = \\sum_{i=1}^N x_i e_{i} = XE\n",
    "    \\]\n",
    "</center>\n",
    "\n",
    "Using SGD, we have fomular to update parameters\n",
    "\n",
    "<center>\n",
    "    \\[\n",
    "    W = W + \\eta e_i x_i = W + \\eta(a_{i} - y_{i})x_i\n",
    "    \\]\n",
    "</center>\n",
    "\n",
    "**To conclude, Logistic Regression is a special case of Softmax Regression!!!**"
   ]
  },
  {
   "cell_type": "markdown",
   "metadata": {},
   "source": [
    "## 3. Implementation example"
   ]
  },
  {
   "cell_type": "markdown",
   "metadata": {},
   "source": [
    "### 3.1. Prepare library and data"
   ]
  },
  {
   "cell_type": "code",
   "execution_count": 1,
   "metadata": {},
   "outputs": [],
   "source": [
    "import pandas as pd\n",
    "import matplotlib.pyplot as plt\n",
    "import numpy as np\n",
    "import seaborn as sns"
   ]
  },
  {
   "cell_type": "code",
   "execution_count": 2,
   "metadata": {},
   "outputs": [
    {
     "data": {
      "text/html": [
       "<div>\n",
       "<style scoped>\n",
       "    .dataframe tbody tr th:only-of-type {\n",
       "        vertical-align: middle;\n",
       "    }\n",
       "\n",
       "    .dataframe tbody tr th {\n",
       "        vertical-align: top;\n",
       "    }\n",
       "\n",
       "    .dataframe thead th {\n",
       "        text-align: right;\n",
       "    }\n",
       "</style>\n",
       "<table border=\"1\" class=\"dataframe\">\n",
       "  <thead>\n",
       "    <tr style=\"text-align: right;\">\n",
       "      <th></th>\n",
       "      <th>sepal_length</th>\n",
       "      <th>sepal_width</th>\n",
       "      <th>petal_length</th>\n",
       "      <th>petal_width</th>\n",
       "      <th>species</th>\n",
       "    </tr>\n",
       "  </thead>\n",
       "  <tbody>\n",
       "    <tr>\n",
       "      <th>0</th>\n",
       "      <td>5.1</td>\n",
       "      <td>3.5</td>\n",
       "      <td>1.4</td>\n",
       "      <td>0.2</td>\n",
       "      <td>setosa</td>\n",
       "    </tr>\n",
       "    <tr>\n",
       "      <th>1</th>\n",
       "      <td>4.9</td>\n",
       "      <td>3.0</td>\n",
       "      <td>1.4</td>\n",
       "      <td>0.2</td>\n",
       "      <td>setosa</td>\n",
       "    </tr>\n",
       "    <tr>\n",
       "      <th>2</th>\n",
       "      <td>4.7</td>\n",
       "      <td>3.2</td>\n",
       "      <td>1.3</td>\n",
       "      <td>0.2</td>\n",
       "      <td>setosa</td>\n",
       "    </tr>\n",
       "    <tr>\n",
       "      <th>3</th>\n",
       "      <td>4.6</td>\n",
       "      <td>3.1</td>\n",
       "      <td>1.5</td>\n",
       "      <td>0.2</td>\n",
       "      <td>setosa</td>\n",
       "    </tr>\n",
       "    <tr>\n",
       "      <th>4</th>\n",
       "      <td>5.0</td>\n",
       "      <td>3.6</td>\n",
       "      <td>1.4</td>\n",
       "      <td>0.2</td>\n",
       "      <td>setosa</td>\n",
       "    </tr>\n",
       "    <tr>\n",
       "      <th>...</th>\n",
       "      <td>...</td>\n",
       "      <td>...</td>\n",
       "      <td>...</td>\n",
       "      <td>...</td>\n",
       "      <td>...</td>\n",
       "    </tr>\n",
       "    <tr>\n",
       "      <th>145</th>\n",
       "      <td>6.7</td>\n",
       "      <td>3.0</td>\n",
       "      <td>5.2</td>\n",
       "      <td>2.3</td>\n",
       "      <td>virginica</td>\n",
       "    </tr>\n",
       "    <tr>\n",
       "      <th>146</th>\n",
       "      <td>6.3</td>\n",
       "      <td>2.5</td>\n",
       "      <td>5.0</td>\n",
       "      <td>1.9</td>\n",
       "      <td>virginica</td>\n",
       "    </tr>\n",
       "    <tr>\n",
       "      <th>147</th>\n",
       "      <td>6.5</td>\n",
       "      <td>3.0</td>\n",
       "      <td>5.2</td>\n",
       "      <td>2.0</td>\n",
       "      <td>virginica</td>\n",
       "    </tr>\n",
       "    <tr>\n",
       "      <th>148</th>\n",
       "      <td>6.2</td>\n",
       "      <td>3.4</td>\n",
       "      <td>5.4</td>\n",
       "      <td>2.3</td>\n",
       "      <td>virginica</td>\n",
       "    </tr>\n",
       "    <tr>\n",
       "      <th>149</th>\n",
       "      <td>5.9</td>\n",
       "      <td>3.0</td>\n",
       "      <td>5.1</td>\n",
       "      <td>1.8</td>\n",
       "      <td>virginica</td>\n",
       "    </tr>\n",
       "  </tbody>\n",
       "</table>\n",
       "<p>150 rows × 5 columns</p>\n",
       "</div>"
      ],
      "text/plain": [
       "     sepal_length  sepal_width  petal_length  petal_width    species\n",
       "0             5.1          3.5           1.4          0.2     setosa\n",
       "1             4.9          3.0           1.4          0.2     setosa\n",
       "2             4.7          3.2           1.3          0.2     setosa\n",
       "3             4.6          3.1           1.5          0.2     setosa\n",
       "4             5.0          3.6           1.4          0.2     setosa\n",
       "..            ...          ...           ...          ...        ...\n",
       "145           6.7          3.0           5.2          2.3  virginica\n",
       "146           6.3          2.5           5.0          1.9  virginica\n",
       "147           6.5          3.0           5.2          2.0  virginica\n",
       "148           6.2          3.4           5.4          2.3  virginica\n",
       "149           5.9          3.0           5.1          1.8  virginica\n",
       "\n",
       "[150 rows x 5 columns]"
      ]
     },
     "execution_count": 2,
     "metadata": {},
     "output_type": "execute_result"
    }
   ],
   "source": [
    "iris_df = sns.load_dataset('iris')\n",
    "iris_df"
   ]
  },
  {
   "cell_type": "code",
   "execution_count": 3,
   "metadata": {},
   "outputs": [
    {
     "data": {
      "text/html": [
       "<div>\n",
       "<style scoped>\n",
       "    .dataframe tbody tr th:only-of-type {\n",
       "        vertical-align: middle;\n",
       "    }\n",
       "\n",
       "    .dataframe tbody tr th {\n",
       "        vertical-align: top;\n",
       "    }\n",
       "\n",
       "    .dataframe thead th {\n",
       "        text-align: right;\n",
       "    }\n",
       "</style>\n",
       "<table border=\"1\" class=\"dataframe\">\n",
       "  <thead>\n",
       "    <tr style=\"text-align: right;\">\n",
       "      <th></th>\n",
       "      <th>petal_length</th>\n",
       "      <th>petal_width</th>\n",
       "      <th>species</th>\n",
       "    </tr>\n",
       "  </thead>\n",
       "  <tbody>\n",
       "    <tr>\n",
       "      <th>0</th>\n",
       "      <td>1.4</td>\n",
       "      <td>0.2</td>\n",
       "      <td>setosa</td>\n",
       "    </tr>\n",
       "    <tr>\n",
       "      <th>1</th>\n",
       "      <td>1.4</td>\n",
       "      <td>0.2</td>\n",
       "      <td>setosa</td>\n",
       "    </tr>\n",
       "    <tr>\n",
       "      <th>2</th>\n",
       "      <td>1.3</td>\n",
       "      <td>0.2</td>\n",
       "      <td>setosa</td>\n",
       "    </tr>\n",
       "    <tr>\n",
       "      <th>3</th>\n",
       "      <td>1.5</td>\n",
       "      <td>0.2</td>\n",
       "      <td>setosa</td>\n",
       "    </tr>\n",
       "    <tr>\n",
       "      <th>4</th>\n",
       "      <td>1.4</td>\n",
       "      <td>0.2</td>\n",
       "      <td>setosa</td>\n",
       "    </tr>\n",
       "    <tr>\n",
       "      <th>...</th>\n",
       "      <td>...</td>\n",
       "      <td>...</td>\n",
       "      <td>...</td>\n",
       "    </tr>\n",
       "    <tr>\n",
       "      <th>145</th>\n",
       "      <td>5.2</td>\n",
       "      <td>2.3</td>\n",
       "      <td>virginica</td>\n",
       "    </tr>\n",
       "    <tr>\n",
       "      <th>146</th>\n",
       "      <td>5.0</td>\n",
       "      <td>1.9</td>\n",
       "      <td>virginica</td>\n",
       "    </tr>\n",
       "    <tr>\n",
       "      <th>147</th>\n",
       "      <td>5.2</td>\n",
       "      <td>2.0</td>\n",
       "      <td>virginica</td>\n",
       "    </tr>\n",
       "    <tr>\n",
       "      <th>148</th>\n",
       "      <td>5.4</td>\n",
       "      <td>2.3</td>\n",
       "      <td>virginica</td>\n",
       "    </tr>\n",
       "    <tr>\n",
       "      <th>149</th>\n",
       "      <td>5.1</td>\n",
       "      <td>1.8</td>\n",
       "      <td>virginica</td>\n",
       "    </tr>\n",
       "  </tbody>\n",
       "</table>\n",
       "<p>150 rows × 3 columns</p>\n",
       "</div>"
      ],
      "text/plain": [
       "     petal_length  petal_width    species\n",
       "0             1.4          0.2     setosa\n",
       "1             1.4          0.2     setosa\n",
       "2             1.3          0.2     setosa\n",
       "3             1.5          0.2     setosa\n",
       "4             1.4          0.2     setosa\n",
       "..            ...          ...        ...\n",
       "145           5.2          2.3  virginica\n",
       "146           5.0          1.9  virginica\n",
       "147           5.2          2.0  virginica\n",
       "148           5.4          2.3  virginica\n",
       "149           5.1          1.8  virginica\n",
       "\n",
       "[150 rows x 3 columns]"
      ]
     },
     "execution_count": 3,
     "metadata": {},
     "output_type": "execute_result"
    }
   ],
   "source": [
    "df = iris_df.drop(columns=['sepal_length', 'sepal_width'])\n",
    "df"
   ]
  },
  {
   "cell_type": "code",
   "execution_count": 4,
   "metadata": {},
   "outputs": [
    {
     "data": {
      "image/png": "[encoded data removed]",
      "text/plain": [
       "<Figure size 432x288 with 1 Axes>"
      ]
     },
     "metadata": {
      "needs_background": "light"
     },
     "output_type": "display_data"
    }
   ],
   "source": [
    "sns.scatterplot(data=df, x='petal_length', y='petal_width', hue='species')\n",
    "plt.show()"
   ]
  },
  {
   "cell_type": "code",
   "execution_count": 5,
   "metadata": {},
   "outputs": [
    {
     "data": {
      "text/html": [
       "<div>\n",
       "<style scoped>\n",
       "    .dataframe tbody tr th:only-of-type {\n",
       "        vertical-align: middle;\n",
       "    }\n",
       "\n",
       "    .dataframe tbody tr th {\n",
       "        vertical-align: top;\n",
       "    }\n",
       "\n",
       "    .dataframe thead th {\n",
       "        text-align: right;\n",
       "    }\n",
       "</style>\n",
       "<table border=\"1\" class=\"dataframe\">\n",
       "  <thead>\n",
       "    <tr style=\"text-align: right;\">\n",
       "      <th></th>\n",
       "      <th>petal_length</th>\n",
       "      <th>petal_width</th>\n",
       "      <th>species</th>\n",
       "    </tr>\n",
       "  </thead>\n",
       "  <tbody>\n",
       "    <tr>\n",
       "      <th>0</th>\n",
       "      <td>1.4</td>\n",
       "      <td>0.2</td>\n",
       "      <td>setosa</td>\n",
       "    </tr>\n",
       "    <tr>\n",
       "      <th>1</th>\n",
       "      <td>1.4</td>\n",
       "      <td>0.2</td>\n",
       "      <td>setosa</td>\n",
       "    </tr>\n",
       "    <tr>\n",
       "      <th>2</th>\n",
       "      <td>1.3</td>\n",
       "      <td>0.2</td>\n",
       "      <td>setosa</td>\n",
       "    </tr>\n",
       "    <tr>\n",
       "      <th>3</th>\n",
       "      <td>1.5</td>\n",
       "      <td>0.2</td>\n",
       "      <td>setosa</td>\n",
       "    </tr>\n",
       "    <tr>\n",
       "      <th>4</th>\n",
       "      <td>1.4</td>\n",
       "      <td>0.2</td>\n",
       "      <td>setosa</td>\n",
       "    </tr>\n",
       "    <tr>\n",
       "      <th>...</th>\n",
       "      <td>...</td>\n",
       "      <td>...</td>\n",
       "      <td>...</td>\n",
       "    </tr>\n",
       "    <tr>\n",
       "      <th>145</th>\n",
       "      <td>5.2</td>\n",
       "      <td>2.3</td>\n",
       "      <td>virginica</td>\n",
       "    </tr>\n",
       "    <tr>\n",
       "      <th>146</th>\n",
       "      <td>5.0</td>\n",
       "      <td>1.9</td>\n",
       "      <td>virginica</td>\n",
       "    </tr>\n",
       "    <tr>\n",
       "      <th>147</th>\n",
       "      <td>5.2</td>\n",
       "      <td>2.0</td>\n",
       "      <td>virginica</td>\n",
       "    </tr>\n",
       "    <tr>\n",
       "      <th>148</th>\n",
       "      <td>5.4</td>\n",
       "      <td>2.3</td>\n",
       "      <td>virginica</td>\n",
       "    </tr>\n",
       "    <tr>\n",
       "      <th>149</th>\n",
       "      <td>5.1</td>\n",
       "      <td>1.8</td>\n",
       "      <td>virginica</td>\n",
       "    </tr>\n",
       "  </tbody>\n",
       "</table>\n",
       "<p>150 rows × 3 columns</p>\n",
       "</div>"
      ],
      "text/plain": [
       "     petal_length  petal_width    species\n",
       "0             1.4          0.2     setosa\n",
       "1             1.4          0.2     setosa\n",
       "2             1.3          0.2     setosa\n",
       "3             1.5          0.2     setosa\n",
       "4             1.4          0.2     setosa\n",
       "..            ...          ...        ...\n",
       "145           5.2          2.3  virginica\n",
       "146           5.0          1.9  virginica\n",
       "147           5.2          2.0  virginica\n",
       "148           5.4          2.3  virginica\n",
       "149           5.1          1.8  virginica\n",
       "\n",
       "[150 rows x 3 columns]"
      ]
     },
     "execution_count": 5,
     "metadata": {},
     "output_type": "execute_result"
    }
   ],
   "source": [
    "df"
   ]
  },
  {
   "cell_type": "code",
   "execution_count": 6,
   "metadata": {},
   "outputs": [],
   "source": [
    "def prepare_X_ones(X):\n",
    "    x_1 = np.ones((1, X.shape[1]))\n",
    "    print('x_0.shape', x_1.shape)\n",
    "\n",
    "    X = np.concatenate((x_1, X), axis=0).T\n",
    "    print('X.shape', X.shape)\n",
    "\n",
    "    return X"
   ]
  },
  {
   "cell_type": "code",
   "execution_count": 7,
   "metadata": {},
   "outputs": [
    {
     "data": {
      "text/plain": [
       "(2, 150)"
      ]
     },
     "execution_count": 7,
     "metadata": {},
     "output_type": "execute_result"
    }
   ],
   "source": [
    "X = df.iloc[:, :2].T\n",
    "X.shape"
   ]
  },
  {
   "cell_type": "code",
   "execution_count": 8,
   "metadata": {},
   "outputs": [
    {
     "name": "stdout",
     "output_type": "stream",
     "text": [
      "x_0.shape (1, 150)\n",
      "X.shape (150, 3)\n"
     ]
    },
    {
     "data": {
      "text/plain": [
       "(150, 3)"
      ]
     },
     "execution_count": 8,
     "metadata": {},
     "output_type": "execute_result"
    }
   ],
   "source": [
    "X = prepare_X_ones(X)\n",
    "X.shape"
   ]
  },
  {
   "cell_type": "code",
   "execution_count": 9,
   "metadata": {},
   "outputs": [
    {
     "data": {
      "text/plain": [
       "(150,)"
      ]
     },
     "execution_count": 9,
     "metadata": {},
     "output_type": "execute_result"
    }
   ],
   "source": [
    "y = df.species\n",
    "y.shape"
   ]
  },
  {
   "cell_type": "code",
   "execution_count": 10,
   "metadata": {},
   "outputs": [],
   "source": [
    "def one_hot_encode(y):\n",
    "    y_one_hot = []\n",
    "    y_index = []\n",
    "\n",
    "    for label in y:\n",
    "        if label == 'setosa':\n",
    "            y_one_hot.append([1, 0, 0])\n",
    "            y_index.append(0)\n",
    "        elif label == 'versicolor':\n",
    "            y_one_hot.append([0, 1, 0])\n",
    "            y_index.append(1)\n",
    "        elif label == 'virginica':\n",
    "            y_one_hot.append([0, 0, 1])\n",
    "            y_index.append(2)\n",
    "\n",
    "    return np.array(y_one_hot), np.array(y_index)"
   ]
  },
  {
   "cell_type": "code",
   "execution_count": 11,
   "metadata": {},
   "outputs": [
    {
     "data": {
      "text/plain": [
       "(150, 3)"
      ]
     },
     "execution_count": 11,
     "metadata": {},
     "output_type": "execute_result"
    }
   ],
   "source": [
    "y_one_hot, y_index = one_hot_encode(y)\n",
    "y_one_hot.shape"
   ]
  },
  {
   "cell_type": "code",
   "execution_count": 12,
   "metadata": {},
   "outputs": [
    {
     "data": {
      "text/plain": [
       "3"
      ]
     },
     "execution_count": 12,
     "metadata": {},
     "output_type": "execute_result"
    }
   ],
   "source": [
    "num_classes = y_one_hot.shape[1]\n",
    "num_classes"
   ]
  },
  {
   "cell_type": "markdown",
   "metadata": {},
   "source": [
    "### 3.2. Implement from scratch"
   ]
  },
  {
   "cell_type": "code",
   "execution_count": 13,
   "metadata": {},
   "outputs": [],
   "source": [
    "class MySoftmaxRegression():\n",
    "    \n",
    "    def __init__(self, max_iter, num_classes):\n",
    "        self.max_iter = max_iter\n",
    "        self.num_classes = num_classes\n",
    "\n",
    "    def __call__(self, X, y, lr):\n",
    "        # Init randomly weights\n",
    "        w_init = np.random.randn(X.shape[1], self.num_classes)\n",
    "        w = [w_init]\n",
    "\n",
    "        count = 0\n",
    "        while count < self.max_iter:\n",
    "            # Shuffle dataset to run SGD\n",
    "            for i in np.random.permutation(X.shape[0]):\n",
    "                x_i = X[i, :].reshape(1, X.shape[1])\n",
    "\n",
    "                # Calculate logistic regression\n",
    "                z_i = self.softmax(x_i.dot(w[-1]))\n",
    "\n",
    "                \n",
    "                # Calculate grad and update weights\n",
    "                y_i = y[i].reshape(1, y[i].shape[0])\n",
    "                w_new = w[-1] - lr * x_i.T.dot(z_i - y_i)\n",
    "\n",
    "                count += 1\n",
    "\n",
    "                # Stopping criteria\n",
    "                if count % 20 == 0:                \n",
    "                    if np.linalg.norm(w_new - w[-20]) < 1e-4:\n",
    "                        self.w = w[-1]\n",
    "                        return\n",
    "\n",
    "                w.append(w_new)\n",
    "        self.w = w[-1]\n",
    "\n",
    "    @staticmethod\n",
    "    def softmax(z):\n",
    "        e_z = np.exp(z)\n",
    "        A = e_z / np.expand_dims(np.sum(e_z, axis=1), 1)\n",
    "        return A\n",
    "    \n",
    "    def predict(self, X):\n",
    "        pred_proba = self.softmax(X.dot(self.w))\n",
    "        pred = np.argmax(pred_proba, axis=1)\n",
    "        return pred_proba, pred\n",
    "    \n",
    "    def display(self, X, y, w=None):\n",
    "\n",
    "        reg_x = np.linspace(1, 7, 2)\n",
    "        for index in range(self.num_classes):\n",
    "            reg_y = \\\n",
    "            (- self.w[0][index] / self.w[2][index]) + \\\n",
    "            (- self.w[1][index] / self.w[2][index]) * reg_x\n",
    "            plt.plot(reg_x, reg_y, 'y-')\n",
    "\n",
    "        plt.plot(X[:50, 1], X[:50, 2], 'ro')\n",
    "        plt.plot(X[50:100, 1], X[50:100, 2], 'go')\n",
    "        plt.plot(X[100:, 1], X[100:, 2], 'bo')\n",
    "        \n",
    "        if w is not None:\n",
    "            for index in range(self.num_classes):\n",
    "                reg_y = \\\n",
    "                (- w[0][index] / w[2][index]) + \\\n",
    "                (- w[1][index] / w[2][index]) * reg_x\n",
    "                plt.plot(reg_x, reg_y, 'k-')\n",
    "\n",
    "        plt.xlabel('sepal_length')\n",
    "        plt.ylabel('sepal_width')\n",
    "        plt.xlim(0.5, 7.5)\n",
    "        plt.ylim(0, 4)\n",
    "        plt.show()"
   ]
  },
  {
   "cell_type": "code",
   "execution_count": 14,
   "metadata": {},
   "outputs": [],
   "source": [
    "my_softmax_regression = MySoftmaxRegression(\n",
    "    max_iter=10000,\n",
    "    num_classes=num_classes\n",
    ")"
   ]
  },
  {
   "cell_type": "code",
   "execution_count": 15,
   "metadata": {},
   "outputs": [],
   "source": [
    "my_softmax_regression(\n",
    "    X=X,\n",
    "    y=y_one_hot,\n",
    "    lr=0.01\n",
    ")"
   ]
  },
  {
   "cell_type": "code",
   "execution_count": 16,
   "metadata": {},
   "outputs": [
    {
     "data": {
      "text/plain": [
       "array([[ 4.6171989 , -0.65906317, -4.42703628],\n",
       "       [-1.9618402 ,  0.15962902, -0.18807667],\n",
       "       [-0.33678468, -0.5938621 ,  2.63897931]])"
      ]
     },
     "execution_count": 16,
     "metadata": {},
     "output_type": "execute_result"
    }
   ],
   "source": [
    "my_softmax_regression.w"
   ]
  },
  {
   "cell_type": "code",
   "execution_count": 17,
   "metadata": {},
   "outputs": [
    {
     "data": {
      "image/png": "[encoded data removed]",
      "text/plain": [
       "<Figure size 432x288 with 1 Axes>"
      ]
     },
     "metadata": {
      "needs_background": "light"
     },
     "output_type": "display_data"
    }
   ],
   "source": [
    "my_softmax_regression.display(X, y)"
   ]
  },
  {
   "cell_type": "code",
   "execution_count": 18,
   "metadata": {},
   "outputs": [
    {
     "data": {
      "text/plain": [
       "(150,)"
      ]
     },
     "execution_count": 18,
     "metadata": {},
     "output_type": "execute_result"
    }
   ],
   "source": [
    "my_y_pred_proba, my_y_pred = my_softmax_regression.predict(X)\n",
    "my_y_pred.shape"
   ]
  },
  {
   "cell_type": "code",
   "execution_count": 19,
   "metadata": {},
   "outputs": [
    {
     "data": {
      "text/plain": [
       "array([0, 0, 0, 0, 0, 0, 0, 0, 0, 0, 0, 0, 0, 0, 0, 0, 0, 0, 0, 0, 0, 0,\n",
       "       0, 0, 0, 0, 0, 0, 0, 0, 0, 0, 0, 0, 0, 0, 0, 0, 0, 0, 0, 0, 0, 0,\n",
       "       0, 0, 0, 0, 0, 0, 1, 1, 1, 1, 1, 1, 1, 1, 1, 1, 1, 1, 1, 1, 1, 1,\n",
       "       1, 1, 1, 1, 2, 1, 1, 1, 1, 1, 1, 1, 1, 1, 1, 1, 1, 1, 1, 1, 1, 1,\n",
       "       1, 1, 1, 1, 1, 1, 1, 1, 1, 1, 1, 1, 2, 2, 2, 2, 2, 2, 2, 1, 2, 2,\n",
       "       2, 2, 2, 2, 2, 2, 2, 2, 2, 1, 2, 2, 2, 2, 2, 1, 2, 2, 2, 1, 2, 2,\n",
       "       2, 1, 1, 2, 2, 2, 2, 2, 2, 2, 2, 2, 2, 2, 2, 2, 2, 2])"
      ]
     },
     "execution_count": 19,
     "metadata": {},
     "output_type": "execute_result"
    }
   ],
   "source": [
    "my_y_pred"
   ]
  },
  {
   "cell_type": "markdown",
   "metadata": {},
   "source": [
    "### 3.3. Use `sklearn`"
   ]
  },
  {
   "cell_type": "code",
   "execution_count": 20,
   "metadata": {},
   "outputs": [],
   "source": [
    "from sklearn.linear_model import LogisticRegression\n",
    "from sklearn.metrics import classification_report"
   ]
  },
  {
   "cell_type": "code",
   "execution_count": 21,
   "metadata": {},
   "outputs": [
    {
     "data": {
      "text/plain": [
       "LogisticRegression(fit_intercept=False)"
      ]
     },
     "execution_count": 21,
     "metadata": {},
     "output_type": "execute_result"
    }
   ],
   "source": [
    "sklearn_logistic_regression = LogisticRegression(fit_intercept=False)\n",
    "sklearn_logistic_regression"
   ]
  },
  {
   "cell_type": "code",
   "execution_count": 22,
   "metadata": {},
   "outputs": [
    {
     "data": {
      "text/plain": [
       "LogisticRegression(fit_intercept=False)"
      ]
     },
     "execution_count": 22,
     "metadata": {},
     "output_type": "execute_result"
    }
   ],
   "source": [
    "sklearn_logistic_regression.fit(X, y)"
   ]
  },
  {
   "cell_type": "code",
   "execution_count": 23,
   "metadata": {},
   "outputs": [
    {
     "data": {
      "text/plain": [
       "array([[ 3.90357538, -0.81657218, -1.57536381],\n",
       "       [-0.21589691,  0.50595812, -0.60411622],\n",
       "       [-3.68767847,  0.31061406,  2.17948002]])"
      ]
     },
     "execution_count": 23,
     "metadata": {},
     "output_type": "execute_result"
    }
   ],
   "source": [
    "sklearn_logistic_regression.coef_"
   ]
  },
  {
   "cell_type": "code",
   "execution_count": 24,
   "metadata": {},
   "outputs": [
    {
     "data": {
      "text/plain": [
       "array([[ 4.6171989 , -0.65906317, -4.42703628],\n",
       "       [-1.9618402 ,  0.15962902, -0.18807667],\n",
       "       [-0.33678468, -0.5938621 ,  2.63897931]])"
      ]
     },
     "execution_count": 24,
     "metadata": {},
     "output_type": "execute_result"
    }
   ],
   "source": [
    "my_softmax_regression.w"
   ]
  },
  {
   "cell_type": "code",
   "execution_count": 25,
   "metadata": {},
   "outputs": [
    {
     "data": {
      "image/png": "[encoded data removed]",
      "text/plain": [
       "<Figure size 432x288 with 1 Axes>"
      ]
     },
     "metadata": {
      "needs_background": "light"
     },
     "output_type": "display_data"
    }
   ],
   "source": [
    "my_softmax_regression.display(X, y, sklearn_logistic_regression.coef_.T)"
   ]
  },
  {
   "cell_type": "code",
   "execution_count": 26,
   "metadata": {},
   "outputs": [
    {
     "data": {
      "text/plain": [
       "(150,)"
      ]
     },
     "execution_count": 26,
     "metadata": {},
     "output_type": "execute_result"
    }
   ],
   "source": [
    "sklearn_y_pred = sklearn_logistic_regression.predict(X)\n",
    "sklearn_y_pred.shape"
   ]
  },
  {
   "cell_type": "code",
   "execution_count": 27,
   "metadata": {},
   "outputs": [
    {
     "name": "stdout",
     "output_type": "stream",
     "text": [
      "              precision    recall  f1-score   support\n",
      "\n",
      "      setosa       1.00      1.00      1.00        50\n",
      "  versicolor       0.92      0.92      0.92        50\n",
      "   virginica       0.92      0.92      0.92        50\n",
      "\n",
      "    accuracy                           0.95       150\n",
      "   macro avg       0.95      0.95      0.95       150\n",
      "weighted avg       0.95      0.95      0.95       150\n",
      "\n"
     ]
    }
   ],
   "source": [
    "print(classification_report(sklearn_y_pred, y))"
   ]
  },
  {
   "cell_type": "code",
   "execution_count": 28,
   "metadata": {},
   "outputs": [
    {
     "name": "stdout",
     "output_type": "stream",
     "text": [
      "              precision    recall  f1-score   support\n",
      "\n",
      "           0       1.00      1.00      1.00        50\n",
      "           1       0.98      0.89      0.93        55\n",
      "           2       0.88      0.98      0.93        45\n",
      "\n",
      "    accuracy                           0.95       150\n",
      "   macro avg       0.95      0.96      0.95       150\n",
      "weighted avg       0.96      0.95      0.95       150\n",
      "\n"
     ]
    }
   ],
   "source": [
    "print(classification_report(my_y_pred, y_index))"
   ]
  },
  {
   "cell_type": "markdown",
   "metadata": {},
   "source": [
    "## 4. Homework"
   ]
  },
  {
   "cell_type": "code",
   "execution_count": null,
   "metadata": {},
   "outputs": [],
   "source": []
  }
 ],
 "metadata": {
  "kernelspec": {
   "display_name": "Python 3",
   "language": "python",
   "name": "python3"
  },
  "language_info": {
   "codemirror_mode": {
    "name": "ipython",
    "version": 3
   },
   "file_extension": ".py",
   "mimetype": "text/x-python",
   "name": "python",
   "nbconvert_exporter": "python",
   "pygments_lexer": "ipython3",
   "version": "3.8.12"
  },
  "notify_time": "5",
  "toc": {
   "base_numbering": 1,
   "nav_menu": {},
   "number_sections": false,
   "sideBar": true,
   "skip_h1_title": false,
   "title_cell": "Table of Contents",
   "title_sidebar": "Table of Contents",
   "toc_cell": false,
   "toc_position": {},
   "toc_section_display": true,
   "toc_window_display": true
  }
 },
 "nbformat": 4,
 "nbformat_minor": 5
}
