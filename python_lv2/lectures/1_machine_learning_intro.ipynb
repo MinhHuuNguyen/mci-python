{
 "cells": [
  {
   "cell_type": "markdown",
   "metadata": {},
   "source": [
    "# LESSON 1: MACHINE LEARNING INTRODUCTION\n",
    "<table><tr>\n",
    "<td> <img src=\"../images/ml_logo.png\" width=\"200px\"/> </td>\n",
    "</tr></table>"
   ]
  },
  {
   "cell_type": "markdown",
   "metadata": {},
   "source": [
    "## 1. Overall introduction\n",
    "Overall introduction of Machine Learning has been introduced. Detail of the introduction can be found [here](https://github.com/MinhHuuNguyen/mci-python/blob/master/python_lv1/lectures/7_machine_learning_intro.ipynb)."
   ]
  },
  {
   "cell_type": "markdown",
   "metadata": {},
   "source": [
    "## 2. Algorithms\n",
    "<img src=\"../images/ml_detail_algorithm.jpeg\" width=\"600px\"/>"
   ]
  },
  {
   "cell_type": "markdown",
   "metadata": {},
   "source": [
    "## 3. Classical problems\n",
    "### 3.1. Regression\n",
    "**Regression** is a problem solved by supervised algorithm with continuous labeled data.\n",
    "\n",
    "Starting with the dataset which contains continuous label for each sample.\n",
    "\n",
    "Color is continuously changing from Purple to Yellow (on the left) or from Low value to High value in Label axis (on the right).\n",
    "\n",
    "<table><tr>\n",
    "    <td> <img src=\"../images/ml_regression_1.png\" width=\"450px\"/> </td>\n",
    "    <td> <img src=\"../images/ml_regression_2.png\" width=\"450px\"/> </td>\n",
    "</tr></table>\n",
    "\n",
    "In the training phase, model is trained to calculate a continuous value for each point in the data space.\n",
    "\n",
    "<img src=\"../images/ml_regression_3.png\" width=\"450px\"/>\n",
    "\n",
    "In the inference phase, we use the trained model with unknown data to calculate the label for each sample.\n",
    "<img src=\"../images/ml_regression_4.png\" width=\"900px\"/>\n",
    "\n",
    "### 3.2. Classification\n",
    "**Classification** is a problem solved by supervised algorithm with discreted labeled data.\n",
    "\n",
    "Starting with the dataset which contains discreted label for each sample (Red and Blue).\n",
    "\n",
    "<img src=\"../images/ml_classification_1.png\" width=\"450px\"/>\n",
    "\n",
    "In the training phase, model is trained to split the training data into separated regions by a hyperplane.\n",
    "\n",
    "<img src=\"../images/ml_classification_2.png\" width=\"450px\"/>\n",
    "\n",
    "In the inference phase, we use the trained model with unknown data to assign label for each sample.\n",
    "\n",
    "<img src=\"../images/ml_classification_3.png\" width=\"900px\"/>\n",
    "\n",
    "### 3.3. Clustering\n",
    "**Clustering** is a problem solved by un-supervised algorithm with un-labeled data.\n",
    "\n",
    "Starting with the dataset which contains samples with no label.\n",
    "\n",
    "<img src=\"../images/ml_clustering_1.png\" width=\"450px\"/>\n",
    "\n",
    "In the training phase, model is trained to split the training data into separated clusters.\n",
    "\n",
    "<img src=\"../images/ml_clustering_2.png\" width=\"450px\"/>\n",
    "\n",
    "In the inference phase, trained model decide the label of the new sample by its location in the data space.\n",
    "\n",
    "### 3.4. Dimension reduction\n",
    "**Dimension reduction** is a problem solved by un-supervised algorithm with un-labeled data.\n",
    "\n",
    "Starting with the dataset which contains samples with no label.\n",
    "\n",
    "<img src=\"../images/ml_dimesionality_1.png\" width=\"450px\"/>\n",
    "\n",
    "In the training phase, model is trained compress each sample in the dataset. After compression process, each sample will be represented in a lower dimension space with the minimum loss.\n",
    "\n",
    "<img src=\"../images/ml_dimesionality_2.png\" width=\"450px\"/>\n",
    "\n",
    "In the inference phase, trained model compress a new data sample from the original data space into trained lower dimension data space."
   ]
  },
  {
   "cell_type": "markdown",
   "metadata": {},
   "source": [
    "## 4. Sklearn introduction"
   ]
  },
  {
   "cell_type": "code",
   "execution_count": null,
   "metadata": {},
   "outputs": [],
   "source": []
  }
 ],
 "metadata": {
  "kernelspec": {
   "display_name": "Python 3",
   "language": "python",
   "name": "python3"
  },
  "language_info": {
   "codemirror_mode": {
    "name": "ipython",
    "version": 3
   },
   "file_extension": ".py",
   "mimetype": "text/x-python",
   "name": "python",
   "nbconvert_exporter": "python",
   "pygments_lexer": "ipython3",
   "version": "3.8.12"
  },
  "notify_time": "5",
  "toc": {
   "base_numbering": 1,
   "nav_menu": {},
   "number_sections": false,
   "sideBar": true,
   "skip_h1_title": false,
   "title_cell": "Table of Contents",
   "title_sidebar": "Table of Contents",
   "toc_cell": false,
   "toc_position": {
    "height": "calc(100% - 180px)",
    "left": "10px",
    "top": "150px",
    "width": "165px"
   },
   "toc_section_display": true,
   "toc_window_display": true
  }
 },
 "nbformat": 4,
 "nbformat_minor": 5
}
