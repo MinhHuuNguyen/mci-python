{
 "cells": [
  {
   "cell_type": "markdown",
   "id": "c9624e51-6b75-4453-bc93-fafe027b33a5",
   "metadata": {},
   "source": [
    "# LESSON 2: PYTHON DATA TYPES\n",
    "<img src=\"image/py_data_types.png\" width=\"500px\"/>"
   ]
  },
  {
   "cell_type": "markdown",
   "id": "c9964f23-763f-440a-8e49-9ca1b32155ed",
   "metadata": {
    "tags": []
   },
   "source": [
    "## 1. Data types"
   ]
  },
  {
   "cell_type": "markdown",
   "id": "7c792929-5b1f-44ea-a472-ac4824429e78",
   "metadata": {},
   "source": [
    "+ **Text type**: `str`\n",
    "+ **Numeric types**: `int`, `float`, complex\n",
    "+ **Sequence types**: `list`, `tuple`, range\n",
    "+ **Mapping type**: `dict`\n",
    "+ **Set types**: `set`, frozenset\n",
    "+ **Boolean type**: `bool`\n",
    "+ **Binary types**: bytes, bytearray, memoryview"
   ]
  },
  {
   "cell_type": "markdown",
   "id": "d59ee942-45ba-4fd1-83c3-cb1ac01eebf7",
   "metadata": {
    "tags": []
   },
   "source": [
    "### String data type: str"
   ]
  },
  {
   "cell_type": "code",
   "execution_count": null,
   "id": "8e50d37f-1540-49ba-8951-ab957d8ac964",
   "metadata": {
    "ExecuteTime": {
     "end_time": "2021-12-16T12:07:11.479727Z",
     "start_time": "2021-12-16T12:07:11.464762Z"
    }
   },
   "outputs": [],
   "source": [
    "a = 'this is a string in Python'\n",
    "print('Value:')\n",
    "print(a)\n",
    "print('Type:')\n",
    "print(type(a))"
   ]
  },
  {
   "cell_type": "markdown",
   "id": "102e3e72-9a5d-4a8d-a972-4de21b9a8cb0",
   "metadata": {
    "tags": []
   },
   "source": [
    "### Integer data type: int"
   ]
  },
  {
   "cell_type": "code",
   "execution_count": null,
   "id": "09d33d30-31d5-4603-9b6e-b3cc0fc71e4e",
   "metadata": {
    "ExecuteTime": {
     "end_time": "2021-12-16T12:08:03.744639Z",
     "start_time": "2021-12-16T12:08:03.731620Z"
    }
   },
   "outputs": [],
   "source": [
    "b = 1\n",
    "print('Value:')\n",
    "print(b)\n",
    "print('Type:')\n",
    "print(type(b))"
   ]
  },
  {
   "cell_type": "markdown",
   "id": "64f93be2-83b0-4641-b9ff-73aa1eb7801e",
   "metadata": {
    "tags": []
   },
   "source": [
    "### Float data type: float"
   ]
  },
  {
   "cell_type": "code",
   "execution_count": null,
   "id": "3b004335-c397-41b6-b034-59ffa7726c1e",
   "metadata": {
    "ExecuteTime": {
     "end_time": "2021-12-16T12:08:26.135422Z",
     "start_time": "2021-12-16T12:08:26.098320Z"
    }
   },
   "outputs": [],
   "source": [
    "c = 0.5555\n",
    "print('Value:')\n",
    "print(c)\n",
    "print('Type:')\n",
    "print(type(c))"
   ]
  },
  {
   "cell_type": "code",
   "execution_count": null,
   "id": "ded9972c",
   "metadata": {
    "ExecuteTime": {
     "end_time": "2021-12-16T12:09:13.638305Z",
     "start_time": "2021-12-16T12:09:13.625870Z"
    }
   },
   "outputs": [],
   "source": [
    "b = 1.\n",
    "print('Value:')\n",
    "print(b)\n",
    "print('Type:')\n",
    "print(type(b))"
   ]
  },
  {
   "cell_type": "markdown",
   "id": "340fd56a-1cfe-42f7-8ed0-14233d5d2c73",
   "metadata": {
    "tags": []
   },
   "source": [
    "### Bool data type: bool"
   ]
  },
  {
   "cell_type": "code",
   "execution_count": null,
   "id": "2c213413-b1d5-4d3b-ac16-131958a78086",
   "metadata": {
    "ExecuteTime": {
     "end_time": "2021-12-16T12:09:44.706054Z",
     "start_time": "2021-12-16T12:09:44.696997Z"
    }
   },
   "outputs": [],
   "source": [
    "d = True\n",
    "e = False\n",
    "print('Value:')\n",
    "print(d)\n",
    "print('Type:')\n",
    "print(type(d))\n",
    "\n",
    "print('Value:')\n",
    "print(e)\n",
    "print('Type:')\n",
    "print(type(e))"
   ]
  },
  {
   "cell_type": "markdown",
   "id": "f4d17b7f-943a-4b66-8f16-32d89ed7d16f",
   "metadata": {
    "tags": []
   },
   "source": [
    "### List data type: list"
   ]
  },
  {
   "cell_type": "code",
   "execution_count": null,
   "id": "d07ed3b3-717e-43da-b714-18db1eaf7c4d",
   "metadata": {
    "ExecuteTime": {
     "end_time": "2021-12-16T12:17:43.766943Z",
     "start_time": "2021-12-16T12:17:43.753936Z"
    }
   },
   "outputs": [],
   "source": [
    "f = [1, 2.5, 3, 'stringgg']\n",
    "print('Value:')\n",
    "print(f)\n",
    "print('Type:')\n",
    "print(type(f))\n",
    "print('Length:')\n",
    "print(len(f))\n",
    "\n",
    "# Print the third element in list `f`\n",
    "print('The third element in list f:')\n",
    "print(f[2])\n",
    "\n",
    "# Print the elements from index 1 to index before 3 in list `f`\n",
    "# `f[1:3]` is a list\n",
    "print('The elements from index 1 to index before 3 in list `f`:')\n",
    "print(f[1:3])\n",
    "print(type(f[1:3]))\n",
    "\n",
    "# Print the element by negative index\n",
    "print('The last elements of list `f` by using negative index:')\n",
    "print(f[-1])"
   ]
  },
  {
   "cell_type": "code",
   "execution_count": null,
   "id": "717ee9b5-5a41-456b-9873-11250ea79077",
   "metadata": {
    "ExecuteTime": {
     "end_time": "2021-12-16T12:18:35.725681Z",
     "start_time": "2021-12-16T12:18:35.327719Z"
    }
   },
   "outputs": [],
   "source": [
    "# Error while using list data type\n",
    "# `list indices must be integer or slices`\n",
    "# `not float`\n",
    "print(f[1.])"
   ]
  },
  {
   "cell_type": "code",
   "execution_count": null,
   "id": "fecbb513-9970-4c0b-879f-f3c1ffe82dcb",
   "metadata": {
    "ExecuteTime": {
     "end_time": "2021-12-16T12:19:07.888718Z",
     "start_time": "2021-12-16T12:19:07.864647Z"
    }
   },
   "outputs": [],
   "source": [
    "# `not str`\n",
    "print(f['1'])"
   ]
  },
  {
   "cell_type": "code",
   "execution_count": null,
   "id": "0e9fc5b5-6a2a-4b60-a663-1dec1eec5f0f",
   "metadata": {
    "ExecuteTime": {
     "end_time": "2021-12-16T12:19:44.859273Z",
     "start_time": "2021-12-16T12:19:44.842587Z"
    }
   },
   "outputs": [],
   "source": [
    "# Error while using list data type\n",
    "# List `f` contain only 4 elements but we are printing the seventh element\n",
    "# so it raise error `list index out of range`\n",
    "print(f[7])"
   ]
  },
  {
   "cell_type": "code",
   "execution_count": null,
   "id": "c7d5b38a-352c-494f-b413-5cd31e042967",
   "metadata": {
    "ExecuteTime": {
     "end_time": "2021-12-16T12:20:20.684928Z",
     "start_time": "2021-12-16T12:20:20.674195Z"
    }
   },
   "outputs": [],
   "source": [
    "# Assign value to the item in list\n",
    "print('List `f` before re-assigning:')\n",
    "print(f)\n",
    "\n",
    "f[0] = 'change the first value'\n",
    "\n",
    "print('List `f` after re-assigning:')\n",
    "print(f)"
   ]
  },
  {
   "cell_type": "markdown",
   "id": "29f60478-4809-45c3-9287-6abcc7c7f022",
   "metadata": {
    "tags": []
   },
   "source": [
    "### Tuple data type: tuple"
   ]
  },
  {
   "cell_type": "code",
   "execution_count": null,
   "id": "e20ae1f8-beae-434b-aecc-52f00233ff0a",
   "metadata": {
    "ExecuteTime": {
     "end_time": "2021-12-16T12:22:57.478424Z",
     "start_time": "2021-12-16T12:22:57.469448Z"
    },
    "tags": []
   },
   "outputs": [],
   "source": [
    "g = (1, 2.5, 3, 'stringgg')\n",
    "\n",
    "print('Value:')\n",
    "print(g)\n",
    "print('Type:')\n",
    "print(type(g))\n",
    "print('Length:')\n",
    "print(len(g))\n",
    "\n",
    "# Print the second element in tuple `g`\n",
    "print('The second element in tuple `f`:')\n",
    "print(g[1])\n",
    "\n",
    "# Print the elements from index 1 to index before 3 in tuple `g`\n",
    "# `g[1:3]` is a tuple\n",
    "print(g[1:3])\n",
    "print(type(g[1:3]))\n",
    "\n",
    "# Print the element by negative index\n",
    "print('The elements of tuple `g` by using negative index:')\n",
    "print(g[-2])"
   ]
  },
  {
   "cell_type": "code",
   "execution_count": null,
   "id": "2a6541d3-b0ee-4080-8e1f-a9c44c2ef616",
   "metadata": {
    "ExecuteTime": {
     "end_time": "2021-12-16T12:22:58.368426Z",
     "start_time": "2021-12-16T12:22:58.341712Z"
    }
   },
   "outputs": [],
   "source": [
    "# Like list data type, error while using tuple data type\n",
    "# `tuple indices must be integers or slices`\n",
    "# `not float`\n",
    "print(g[1.])"
   ]
  },
  {
   "cell_type": "code",
   "execution_count": null,
   "id": "f29edd0f-8e0b-4fcc-8ba3-d6a59629b870",
   "metadata": {
    "ExecuteTime": {
     "end_time": "2021-12-16T12:23:05.919953Z",
     "start_time": "2021-12-16T12:23:05.901968Z"
    }
   },
   "outputs": [],
   "source": [
    "# Like list data type, error while using tuple data type\n",
    "# `tuple indices must be integers or slices`\n",
    "# `not str`\n",
    "print(g['1'])"
   ]
  },
  {
   "cell_type": "code",
   "execution_count": null,
   "id": "9dd63eb7-2d1c-4533-8b3a-73ea5641cbf2",
   "metadata": {
    "ExecuteTime": {
     "end_time": "2021-12-16T12:23:24.156654Z",
     "start_time": "2021-12-16T12:23:24.079114Z"
    }
   },
   "outputs": [],
   "source": [
    "# Like list data type, error while using tuple data type\n",
    "# `tuple index out of range`\n",
    "print(g[100])"
   ]
  },
  {
   "cell_type": "markdown",
   "id": "3e0c3d85-c3a5-4934-9e0c-455b3ba5ec95",
   "metadata": {
    "tags": []
   },
   "source": [
    "### Difference between List and Tuple"
   ]
  },
  {
   "cell_type": "code",
   "execution_count": null,
   "id": "391ce9d7-aa7e-43e7-80e3-b7c4218f916c",
   "metadata": {
    "ExecuteTime": {
     "end_time": "2021-12-16T12:24:18.684140Z",
     "start_time": "2021-12-16T12:24:18.636103Z"
    }
   },
   "outputs": [],
   "source": [
    "# Add item to list\n",
    "print('List `f` before add new item:')\n",
    "print(f)\n",
    "print(len(f))\n",
    "\n",
    "# Append new item to list\n",
    "new = 'new_item'\n",
    "f.append(new)\n",
    "\n",
    "print('List `f` after add new item:')\n",
    "print(f)\n",
    "print(len(f))\n",
    "\n",
    "# Tuple cannot add new items or re-assign item's value\n",
    "g[0] = 123123"
   ]
  },
  {
   "cell_type": "markdown",
   "id": "deb22715-e137-4ace-821d-a1eaa12ecfaf",
   "metadata": {
    "tags": []
   },
   "source": [
    "### Set data type: set"
   ]
  },
  {
   "cell_type": "code",
   "execution_count": null,
   "id": "821d2f04-43af-4986-8d15-43ceb0b75ef7",
   "metadata": {
    "ExecuteTime": {
     "end_time": "2021-12-16T12:26:05.141787Z",
     "start_time": "2021-12-16T12:26:05.130696Z"
    }
   },
   "outputs": [],
   "source": [
    "h = set()\n",
    "print(h)\n",
    "\n",
    "# Add items to set\n",
    "h.add(1)\n",
    "h.add(2.5)\n",
    "h.add('stringgg')\n",
    "h.add(1)\n",
    "\n",
    "print('Value:')\n",
    "print(h)"
   ]
  },
  {
   "cell_type": "markdown",
   "id": "d544b8dd-7fbe-41e6-a88f-15d88f42e42e",
   "metadata": {},
   "source": [
    "### Dictionary data type: dict"
   ]
  },
  {
   "cell_type": "code",
   "execution_count": null,
   "id": "6c464908-b6ed-4e14-8b52-41b474bd78d9",
   "metadata": {
    "ExecuteTime": {
     "end_time": "2021-12-16T12:28:17.711858Z",
     "start_time": "2021-12-16T12:28:17.701586Z"
    },
    "tags": []
   },
   "outputs": [],
   "source": [
    "i = {}\n",
    "\n",
    "# Add key-value pairs into dictionary\n",
    "i['name'] = 'Minh'\n",
    "i['age'] = 24\n",
    "i[123] = 456\n",
    "\n",
    "print('Value:')\n",
    "print(i)\n",
    "print(type(i))\n",
    "print('All keys of dictionary `i`:')\n",
    "print(i.keys())"
   ]
  },
  {
   "cell_type": "code",
   "execution_count": null,
   "id": "e7865184-7ea8-4ff8-bd74-e73dc0861f7b",
   "metadata": {
    "ExecuteTime": {
     "end_time": "2021-12-16T12:31:28.220422Z",
     "start_time": "2021-12-16T12:31:28.212663Z"
    },
    "tags": []
   },
   "outputs": [],
   "source": [
    "j = dict()\n",
    "\n",
    "# Add key-value pairs into dictionary\n",
    "j['name'] = 'Minh'\n",
    "j['age'] = 24\n",
    "j[123] = 456\n",
    "\n",
    "print('Value:')\n",
    "print(j)\n",
    "print(type(j))\n",
    "print('All keys of dictionary `j`:')\n",
    "print(j.keys())"
   ]
  },
  {
   "cell_type": "code",
   "execution_count": null,
   "id": "9c4b7460-0a81-4fda-a595-20122d73dfdd",
   "metadata": {
    "ExecuteTime": {
     "end_time": "2021-12-16T12:32:15.194447Z",
     "start_time": "2021-12-16T12:32:15.181126Z"
    }
   },
   "outputs": [],
   "source": [
    "jj = {\n",
    "    'name': 'Minh',\n",
    "    'age': 24,\n",
    "    123: 456\n",
    "}\n",
    "\n",
    "print('Value:')\n",
    "print(jj)\n",
    "print(type(jj))\n",
    "print('All keys of dictionary `jj`:')\n",
    "print(jj.keys())"
   ]
  },
  {
   "cell_type": "code",
   "execution_count": null,
   "id": "11ac5b41-ec3f-4fb5-8469-8ed42e5cfee7",
   "metadata": {
    "ExecuteTime": {
     "end_time": "2021-12-16T12:33:26.120575Z",
     "start_time": "2021-12-16T12:33:26.115054Z"
    }
   },
   "outputs": [],
   "source": [
    "# Get value from key of dict\n",
    "print(i['name'])\n",
    "print(i['age'])\n",
    "print(i[123.])"
   ]
  },
  {
   "cell_type": "code",
   "execution_count": null,
   "id": "04b9700b-8331-471b-9773-26e0934b836b",
   "metadata": {
    "ExecuteTime": {
     "end_time": "2021-12-16T12:33:46.599500Z",
     "start_time": "2021-12-16T12:33:46.572663Z"
    }
   },
   "outputs": [],
   "source": [
    "# If key is not available\n",
    "# raise KeyError\n",
    "print(i['job'])"
   ]
  },
  {
   "cell_type": "markdown",
   "id": "35e8fb3c-0380-4110-89c1-aac51adbc730",
   "metadata": {
    "tags": []
   },
   "source": [
    "## 2. Casting data types"
   ]
  },
  {
   "cell_type": "markdown",
   "id": "ad18166e-3a82-4ddf-8730-bb3575c1022f",
   "metadata": {
    "tags": []
   },
   "source": [
    "### Casting between string and integer (str and int)"
   ]
  },
  {
   "cell_type": "code",
   "execution_count": null,
   "id": "4cc6511d-3e58-4817-a956-2ec92a59003e",
   "metadata": {},
   "outputs": [],
   "source": [
    "# Init an integer\n",
    "k = 1\n",
    "print(k, type(k))\n",
    "\n",
    "# Cast integer to string\n",
    "l = str(k)\n",
    "print(l, type(l))\n",
    "\n",
    "# Cast string to integer\n",
    "m = int(l)\n",
    "print(m, type(m))"
   ]
  },
  {
   "cell_type": "markdown",
   "id": "c4be3e5b-a276-4945-bfeb-533b6ca562cc",
   "metadata": {
    "tags": []
   },
   "source": [
    "### Casting between string and float (str and float)"
   ]
  },
  {
   "cell_type": "code",
   "execution_count": null,
   "id": "fe2fb75c-10f7-4e56-b1f6-af928c3b2e43",
   "metadata": {},
   "outputs": [],
   "source": [
    "# Init a float\n",
    "n = 1.\n",
    "print(n, type(n))\n",
    "\n",
    "# Cast integer to string\n",
    "p = str(n)\n",
    "print(p, type(p))\n",
    "\n",
    "# Cast string to float\n",
    "o = float(p)\n",
    "print(o, type(o))"
   ]
  },
  {
   "cell_type": "markdown",
   "id": "64554efd-c9c3-426c-9502-ed6d0c9d6dc7",
   "metadata": {
    "tags": []
   },
   "source": [
    "### Casting between integer and float (int and float)"
   ]
  },
  {
   "cell_type": "code",
   "execution_count": null,
   "id": "77ea421e-59fb-41e6-81a6-6b714cddbcbd",
   "metadata": {},
   "outputs": [],
   "source": [
    "# Init an integer\n",
    "r = 1\n",
    "print(r, type(r))\n",
    "\n",
    "# Cast integer to float\n",
    "t = float(r)\n",
    "print(t, type(t))\n",
    "\n",
    "# Cast float to integer\n",
    "q = int(t)\n",
    "print(q, type(q))"
   ]
  },
  {
   "cell_type": "markdown",
   "id": "4bf8d23c-c3cf-4b49-aa0c-508fdf6dcf0e",
   "metadata": {
    "tags": []
   },
   "source": [
    "### Casting between list and tuple (list and tuple)"
   ]
  },
  {
   "cell_type": "code",
   "execution_count": null,
   "id": "9ba49fb6-b1a4-4cf1-b119-465165b42457",
   "metadata": {},
   "outputs": [],
   "source": [
    "# Init a list\n",
    "w = [1, 2.5, 'stringggg']\n",
    "print(w, type(w))\n",
    "\n",
    "# Cast list to tuple\n",
    "u = tuple(w)\n",
    "print(u, type(u))\n",
    "\n",
    "# Cast tuple to list\n",
    "v = list(u)\n",
    "print(v, type(v))"
   ]
  },
  {
   "cell_type": "markdown",
   "id": "596d44be-4d78-4381-ab92-e1f86a3b9490",
   "metadata": {
    "tags": []
   },
   "source": [
    "### Casting between list and set (list and set)"
   ]
  },
  {
   "cell_type": "code",
   "execution_count": null,
   "id": "3a625e82-fa71-4f0a-818b-d1f41fdd7390",
   "metadata": {},
   "outputs": [],
   "source": [
    "# Init a list\n",
    "w = [1, 2.5, 'stringggg', 1, 'stringggg']\n",
    "print(w, type(w))\n",
    "\n",
    "# Cast list to set\n",
    "z = set(w)\n",
    "print(z, type(z))\n",
    "\n",
    "# Cast set to list\n",
    "x = list(z)\n",
    "print(x, type(x))"
   ]
  },
  {
   "cell_type": "markdown",
   "id": "88142616-a4f1-4033-b74c-14e3a8e95aae",
   "metadata": {
    "tags": []
   },
   "source": [
    "### Some data types that cannot casting between them"
   ]
  },
  {
   "cell_type": "code",
   "execution_count": null,
   "id": "a4dd3d1b-4076-4424-aefe-8bec3a2ae2a2",
   "metadata": {},
   "outputs": [],
   "source": [
    "zz = {\n",
    "    'name': 'Minh',\n",
    "    'age': 24,\n",
    "    123: 456\n",
    "}\n",
    "print(zz)\n",
    "\n",
    "xx = list(zz)\n",
    "print(xx)\n",
    "\n",
    "yy = dict(xx)\n",
    "print(yy)"
   ]
  },
  {
   "cell_type": "code",
   "execution_count": null,
   "id": "17eb9d20-c97b-4ba5-b4b7-042e4b0542e5",
   "metadata": {},
   "outputs": [],
   "source": []
  }
 ],
 "metadata": {
  "kernelspec": {
   "display_name": "Python 3 (ipykernel)",
   "language": "python",
   "name": "python3"
  },
  "language_info": {
   "codemirror_mode": {
    "name": "ipython",
    "version": 3
   },
   "file_extension": ".py",
   "mimetype": "text/x-python",
   "name": "python",
   "nbconvert_exporter": "python",
   "pygments_lexer": "ipython3",
   "version": "3.8.12"
  },
  "toc": {
   "base_numbering": 1,
   "nav_menu": {},
   "number_sections": false,
   "sideBar": true,
   "skip_h1_title": false,
   "title_cell": "Table of Contents",
   "title_sidebar": "Table of Contents",
   "toc_cell": false,
   "toc_position": {},
   "toc_section_display": true,
   "toc_window_display": true
  }
 },
 "nbformat": 4,
 "nbformat_minor": 5
}
