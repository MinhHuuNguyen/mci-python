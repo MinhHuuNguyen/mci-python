{
 "cells": [
  {
   "cell_type": "markdown",
   "id": "c9624e51-6b75-4453-bc93-fafe027b33a5",
   "metadata": {},
   "source": [
    "# LESSON 2: PYTHON DATA TYPE AND DATA STRUCTURE\n",
    "\n",
    "More information about this lesson can be found [here]()"
   ]
  },
  {
   "cell_type": "markdown",
   "id": "c9964f23-763f-440a-8e49-9ca1b32155ed",
   "metadata": {},
   "source": [
    "## 1. Data types"
   ]
  },
  {
   "cell_type": "markdown",
   "id": "7c792929-5b1f-44ea-a472-ac4824429e78",
   "metadata": {},
   "source": [
    "### 1.1. Some data types in Python\n",
    "+ **Text type**: `str`\n",
    "+ **Numeric types**: `int`, `float`, complex\n",
    "+ **Sequence types**: `list`, `tuple`, `range`\n",
    "+ **Mapping type**: `dict`\n",
    "+ **Set types**: set, frozenset\n",
    "+ **Boolean type**: `bool`\n",
    "+ **Binary types**: bytes, bytearray, memoryview"
   ]
  },
  {
   "cell_type": "code",
   "execution_count": 41,
   "id": "8e50d37f-1540-49ba-8951-ab957d8ac964",
   "metadata": {},
   "outputs": [
    {
     "name": "stdout",
     "output_type": "stream",
     "text": [
      "Value:\n",
      "this is a string in Python\n",
      "Type:\n",
      "<class 'str'>\n"
     ]
    }
   ],
   "source": [
    "# This is str data type\n",
    "a = 'this is a string in Python'\n",
    "print('Value:')\n",
    "print(a)\n",
    "print('Type:')\n",
    "print(type(a))"
   ]
  },
  {
   "cell_type": "code",
   "execution_count": 42,
   "id": "09d33d30-31d5-4603-9b6e-b3cc0fc71e4e",
   "metadata": {},
   "outputs": [
    {
     "name": "stdout",
     "output_type": "stream",
     "text": [
      "Value:\n",
      "1\n",
      "Type:\n",
      "<class 'int'>\n"
     ]
    }
   ],
   "source": [
    "# This is integer data type\n",
    "b = 1\n",
    "print('Value:')\n",
    "print(b)\n",
    "print('Type:')\n",
    "print(type(b))"
   ]
  },
  {
   "cell_type": "code",
   "execution_count": 32,
   "id": "3b004335-c397-41b6-b034-59ffa7726c1e",
   "metadata": {},
   "outputs": [
    {
     "name": "stdout",
     "output_type": "stream",
     "text": [
      "0.5555\n",
      "<class 'float'>\n"
     ]
    }
   ],
   "source": [
    "# This is float data type\n",
    "c = 0.5555\n",
    "print('Value:')\n",
    "print(c)\n",
    "print('Type:')\n",
    "print(type(c))"
   ]
  },
  {
   "cell_type": "code",
   "execution_count": 33,
   "id": "2c213413-b1d5-4d3b-ac16-131958a78086",
   "metadata": {},
   "outputs": [
    {
     "name": "stdout",
     "output_type": "stream",
     "text": [
      "True\n",
      "<class 'bool'>\n",
      "False\n",
      "<class 'bool'>\n"
     ]
    }
   ],
   "source": [
    "# This is bool data type\n",
    "d = True\n",
    "e = False\n",
    "print('Value:')\n",
    "print(d)\n",
    "print('Type:')\n",
    "print(type(d))\n",
    "\n",
    "print('Value:')\n",
    "print(e)\n",
    "print('Type:')\n",
    "print(type(e))"
   ]
  },
  {
   "cell_type": "code",
   "execution_count": 46,
   "id": "d07ed3b3-717e-43da-b714-18db1eaf7c4d",
   "metadata": {},
   "outputs": [
    {
     "name": "stdout",
     "output_type": "stream",
     "text": [
      "Value:\n",
      "[1, 2.5, 3, 'stringgg']\n",
      "Type:\n",
      "<class 'list'>\n",
      "Length:\n",
      "4\n",
      "The third element in list f:\n",
      "3\n",
      "The elements from index 1 to index before 3 in list `f`:\n",
      "[2.5, 3]\n",
      "<class 'list'>\n",
      "The last elements of list `f` by using negative index:\n",
      "stringgg\n"
     ]
    }
   ],
   "source": [
    "# This is list data type\n",
    "f = [1, 2.5, 3, 'stringgg']\n",
    "print('Value:')\n",
    "print(f)\n",
    "print('Type:')\n",
    "print(type(f))\n",
    "print('Length:')\n",
    "print(len(f))\n",
    "\n",
    "# Print the third element in list `f`\n",
    "print('The third element in list f:')\n",
    "print(f[2])\n",
    "\n",
    "# Print the elements from index 1 to index before 3 in list `f`\n",
    "# `f[1:3]` is a list\n",
    "print('The elements from index 1 to index before 3 in list `f`:')\n",
    "print(f[1:3])\n",
    "print(type(f[1:3]))\n",
    "\n",
    "# Print the element by negative index\n",
    "print('The last elements of list `f` by using negative index:')\n",
    "print(f[-1])"
   ]
  },
  {
   "cell_type": "code",
   "execution_count": 35,
   "id": "717ee9b5-5a41-456b-9873-11250ea79077",
   "metadata": {},
   "outputs": [
    {
     "ename": "TypeError",
     "evalue": "list indices must be integers or slices, not float",
     "output_type": "error",
     "traceback": [
      "\u001b[0;31m---------------------------------------------------------------------------\u001b[0m",
      "\u001b[0;31mTypeError\u001b[0m                                 Traceback (most recent call last)",
      "\u001b[0;32m/var/folders/9m/8kxkp3s10g9gnjlz2bk_8zs00000gp/T/ipykernel_34477/256700788.py\u001b[0m in \u001b[0;36m<module>\u001b[0;34m\u001b[0m\n\u001b[1;32m      2\u001b[0m \u001b[0;31m# `list indices must be integers or slices`\u001b[0m\u001b[0;34m\u001b[0m\u001b[0;34m\u001b[0m\u001b[0;34m\u001b[0m\u001b[0m\n\u001b[1;32m      3\u001b[0m \u001b[0;31m# `not float`\u001b[0m\u001b[0;34m\u001b[0m\u001b[0;34m\u001b[0m\u001b[0;34m\u001b[0m\u001b[0m\n\u001b[0;32m----> 4\u001b[0;31m \u001b[0mprint\u001b[0m\u001b[0;34m(\u001b[0m\u001b[0mf\u001b[0m\u001b[0;34m[\u001b[0m\u001b[0;36m1.1\u001b[0m\u001b[0;34m]\u001b[0m\u001b[0;34m)\u001b[0m\u001b[0;34m\u001b[0m\u001b[0;34m\u001b[0m\u001b[0m\n\u001b[0m",
      "\u001b[0;31mTypeError\u001b[0m: list indices must be integers or slices, not float"
     ]
    }
   ],
   "source": [
    "# Error while using list data type\n",
    "# `list indices must be integers or slices`\n",
    "# `not float`\n",
    "print(f[1.1])"
   ]
  },
  {
   "cell_type": "code",
   "execution_count": 36,
   "id": "fecbb513-9970-4c0b-879f-f3c1ffe82dcb",
   "metadata": {},
   "outputs": [
    {
     "ename": "TypeError",
     "evalue": "list indices must be integers or slices, not str",
     "output_type": "error",
     "traceback": [
      "\u001b[0;31m---------------------------------------------------------------------------\u001b[0m",
      "\u001b[0;31mTypeError\u001b[0m                                 Traceback (most recent call last)",
      "\u001b[0;32m/var/folders/9m/8kxkp3s10g9gnjlz2bk_8zs00000gp/T/ipykernel_34477/989289070.py\u001b[0m in \u001b[0;36m<module>\u001b[0;34m\u001b[0m\n\u001b[1;32m      1\u001b[0m \u001b[0;31m# `not str`\u001b[0m\u001b[0;34m\u001b[0m\u001b[0;34m\u001b[0m\u001b[0;34m\u001b[0m\u001b[0m\n\u001b[0;32m----> 2\u001b[0;31m \u001b[0mprint\u001b[0m\u001b[0;34m(\u001b[0m\u001b[0mf\u001b[0m\u001b[0;34m[\u001b[0m\u001b[0;34m'1'\u001b[0m\u001b[0;34m]\u001b[0m\u001b[0;34m)\u001b[0m\u001b[0;34m\u001b[0m\u001b[0;34m\u001b[0m\u001b[0m\n\u001b[0m",
      "\u001b[0;31mTypeError\u001b[0m: list indices must be integers or slices, not str"
     ]
    }
   ],
   "source": [
    "# `not str`\n",
    "print(f['1'])"
   ]
  },
  {
   "cell_type": "code",
   "execution_count": 37,
   "id": "0e9fc5b5-6a2a-4b60-a663-1dec1eec5f0f",
   "metadata": {},
   "outputs": [
    {
     "ename": "IndexError",
     "evalue": "list index out of range",
     "output_type": "error",
     "traceback": [
      "\u001b[0;31m---------------------------------------------------------------------------\u001b[0m",
      "\u001b[0;31mIndexError\u001b[0m                                Traceback (most recent call last)",
      "\u001b[0;32m/var/folders/9m/8kxkp3s10g9gnjlz2bk_8zs00000gp/T/ipykernel_34477/139387958.py\u001b[0m in \u001b[0;36m<module>\u001b[0;34m\u001b[0m\n\u001b[1;32m      2\u001b[0m \u001b[0;31m# List `f` contain only 4 elements but we are printing the seventh element\u001b[0m\u001b[0;34m\u001b[0m\u001b[0;34m\u001b[0m\u001b[0;34m\u001b[0m\u001b[0m\n\u001b[1;32m      3\u001b[0m \u001b[0;31m# so it raise error `list index out of range`\u001b[0m\u001b[0;34m\u001b[0m\u001b[0;34m\u001b[0m\u001b[0;34m\u001b[0m\u001b[0m\n\u001b[0;32m----> 4\u001b[0;31m \u001b[0mprint\u001b[0m\u001b[0;34m(\u001b[0m\u001b[0mf\u001b[0m\u001b[0;34m[\u001b[0m\u001b[0;36m7\u001b[0m\u001b[0;34m]\u001b[0m\u001b[0;34m)\u001b[0m\u001b[0;34m\u001b[0m\u001b[0;34m\u001b[0m\u001b[0m\n\u001b[0m",
      "\u001b[0;31mIndexError\u001b[0m: list index out of range"
     ]
    }
   ],
   "source": [
    "# Error while using list data type\n",
    "# List `f` contain only 4 elements but we are printing the seventh element\n",
    "# so it raise error `list index out of range`\n",
    "print(f[7])"
   ]
  },
  {
   "cell_type": "code",
   "execution_count": 44,
   "id": "c7d5b38a-352c-494f-b413-5cd31e042967",
   "metadata": {},
   "outputs": [
    {
     "name": "stdout",
     "output_type": "stream",
     "text": [
      "List `f` before re-assigning:\n",
      "[1, 2.5, 3, 'stringgg']\n",
      "List `f` after re-assigning:\n",
      "['change the first value', 2.5, 3, 'stringgg']\n"
     ]
    }
   ],
   "source": [
    "# Assign value to the item in list\n",
    "print('List `f` before re-assigning:')\n",
    "print(f)\n",
    "\n",
    "f[0] = 'change the first value'\n",
    "\n",
    "print('List `f` after re-assigning:')\n",
    "print(f)"
   ]
  },
  {
   "cell_type": "code",
   "execution_count": 45,
   "id": "e20ae1f8-beae-434b-aecc-52f00233ff0a",
   "metadata": {},
   "outputs": [
    {
     "name": "stdout",
     "output_type": "stream",
     "text": [
      "(1, 2.5, 3, 'stringgg')\n",
      "<class 'tuple'>\n",
      "4\n",
      "2.5\n",
      "(2.5, 3)\n",
      "3\n"
     ]
    }
   ],
   "source": [
    "# This is tuple data type\n",
    "g = (1, 2.5, 3, 'stringgg')\n",
    "\n",
    "print('Value:')\n",
    "print(g)\n",
    "print('Type:')\n",
    "print(type(g))\n",
    "print('Length:')\n",
    "print(len(g))\n",
    "\n",
    "# Print the second element in tuple `g`\n",
    "print('The second element in tuple `f`:')\n",
    "print(g[1])\n",
    "\n",
    "# Print the elements from index 1 to index before 3 in tuple `g`\n",
    "# `g[1:3]` is a tuple\n",
    "print(g[1:3])\n",
    "\n",
    "print(g[-2])"
   ]
  },
  {
   "cell_type": "code",
   "execution_count": null,
   "id": "391ce9d7-aa7e-43e7-80e3-b7c4218f916c",
   "metadata": {},
   "outputs": [],
   "source": []
  },
  {
   "cell_type": "code",
   "execution_count": null,
   "id": "821d2f04-43af-4986-8d15-43ceb0b75ef7",
   "metadata": {},
   "outputs": [],
   "source": []
  },
  {
   "cell_type": "code",
   "execution_count": 2,
   "id": "6c464908-b6ed-4e14-8b52-41b474bd78d9",
   "metadata": {},
   "outputs": [
    {
     "data": {
      "text/plain": [
       "{'CodeCell': {'cm_config': {'autoCloseBrackets': True}}}"
      ]
     },
     "execution_count": 2,
     "metadata": {},
     "output_type": "execute_result"
    }
   ],
   "source": [
    "# from notebook.services.config import ConfigManager\n",
    "# c = ConfigManager()\n",
    "# c.update('notebook', {\"CodeCell\": {\"cm_config\": {\"autoCloseBrackets\": True}}})"
   ]
  },
  {
   "cell_type": "markdown",
   "id": "55f224ff-1fbf-450b-9845-e20b288c821a",
   "metadata": {},
   "source": [
    "1.2. "
   ]
  },
  {
   "cell_type": "markdown",
   "id": "b6fe9ed7-cc56-4a2d-8826-bc21e53eeeaf",
   "metadata": {},
   "source": [
    "## 2. Operations:\n"
   ]
  }
 ],
 "metadata": {
  "kernelspec": {
   "display_name": "Python 3 (ipykernel)",
   "language": "python",
   "name": "python3"
  },
  "language_info": {
   "codemirror_mode": {
    "name": "ipython",
    "version": 3
   },
   "file_extension": ".py",
   "mimetype": "text/x-python",
   "name": "python",
   "nbconvert_exporter": "python",
   "pygments_lexer": "ipython3",
   "version": "3.8.2"
  }
 },
 "nbformat": 4,
 "nbformat_minor": 5
}
